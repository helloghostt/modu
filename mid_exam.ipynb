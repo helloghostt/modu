{
  "nbformat": 4,
  "nbformat_minor": 0,
  "metadata": {
    "colab": {
      "provenance": [],
      "authorship_tag": "ABX9TyMex1/Eh8rU+DAlbZUPPSHc",
      "include_colab_link": true
    },
    "kernelspec": {
      "name": "python3",
      "display_name": "Python 3"
    },
    "language_info": {
      "name": "python"
    }
  },
  "cells": [
    {
      "cell_type": "markdown",
      "metadata": {
        "id": "view-in-github",
        "colab_type": "text"
      },
      "source": [
        "<a href=\"https://colab.research.google.com/github/helloghostt/modu/blob/main/mid_exam.ipynb\" target=\"_parent\"><img src=\"https://colab.research.google.com/assets/colab-badge.svg\" alt=\"Open In Colab\"/></a>"
      ]
    },
    {
      "cell_type": "code",
      "execution_count": null,
      "metadata": {
        "id": "zId2l_BScdf4"
      },
      "outputs": [],
      "source": [
        "1. 다음 중 파이썬에서 사용되는 데이터 타입이 아닌 것을 고르세요.\n",
        "char #\n",
        "int\n",
        "float\n",
        "bool"
      ]
    },
    {
      "cell_type": "code",
      "source": [
        "type(int)"
      ],
      "metadata": {
        "colab": {
          "base_uri": "https://localhost:8080/"
        },
        "id": "X3D1hNWjgv4m",
        "outputId": "3b6c60a1-724c-4d92-def2-21b4367be9c6"
      },
      "execution_count": 4,
      "outputs": [
        {
          "output_type": "execute_result",
          "data": {
            "text/plain": [
              "type"
            ]
          },
          "metadata": {},
          "execution_count": 4
        }
      ]
    },
    {
      "cell_type": "code",
      "source": [
        "2. 다음 중 파이썬에서 사용되는 비교연산자가 아닌 것을 고르세요.\n",
        "==\n",
        "!=\n",
        "<=\n",
        "++ #"
      ],
      "metadata": {
        "id": "Bsjhir3DeC1G"
      },
      "execution_count": null,
      "outputs": []
    },
    {
      "cell_type": "code",
      "source": [
        "3. 다음 코드를 실행했을 때 나오는 값으로 올바른 것을 고르세요.\n",
        "# a=[[1,2,3],[11,22,33],[13,2000,3000]]\n",
        "# print(a[1][1])\n",
        "1\n",
        "11\n",
        "22 #\n",
        "20000"
      ],
      "metadata": {
        "id": "QeeKiKj-ekQ1"
      },
      "execution_count": null,
      "outputs": []
    },
    {
      "cell_type": "code",
      "source": [
        "a=[[1,2,3],[11,22,33],[13,2000,3000]]\n",
        "print(a[1][1])"
      ],
      "metadata": {
        "colab": {
          "base_uri": "https://localhost:8080/"
        },
        "id": "LrUGSl5Ie622",
        "outputId": "aef337a6-e721-483f-9dbd-76d7d2d9ed70"
      },
      "execution_count": 2,
      "outputs": [
        {
          "output_type": "stream",
          "name": "stdout",
          "text": [
            "22\n"
          ]
        }
      ]
    },
    {
      "cell_type": "code",
      "source": [
        "4. 다음 자료형의 특징을 알맞게 서술한 것을 고르세요.\n",
        "튜플(tuple) : 요소를 삭제하거나 변경할 수 있다.\n",
        "리스트(list) : 요소를 삭제하거나 변경할 수 있으며 순회할 수 없는 자료구조다.\n",
        "셋(set) : 중복이 가능한 자료구조로 순회할 수 없는 자료구조다.\n",
        "딕셔너리(dict) : key의 중복이 불가능하며 순회할 수 있는 자료구조다.#"
      ],
      "metadata": {
        "id": "onXAFqPie60o"
      },
      "execution_count": null,
      "outputs": []
    },
    {
      "cell_type": "code",
      "source": [
        "5. 다음 코드를 실행했을 때 나오는 값으로 올바른 것을 고르세요.\n",
        "# s = \"라이캣은 사자가 아니다.\"\n",
        "# print(s[3:-3])\n",
        "은 사자가\n",
        "은 사자가 아\n",
        "캣은 사자\n",
        "캣은 사자가"
      ],
      "metadata": {
        "id": "vNmH7yWJe6x0"
      },
      "execution_count": null,
      "outputs": []
    },
    {
      "cell_type": "code",
      "source": [
        "s = \"라이캣은 사자가 아니다.\"\n",
        "print(s[3:-3])"
      ],
      "metadata": {
        "colab": {
          "base_uri": "https://localhost:8080/"
        },
        "id": "9e-kbIrne6pZ",
        "outputId": "d8bac18a-df35-49a8-a38c-5f73a681039c"
      },
      "execution_count": 5,
      "outputs": [
        {
          "output_type": "stream",
          "name": "stdout",
          "text": [
            "은 사자가 아\n"
          ]
        }
      ]
    },
    {
      "cell_type": "code",
      "source": [
        "6. sort와 sorted를 올바르지 않게 설명한 것을 고르세요.\n",
        "sort는 실행 시 원본이 변경되지 않습니다.\n",
        "sorted는 built-in function 입니다.\n",
        "sorted는 실행 시 새 객체를 만들어냅니다.#\n",
        "sorted보다 sort가 빠릅니다."
      ],
      "metadata": {
        "id": "nh_fwUaBhFhX"
      },
      "execution_count": null,
      "outputs": []
    },
    {
      "cell_type": "code",
      "source": [
        "7. 다음 코드를 실행했을 때 나오는 값으로 올바른 것을 고르세요.\n",
        "# a=[1,2,3]\n",
        "# b=a\n",
        "# a.append(4)\n",
        "# print(a,b)\n",
        "[1, 2, 3, 4] [1, 2, 3, 4]\n",
        "[1, 2, 3] [1, 2, 3, 4]\n",
        "[1, 2, 3, 4] [1, 2, 3]\n",
        "[1, 2, 3] [1, 2, 3]"
      ],
      "metadata": {
        "id": "N0o3JzMmijTD"
      },
      "execution_count": null,
      "outputs": []
    },
    {
      "cell_type": "code",
      "source": [
        "a=[1,2,3]\n",
        "b=a\n",
        "a.append(4)\n",
        "print(a,b)"
      ],
      "metadata": {
        "colab": {
          "base_uri": "https://localhost:8080/"
        },
        "id": "JK-6YIGAijQm",
        "outputId": "1d3656ef-eda8-4490-aac0-57cb53a4ce28"
      },
      "execution_count": 6,
      "outputs": [
        {
          "output_type": "stream",
          "name": "stdout",
          "text": [
            "[1, 2, 3, 4] [1, 2, 3, 4]\n"
          ]
        }
      ]
    },
    {
      "cell_type": "code",
      "source": [
        "8. 다음 중 결과값이 다른 것을 고르세요.\n",
        "list(map(lambda x:x*2,[1,2,3]))\n",
        "[2,4,6]\n",
        "range(2,7,2)\n",
        "[ i*2 for i in [2,4,6]]#"
      ],
      "metadata": {
        "id": "nk37c3kbiyEy"
      },
      "execution_count": null,
      "outputs": []
    },
    {
      "cell_type": "code",
      "source": [
        "list(map(lambda x:x*2,[1,2,3]))"
      ],
      "metadata": {
        "colab": {
          "base_uri": "https://localhost:8080/"
        },
        "id": "8KXz69czijOI",
        "outputId": "bb31d0bb-0ffc-4a9d-d2f6-5b1e08fe040b"
      },
      "execution_count": 7,
      "outputs": [
        {
          "output_type": "execute_result",
          "data": {
            "text/plain": [
              "[2, 4, 6]"
            ]
          },
          "metadata": {},
          "execution_count": 7
        }
      ]
    },
    {
      "cell_type": "code",
      "source": [
        "list(range(2,7,2))"
      ],
      "metadata": {
        "colab": {
          "base_uri": "https://localhost:8080/"
        },
        "id": "3PNCfM3jijLb",
        "outputId": "f62e49a6-a3f7-44e3-d57f-ada3674143d5"
      },
      "execution_count": 13,
      "outputs": [
        {
          "output_type": "execute_result",
          "data": {
            "text/plain": [
              "[2, 4, 6]"
            ]
          },
          "metadata": {},
          "execution_count": 13
        }
      ]
    },
    {
      "cell_type": "code",
      "source": [
        "list(i*2 for i in [2,4,6])"
      ],
      "metadata": {
        "colab": {
          "base_uri": "https://localhost:8080/"
        },
        "id": "IT-xC0nuijIS",
        "outputId": "da5c17a6-06d3-4f16-b9cc-3fb4bcc24739"
      },
      "execution_count": 15,
      "outputs": [
        {
          "output_type": "execute_result",
          "data": {
            "text/plain": [
              "[4, 8, 12]"
            ]
          },
          "metadata": {},
          "execution_count": 15
        }
      ]
    },
    {
      "cell_type": "code",
      "source": [
        "9. 다음 중 딕셔너리의 키가 될 수 없는 것을 고르세요.\n",
        "[1]\n",
        "\"오늘은 날씨가좋다\"\n",
        "(1,2)[0]\n",
        "False"
      ],
      "metadata": {
        "id": "E4cV_e5jj1vY"
      },
      "execution_count": null,
      "outputs": []
    },
    {
      "cell_type": "code",
      "source": [
        "10. 다음 코드를 enumerate로 변환했을 때 같은 결과값을 내는 코드를 고르세요.\n",
        "language_list = ['python','java','javascript','ruby']\n",
        "for i in range(len(language_list)):\n",
        "  language = language_list[i]\n",
        "  print(f'{i+1}등은 {language}')"
      ],
      "metadata": {
        "colab": {
          "base_uri": "https://localhost:8080/"
        },
        "id": "CzzIZA3Aj1q4",
        "outputId": "deea6bde-ae23-4ff0-cd02-ea21705f1680"
      },
      "execution_count": 36,
      "outputs": [
        {
          "output_type": "stream",
          "name": "stdout",
          "text": [
            "1등은 python\n",
            "2등은 java\n",
            "3등은 javascript\n",
            "4등은 ruby\n"
          ]
        }
      ]
    },
    {
      "cell_type": "code",
      "source": [
        "language_list = ['python','java','javascript','ruby']\n",
        "for i,language in enumerate(language_list):\n",
        "  print(f'{i+1}등은 {language}')"
      ],
      "metadata": {
        "colab": {
          "base_uri": "https://localhost:8080/"
        },
        "id": "-4_-grv5j1oV",
        "outputId": "42f32a44-11b6-43fc-9a47-92b0ec982e4f"
      },
      "execution_count": 44,
      "outputs": [
        {
          "output_type": "stream",
          "name": "stdout",
          "text": [
            "1등은 python\n",
            "2등은 java\n",
            "3등은 javascript\n",
            "4등은 ruby\n"
          ]
        }
      ]
    },
    {
      "cell_type": "code",
      "source": [
        "11. 다음 CSS 코드가 적용될 때, <div class=\"box\"> 내부의 텍스트 색상은 어떻게 될까요?\n",
        "box{color:red;}\n",
        "빨간색\n",
        "파란색\n",
        "검은색\n",
        "색상이 변경되지 않음 # .box"
      ],
      "metadata": {
        "id": "eUG_EuYXj1jg"
      },
      "execution_count": null,
      "outputs": []
    },
    {
      "cell_type": "code",
      "source": [
        "12. Django에서 새로운 프로젝트를 시작할 때 사용하는 명령어는 무엇인가요?\n",
        "django-startproject\n",
        "django-createproject\n",
        "django-admin startproject #\n",
        "python manage.py startproject"
      ],
      "metadata": {
        "id": "fipgWNQwqZ8f"
      },
      "execution_count": null,
      "outputs": []
    },
    {
      "cell_type": "code",
      "source": [
        "13. JavaScript에서 \"Hello\" + \"World\"의 결과는 무엇인가요?\n",
        "HelloWorld #\n",
        "Hello World\n",
        "Hello+World\n",
        "undefined"
      ],
      "metadata": {
        "id": "Tvz-GqqSqmUM"
      },
      "execution_count": null,
      "outputs": []
    },
    {
      "cell_type": "code",
      "source": [
        "14. 다음 HTML 요소 중 사용자 입력을 받는 폼 필드가 아닌 것은 무엇인가요?\n",
        "<input type=\"text\">\n",
        "<select>\n",
        "<textarea>\n",
        "<label> #"
      ],
      "metadata": {
        "id": "iog9wbl_q_pR"
      },
      "execution_count": null,
      "outputs": []
    },
    {
      "cell_type": "code",
      "source": [
        "15. Django의 MTV(Model-Template-View) 아키텍처 중, 사용자의 요청에 대해\n",
        "어떤 데이터를 어떻게 처리할지 결정하는 컴포넌트는 무엇인가요?\n",
        "Model\n",
        "Template\n",
        "View"
      ],
      "metadata": {
        "id": "iP6g8l8Jq_hn"
      },
      "execution_count": null,
      "outputs": []
    },
    {
      "cell_type": "code",
      "source": [
        "주관식 1.\n",
        "\n",
        "물고기 수조 안에 있는 물고기들의 평균 무게를 구하려고 합니다.\n",
        "이 수조 안에는 5마리의 물고기가 있으며, 각 물고기의 무게는 다음과 같습니다\n",
        ": 2.5, 3.1, 1.7, 2.8, 2.4 (단위: kg)\n",
        "\n",
        "이 5마리 물고기의 평균 무게를 계산하는 클래스 메서드를 작성하고 결과값을 출력해보세요.\n",
        "\n",
        "- 물고기 클래스를 생성 및 활용해야 합니다.\n",
        "- 결과 값은 소수점 둘째 자리까지 출력해야 합니다.\n",
        "\n",
        "- 결과 출력(아래의 내용이 출력되어야 합니다.)\n",
        "물고기 평균 무게: 2.50 kg\n",
        "\n",
        "*\n",
        "7점\n"
      ],
      "metadata": {
        "id": "nK7sHrdxq_e7"
      },
      "execution_count": null,
      "outputs": []
    },
    {
      "cell_type": "code",
      "source": [
        "class Calculator {\n",
        "  calculateAverage(weight) {\n",
        "    const average = weight.reduce((a,b) => a+b)/weight.length;\n",
        "    return average;\n",
        "  }\n",
        "}\n",
        "\n",
        "const weight = [2.5, 3.1, 1.7, 2.8, 2.4];\n",
        "const calculator = new Calculator();\n",
        "const average = calculator.calculateAverage(weight);\n",
        "console.log(`물고기+평균+무게: ${average} kg`);"
      ],
      "metadata": {
        "id": "RyLHL6ir3ElL"
      },
      "execution_count": null,
      "outputs": []
    },
    {
      "cell_type": "code",
      "source": [
        "주관식 2.\n",
        "\n",
        "문자열이 주어졌을 때 단어들의 첫 글자를 모아서 반환하는 함수를 작성해주세요.\n",
        "\n",
        "- 문자는 띄어쓰기를 기준으로 합니다.\n",
        "- 아래는 테스트 코드입니다. (테스트 코드를 통과해야 합니다.)\n",
        "\n",
        "print(get_first_letters(\"Hello World! I Love Python\"))\n",
        "print(get_first_letters(\"복잡한 세상 편하게 살자\"))\n",
        "print(get_first_letters(\"라이캣은 고양이 입니다.\"))"
      ],
      "metadata": {
        "id": "yQUwmdDuq_bs"
      },
      "execution_count": null,
      "outputs": []
    },
    {
      "cell_type": "code",
      "source": [
        "def get_first_letters(string):\n",
        "    return ''.join(word[0] for word in string.split())\n",
        "print(get_first_letters(\"Hello World! I Love Python\"))\n",
        "print(get_first_letters(\"복잡한 세상 편하게 살자\"))\n",
        "print(get_first_letters(\"라이캣은 고양이 입니다.\"))"
      ],
      "metadata": {
        "colab": {
          "base_uri": "https://localhost:8080/"
        },
        "id": "GVb5Mleu_Kkm",
        "outputId": "252f9bed-a96c-461a-cdbe-ae3ac42f32e8"
      },
      "execution_count": 53,
      "outputs": [
        {
          "output_type": "stream",
          "name": "stdout",
          "text": [
            "HWILP\n",
            "복세편살\n",
            "라고입\n"
          ]
        }
      ]
    },
    {
      "cell_type": "code",
      "source": [
        "주관식 3.\n",
        "\n",
        "두개의 리스트가 주어졌을 때 두 리스트의 공통된 요소들을 찾아서 반환하는\n",
        "프로그램을 작성해주세요.\n",
        "\n",
        "- 반환되는 리스트에는 중복된 요소가 포함되지 않습니다.\n",
        "- 아래는 테스트 코드입니다. (테스트 코드를 통과해야 합니다.)\n",
        "\n",
        "print(common_elements([1, 2, 3, 4, 5], [4, 5, 6, 7, 8]))\n",
        "print(common_elements(['python', 'django', 'orm'], ['orm', 'python']))\n",
        "print(common_elements([1, 2, 3], [4, 5, 6]) )\n",
        "*\n",
        "5점\n"
      ],
      "metadata": {
        "id": "jT-K1TSSq_S_"
      },
      "execution_count": null,
      "outputs": []
    },
    {
      "cell_type": "code",
      "source": [
        "def common_elements(list1, list2):\n",
        "    return list(set(list1)&set(list2))\n",
        "print(common_elements([1, 2, 3, 4, 5], [4, 5, 6, 7, 8])) #[4,5]\n",
        "print(common_elements(['python', 'django', 'orm'], ['orm', 'python'])) #['python','orm']\n",
        "print(common_elements([1, 2, 3], [4, 5, 6]) ) #[]\n"
      ],
      "metadata": {
        "colab": {
          "base_uri": "https://localhost:8080/"
        },
        "id": "QnIJFMQSA201",
        "outputId": "c873f8ff-4684-44bb-b1a8-f8c4553a52eb"
      },
      "execution_count": 54,
      "outputs": [
        {
          "output_type": "stream",
          "name": "stdout",
          "text": [
            "[4, 5]\n",
            "['orm', 'python']\n",
            "[]\n"
          ]
        }
      ]
    },
    {
      "cell_type": "code",
      "source": [
        "주관식 4.\n",
        "\n",
        "문자열 배열이 입력되면 가장 긴 공통 문자열을 찾는 프로그램을 작성해주세요.\n",
        "- 같은 문자열이 없을 경우에는 빈 문자를 반환합니다.\n",
        "- 앞글자부터 검사합니다.\n",
        "\n",
        "- 아래는 테스트 코드입니다. (테스트 코드를 통과해야 합니다.)\n",
        "\n",
        "\n",
        "print(find_longest_word(['모두의연구소', '모두의', '모두의연']) ) #'모두의'\n",
        "print(find_longest_word(['behind', 'hind']) ) # ''\n",
        "print(find_longest_word(['오름', '오르다', '오름차순'])) #'오'"
      ],
      "metadata": {
        "id": "meGlWVYZq_Kn"
      },
      "execution_count": null,
      "outputs": []
    },
    {
      "cell_type": "code",
      "source": [
        "def find_longest_word(list1):\n",
        "  for word in list1:\n",
        "    if\n",
        "    return"
      ],
      "metadata": {
        "id": "tGqPw-vdCaMr"
      },
      "execution_count": null,
      "outputs": []
    },
    {
      "cell_type": "code",
      "source": [
        "주관식 5.\n",
        "\n",
        "정수 배열이 주어졌을 때 주어진 배열에서 최장 증가 부분 수열(LIS)의\n",
        "길이를 구하는 프로그램을 작성해주세요.\n",
        "\n",
        "- 아래는 테스트 코드 입니다.(테스트 코드를 통과해야 합니다.)\n",
        "nums1 = [1, 2, 3, 4, 5]\n",
        "print(length_of_lis(nums1))  #5   [1,2,3,4,5]\n",
        "\n",
        "nums2 = [5, 4, 3, 2, 1]\n",
        "print(length_of_lis(nums2))   #1    [5] , [4], [3],[2], [1]\n",
        "\n",
        "nums3 = [10, 9, 2, 5, 3, 7, 101, 18]\n",
        "print(length_of_lis(nums3))  #4    [2,3,7,10]\n",
        "\n",
        "nums4 = [4, 5, 2, 3, 1, 2]\n",
        "print(length_of_lis(nums4)) #2    [2,3][1,2]"
      ],
      "metadata": {
        "id": "UG-rCmWZrGg_"
      },
      "execution_count": null,
      "outputs": []
    },
    {
      "cell_type": "code",
      "source": [
        "def length_of_lis(nums):\n",
        ""
      ],
      "metadata": {
        "id": "DbEvErZ_ESP1"
      },
      "execution_count": null,
      "outputs": []
    },
    {
      "cell_type": "markdown",
      "source": [],
      "metadata": {
        "id": "Le18zIVSd5AC"
      }
    },
    {
      "cell_type": "markdown",
      "source": [],
      "metadata": {
        "id": "ruM9m9Kyd2uV"
      }
    }
  ]
}