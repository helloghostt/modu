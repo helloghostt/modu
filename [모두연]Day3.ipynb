{
  "nbformat": 4,
  "nbformat_minor": 0,
  "metadata": {
    "colab": {
      "provenance": [],
      "authorship_tag": "ABX9TyP6yF9XD1reP0VLvRorIhJ+",
      "include_colab_link": true
    },
    "kernelspec": {
      "name": "python3",
      "display_name": "Python 3"
    },
    "language_info": {
      "name": "python"
    }
  },
  "cells": [
    {
      "cell_type": "markdown",
      "metadata": {
        "id": "view-in-github",
        "colab_type": "text"
      },
      "source": [
        "<a href=\"https://colab.research.google.com/github/helloghostt/modu/blob/main/%5B%EB%AA%A8%EB%91%90%EC%97%B0%5DDay3.ipynb\" target=\"_parent\"><img src=\"https://colab.research.google.com/assets/colab-badge.svg\" alt=\"Open In Colab\"/></a>"
      ]
    },
    {
      "cell_type": "markdown",
      "source": [
        "input output실습"
      ],
      "metadata": {
        "id": "G0Z4hSi2llTt"
      }
    },
    {
      "cell_type": "code",
      "source": [
        "#1 2024년 계획 프로그램\n",
        "1. 계획적기\n",
        "2. 변수로 만들것(input)\n",
        "3. 입력받기\n",
        "4. 문장에 입력받은 변수 넣기\n",
        "5. 완전한 문장으로 출력(output)\n",
        "\n"
      ],
      "metadata": {
        "id": "YdJSOT7Tlmdt"
      },
      "execution_count": null,
      "outputs": []
    },
    {
      "cell_type": "markdown",
      "source": [
        "2024년 계획\n",
        "1. 이번해에는 매일 __ 운동을 하기로 했다.\n",
        "2. 이번해에는 새로운 __을/를 배우기로 했다.\n",
        "3. 이번해에는 __여행을 가기로 했다."
      ],
      "metadata": {
        "id": "yoW8oKuxyyHa"
      }
    },
    {
      "cell_type": "markdown",
      "source": [
        "#1.1 하나의 단어를 입력받아서 출력하기"
      ],
      "metadata": {
        "id": "nA-hOUBhsro5"
      }
    },
    {
      "cell_type": "markdown",
      "source": [
        "[ ] 변수(어떠한 값을 입력받을 값) = input(\"내가 입력받을 값에 대한 질문\")"
      ],
      "metadata": {
        "id": "fgn9Dq2lsxBA"
      }
    },
    {
      "cell_type": "code",
      "execution_count": 33,
      "metadata": {
        "colab": {
          "base_uri": "https://localhost:8080/"
        },
        "id": "C-eLavg5lQci",
        "outputId": "02083803-3596-44ab-afc1-67754ba62bd0"
      },
      "outputs": [
        {
          "name": "stdout",
          "output_type": "stream",
          "text": [
            "이번해에는 매일 __ 운동을 하기로 했다.: 클라이밍\n"
          ]
        }
      ],
      "source": [
        "sentence_1 = input(\"이번해에는 매일 __ 운동을 하기로 했다.: \")"
      ]
    },
    {
      "cell_type": "code",
      "source": [
        "sentence_2 = input(\"이번해에는 새로운 __을/를 배우기로 했다.: \")"
      ],
      "metadata": {
        "colab": {
          "base_uri": "https://localhost:8080/"
        },
        "id": "3-l_gHZ7nHFy",
        "outputId": "c88a19c3-aa57-491d-9884-897412346f48"
      },
      "execution_count": 16,
      "outputs": [
        {
          "name": "stdout",
          "output_type": "stream",
          "text": [
            "이번해에는 새로운 __을/를 배우기로 했다.: 중국어\n"
          ]
        }
      ]
    },
    {
      "cell_type": "code",
      "source": [
        "sentence_3 = input(\"이번해에는 __여행을 가기로 했다.: \")"
      ],
      "metadata": {
        "colab": {
          "base_uri": "https://localhost:8080/"
        },
        "id": "wtFzKrzMn-Bm",
        "outputId": "5a6fa041-4209-41d8-b872-5d319d026507"
      },
      "execution_count": 15,
      "outputs": [
        {
          "name": "stdout",
          "output_type": "stream",
          "text": [
            "이번해에는 __여행을 가기로 했다.: 중국\n"
          ]
        }
      ]
    },
    {
      "cell_type": "code",
      "source": [
        "print(f\"이번해에는 매일 {sentence_1} 운동을 하기로 했다.\\n\") #\\n은 한칸 띄어쓰기\n",
        "print(f\"이번해에는 새로운 {sentence_2}을/를 배우기로 했다.\\n\")\n",
        "print(f\"이번해에는 {sentence_3}여행을 가기로 했다.\\n\")"
      ],
      "metadata": {
        "colab": {
          "base_uri": "https://localhost:8080/"
        },
        "id": "4eEbizfOmIj8",
        "outputId": "827207f9-2459-40d3-f8ad-8fae63a7e074"
      },
      "execution_count": 19,
      "outputs": [
        {
          "output_type": "stream",
          "name": "stdout",
          "text": [
            "이번해에는 매일 클라이밍 운동을 하기로 했다.\n",
            "\n",
            "이번해에는 새로운 중국어을/를 배우기로 했다.\n",
            "\n",
            "이번해에는 중국여행을 가기로 했다.\n",
            "\n"
          ]
        }
      ]
    },
    {
      "cell_type": "markdown",
      "source": [
        "# 2.3 2가지 input받아보기"
      ],
      "metadata": {
        "id": "Oy8wnjZdufvP"
      }
    },
    {
      "cell_type": "code",
      "source": [
        "word1 = input(\"올해는 __와\")\n",
        "word2 = input(\"__에 집중하려고 한다.\")"
      ],
      "metadata": {
        "colab": {
          "base_uri": "https://localhost:8080/"
        },
        "id": "bhuddPCHulFk",
        "outputId": "9b66109b-14cb-48af-c8bc-1e7896df56cc"
      },
      "execution_count": 22,
      "outputs": [
        {
          "name": "stdout",
          "output_type": "stream",
          "text": [
            "올해는 __와취업\n",
            "__에 집중하려고 한다.운동\n"
          ]
        }
      ]
    },
    {
      "cell_type": "code",
      "source": [
        "# 1. 한 문장 안에 둘 다 출력하기\n",
        "print(f\"올해는 {word1}와 {word2}에 집중하려고 한다.\")"
      ],
      "metadata": {
        "colab": {
          "base_uri": "https://localhost:8080/"
        },
        "id": "IYOrysLIuxT0",
        "outputId": "46f6b457-0172-4e79-eba4-a0739fbb4381"
      },
      "execution_count": 21,
      "outputs": [
        {
          "output_type": "stream",
          "name": "stdout",
          "text": [
            "올해는 취업와 운동에 집중하려고 한다.\n"
          ]
        }
      ]
    },
    {
      "cell_type": "code",
      "source": [
        "# 2.end를 사용하여 다른 두 문장을 합치기\n",
        "print(f\"올해는 {word1}와\",end = \" \")\n",
        "print(f\"{word2}에 집중하려고 한다.\")"
      ],
      "metadata": {
        "colab": {
          "base_uri": "https://localhost:8080/"
        },
        "id": "3Np3yBBzvbWt",
        "outputId": "1321bfac-5077-46e6-f7be-fa576af22b57"
      },
      "execution_count": 24,
      "outputs": [
        {
          "output_type": "stream",
          "name": "stdout",
          "text": [
            "올해는 취업와 운동에 집중하려고 한다.\n"
          ]
        }
      ]
    },
    {
      "cell_type": "code",
      "source": [
        "sentence_2 = input(\"올해는 __과 __에 집중하려고 한다: \")"
      ],
      "metadata": {
        "colab": {
          "base_uri": "https://localhost:8080/"
        },
        "id": "JJWOFatevbgT",
        "outputId": "ee3f349d-8f6a-4016-9481-a3bea552b670"
      },
      "execution_count": 27,
      "outputs": [
        {
          "name": "stdout",
          "output_type": "stream",
          "text": [
            "올해는 __과 __에 집중하려고 한다: 취업 운동\n"
          ]
        }
      ]
    },
    {
      "cell_type": "code",
      "source": [
        "print(sentence_2)"
      ],
      "metadata": {
        "colab": {
          "base_uri": "https://localhost:8080/"
        },
        "id": "ZFHhVRw8vbm0",
        "outputId": "8fd9e00d-173b-4dd4-bf86-3ed64fd2d437"
      },
      "execution_count": 28,
      "outputs": [
        {
          "output_type": "stream",
          "name": "stdout",
          "text": [
            "취업 운동\n"
          ]
        }
      ]
    },
    {
      "cell_type": "code",
      "source": [
        "word11, word22 = sentence_2.split() # 두 단어를 입력받고, (필수) 공백을 기준으로 분리"
      ],
      "metadata": {
        "id": "P3t7WQGXvbpr"
      },
      "execution_count": 31,
      "outputs": []
    },
    {
      "cell_type": "code",
      "source": [
        "print(f\"올해는 {word11}과 {word22}에 집중하려고 한다.\\n\")"
      ],
      "metadata": {
        "colab": {
          "base_uri": "https://localhost:8080/"
        },
        "id": "3ySS37EKvbsb",
        "outputId": "d464ed5f-10fe-481e-86f4-d89925c7b14e"
      },
      "execution_count": 32,
      "outputs": [
        {
          "output_type": "stream",
          "name": "stdout",
          "text": [
            "올해는 취업과 운동에 집중하려고 한다.\n",
            "\n"
          ]
        }
      ]
    },
    {
      "cell_type": "code",
      "source": [],
      "metadata": {
        "id": "lxGjbzPWvbvR"
      },
      "execution_count": null,
      "outputs": []
    }
  ]
}