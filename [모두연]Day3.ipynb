{
  "nbformat": 4,
  "nbformat_minor": 0,
  "metadata": {
    "colab": {
      "provenance": [],
      "authorship_tag": "ABX9TyMgsoGJXBHw23ZwG6Z+nHWA",
      "include_colab_link": true
    },
    "kernelspec": {
      "name": "python3",
      "display_name": "Python 3"
    },
    "language_info": {
      "name": "python"
    }
  },
  "cells": [
    {
      "cell_type": "markdown",
      "metadata": {
        "id": "view-in-github",
        "colab_type": "text"
      },
      "source": [
        "<a href=\"https://colab.research.google.com/github/helloghostt/modu/blob/main/%5B%EB%AA%A8%EB%91%90%EC%97%B0%5DDay3.ipynb\" target=\"_parent\"><img src=\"https://colab.research.google.com/assets/colab-badge.svg\" alt=\"Open In Colab\"/></a>"
      ]
    },
    {
      "cell_type": "markdown",
      "source": [],
      "metadata": {
        "id": "G0Z4hSi2llTt"
      }
    },
    {
      "cell_type": "code",
      "source": [
        "#1 2024년 계획()\n",
        "1. 매일 ___ 운동을 하기로 했다.\n",
        "2. 새로운 __을/를 배우기로 했다.\n",
        "3. __여행을 가기로 했다."
      ],
      "metadata": {
        "id": "YdJSOT7Tlmdt"
      },
      "execution_count": null,
      "outputs": []
    },
    {
      "cell_type": "code",
      "execution_count": 1,
      "metadata": {
        "colab": {
          "base_uri": "https://localhost:8080/"
        },
        "id": "C-eLavg5lQci",
        "outputId": "bca2a37c-0443-41d1-c024-78780c407b16"
      },
      "outputs": [
        {
          "name": "stdout",
          "output_type": "stream",
          "text": [
            "매일 ___ 운동을 하기로 했다.:유산소\n"
          ]
        }
      ],
      "source": [
        "sentence_1 = input(\"매일 ___ 운동을 하기로 했다.:\")"
      ]
    },
    {
      "cell_type": "code",
      "source": [
        "sentence_2 = input(\"새로운 __을/를 배우기로 했다.:\")"
      ],
      "metadata": {
        "colab": {
          "base_uri": "https://localhost:8080/"
        },
        "id": "3-l_gHZ7nHFy",
        "outputId": "33f4c574-067f-46a1-f1fe-8d537e3a8c97"
      },
      "execution_count": 6,
      "outputs": [
        {
          "name": "stdout",
          "output_type": "stream",
          "text": [
            "새로운 __을 배우기로 했다.:프로그래밍언어\n"
          ]
        }
      ]
    },
    {
      "cell_type": "code",
      "source": [
        "sentence_3 = input(\" __여행을 가기로 했다.:\")"
      ],
      "metadata": {
        "colab": {
          "base_uri": "https://localhost:8080/"
        },
        "id": "wtFzKrzMn-Bm",
        "outputId": "33ce7336-2399-48ae-a562-e669a339662c"
      },
      "execution_count": 8,
      "outputs": [
        {
          "name": "stdout",
          "output_type": "stream",
          "text": [
            " __을/를 여행가기로 했다.:중국\n"
          ]
        }
      ]
    },
    {
      "cell_type": "code",
      "source": [
        "print(f\"매일 {sentence_1} 운동을 하기로 했다.\\n\")\n",
        "print(f\"새로운 {sentence_2}을/를 배우기로 했다.\\n\")\n",
        "print(f\"{sentence_3}여행을 가기로 했다.\\n\")"
      ],
      "metadata": {
        "colab": {
          "base_uri": "https://localhost:8080/"
        },
        "id": "4eEbizfOmIj8",
        "outputId": "b8c5ea26-2867-44fe-e4dc-c01cffcc59ab"
      },
      "execution_count": 9,
      "outputs": [
        {
          "output_type": "stream",
          "name": "stdout",
          "text": [
            "매일 유산소 운동을 하기로 했다.\n",
            "\n",
            "새로운 프로그래밍언어을/를 배우기로 했다.\n",
            "\n",
            "중국을/를 여행가기로 했다.\n",
            "\n"
          ]
        }
      ]
    }
  ]
}