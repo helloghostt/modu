{
  "nbformat": 4,
  "nbformat_minor": 0,
  "metadata": {
    "colab": {
      "provenance": [],
      "authorship_tag": "ABX9TyNvSEcwWa94aY83Douoibiw",
      "include_colab_link": true
    },
    "kernelspec": {
      "name": "python3",
      "display_name": "Python 3"
    },
    "language_info": {
      "name": "python"
    }
  },
  "cells": [
    {
      "cell_type": "markdown",
      "metadata": {
        "id": "view-in-github",
        "colab_type": "text"
      },
      "source": [
        "<a href=\"https://colab.research.google.com/github/helloghostt/modu/blob/main/20240110_day9.ipynb\" target=\"_parent\"><img src=\"https://colab.research.google.com/assets/colab-badge.svg\" alt=\"Open In Colab\"/></a>"
      ]
    },
    {
      "cell_type": "markdown",
      "source": [
        "# while문의 보충\n",
        "\n",
        "* a = 1 # 연산자를 계산할수 있는 변수가 하나있고,\n",
        "\n",
        "* While문은 조건이 참이면 계속 수행 -> 무한루프(무한으로 프로그램이 돌아가게 만듬)\n",
        "\n",
        "* while a < 10 : #1. for문과 차이점 - 조건이 있다. (for문은 범위가 있다.)\n",
        "\tprint(a)\n",
        "\ta += 1  # (무한루프에 빠질수 있기 때문에) -> 연산자를 계산해서 조건문을 강제로 false로 만드는 구문이 있다.\n",
        "\n",
        "Step1 : a -> 1 지정\n",
        "\n",
        "Step2 : while (a = 1) < 10 -> True -> while반복문 실행\n",
        "\n",
        "Step3 : print(a) -> a=1 -> 1이 출력\n",
        "\n",
        "Step4 : a += 1 -> a -> 2\n",
        "\n",
        "Step2-1 : a -> 2 step2,3,4가 계속 반복\n",
        "\n",
        "...\n",
        "\n",
        "Step10-1 : a-> 10\n",
        "\n",
        "Step10-2 : a = 10 < 10 -> False -> while반복문 미실행\n",
        "-> 조건문 완료!\n",
        "\n",
        "* 어떨때 쓰일까?\n",
        "1. 로또번호 - 6개까지 추첨하면 끝!\n",
        "2. 이벤트 -> 100명이 당첨되면 끝!\n",
        "3. 제한된 마케팅 / 고객모집 / 조건!"
      ],
      "metadata": {
        "id": "4_UxfRv-wrHJ"
      }
    },
    {
      "cell_type": "code",
      "execution_count": null,
      "metadata": {
        "id": "j09PuQs9wgyY"
      },
      "outputs": [],
      "source": [
        "import os\n",
        "\n",
        "while True:\n",
        "    userinput = input('>')\n",
        "    if userinput == 'pwd':\n",
        "        # print('현재 위치 출력')\n",
        "        # print('\\\\'.join(__file__.split('\\\\')[:-1]))\n",
        "        print(os.getcwd())\n",
        "    elif userinput == 'dir' or userinput == 'ls':\n",
        "        # print('현재 폴더에 폴더와 파일명 출력')\n",
        "        print(os.listdir(os.getcwd()))\n",
        "    elif userinput == 'exit':\n",
        "        print('안녕히가세요.')\n",
        "        break"
      ]
    },
    {
      "cell_type": "markdown",
      "source": [
        "# break, continue, pass"
      ],
      "metadata": {
        "id": "5LluLRYmAI48"
      }
    },
    {
      "cell_type": "code",
      "source": [
        "# break\n",
        "for i in range(10):\n",
        "    if i == 5: #만약에 i가 5면 정지\n",
        "        break\n",
        "print(i)  # 0 1 2 3 4\n",
        "#이 코드는 0부터 4까지 출력하고, i가 5가 되었을 때 반복문을 종료합니다.\n"
      ],
      "metadata": {
        "id": "SisLIDNMyzmB"
      },
      "execution_count": null,
      "outputs": []
    },
    {
      "cell_type": "code",
      "source": [
        "# continue : 조건에 맞는건 넘어가라는 뜻\n",
        "for i in range(10):\n",
        "    if i % 2 == 0:\n",
        "        continue\n",
        "    print(i) # 1 3 5 7 9\n",
        "\n",
        "for i in range(10):\n",
        "    if i % 2 == 0:\n",
        "        print(i) #0 2 4 6 8"
      ],
      "metadata": {
        "id": "3Fp3IbpqzykM"
      },
      "execution_count": null,
      "outputs": []
    },
    {
      "cell_type": "code",
      "source": [
        "for i in range(10):\n",
        "    if i % 2 == 0:\n",
        "        print(i)"
      ],
      "metadata": {
        "id": "6Syijrx4z9lr"
      },
      "execution_count": null,
      "outputs": []
    },
    {
      "cell_type": "code",
      "source": [
        "import random\n",
        "\n",
        "answer = random.randint(1, 100)\n",
        "while True:\n",
        "    userinput = int(input('숫자를 입력해주세요.'))\n",
        "    if userinput > answer:\n",
        "        print('Down')\n",
        "\n",
        "    elif userinput < answer:\n",
        "        print('Up')\n",
        "    else:\n",
        "        print('축하합니다! 맞추셨어요!')\n",
        "        break"
      ],
      "metadata": {
        "id": "9XiOo-zW2Ar9"
      },
      "execution_count": null,
      "outputs": []
    },
    {
      "cell_type": "code",
      "source": [
        "\n",
        "# 중첩 while문\n",
        "while i < 10 :\n",
        "    while j < 10:\n",
        "        print(f'{i} X {j} = {i * j}')\n",
        "\n",
        "i = 2\n",
        "while i < 10 :\n",
        "    j = 1\n",
        "    while j < 10:\n",
        "        print(f'{i} X {j} = {i * j}')\n",
        "        j += 1\n",
        "    i += 1\n",
        "\n",
        "#중첩 for문\n",
        "for i in range(2, 10):  # 2부터 9까지 반복 (10은 포함되지 않음)\n",
        "    for j in range(1, 10):  # 1부터 9까지 반복 (10은 포함되지 않음)\n",
        "        print(f'{i} X {j} = {i * j}')"
      ],
      "metadata": {
        "id": "yULuwLiR9TSe"
      },
      "execution_count": null,
      "outputs": []
    },
    {
      "cell_type": "code",
      "source": [
        "i = 2\n",
        "while i < 10 :\n",
        "    j = 1\n",
        "    while j < 10:\n",
        "        print(f'{i} X {j} = {i * j}')\n",
        "        j += 1\n",
        "    i += 1"
      ],
      "metadata": {
        "id": "7KovBUy3_Pc1"
      },
      "execution_count": null,
      "outputs": []
    },
    {
      "cell_type": "code",
      "source": [
        "# pass\n",
        "x = 0\n",
        "while x < 5:\n",
        "    x += 1\n",
        "    if x == 3:\n",
        "        pass\n",
        "    print(x) # 1 2 3 4 5"
      ],
      "metadata": {
        "id": "mTfooGZa_0mv"
      },
      "execution_count": null,
      "outputs": []
    },
    {
      "cell_type": "code",
      "source": [
        "'''\n",
        "# 주의해주세요! 무한반복입니다!\n",
        "x = 0\n",
        "while x < 10:\n",
        "    print(x)\n",
        "    if x == 5:\n",
        "        continue\n",
        "    x += 1\n",
        "'''"
      ],
      "metadata": {
        "id": "8eeuRWuRAASq"
      },
      "execution_count": null,
      "outputs": []
    },
    {
      "cell_type": "code",
      "source": [
        "# 모든 반복문 한 번에 탈출하기\n",
        "switch = 0\n",
        "for i in range(5):\n",
        "    if switch == 1:\n",
        "        break\n",
        "    for j in range(5):\n",
        "        if j == 3:\n",
        "            switch = 1\n",
        "            break\n",
        "        print(f'{i}, {j}')\n",
        "#0, 0\n",
        "#0, 1\n",
        "#0, 2"
      ],
      "metadata": {
        "id": "8UtKIugNAGzK"
      },
      "execution_count": null,
      "outputs": []
    },
    {
      "cell_type": "code",
      "source": [
        "try:\n",
        "    for i in range(2, 10):\n",
        "        for j in range(1, 10):\n",
        "            if j == 3:\n",
        "                raise StopIteration\n",
        "            print(f'{i} X {j} = {i*j}')\n",
        "except StopIteration:\n",
        "    print(\"Done\")\n",
        "\n",
        "#출력\n",
        "#2 X 1 = 2\n",
        "#2 X 2 = 4\n",
        "#Done"
      ],
      "metadata": {
        "id": "ZvCsWBniBUSG"
      },
      "execution_count": null,
      "outputs": []
    },
    {
      "cell_type": "code",
      "source": [
        "for i in range(5): #0~4\n",
        "    print(f'{i} 물고기를 잡았습니다.')\n",
        "    if i == 5:\n",
        "        print('만선입니다. 물고기를 다 잡았습니다.')\n",
        "        break\n",
        "else:\n",
        "    print('아직 여유가 좀 있지만, 물고기가 더 없는 것 같으니 이정도로 만족하고 돌아갑시다.')\n",
        "print('수고하셨습니다.')"
      ],
      "metadata": {
        "id": "wl_C3CFW6nOk"
      },
      "execution_count": null,
      "outputs": []
    },
    {
      "cell_type": "code",
      "source": [
        "Step 1: 할 일 목록 초기화 및 표시 함수\n",
        "목표: 사용자의 할 일 목록을 관리합니다.\n",
        "내용:\n",
        "할 일 목록을 저장할 리스트를 초기화합니다.\n",
        "할 일 목록을 표시하는 함수를 정의합니다.\n",
        "\n",
        "Step 2: 할 일 추가 및 삭제 기능\n",
        "목표: 할 일을 추가하고 삭제하는 기능을 구현합니다.\n",
        "내용:\n",
        "할 일을 추가하는 함수를 정의합니다.\n",
        "할 일을 삭제하는 함수를 정의합니다.\n",
        "\n",
        "Step 3: 사용자 입력 처리\n",
        "목표: 사용자 입력에 따라 프로그램이 반응하도록 합니다.\n",
        "내용:\n",
        "사용자로부터 입력을 받아 추가, 삭제, 표시 기능을 수행합니다."
      ],
      "metadata": {
        "id": "AhhUoaBgDqz1"
      },
      "execution_count": null,
      "outputs": []
    },
    {
      "cell_type": "markdown",
      "source": [
        "[1] 할 일 추가 [2] 할 일 삭제 [3] 목록 표시 [4] 종료\n",
        "선택: 1\n",
        "추가할 할 일: 배고파\n",
        "'배고파'가 할 일 목록에 추가되었습니다.\n",
        "\n",
        "[1] 할 일 추가 [2] 할 일 삭제 [3] 목록 표시 [4] 종료\n",
        "선택: 1\n",
        "추가할 할 일: 뭐하지\n",
        "'뭐하지'가 할 일 목록에 추가되었습니다.\n",
        "\n",
        "[1] 할 일 추가 [2] 할 일 삭제 [3] 목록 표시 [4] 종료\n",
        "선택: 3\n",
        "현재 할 일 목록:\n",
        "- 배고파\n",
        "- 뭐하지\n",
        "\n",
        "[1] 할 일 추가 [2] 할 일 삭제 [3] 목록 표시 [4] 종료\n",
        "선택: 4\n",
        "프로그램을 종료합니다."
      ],
      "metadata": {
        "id": "XKOq53Sa6ZIJ"
      }
    },
    {
      "cell_type": "code",
      "source": [
        "#강사님\n",
        "# 할 일 목록을 저장할 리스트\n",
        "todo_list = []\n",
        "\n",
        "# 할 일 목록을 표시하는 함수\n",
        "def display_todo_list():\n",
        "    print(\"현재 할 일 목록:\")\n",
        "    for task in todo_list:  # todo_list에 있는 모든 할 일을 순회\n",
        "        print(\"- \" + task)  # 각 할 일 앞에 '-'를 붙여서 출력\n",
        "\n",
        "# 할 일을 추가하는 함수\n",
        "def add_task(task):\n",
        "    todo_list.append(task)  # 리스트에 새 할 일 추가\n",
        "    print(f\"'{task}'가 할 일 목록에 추가되었습니다.\")\n",
        "\n",
        "# 할 일을 제거하는 함수\n",
        "def remove_task(task):\n",
        "    if task in todo_list:  # 할 일이 목록에 있는지 확인\n",
        "        todo_list.remove(task)  # 목록에서 할 일 제거\n",
        "        print(f\"'{task}'가 할 일 목록에서 제거되었습니다.\")\n",
        "    else:\n",
        "        print(f\"할 일 목록에 '{task}'가 없습니다.\")\n",
        "\n",
        "# 메인 루프\n",
        "while True:\n",
        "    print(\"\\n[1] 할 일 추가 [2] 할 일 삭제 [3] 목록 표시 [4] 종료\")\n",
        "    choice = input(\"선택: \")  # 사용자 입력 받기\n",
        "\n",
        "    if choice == '1':  # 할 일 추가\n",
        "        task = input(\"추가할 할 일: \")\n",
        "        add_task(task)\n",
        "    elif choice == '2':  # 할 일 삭제\n",
        "        task = input(\"삭제할 할 일: \")\n",
        "        remove_task(task)\n",
        "    elif choice == '3':  # 할 일 목록 표시\n",
        "        display_todo_list()\n",
        "    elif choice == '4':  # 프로그램 종료\n",
        "        print(\"프로그램을 종료합니다.\")\n",
        "        break  # while 루프 종료\n",
        "    else:\n",
        "        print(\"잘못된 선택입니다. 다시 입력하세요.\")"
      ],
      "metadata": {
        "id": "Sr3YzkSaHq8J"
      },
      "execution_count": null,
      "outputs": []
    },
    {
      "cell_type": "code",
      "source": [
        "#챗gpt\n",
        "# Step 1: 할 일 목록 초기화 및 표시 함수\n",
        "todo_list = []\n",
        "\n",
        "def display_todo_list():\n",
        "    print(\"\\n현재 할 일 목록:\")\n",
        "    for index, task in enumerate(todo_list, start=1):\n",
        "        print(f\"{index}. {task}\")\n",
        "    print()\n",
        "\n",
        "# Step 2: 할 일 추가 및 삭제 함수\n",
        "def add_task(task):\n",
        "    todo_list.append(task)\n",
        "    print(f\"할 일 '{task}'이(가) 추가되었습니다.\")\n",
        "\n",
        "def delete_task(index):\n",
        "    if 1 <= index <= len(todo_list):\n",
        "        removed_task = todo_list.pop(index - 1)\n",
        "        print(f\"할 일 '{removed_task}'이(가) 삭제되었습니다.\")\n",
        "    else:\n",
        "        print(\"유효하지 않은 인덱스입니다.\")\n",
        "\n",
        "# Step 3: 사용자 입력 처리\n",
        "while True:\n",
        "    print(\"\\n할 일 목록 관리 프로그램\")\n",
        "    print(\"1. 할 일 추가\")\n",
        "    print(\"2. 할 일 삭제\")\n",
        "    print(\"3. 할 일 목록 표시\")\n",
        "    print(\"4. 종료\")\n",
        "\n",
        "    choice = input(\"원하는 작업을 선택하세요 (1~4): \")\n",
        "\n",
        "    if choice == '1':\n",
        "        task = input(\"추가할 할 일을 입력하세요: \")\n",
        "        add_task(task)\n",
        "    elif choice == '2':\n",
        "        display_todo_list()\n",
        "        index_to_delete = int(input(\"삭제할 할 일의 번호를 입력하세요: \"))\n",
        "        delete_task(index_to_delete)\n",
        "    elif choice == '3':\n",
        "        display_todo_list()\n",
        "    elif choice == '4':\n",
        "        print(\"프로그램을 종료합니다.\")\n",
        "        break\n",
        "    else:\n",
        "        print(\"유효하지 않은 선택입니다. 다시 선택해주세요.\")"
      ],
      "metadata": {
        "id": "Iz501L3kHquA"
      },
      "execution_count": null,
      "outputs": []
    },
    {
      "cell_type": "code",
      "source": [
        "#최지석\n",
        "todos = []\n",
        "\n",
        "def show_todos():\n",
        "    if not todos:\n",
        "        print(\"할 일이 없습니다.\")\n",
        "    else:\n",
        "        print(\"할 일 목록\")\n",
        "        for i, todo in enumerate(todos, 1):\n",
        "            print(f\"{i}: {todo}\")\n",
        "\n",
        "def add_todo():\n",
        "    new_todo = input(\"할 일을 입력하세요: \")\n",
        "    if new_todo not in todos:\n",
        "        todos.append(new_todo)\n",
        "        print(f\"{new_todo}가 할 일 목록에 추가되었습니다.\")\n",
        "    else:\n",
        "        print(f\"{new_todo}는 이미 할 일 목록에 있습니다.\")"
      ],
      "metadata": {
        "id": "aJCBUln5Mc2f"
      },
      "execution_count": null,
      "outputs": []
    },
    {
      "cell_type": "markdown",
      "source": [
        "#클래스\n"
      ],
      "metadata": {
        "id": "1pspqbyfW41T"
      }
    },
    {
      "cell_type": "code",
      "source": [
        "class Car: # 차에 설계 도면 또는 차 공장, 클래스\n",
        "    max_speed = 300 # 멤버 또는 애트리뷰트\n",
        "    max_people = 5\n",
        "    car_gear = ['P', 'D', 'R', 'N']\n",
        "\n",
        "    def start(self): # 메서드\n",
        "        print('차가 출발합니다!')\n",
        "\n",
        "    def stop(self):\n",
        "        print('차가 멈췄습니다!')\n",
        "\n",
        "# 공장에서 생산된 자동차 modelx, y, s, 인스턴스\n",
        "modelx = Car() # 인스턴스 = 클래스()\n",
        "modely = Car()\n",
        "models = Car()\n",
        "\n",
        "print(models.car_gear[1])  #D\n",
        "models.start()    #차가 출발합니다!\n",
        "models.stop()     #차가 멈췄습니다!\n",
        "\n",
        "#클래스의 장점 - 클래스 안에 있는 함수의 기능을 가져올수 있다.\n",
        "# Car.max_speed # modelx에 속도를 보고 싶으면 modelx.max_speed를 찍어야 합니다.\n",
        "# 초기 설계는 300으로 찍혀 있지만, 고객이 아래와 같이 자동차 튜닝을 했을 수도 있으니까요.\n",
        "\n",
        "models.max_speed = 500\n",
        "\n",
        "print(models.max_speed)   #500   #직접 접근해서 변경 가능하\n",
        "print(modely.max_speed)   #300"
      ],
      "metadata": {
        "id": "zGHGijKUVJlf"
      },
      "execution_count": null,
      "outputs": []
    },
    {
      "cell_type": "code",
      "source": [
        "# x = int(3) 어떻게 처리된는지 확인\n",
        "class Car: # 차에 설계 도면 또는 차 공장, 클래스\n",
        "    max_speed = 300 # 멤버 또는 애트리뷰트\n",
        "    max_people = 5\n",
        "    car_gear = ['P', 'D', 'R', 'N']             #self는 인수로 전달받지도 하지도 않음\n",
        "\n",
        "    def __init__(self, name, CEO): #self = car   #def __init__(Car, name, ceo):\n",
        "        self.name = name                    # Car.name = name\n",
        "        self.CEO =CEO                       # Car.CEO = CEO\n",
        "\n",
        "    def start(self):\n",
        "        print('차가 출발합니다!')\n",
        "\n",
        "    def stop(self):\n",
        "        print('차가 멈췄습니다!')\n",
        "\n",
        "modelx = Car('Tesla model x')  #x = int(3) 여기서 넣었던 3이 __init__메직메서드에서 처리\n",
        "modelx.name"
      ],
      "metadata": {
        "colab": {
          "base_uri": "https://localhost:8080/",
          "height": 35
        },
        "id": "f7s7iQp2cL8k",
        "outputId": "de769a53-f3ca-49fc-a26d-8859e40a1618"
      },
      "execution_count": null,
      "outputs": [
        {
          "output_type": "execute_result",
          "data": {
            "text/plain": [
              "'Tesla model x'"
            ],
            "application/vnd.google.colaboratory.intrinsic+json": {
              "type": "string"
            }
          },
          "metadata": {},
          "execution_count": 16
        }
      ]
    },
    {
      "cell_type": "markdown",
      "source": [
        "#클래스 변수와 인스턴스 변수"
      ],
      "metadata": {
        "id": "3VHhmgr5xtbo"
      }
    },
    {
      "cell_type": "code",
      "source": [
        "class Car:\n",
        "    # 클래스 변수의 위치\n",
        "    max_speed = 300\n",
        "    max_people = 5\n",
        "    car_gear = ['P', 'D', 'R', 'N']\n",
        "\n",
        "modelx = Car()\n",
        "print(Car.max_speed)\n",
        "print(modelx.max_speed)"
      ],
      "metadata": {
        "id": "le2eI1xbx30Y"
      },
      "execution_count": null,
      "outputs": []
    },
    {
      "cell_type": "code",
      "source": [
        "class Car:\n",
        "    # 클래스 변수의 위치\n",
        "    max_speed = 300\n",
        "    max_people = 5\n",
        "    car_gear = ['P', 'D', 'R', 'N']\n",
        "\n",
        "modelx = Car()\n",
        "modely = Car()\n",
        "\n",
        "modely.max_speed = 500\n",
        "\n",
        "print(Car.max_speed)\n",
        "print(modelx.max_speed)\n",
        "print(modely.max_speed)"
      ],
      "metadata": {
        "id": "Vkh64qFczLmb"
      },
      "execution_count": null,
      "outputs": []
    },
    {
      "cell_type": "code",
      "source": [
        "class Car:\n",
        "    kinds = []\n",
        "    speed = 300\n",
        "\n",
        "    def add_kinds(self, name):\n",
        "        self.kinds.append(name)\n",
        "\n",
        "    def change_speed(self, speed):\n",
        "        self.speed = speed\n",
        "\n",
        "modelx = Car()\n",
        "modely = Car()\n",
        "\n",
        "modelx.add_kinds('x')\n",
        "modely.add_kinds('y')\n",
        "\n",
        "Car.speed = 100\n",
        "\n",
        "# modelx.change_speed(500)\n",
        "# modely.change_speed(250)\n",
        "\n",
        "print(f'modelx.kinds: {modelx.kinds}')\n",
        "print(f'modely.kinds: {modely.kinds}')  #y만 부르는건데 x를 먼저 불러왔기때문에 덮어씌워짐 x,y출력\n",
        "print(f'modelx.speed: {modelx.speed}')\n",
        "print(f'modely.speed: {modely.speed}')"
      ],
      "metadata": {
        "colab": {
          "base_uri": "https://localhost:8080/"
        },
        "id": "0PTUAkV7z5nv",
        "outputId": "da18c25b-d199-4536-b5aa-0111ec6c80df"
      },
      "execution_count": null,
      "outputs": [
        {
          "output_type": "stream",
          "name": "stdout",
          "text": [
            "modelx.kinds: ['x', 'y']\n",
            "modely.kinds: ['x', 'y']\n",
            "modelx.speed: 100\n",
            "modely.speed: 100\n"
          ]
        }
      ]
    },
    {
      "cell_type": "code",
      "source": [
        "class Car:\n",
        "    kinds = []\n",
        "    speed = 300\n",
        "\n",
        "    def add_kinds(self, name):\n",
        "        self.kinds.append(name)\n",
        "\n",
        "    def change_speed(self, speed2):\n",
        "        self.speed = speed2\n",
        "\n",
        "modelx = Car()\n",
        "modely = Car()\n",
        "\n",
        "# Car.speed = 100\n",
        "\n",
        "modelx.change_speed(500)\n",
        "modely.change_speed(250)\n",
        "\n",
        "print(f'modelx.speed: {modelx.speed}')\n",
        "print(f'modely.speed: {modely.speed}')"
      ],
      "metadata": {
        "colab": {
          "base_uri": "https://localhost:8080/"
        },
        "id": "gHKvyQXf2mMp",
        "outputId": "e2ee090f-78ae-4642-aa36-eb753b49dff7"
      },
      "execution_count": 24,
      "outputs": [
        {
          "output_type": "stream",
          "name": "stdout",
          "text": [
            "modelx.speed: 500\n",
            "modely.speed: 250\n"
          ]
        }
      ]
    },
    {
      "cell_type": "code",
      "source": [
        "speed = 300\n",
        "\n",
        "def change_speed(value):\n",
        "    speed = value #지역변수 speed\n",
        "    return speed\n",
        "\n",
        "change_speed(100)\n",
        "print(speed)"
      ],
      "metadata": {
        "colab": {
          "base_uri": "https://localhost:8080/"
        },
        "id": "aSI18OVw46yS",
        "outputId": "e37e8af0-d32e-409b-9c19-2448bb92d9da"
      },
      "execution_count": null,
      "outputs": [
        {
          "output_type": "stream",
          "name": "stdout",
          "text": [
            "300\n"
          ]
        }
      ]
    },
    {
      "cell_type": "markdown",
      "source": [
        "#추가설명\n",
        "### 1. **클래스 변수**\n",
        "\n",
        "- **정의**: 클래스 변수는 클래스 정의 내에 선언되며, 클래스의 모든 인스턴스 간에 공유됩니다. 클래스 변수는 클래스가 메모리에 로드될 때 생성됩니다.\n",
        "- **용도**: 클래스 변수는 해당 클래스의 모든 인스턴스에서 공통적으로 사용되는 값을 저장하는 데 사용됩니다. 예를 들어, 모든 **`Car`** 객체에 공통적으로 적용되는 기본 속도 설정과 같은 경우에 사용됩니다.\n",
        "- **접근 방법**: 클래스 이름을 통해 접근하거나 **`self`**를 통해 인스턴스를 통해서도 접근할 수 있습니다. 예: **`Car.default_speed`**\n",
        "- **특징**: 클래스 변수의 값을 변경하면, 해당 클래스의 모든 인스턴스에 대해 변경사항이 적용됩니다.\n",
        "\n",
        "### 2. **인스턴스 변수**\n",
        "\n",
        "- **정의**: 인스턴스 변수는 클래스의 각 인스턴스(객체)에 속하는 변수입니다. 이 변수들은 각 인스턴스마다 별도로 존재하며, 인스턴스 생성 시에 만들어집니다.\n",
        "- **용도**: 인스턴스 변수는 개별 객체의 상태를 저장하는 데 사용됩니다. 예를 들어, 여러 **`Car`** 객체가 있을 때 각 **`Car`**의 속도나 색상 같은 고유한 속성을 인스턴스 변수로 저장할 수 있습니다.\n",
        "- **접근 방법**: **`self`** 키워드를 사용하여 인스턴스 내에서 이 변수에 접근하고 수정합니다. 예: **`self.speed = 200`**\n",
        "- **특징**: 각 인스턴스의 변수는 서로 독립적이므로, 한 인스턴스에서 변수의 값을 변경해도 다른 인스턴스의 동일한 변수에는 영향을 주지 않습니다. (modelx, modely가 있는데 modelz의 speed 300 → 500)"
      ],
      "metadata": {
        "id": "54ilMmX1_8Ch"
      }
    },
    {
      "cell_type": "code",
      "source": [
        "class Car:\n",
        "    default_speed = 100  # 클래스 변수 고정값\n",
        "\n",
        "    def __init__(self, color):\n",
        "        self.color = color  # 인스턴스 변수 -> 커스터마이즈!"
      ],
      "metadata": {
        "id": "1r1MpgoD-EEU"
      },
      "execution_count": null,
      "outputs": []
    },
    {
      "cell_type": "code",
      "source": [
        "class Car:\n",
        "    kinds = []  # 클래스 변수 -> append()값을 추가 -> 재할당(x)\n",
        "    speed = 300 # 클래스 변수 -> 인스턴스 변수!\n",
        "\n",
        "    def add_kinds(self, name):\n",
        "        self.kinds.append(name)  # 클래스 변수를 변경(기존값이 추가되는 형태)\n",
        "        #Car modelx modely -> 동일하게 [x,y]\n",
        "\n",
        "    def change_speed(self, speed):\n",
        "        self.speed = speed  # 인스턴스 변수를 생성 또는 변경(덮어쓰기 되는 형태)\n",
        "\n",
        "# 각 인스턴스는 자신만의 speed 값을 가질수 있게 되는 형태로 원본은 변하지 않음"
      ],
      "metadata": {
        "id": "PQGCAIZ6ANDa"
      },
      "execution_count": null,
      "outputs": []
    },
    {
      "cell_type": "code",
      "source": [
        "#만약 반대가 되려면\n",
        "#kinds가 공유되지 않도록 구현\n",
        "class Car:\n",
        "    def __init__(self):\n",
        "        self.kinds = []  # 인스턴스 변수\n",
        "\n",
        "    def add_kinds(self, name):\n",
        "        self.kinds.append(name)  # 인스턴스 변수를 변경"
      ],
      "metadata": {
        "id": "YiRmn7nwAP6D"
      },
      "execution_count": null,
      "outputs": []
    },
    {
      "cell_type": "code",
      "source": [
        "#speed가 공유되도록 구현\n",
        "class Car:\n",
        "    speed = 300 # 클래스 변수\n",
        "\n",
        "    @classmethod\n",
        "    def change_speed(cls, speed):\n",
        "        cls.speed = speed  # 클래스 변수를 변경"
      ],
      "metadata": {
        "id": "m3CfLeTAASIH"
      },
      "execution_count": null,
      "outputs": []
    },
    {
      "cell_type": "markdown",
      "source": [
        "# 클래스는 왜 써야하는가?\n",
        "##1. 속도\n",
        "##2. 재사용성\n",
        "\n",
        "리스트, 딕셔너리, 클로로 구현은 가능"
      ],
      "metadata": {
        "id": "Ql2abkwGBSdt"
      }
    },
    {
      "cell_type": "markdown",
      "source": [
        "예외 처리와 오류 관리\n",
        "1.   문법 에러\n",
        "2.   이름 에러\n",
        "3.   타입 에러\n",
        "4.   인덱스 에러\n",
        "5.   키 에러\n",
        "6.   값 에러\n",
        "7.   제로 나누기 에러\n",
        "8.   어트리뷰트 에러\n",
        "9.   인자 개수 에러\n",
        "10. 파일 입출력 에러\n",
        "\n",
        "\n"
      ],
      "metadata": {
        "id": "4yZhrEseC4Zb"
      }
    },
    {
      "cell_type": "markdown",
      "source": [
        "파이썬 예외 처리\n",
        "- try except"
      ],
      "metadata": {
        "id": "8dBF4_HIEkG6"
      }
    },
    {
      "cell_type": "code",
      "source": [
        "try:\n",
        "    # 예외가 발생할 가능성이 있는 코드\n",
        "except:\n",
        "    # 예외 처리 코드"
      ],
      "metadata": {
        "id": "Ec0QMU32EqrW"
      },
      "execution_count": null,
      "outputs": []
    },
    {
      "cell_type": "code",
      "source": [
        "try:\n",
        "    s = 1/0\n",
        "    print(s)\n",
        "except ZeroDivisionError:       #애러명을 함께 명시해주면 좋음. 없어도 됨\n",
        "    print('error가 발생되었습니다!')"
      ],
      "metadata": {
        "id": "NpVHnp4-BR8c"
      },
      "execution_count": null,
      "outputs": []
    },
    {
      "cell_type": "code",
      "source": [
        "try:\n",
        "    s = 1/0 # 1/0 1/1 해보기\n",
        "    print(s)\n",
        "    l = [1, 2, 3]\n",
        "    print(l[3])\n",
        "except ZeroDivisionError:\n",
        "    print('0으로 나누어졌습니다!')\n",
        "except:\n",
        "    print('오류가 났습니다!')"
      ],
      "metadata": {
        "colab": {
          "base_uri": "https://localhost:8080/"
        },
        "id": "r6paB-OvFtBI",
        "outputId": "0a9d3699-53d4-42a0-938f-640ed8132ba1"
      },
      "execution_count": 26,
      "outputs": [
        {
          "output_type": "stream",
          "name": "stdout",
          "text": [
            "0으로 나누어졌습니다!\n"
          ]
        }
      ]
    },
    {
      "cell_type": "code",
      "source": [
        "try:\n",
        "    i = 1\n",
        "    j = 0\n",
        "    x = i/j\n",
        "except:\n",
        "    print(\"error\")\n",
        "else:\n",
        "    print(x)   #에러가 안날때는 / 값 무조건 출력\n",
        "finally:\n",
        "    print(\"무조건 출력\") # 오류나면 /error 무조건출력"
      ],
      "metadata": {
        "colab": {
          "base_uri": "https://localhost:8080/"
        },
        "id": "uNtXgt4zGJl1",
        "outputId": "fa19e250-a286-4da3-ea5a-5089630a6bf2"
      },
      "execution_count": 30,
      "outputs": [
        {
          "output_type": "stream",
          "name": "stdout",
          "text": [
            "error\n",
            "무조건 출력\n"
          ]
        }
      ]
    },
    {
      "cell_type": "code",
      "source": [
        "# assert 가정설정문\n",
        "test = 'hello'\n",
        "\n",
        "assert test == 'hello', '애러 메시지 1' #1\n",
        "assert test == 'world', '애러 메시지 2' #2\n",
        "assert test + 3 == 5, '애러 메시지 3' #3"
      ],
      "metadata": {
        "id": "rAZiu101HKIw"
      },
      "execution_count": null,
      "outputs": []
    },
    {
      "cell_type": "code",
      "source": [
        "raise\n",
        "raise ValueError\n",
        "raise ValueError('코드를 잘~~ 만들어주세요.')"
      ],
      "metadata": {
        "id": "-W3G7aVEHsrW"
      },
      "execution_count": null,
      "outputs": []
    },
    {
      "cell_type": "code",
      "source": [
        "import logging\n",
        "\n",
        "# logging.basicConfig(level=logging.DEBUG) # 어느 레벨부터 로깅할지, 기본으로 warning 부터 합니다.\n",
        "# logging.basicConfig(level=logging.CRITICAL)\n",
        "logging.basicConfig(level=logging.CRITICAL, format=f'%(asctime)s - %(message)s')\n",
        "\n",
        "logging.debug(\"This is a debug message\") # 고쳐야 할 코드, 기록 필요\n",
        "logging.info(\"This is an info message\") # 정보성 메시지\n",
        "logging.warning(\"This is a warning message\") # 경고 메시지\n",
        "logging.error(\"This is an error message\") # 애러 메시지(프로그램은 동작)\n",
        "logging.critical(\"This is a critical message\") # 프로그램 중지(애러처리 안된경우)"
      ],
      "metadata": {
        "id": "gQIL6qwPIQFE"
      },
      "execution_count": null,
      "outputs": []
    }
  ]
}