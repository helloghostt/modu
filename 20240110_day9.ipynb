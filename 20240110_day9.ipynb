{
  "nbformat": 4,
  "nbformat_minor": 0,
  "metadata": {
    "colab": {
      "provenance": [],
      "authorship_tag": "ABX9TyNWkJeSq09CuKski+EthX92",
      "include_colab_link": true
    },
    "kernelspec": {
      "name": "python3",
      "display_name": "Python 3"
    },
    "language_info": {
      "name": "python"
    }
  },
  "cells": [
    {
      "cell_type": "markdown",
      "metadata": {
        "id": "view-in-github",
        "colab_type": "text"
      },
      "source": [
        "<a href=\"https://colab.research.google.com/github/helloghostt/modu/blob/main/20240110_day9.ipynb\" target=\"_parent\"><img src=\"https://colab.research.google.com/assets/colab-badge.svg\" alt=\"Open In Colab\"/></a>"
      ]
    },
    {
      "cell_type": "markdown",
      "source": [
        "# while문의 보충\n",
        "\n",
        "* a = 1 # 연산자를 계산할수 있는 변수가 하나있고,\n",
        "\n",
        "* While문은 조건이 참이면 계속 수행 -> 무한루프(무한으로 프로그램이 돌아가게 만듬)\n",
        "\n",
        "* while a < 10 : #1. for문과 차이점 - 조건이 있다. (for문은 범위가 있다.)\n",
        "\tprint(a)\n",
        "\ta += 1  # (무한루프에 빠질수 있기 때문에) -> 연산자를 계산해서 조건문을 강제로 false로 만드는 구문이 있다.\n",
        "\n",
        "Step1 : a -> 1 지정\n",
        "\n",
        "Step2 : while (a = 1) < 10 -> True -> while반복문 실행\n",
        "\n",
        "Step3 : print(a) -> a=1 -> 1이 출력\n",
        "\n",
        "Step4 : a += 1 -> a -> 2\n",
        "\n",
        "Step2-1 : a -> 2 step2,3,4가 계속 반복\n",
        "\n",
        "...\n",
        "\n",
        "Step10-1 : a-> 10\n",
        "\n",
        "Step10-2 : a = 10 < 10 -> False -> while반복문 미실행\n",
        "-> 조건문 완료!\n",
        "\n",
        "* 어떨때 쓰일까?\n",
        "1. 로또번호 - 6개까지 추첨하면 끝!\n",
        "2. 이벤트 -> 100명이 당첨되면 끝!\n",
        "3. 제한된 마케팅 / 고객모집 / 조건!"
      ],
      "metadata": {
        "id": "4_UxfRv-wrHJ"
      }
    },
    {
      "cell_type": "code",
      "execution_count": 1,
      "metadata": {
        "colab": {
          "base_uri": "https://localhost:8080/"
        },
        "id": "j09PuQs9wgyY",
        "outputId": "588cb4b1-c056-40d2-93c8-7f11e5d030ed"
      },
      "outputs": [
        {
          "output_type": "stream",
          "name": "stdout",
          "text": [
            ">d\n",
            ">pwd\n",
            "/content\n",
            ">dir\n",
            "['.config', 'sample_data']\n",
            ">exit\n",
            "안녕히가세요.\n"
          ]
        }
      ],
      "source": [
        "import os\n",
        "\n",
        "while True:\n",
        "    userinput = input('>')\n",
        "    if userinput == 'pwd':\n",
        "        # print('현재 위치 출력')\n",
        "        # print('\\\\'.join(__file__.split('\\\\')[:-1]))\n",
        "        print(os.getcwd())\n",
        "    elif userinput == 'dir' or userinput == 'ls':\n",
        "        # print('현재 폴더에 폴더와 파일명 출력')\n",
        "        print(os.listdir(os.getcwd()))\n",
        "    elif userinput == 'exit':\n",
        "        print('안녕히가세요.')\n",
        "        break"
      ]
    },
    {
      "cell_type": "markdown",
      "source": [
        "# break, continue, pass"
      ],
      "metadata": {
        "id": "5LluLRYmAI48"
      }
    },
    {
      "cell_type": "code",
      "source": [
        "# break\n",
        "for i in range(10):\n",
        "    if i == 5: #만약에 i가 5면 정지\n",
        "        break\n",
        "print(i)  # 0 1 2 3 4\n",
        "#이 코드는 0부터 4까지 출력하고, i가 5가 되었을 때 반복문을 종료합니다.\n"
      ],
      "metadata": {
        "id": "SisLIDNMyzmB"
      },
      "execution_count": null,
      "outputs": []
    },
    {
      "cell_type": "code",
      "source": [
        "# continue : 조건에 맞는건 넘어가라는 뜻\n",
        "for i in range(10):\n",
        "    if i % 2 == 0:\n",
        "        continue\n",
        "    print(i) # 1 3 5 7 9\n",
        "\n",
        "for i in range(10):\n",
        "    if i % 2 == 0:\n",
        "        print(i) #0 2 4 6 8"
      ],
      "metadata": {
        "id": "3Fp3IbpqzykM"
      },
      "execution_count": null,
      "outputs": []
    },
    {
      "cell_type": "code",
      "source": [
        "for i in range(10):\n",
        "    if i % 2 == 0:\n",
        "        print(i)"
      ],
      "metadata": {
        "id": "6Syijrx4z9lr"
      },
      "execution_count": null,
      "outputs": []
    },
    {
      "cell_type": "code",
      "source": [
        "import random\n",
        "\n",
        "answer = random.randint(1, 100)\n",
        "while True:\n",
        "    userinput = int(input('숫자를 입력해주세요.'))\n",
        "    if userinput > answer:\n",
        "        print('Down')\n",
        "\n",
        "    elif userinput < answer:\n",
        "        print('Up')\n",
        "    else:\n",
        "        print('축하합니다! 맞추셨어요!')\n",
        "        break"
      ],
      "metadata": {
        "id": "9XiOo-zW2Ar9"
      },
      "execution_count": null,
      "outputs": []
    },
    {
      "cell_type": "code",
      "source": [
        "\n",
        "# 중첩 while문\n",
        "while i < 10 :\n",
        "    while j < 10:\n",
        "        print(f'{i} X {j} = {i * j}')\n",
        "\n",
        "i = 2\n",
        "while i < 10 :\n",
        "    j = 1\n",
        "    while j < 10:\n",
        "        print(f'{i} X {j} = {i * j}')\n",
        "        j += 1\n",
        "    i += 1\n",
        "\n",
        "#중첩 for문\n",
        "for i in range(2, 10):  # 2부터 9까지 반복 (10은 포함되지 않음)\n",
        "    for j in range(1, 10):  # 1부터 9까지 반복 (10은 포함되지 않음)\n",
        "        print(f'{i} X {j} = {i * j}')"
      ],
      "metadata": {
        "id": "yULuwLiR9TSe"
      },
      "execution_count": null,
      "outputs": []
    },
    {
      "cell_type": "code",
      "source": [
        "i = 2\n",
        "while i < 10 :\n",
        "    j = 1\n",
        "    while j < 10:\n",
        "        print(f'{i} X {j} = {i * j}')\n",
        "        j += 1\n",
        "    i += 1"
      ],
      "metadata": {
        "id": "7KovBUy3_Pc1"
      },
      "execution_count": null,
      "outputs": []
    },
    {
      "cell_type": "code",
      "source": [
        "# pass\n",
        "x = 0\n",
        "while x < 5:\n",
        "    x += 1\n",
        "    if x == 3:\n",
        "        pass\n",
        "    print(x) # 1 2 3 4 5"
      ],
      "metadata": {
        "id": "mTfooGZa_0mv"
      },
      "execution_count": null,
      "outputs": []
    },
    {
      "cell_type": "code",
      "source": [
        "'''\n",
        "# 주의해주세요! 무한반복입니다!\n",
        "x = 0\n",
        "while x < 10:\n",
        "    print(x)\n",
        "    if x == 5:\n",
        "        continue\n",
        "    x += 1\n",
        "'''"
      ],
      "metadata": {
        "id": "8eeuRWuRAASq"
      },
      "execution_count": null,
      "outputs": []
    },
    {
      "cell_type": "code",
      "source": [
        "# 모든 반복문 한 번에 탈출하기\n",
        "switch = 0\n",
        "for i in range(5):\n",
        "    if switch == 1:\n",
        "        break\n",
        "    for j in range(5):\n",
        "        if j == 3:\n",
        "            switch = 1\n",
        "            break\n",
        "        print(f'{i}, {j}')\n",
        "#0, 0\n",
        "#0, 1\n",
        "#0, 2"
      ],
      "metadata": {
        "id": "8UtKIugNAGzK"
      },
      "execution_count": null,
      "outputs": []
    },
    {
      "cell_type": "code",
      "source": [
        "try:\n",
        "    for i in range(2, 10):\n",
        "        for j in range(1, 10):\n",
        "            if j == 3:\n",
        "                raise StopIteration\n",
        "            print(f'{i} X {j} = {i*j}')\n",
        "except StopIteration:\n",
        "    print(\"Done\")\n",
        "\n",
        "#출력\n",
        "#2 X 1 = 2\n",
        "#2 X 2 = 4\n",
        "#Done"
      ],
      "metadata": {
        "id": "ZvCsWBniBUSG"
      },
      "execution_count": null,
      "outputs": []
    },
    {
      "cell_type": "code",
      "source": [
        "Step 1: 할 일 목록 초기화 및 표시 함수\n",
        "목표: 사용자의 할 일 목록을 관리합니다.\n",
        "내용:\n",
        "할 일 목록을 저장할 리스트를 초기화합니다.\n",
        "할 일 목록을 표시하는 함수를 정의합니다.\n",
        "\n",
        "Step 2: 할 일 추가 및 삭제 기능\n",
        "목표: 할 일을 추가하고 삭제하는 기능을 구현합니다.\n",
        "내용:\n",
        "할 일을 추가하는 함수를 정의합니다.\n",
        "할 일을 삭제하는 함수를 정의합니다.\n",
        "\n",
        "Step 3: 사용자 입력 처리\n",
        "목표: 사용자 입력에 따라 프로그램이 반응하도록 합니다.\n",
        "내용:\n",
        "사용자로부터 입력을 받아 추가, 삭제, 표시 기능을 수행합니다."
      ],
      "metadata": {
        "id": "AhhUoaBgDqz1"
      },
      "execution_count": null,
      "outputs": []
    },
    {
      "cell_type": "code",
      "source": [
        "#강사님\n",
        "# 할 일 목록을 저장할 리스트\n",
        "todo_list = []\n",
        "\n",
        "# 할 일 목록을 표시하는 함수\n",
        "def display_todo_list():\n",
        "    print(\"현재 할 일 목록:\")\n",
        "    for task in todo_list:  # todo_list에 있는 모든 할 일을 순회\n",
        "        print(\"- \" + task)  # 각 할 일 앞에 '-'를 붙여서 출력\n",
        "\n",
        "# 할 일을 추가하는 함수\n",
        "def add_task(task):\n",
        "    todo_list.append(task)  # 리스트에 새 할 일 추가\n",
        "    print(f\"'{task}'가 할 일 목록에 추가되었습니다.\")\n",
        "\n",
        "# 할 일을 제거하는 함수\n",
        "def remove_task(task):\n",
        "    if task in todo_list:  # 할 일이 목록에 있는지 확인\n",
        "        todo_list.remove(task)  # 목록에서 할 일 제거\n",
        "        print(f\"'{task}'가 할 일 목록에서 제거되었습니다.\")\n",
        "    else:\n",
        "        print(f\"할 일 목록에 '{task}'가 없습니다.\")\n",
        "\n",
        "# 메인 루프\n",
        "while True:\n",
        "    print(\"\\n[1] 할 일 추가 [2] 할 일 삭제 [3] 목록 표시 [4] 종료\")\n",
        "    choice = input(\"선택: \")  # 사용자 입력 받기\n",
        "\n",
        "    if choice == '1':  # 할 일 추가\n",
        "        task = input(\"추가할 할 일: \")\n",
        "        add_task(task)\n",
        "    elif choice == '2':  # 할 일 삭제\n",
        "        task = input(\"삭제할 할 일: \")\n",
        "        remove_task(task)\n",
        "    elif choice == '3':  # 할 일 목록 표시\n",
        "        display_todo_list()\n",
        "    elif choice == '4':  # 프로그램 종료\n",
        "        print(\"프로그램을 종료합니다.\")\n",
        "        break  # while 루프 종료\n",
        "    else:\n",
        "        print(\"잘못된 선택입니다. 다시 입력하세요.\")"
      ],
      "metadata": {
        "id": "Sr3YzkSaHq8J"
      },
      "execution_count": null,
      "outputs": []
    },
    {
      "cell_type": "code",
      "source": [
        "#챗gpt\n",
        "# Step 1: 할 일 목록 초기화 및 표시 함수\n",
        "todo_list = []\n",
        "\n",
        "def display_todo_list():\n",
        "    print(\"\\n현재 할 일 목록:\")\n",
        "    for index, task in enumerate(todo_list, start=1):\n",
        "        print(f\"{index}. {task}\")\n",
        "    print()\n",
        "\n",
        "# Step 2: 할 일 추가 및 삭제 함수\n",
        "def add_task(task):\n",
        "    todo_list.append(task)\n",
        "    print(f\"할 일 '{task}'이(가) 추가되었습니다.\")\n",
        "\n",
        "def delete_task(index):\n",
        "    if 1 <= index <= len(todo_list):\n",
        "        removed_task = todo_list.pop(index - 1)\n",
        "        print(f\"할 일 '{removed_task}'이(가) 삭제되었습니다.\")\n",
        "    else:\n",
        "        print(\"유효하지 않은 인덱스입니다.\")\n",
        "\n",
        "# Step 3: 사용자 입력 처리\n",
        "while True:\n",
        "    print(\"\\n할 일 목록 관리 프로그램\")\n",
        "    print(\"1. 할 일 추가\")\n",
        "    print(\"2. 할 일 삭제\")\n",
        "    print(\"3. 할 일 목록 표시\")\n",
        "    print(\"4. 종료\")\n",
        "\n",
        "    choice = input(\"원하는 작업을 선택하세요 (1~4): \")\n",
        "\n",
        "    if choice == '1':\n",
        "        task = input(\"추가할 할 일을 입력하세요: \")\n",
        "        add_task(task)\n",
        "    elif choice == '2':\n",
        "        display_todo_list()\n",
        "        index_to_delete = int(input(\"삭제할 할 일의 번호를 입력하세요: \"))\n",
        "        delete_task(index_to_delete)\n",
        "    elif choice == '3':\n",
        "        display_todo_list()\n",
        "    elif choice == '4':\n",
        "        print(\"프로그램을 종료합니다.\")\n",
        "        break\n",
        "    else:\n",
        "        print(\"유효하지 않은 선택입니다. 다시 선택해주세요.\")"
      ],
      "metadata": {
        "id": "Iz501L3kHquA"
      },
      "execution_count": null,
      "outputs": []
    },
    {
      "cell_type": "code",
      "source": [
        "#최지석\n",
        "todos = []\n",
        "\n",
        "def show_todos():\n",
        "    if not todos:\n",
        "        print(\"할 일이 없습니다.\")\n",
        "    else:\n",
        "        print(\"할 일 목록\")\n",
        "        for i, todo in enumerate(todos, 1):\n",
        "            print(f\"{i}: {todo}\")\n",
        "\n",
        "def add_todo():\n",
        "    new_todo = input(\"할 일을 입력하세요: \")\n",
        "    if new_todo not in todos:\n",
        "        todos.append(new_todo)\n",
        "        print(f\"{new_todo}가 할 일 목록에 추가되었습니다.\")\n",
        "    else:\n",
        "        print(f\"{new_todo}는 이미 할 일 목록에 있습니다.\")"
      ],
      "metadata": {
        "id": "aJCBUln5Mc2f"
      },
      "execution_count": null,
      "outputs": []
    },
    {
      "cell_type": "markdown",
      "source": [
        "#클래스\n"
      ],
      "metadata": {
        "id": "1pspqbyfW41T"
      }
    },
    {
      "cell_type": "code",
      "source": [
        "class Car: # 차에 설계 도면 또는 차 공장, 클래스\n",
        "    max_speed = 300 # 멤버 또는 애트리뷰트\n",
        "    max_people = 5\n",
        "    car_gear = ['P', 'D', 'R', 'N']\n",
        "\n",
        "    def start(self): # 메서드\n",
        "        print('차가 출발합니다!')\n",
        "\n",
        "    def stop(self):\n",
        "        print('차가 멈췄습니다!')\n",
        "\n",
        "# 공장에서 생산된 자동차 modelx, y, s, 인스턴스\n",
        "modelx = Car() # 인스턴스 = 클래스()\n",
        "modely = Car()\n",
        "models = Car()\n",
        "\n",
        "print(models.car_gear[1])  #D\n",
        "models.start()    #차가 출발합니다!\n",
        "models.stop()     #차가 멈췄습니다!\n",
        "\n",
        "#클래스의 장점 - 클래스 안에 있는 함수의 기능을 가져올수 있다.\n",
        "# Car.max_speed # modelx에 속도를 보고 싶으면 modelx.max_speed를 찍어야 합니다.\n",
        "# 초기 설계는 300으로 찍혀 있지만, 고객이 아래와 같이 자동차 튜닝을 했을 수도 있으니까요.\n",
        "\n",
        "models.max_speed = 500\n",
        "\n",
        "print(models.max_speed)   #500   #직접 접근해서 변경 가능하\n",
        "print(modely.max_speed)   #300"
      ],
      "metadata": {
        "id": "zGHGijKUVJlf"
      },
      "execution_count": null,
      "outputs": []
    },
    {
      "cell_type": "code",
      "source": [
        "# x = int(3) 어떻게 처리된는지 확인\n",
        "class Car: # 차에 설계 도면 또는 차 공장, 클래스\n",
        "    max_speed = 300 # 멤버 또는 애트리뷰트\n",
        "    max_people = 5\n",
        "    car_gear = ['P', 'D', 'R', 'N']             #self는 인수로 전달받지도 하지도 않음\n",
        "\n",
        "    def __init__(self, name, CEO): #self = car   #def __init__(Car, name, ceo):\n",
        "        self.name = name                    # Car.name = name\n",
        "        self.CEO =CEO                       # Car.CEO = CEO\n",
        "\n",
        "    def start(self):\n",
        "        print('차가 출발합니다!')\n",
        "\n",
        "    def stop(self):\n",
        "        print('차가 멈췄습니다!')\n",
        "\n",
        "modelx = Car('Tesla model x')  #x = int(3) 여기서 넣었던 3이 __init__메직메서드에서 처리\n",
        "modelx.name"
      ],
      "metadata": {
        "colab": {
          "base_uri": "https://localhost:8080/",
          "height": 35
        },
        "id": "f7s7iQp2cL8k",
        "outputId": "de769a53-f3ca-49fc-a26d-8859e40a1618"
      },
      "execution_count": 16,
      "outputs": [
        {
          "output_type": "execute_result",
          "data": {
            "text/plain": [
              "'Tesla model x'"
            ],
            "application/vnd.google.colaboratory.intrinsic+json": {
              "type": "string"
            }
          },
          "metadata": {},
          "execution_count": 16
        }
      ]
    },
    {
      "cell_type": "markdown",
      "source": [
        "#클래스 변수와 인스턴스 변수"
      ],
      "metadata": {
        "id": "3VHhmgr5xtbo"
      }
    },
    {
      "cell_type": "code",
      "source": [
        "class Car:\n",
        "    # 클래스 변수의 위치\n",
        "    max_speed = 300\n",
        "    max_people = 5\n",
        "    car_gear = ['P', 'D', 'R', 'N']\n",
        "\n",
        "modelx = Car()\n",
        "print(Car.max_speed)\n",
        "print(modelx.max_speed)"
      ],
      "metadata": {
        "id": "le2eI1xbx30Y"
      },
      "execution_count": null,
      "outputs": []
    },
    {
      "cell_type": "code",
      "source": [
        "class Car:\n",
        "    # 클래스 변수의 위치\n",
        "    max_speed = 300\n",
        "    max_people = 5\n",
        "    car_gear = ['P', 'D', 'R', 'N']\n",
        "\n",
        "modelx = Car()\n",
        "modely = Car()\n",
        "\n",
        "modely.max_speed = 500\n",
        "\n",
        "print(Car.max_speed)\n",
        "print(modelx.max_speed)\n",
        "print(modely.max_speed)"
      ],
      "metadata": {
        "id": "Vkh64qFczLmb"
      },
      "execution_count": null,
      "outputs": []
    },
    {
      "cell_type": "code",
      "source": [
        "class Car:\n",
        "    kinds = []\n",
        "    speed = 300\n",
        "\n",
        "    def add_kinds(self, name):\n",
        "        self.kinds.append(name)\n",
        "\n",
        "    def change_speed(self, speed):\n",
        "        self.speed = speed\n",
        "\n",
        "modelx = Car()\n",
        "modely = Car()\n",
        "\n",
        "modelx.add_kinds('x')\n",
        "modely.add_kinds('y')\n",
        "\n",
        "Car.speed = 100\n",
        "\n",
        "# modelx.change_speed(500)\n",
        "# modely.change_speed(250)\n",
        "\n",
        "print(f'modelx.kinds: {modelx.kinds}')\n",
        "print(f'modely.kinds: {modely.kinds}')  #y만 부르는건데 x를 먼저 불러왔기때문에 덮어씌워짐 x,y출력\n",
        "print(f'modelx.speed: {modelx.speed}')\n",
        "print(f'modely.speed: {modely.speed}')"
      ],
      "metadata": {
        "colab": {
          "base_uri": "https://localhost:8080/"
        },
        "id": "0PTUAkV7z5nv",
        "outputId": "da18c25b-d199-4536-b5aa-0111ec6c80df"
      },
      "execution_count": 18,
      "outputs": [
        {
          "output_type": "stream",
          "name": "stdout",
          "text": [
            "modelx.kinds: ['x', 'y']\n",
            "modely.kinds: ['x', 'y']\n",
            "modelx.speed: 100\n",
            "modely.speed: 100\n"
          ]
        }
      ]
    },
    {
      "cell_type": "code",
      "source": [
        "class Car:\n",
        "    kinds = []\n",
        "    speed = 300\n",
        "\n",
        "    def add_kinds(self, name):\n",
        "        self.kinds.append(name)\n",
        "\n",
        "    def change_speed(self, speed):\n",
        "        self.speed = speed\n",
        "\n",
        "modelx = Car()\n",
        "modely = Car()\n",
        "\n",
        "# Car.speed = 100\n",
        "\n",
        "modelx.change_speed(500)\n",
        "modely.change_speed(250)\n",
        "\n",
        "print(f'modelx.speed: {modelx.speed}')\n",
        "print(f'modely.speed: {modely.speed}')"
      ],
      "metadata": {
        "colab": {
          "base_uri": "https://localhost:8080/"
        },
        "id": "gHKvyQXf2mMp",
        "outputId": "3b27c024-2aca-4b8a-8b7e-6084e5fff017"
      },
      "execution_count": 20,
      "outputs": [
        {
          "output_type": "stream",
          "name": "stdout",
          "text": [
            "modelx.speed: 500\n",
            "modely.speed: 250\n"
          ]
        }
      ]
    },
    {
      "cell_type": "code",
      "source": [
        "speed = 300\n",
        "\n",
        "def change_speed(value):\n",
        "    speed = value #지역변수 speed\n",
        "    return speed\n",
        "\n",
        "change_speed(100)\n",
        "print(speed)"
      ],
      "metadata": {
        "colab": {
          "base_uri": "https://localhost:8080/"
        },
        "id": "aSI18OVw46yS",
        "outputId": "e37e8af0-d32e-409b-9c19-2448bb92d9da"
      },
      "execution_count": 23,
      "outputs": [
        {
          "output_type": "stream",
          "name": "stdout",
          "text": [
            "300\n"
          ]
        }
      ]
    }
  ]
}