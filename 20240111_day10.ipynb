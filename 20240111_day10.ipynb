{
  "nbformat": 4,
  "nbformat_minor": 0,
  "metadata": {
    "colab": {
      "provenance": [],
      "authorship_tag": "ABX9TyNevwD4bF6gtqNxceZN7zIh",
      "include_colab_link": true
    },
    "kernelspec": {
      "name": "python3",
      "display_name": "Python 3"
    },
    "language_info": {
      "name": "python"
    }
  },
  "cells": [
    {
      "cell_type": "markdown",
      "metadata": {
        "id": "view-in-github",
        "colab_type": "text"
      },
      "source": [
        "<a href=\"https://colab.research.google.com/github/helloghostt/modu/blob/main/20240111_day10.ipynb\" target=\"_parent\"><img src=\"https://colab.research.google.com/assets/colab-badge.svg\" alt=\"Open In Colab\"/></a>"
      ]
    },
    {
      "cell_type": "markdown",
      "source": [
        "- repo 정리 - 파일 이름은 날짜로\n",
        "- 함수이름은 변수다\n",
        "- lambda\n",
        "- pass\n",
        "- built - in functions\n",
        " - 문법공부말고 문제를 풀어보세요 cheat sheet\n",
        " - python어디까지 해야할까 프로젝트 가능한데까"
      ],
      "metadata": {
        "id": "_qhMgPJ72lgg"
      }
    },
    {
      "cell_type": "markdown",
      "source": [],
      "metadata": {
        "id": "eqXvMJJSIgCK"
      }
    },
    {
      "cell_type": "code",
      "execution_count": null,
      "metadata": {
        "id": "b9kmS5Xsz5b-"
      },
      "outputs": [],
      "source": [
        "def hello():\n",
        "    '''\n",
        "    python docstring\n",
        "    주석은 여기 답니다.\n",
        "    '''\n",
        "    pass"
      ]
    },
    {
      "cell_type": "code",
      "source": [
        "print(type(hello)) # 함수도 class 입니다"
      ],
      "metadata": {
        "id": "bKU0VBQn5pmx"
      },
      "execution_count": null,
      "outputs": []
    },
    {
      "cell_type": "code",
      "source": [
        "a = 10\n",
        "#a는 int에 인스턴스"
      ],
      "metadata": {
        "id": "MyVVLCyL51dQ"
      },
      "execution_count": null,
      "outputs": []
    },
    {
      "cell_type": "code",
      "source": [
        "print('hello world') # print is built-in function"
      ],
      "metadata": {
        "id": "OGyty_jG6C5m"
      },
      "execution_count": null,
      "outputs": []
    },
    {
      "cell_type": "code",
      "source": [
        "l = [print, print, print]\n",
        "l[2]"
      ],
      "metadata": {
        "colab": {
          "base_uri": "https://localhost:8080/"
        },
        "id": "ChXcy-og6SFX",
        "outputId": "43cbc8f4-b96d-4570-e5dc-586be5b7be1c"
      },
      "execution_count": 1,
      "outputs": [
        {
          "output_type": "execute_result",
          "data": {
            "text/plain": [
              "<function print>"
            ]
          },
          "metadata": {},
          "execution_count": 1
        }
      ]
    },
    {
      "cell_type": "code",
      "source": [
        "l = [print, print, print]\n",
        "l[2]('hello world') # hello world"
      ],
      "metadata": {
        "id": "odhlzBr06gjc"
      },
      "execution_count": null,
      "outputs": []
    },
    {
      "cell_type": "markdown",
      "source": [
        "#2. lambda"
      ],
      "metadata": {
        "id": "AS1_JzrFIjeS"
      }
    },
    {
      "cell_type": "code",
      "source": [
        "add = lambda x, y: x+y # 어려운 코드의 경우 예제를 30개 정도 만들어서 해보기\n",
        "#lambda x: x **2\n",
        "#lambda x, y:x+y ..."
      ],
      "metadata": {
        "id": "Tam-M7Sr63qs"
      },
      "execution_count": null,
      "outputs": []
    },
    {
      "cell_type": "code",
      "source": [
        "#lambda+3항 연산자 많이 사용합니다.\n",
        "x =10\n",
        "y = True if x % 2 == 0 else false\n",
        "print(y)  # true"
      ],
      "metadata": {
        "colab": {
          "base_uri": "https://localhost:8080/"
        },
        "id": "ljMAuasN8hnd",
        "outputId": "83350b7c-d74f-433f-ed8a-cc7ed1078083"
      },
      "execution_count": 2,
      "outputs": [
        {
          "output_type": "stream",
          "name": "stdout",
          "text": [
            "True\n"
          ]
        }
      ]
    },
    {
      "cell_type": "code",
      "source": [
        "def 제곱(x):     # 재사용하려\n",
        "    return x ** 2\n",
        "list(map(제곱, [1, 2, 3, 4]))"
      ],
      "metadata": {
        "id": "KIG6BDdd-EX1"
      },
      "execution_count": null,
      "outputs": []
    },
    {
      "cell_type": "code",
      "source": [
        "list(map(lambda x: x**2, [1, 2, 3, 4]))  #재사용 불가 but가독성은 좋음\n",
        "# list(map(lambda x: True if x % 2 == 0 else false, [1, 2, 3, 4]))"
      ],
      "metadata": {
        "id": "gEFbFG7U89YB"
      },
      "execution_count": null,
      "outputs": []
    },
    {
      "cell_type": "code",
      "source": [
        "for i in range(2, 31):\n",
        "    if 101 % i == 0:\n",
        "        print('소수아님')\n",
        "        break\n",
        "else:\n",
        "     print('소수')"
      ],
      "metadata": {
        "id": "UAMXQIKRFo0q"
      },
      "execution_count": null,
      "outputs": []
    },
    {
      "cell_type": "code",
      "source": [
        "#filter : print only trues\n",
        "list(filter((lambda x: x % 2 ==0,range(100)))\n",
        "list(filter((lambda x: x % 3 ==0,range(100)))\n",
        "list(filter((lambda x: x > 50 and x <80,range(100)))\n",
        "list(filter(lambda x: True if x % 3 == 0 or x % 5 == 0 else False, range(100)))"
      ],
      "metadata": {
        "id": "r529CaIO_tU_"
      },
      "execution_count": null,
      "outputs": []
    },
    {
      "cell_type": "code",
      "source": [
        "# list(filter(lambda x: x % 2 == 0, range(100)))\n",
        "list(filter(lambda x: x % 2, range(100))) # 홀수를!?\n",
        "\n",
        "# [0, 1, 2, 3, 4, 5, 6, 7, 8, 9]\n",
        "# x == 0일때 => lambda x: x % 2 => 0 => False로 평가!\n",
        "# x == 1일때 => lambda x: x % 2 => 1 => True로 평가!\n",
        "# x == 2일때 => lambda x: x % 2 => 0\n",
        "# x == 3일때 => lambda x: x % 2 => 1\n",
        "# x == 4일때 => lambda x: x % 2 => 0\n",
        "# x == 5일때 => lambda x: x % 2 => 1\n",
        "# x == 6일때 => lambda x: x % 2 => 0"
      ],
      "metadata": {
        "id": "QIzDT0ZYH1JC"
      },
      "execution_count": null,
      "outputs": []
    },
    {
      "cell_type": "markdown",
      "source": [
        "#3. sorted\n",
        "자주 사용하지는 않습니다. 원본을 변경시키기 때문입니다. but 시험은 꼭 나옴(최댓값, 최솟값- 나열한 후 마지막값 추출)\n",
        "\n",
        "key, reverse옵션을 정말정말 많이 사용합니다.\n",
        "알고리즘 문제에서 단골 문제이고,\n",
        "\n",
        "# https://school.programmers.co.kr/learn/courses/30/lessons/120835\n",
        "\n",
        "# https://codingdojang.com/scode/408?answer_mode=hid"
      ],
      "metadata": {
        "id": "s7AVBn4VIm7c"
      }
    },
    {
      "cell_type": "code",
      "source": [
        "l = [10, 20, 5, 4, 22, 32, 5, 9, 11]\n",
        "l.sort()"
      ],
      "metadata": {
        "id": "S195VIcxIcGu"
      },
      "execution_count": null,
      "outputs": []
    },
    {
      "cell_type": "code",
      "source": [
        "l = [10, 20, 5, 4, 22, 32, 5, 9, 11]\n",
        "sorted(i)"
      ],
      "metadata": {
        "id": "CJbdBnpSJXgY"
      },
      "execution_count": null,
      "outputs": []
    },
    {
      "cell_type": "code",
      "source": [
        "# 아래와 같은 형식으로 반별 점수가 주어진다고 하겠습니다.\n",
        "\n",
        "반별점수 = [\n",
        "    ['이름', '국어', '영어', '수학'],\n",
        "    ['이름', '국어', '영어', '수학'],\n",
        "    ['이름', '국어', '영어', '수학'],\n",
        "    ['이름', '국어', '영어', '수학'],\n",
        "]"
      ],
      "metadata": {
        "id": "n75-BbJxKvEZ"
      },
      "execution_count": 7,
      "outputs": []
    },
    {
      "cell_type": "code",
      "source": [
        "반별점수 = [\n",
        "    ['홍길동', 30, 55, 22],\n",
        "    ['홍춘향', 55, 60, 73],\n",
        "    ['이철수', 32, 65, 68],\n",
        "    ['이호준', 92, 11, 95],\n",
        "]\n",
        "sorted(반별점수)  # 0번째 순서대로 이름-한글아니고 유니코드표 순서대로"
      ],
      "metadata": {
        "colab": {
          "base_uri": "https://localhost:8080/"
        },
        "id": "hMj04cPiMB80",
        "outputId": "b5c444d0-55c2-4242-c0a6-6ec6adf3e3e1"
      },
      "execution_count": 8,
      "outputs": [
        {
          "output_type": "execute_result",
          "data": {
            "text/plain": [
              "[['이철수', 32, 65, 68],\n",
              " ['이호준', 92, 11, 95],\n",
              " ['홍길동', 30, 55, 22],\n",
              " ['홍춘향', 55, 60, 73]]"
            ]
          },
          "metadata": {},
          "execution_count": 8
        }
      ]
    },
    {
      "cell_type": "code",
      "source": [
        "sorted(반별점수, key = lambda x: x[2]) # 1: 국어점수로 2: 영어점수로"
      ],
      "metadata": {
        "colab": {
          "base_uri": "https://localhost:8080/"
        },
        "id": "TFR25DV9MNrL",
        "outputId": "bcd97df6-0b5f-4d1f-f005-afaf75635792"
      },
      "execution_count": 16,
      "outputs": [
        {
          "output_type": "execute_result",
          "data": {
            "text/plain": [
              "[['홍길동', 30, 55, 22],\n",
              " ['이철수', 32, 65, 68],\n",
              " ['홍춘향', 55, 60, 73],\n",
              " ['이호준', 92, 11, 95]]"
            ]
          },
          "metadata": {},
          "execution_count": 16
        }
      ]
    },
    {
      "cell_type": "code",
      "source": [
        "# 문제: 국, 영, 수 평균 점수대로 출력해주세요!\n",
        "sorted(반별점수, key = lambda x: x[1]+x[2]+x[3]) #평균점수대로 출력\n",
        "sorted(반별점수, key = lambda x: x[1]+x[2]+x[3], reverse = True)"
      ],
      "metadata": {
        "colab": {
          "base_uri": "https://localhost:8080/"
        },
        "id": "7xzSg9w4RdYj",
        "outputId": "28e4f5ee-62ab-4f61-9fcc-9761e69225ed"
      },
      "execution_count": 19,
      "outputs": [
        {
          "output_type": "execute_result",
          "data": {
            "text/plain": [
              "[['이호준', 92, 11, 95],\n",
              " ['홍춘향', 55, 60, 73],\n",
              " ['이철수', 32, 65, 68],\n",
              " ['홍길동', 30, 55, 22]]"
            ]
          },
          "metadata": {},
          "execution_count": 19
        }
      ]
    },
    {
      "cell_type": "code",
      "source": [
        "반별점수 = [\n",
        "['홍길동', 50, 50, 50],\n",
        "['이철수', 45, 50, 55],\n",
        "['홍춘향', 60, 35, 75],\n",
        "['이호준', 92, 11, 95]]\n",
        "\n",
        " # 문제: 국, 영, 수 평균 점수대로 출력해주세요! 같다면 수학점수가 높으니 앞에 두겠다는 얘기입니다\n",
        "\n",
        "sorted(반별점수, key = lambda x: (x[1]+x[2]+x[3], x[3]), reverse = True)  #tuple 순서대로 가중치를 줌"
      ],
      "metadata": {
        "colab": {
          "base_uri": "https://localhost:8080/"
        },
        "id": "vg9kA759Rvb_",
        "outputId": "3e7c6044-88aa-442c-bcd8-426110d55ca2"
      },
      "execution_count": 20,
      "outputs": [
        {
          "output_type": "execute_result",
          "data": {
            "text/plain": [
              "[['이호준', 92, 11, 95],\n",
              " ['홍춘향', 60, 35, 75],\n",
              " ['이철수', 45, 50, 55],\n",
              " ['홍길동', 50, 50, 50]]"
            ]
          },
          "metadata": {},
          "execution_count": 20
        }
      ]
    },
    {
      "cell_type": "code",
      "source": [
        "# 만약에 평균도 같고 수학 점수도 같은 경우 이름 가나다순으로 정렬하고 싶다면 어떤 방법\n",
        "sorted(반별점수, key=lambda x: (x[1] + x[2] + x[3], x[3], x[0]), reverse=True)"
      ],
      "metadata": {
        "colab": {
          "base_uri": "https://localhost:8080/"
        },
        "id": "-G6RFhOJUVlt",
        "outputId": "0194c683-6c92-4454-f21c-fd1a0dca542c"
      },
      "execution_count": 21,
      "outputs": [
        {
          "output_type": "execute_result",
          "data": {
            "text/plain": [
              "[['이호준', 92, 11, 95],\n",
              " ['홍춘향', 60, 35, 75],\n",
              " ['이철수', 45, 50, 55],\n",
              " ['홍길동', 50, 50, 50]]"
            ]
          },
          "metadata": {},
          "execution_count": 21
        }
      ]
    },
    {
      "cell_type": "code",
      "source": [
        "우편번호 = [\n",
        "    {\n",
        "        '주소': '경기도 용인시',\n",
        "        '우편번호': 321\n",
        "    },\n",
        "    {\n",
        "        '주소': '경기도 수원시',\n",
        "        '우편번호': 355\n",
        "    },\n",
        "    {\n",
        "        '주소': '제주특별자치도 제주시',\n",
        "        '우편번호': 333\n",
        "    }\n",
        "]\n",
        "\n",
        "# sorted(우편번호) #error, 비교를 할 수 없다!?\n",
        "sorted(우편번호, key=lambda x: x['우편번호'])\n",
        "\n",
        "# 우편번호 = [\n",
        "#     {\n",
        "#         '주소': '경기도 용인시',\n",
        "#         '우편번호': 321\n",
        "#     }, => 321\n",
        "#     {\n",
        "#         '주소': '경기도 수원시',\n",
        "#         '우편번호': 355\n",
        "#     }, => 355\n",
        "#     {\n",
        "#         '주소': '제주특별자치도 제주시',\n",
        "#         '우편번호': 333\n",
        "#     } => 333\n",
        "# ]"
      ],
      "metadata": {
        "colab": {
          "base_uri": "https://localhost:8080/"
        },
        "id": "wtnSBXqEUaxY",
        "outputId": "754a4d79-2c01-482d-835e-9ea54d853de9"
      },
      "execution_count": 22,
      "outputs": [
        {
          "output_type": "execute_result",
          "data": {
            "text/plain": [
              "[{'주소': '경기도 용인시', '우편번호': 321},\n",
              " {'주소': '제주특별자치도 제주시', '우편번호': 333},\n",
              " {'주소': '경기도 수원시', '우편번호': 355}]"
            ]
          },
          "metadata": {},
          "execution_count": 22
        }
      ]
    },
    {
      "cell_type": "code",
      "source": [
        "# 다음 입사문제\n",
        "# 직선에 있는 점의 좌표입니다\n",
        "# 점과 점 사이가 가장 짧은 점의 쌍을 출력하세요\n",
        "s = [1, 3, 4, 8, 13, 17, 20]\n",
        "s[1:]\n"
      ],
      "metadata": {
        "colab": {
          "base_uri": "https://localhost:8080/"
        },
        "id": "ImhasNcWVRMm",
        "outputId": "046c3a1e-eb40-4195-b806-b15c060e16e9"
      },
      "execution_count": 31,
      "outputs": [
        {
          "output_type": "execute_result",
          "data": {
            "text/plain": [
              "[3, 4, 8, 13, 17, 20]"
            ]
          },
          "metadata": {},
          "execution_count": 31
        }
      ]
    },
    {
      "cell_type": "code",
      "source": [
        "list[zip(s, s[1:])]"
      ],
      "metadata": {
        "id": "8KMiThXcYxHB"
      },
      "execution_count": null,
      "outputs": []
    },
    {
      "cell_type": "code",
      "source": [
        "sorted(x, key = lambda x: x[1]-x[0])\n",
        "sorted(x, key = lambda x: x[1]-x[0])[0]"
      ],
      "metadata": {
        "colab": {
          "base_uri": "https://localhost:8080/",
          "height": 203
        },
        "id": "kR7Nd1iJYFT3",
        "outputId": "98bec34b-4aa8-4d0e-8d40-0ebab2a01280"
      },
      "execution_count": 33,
      "outputs": [
        {
          "output_type": "error",
          "ename": "TypeError",
          "evalue": "'int' object is not iterable",
          "traceback": [
            "\u001b[0;31m---------------------------------------------------------------------------\u001b[0m",
            "\u001b[0;31mTypeError\u001b[0m                                 Traceback (most recent call last)",
            "\u001b[0;32m<ipython-input-33-b3caa189de89>\u001b[0m in \u001b[0;36m<cell line: 1>\u001b[0;34m()\u001b[0m\n\u001b[0;32m----> 1\u001b[0;31m \u001b[0msorted\u001b[0m\u001b[0;34m(\u001b[0m\u001b[0mx\u001b[0m\u001b[0;34m,\u001b[0m \u001b[0mkey\u001b[0m \u001b[0;34m=\u001b[0m \u001b[0;32mlambda\u001b[0m \u001b[0mx\u001b[0m\u001b[0;34m:\u001b[0m \u001b[0mx\u001b[0m\u001b[0;34m[\u001b[0m\u001b[0;36m1\u001b[0m\u001b[0;34m]\u001b[0m\u001b[0;34m-\u001b[0m\u001b[0mx\u001b[0m\u001b[0;34m[\u001b[0m\u001b[0;36m0\u001b[0m\u001b[0;34m]\u001b[0m\u001b[0;34m)\u001b[0m\u001b[0;34m\u001b[0m\u001b[0;34m\u001b[0m\u001b[0m\n\u001b[0m\u001b[1;32m      2\u001b[0m \u001b[0msorted\u001b[0m\u001b[0;34m(\u001b[0m\u001b[0mx\u001b[0m\u001b[0;34m,\u001b[0m \u001b[0mkey\u001b[0m \u001b[0;34m=\u001b[0m \u001b[0;32mlambda\u001b[0m \u001b[0mx\u001b[0m\u001b[0;34m:\u001b[0m \u001b[0mx\u001b[0m\u001b[0;34m[\u001b[0m\u001b[0;36m1\u001b[0m\u001b[0;34m]\u001b[0m\u001b[0;34m-\u001b[0m\u001b[0mx\u001b[0m\u001b[0;34m[\u001b[0m\u001b[0;36m0\u001b[0m\u001b[0;34m]\u001b[0m\u001b[0;34m)\u001b[0m\u001b[0;34m[\u001b[0m\u001b[0;36m0\u001b[0m\u001b[0;34m]\u001b[0m\u001b[0;34m\u001b[0m\u001b[0;34m\u001b[0m\u001b[0m\n",
            "\u001b[0;31mTypeError\u001b[0m: 'int' object is not iterable"
          ]
        }
      ]
    },
    {
      "cell_type": "code",
      "source": [
        "list(zip('hello', 'world'))  #심화과정에서 다룰 내용임"
      ],
      "metadata": {
        "colab": {
          "base_uri": "https://localhost:8080/"
        },
        "id": "i73Ty8GMWt3u",
        "outputId": "029e0c79-5a95-4b30-b471-007896fd76f1"
      },
      "execution_count": 24,
      "outputs": [
        {
          "output_type": "execute_result",
          "data": {
            "text/plain": [
              "[('h', 'w'), ('e', 'o'), ('l', 'r'), ('l', 'l'), ('o', 'd')]"
            ]
          },
          "metadata": {},
          "execution_count": 24
        }
      ]
    },
    {
      "cell_type": "code",
      "source": [
        "list(enumerate(zip('hello', 'world'))) #심화과정에서 다룰 내용임"
      ],
      "metadata": {
        "colab": {
          "base_uri": "https://localhost:8080/"
        },
        "id": "_by4pE5OW0kM",
        "outputId": "b4980b7c-f80e-40e9-f8b3-61d74b672b9e"
      },
      "execution_count": 25,
      "outputs": [
        {
          "output_type": "execute_result",
          "data": {
            "text/plain": [
              "[(0, ('h', 'w')),\n",
              " (1, ('e', 'o')),\n",
              " (2, ('l', 'r')),\n",
              " (3, ('l', 'l')),\n",
              " (4, ('o', 'd'))]"
            ]
          },
          "metadata": {},
          "execution_count": 25
        }
      ]
    },
    {
      "cell_type": "code",
      "source": [
        "# generator 심화과정에서 다룰 내용임\n",
        "def gen():\n",
        "    i = 1\n",
        "    while True:\n",
        "        yield i\n",
        "        i+=1\n",
        "\n",
        "list(zip(gen(),'hello', 'world'))"
      ],
      "metadata": {
        "colab": {
          "base_uri": "https://localhost:8080/"
        },
        "id": "Nl8lgX2dW5jx",
        "outputId": "c1f5cc17-9863-4c74-efdc-6eede2f044f0"
      },
      "execution_count": 28,
      "outputs": [
        {
          "output_type": "execute_result",
          "data": {
            "text/plain": [
              "[(1, 'h', 'w'), (2, 'e', 'o'), (3, 'l', 'r'), (4, 'l', 'l'), (5, 'o', 'd')]"
            ]
          },
          "metadata": {},
          "execution_count": 28
        }
      ]
    },
    {
      "cell_type": "code",
      "source": [],
      "metadata": {
        "id": "_-zLcV-wW8-U"
      },
      "execution_count": null,
      "outputs": []
    }
  ]
}