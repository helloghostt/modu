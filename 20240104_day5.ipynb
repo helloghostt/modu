{
  "nbformat": 4,
  "nbformat_minor": 0,
  "metadata": {
    "colab": {
      "provenance": [],
      "authorship_tag": "ABX9TyMKt2d0bbfdT2DQXP9J72jm",
      "include_colab_link": true
    },
    "kernelspec": {
      "name": "python3",
      "display_name": "Python 3"
    },
    "language_info": {
      "name": "python"
    }
  },
  "cells": [
    {
      "cell_type": "markdown",
      "metadata": {
        "id": "view-in-github",
        "colab_type": "text"
      },
      "source": [
        "<a href=\"https://colab.research.google.com/github/helloghostt/modu/blob/main/20240104_day4.ipynb\" target=\"_parent\"><img src=\"https://colab.research.google.com/assets/colab-badge.svg\" alt=\"Open In Colab\"/></a>"
      ]
    },
    {
      "cell_type": "markdown",
      "source": [
        "#논리연산"
      ],
      "metadata": {
        "id": "pMIrPnBA6z9f"
      }
    },
    {
      "cell_type": "code",
      "source": [
        "# 1.1. and 연산자\n",
        "print(True and True)   # 결과: True\n",
        "print(True and False)  # 결과: False\n",
        "print(False and True)  # 결과: False\n",
        "print(False and False) # 결과: False"
      ],
      "metadata": {
        "id": "4zGft-2e60_E"
      },
      "execution_count": null,
      "outputs": []
    },
    {
      "cell_type": "code",
      "source": [
        "# 1.2. or 연산자\n",
        "print(True or True)   # 결과: True\n",
        "print(True or False)  # 결과: True\n",
        "print(False or True)  # 결과: True\n",
        "print(False or False) # 결과: False"
      ],
      "metadata": {
        "id": "n8xzcQg061HD"
      },
      "execution_count": null,
      "outputs": []
    },
    {
      "cell_type": "code",
      "source": [
        "# 1.3 not 연산자\n",
        "print(not True)  # 결과: False\n",
        "print(not False) # 결과: True"
      ],
      "metadata": {
        "id": "3PkQNj6O61LG"
      },
      "execution_count": null,
      "outputs": []
    },
    {
      "cell_type": "code",
      "source": [
        "num = 15\n",
        "result = num > 10 and num < 20\n",
        "print(result) # 결과: True"
      ],
      "metadata": {
        "id": "aW1jpoUM61OD"
      },
      "execution_count": null,
      "outputs": []
    },
    {
      "cell_type": "code",
      "source": [
        "for i in range(101): # 0부터 100까지를 반복합니다.\n",
        "    if i % 3 == 0 and i % 5 == 0:\n",
        "        print(i)"
      ],
      "metadata": {
        "id": "d0fnAe6Q61Qh"
      },
      "execution_count": null,
      "outputs": []
    },
    {
      "cell_type": "code",
      "execution_count": 1,
      "metadata": {
        "colab": {
          "base_uri": "https://localhost:8080/"
        },
        "id": "wnpfdazM09_h",
        "outputId": "95baa360-a07d-4db1-fc8d-606b0f5edd79"
      },
      "outputs": [
        {
          "output_type": "stream",
          "name": "stdout",
          "text": [
            "test1 함수 호출!\n",
            "False\n"
          ]
        }
      ],
      "source": [
        "# 3.1 and 연산자의 단락 평가    # 앞에서 False로 확정이 되면 뒤에 함수를 호출하지 않습니다.\n",
        "def test1():\n",
        "    print(\"test1 함수 호출!\")\n",
        "    return False\n",
        "\n",
        "def test2():\n",
        "    print(\"test2 함수 호출!\")\n",
        "    return True\n",
        "#가장 많이 걸러지는 연산을 앞에 둬야 빨라진다.\n",
        "result = test1() and test2()\n",
        "print(result) # 결과: False"
      ]
    },
    {
      "cell_type": "code",
      "source": [
        "\n",
        "lst = []  # lst가 빈 리스트이므로 lst[0]은 IndexError를 발생시킬 수 있습니다.\n",
        "if lst and lst[0] > 3:    #하지만 단락 평가 덕분에 lst가 빈 리스트일 때는 lst[0] > 3 부분이 평가되지 않아 오류를 피할 수 있습니다.\n",
        "    print(\"리스트의 첫 번째 원소는 3보다 큽니다.\")"
      ],
      "metadata": {
        "id": "9QZ3A7J_AwSG"
      },
      "execution_count": 3,
      "outputs": []
    },
    {
      "cell_type": "code",
      "source": [
        "# 3.2 or 연산자의 단락 평가"
      ],
      "metadata": {
        "id": "dtvI66YLAwU_"
      },
      "execution_count": null,
      "outputs": []
    },
    {
      "cell_type": "code",
      "source": [
        "a = 'hello'\n",
        "b = ''\n",
        "\n",
        "a or b # 출력: 'hello'"
      ],
      "metadata": {
        "id": "L5bWAXLOAwaK"
      },
      "execution_count": null,
      "outputs": []
    },
    {
      "cell_type": "code",
      "source": [
        "a = 'hello'\n",
        "b = 'world'\n",
        "\n",
        "a or b # 출력: 'hello'"
      ],
      "metadata": {
        "id": "aCG4RLuxAwcn"
      },
      "execution_count": null,
      "outputs": []
    },
    {
      "cell_type": "markdown",
      "source": [
        "# 할당 연산\n",
        "//= ,\n",
        "-= ,\n",
        "**= ,\n",
        "*= ,\n",
        "+= ,\n",
        "%= ,\n",
        "/= ,\n",
        "= ,"
      ],
      "metadata": {
        "id": "dIPMwMdSEB4h"
      }
    },
    {
      "cell_type": "code",
      "source": [
        "x = 5\n",
        "y = 2\n",
        "z = 10\n",
        "\n",
        "x //= y  # y * z 연산 후 x에 값을 할당합니다.\n",
        "print(x)"
      ],
      "metadata": {
        "colab": {
          "base_uri": "https://localhost:8080/"
        },
        "id": "hC9JJfg2EAvc",
        "outputId": "79fa95dd-4e60-4c85-d688-e32ed18680f7"
      },
      "execution_count": 7,
      "outputs": [
        {
          "output_type": "stream",
          "name": "stdout",
          "text": [
            "2\n"
          ]
        }
      ]
    },
    {
      "cell_type": "markdown",
      "source": [
        "# 식별연산(is 구문, id)"
      ],
      "metadata": {
        "id": "TcOPqgjQHVwn"
      }
    },
    {
      "cell_type": "code",
      "source": [
        "coffee_employee = \"Brand\"\n",
        "orange_employee = \"Brand\"\n",
        "\n",
        "print(coffee_employee is orange_employee)\n",
        "print(coffee_employee == orange_employee)"
      ],
      "metadata": {
        "colab": {
          "base_uri": "https://localhost:8080/"
        },
        "id": "hXJ7eupPIdOm",
        "outputId": "1c74392f-5e31-4bc8-9c3b-7ae6cd1c3f11"
      },
      "execution_count": 9,
      "outputs": [
        {
          "output_type": "stream",
          "name": "stdout",
          "text": [
            "True\n",
            "True\n"
          ]
        }
      ]
    },
    {
      "cell_type": "code",
      "source": [
        "id(coffee_employee)"
      ],
      "metadata": {
        "colab": {
          "base_uri": "https://localhost:8080/"
        },
        "id": "QWzw7oIZIf-r",
        "outputId": "add6f0fa-3b88-4dae-839f-acedb72c6c73"
      },
      "execution_count": 10,
      "outputs": [
        {
          "output_type": "execute_result",
          "data": {
            "text/plain": [
              "136948897256688"
            ]
          },
          "metadata": {},
          "execution_count": 10
        }
      ]
    },
    {
      "cell_type": "code",
      "source": [
        "#-5~256 같은 주소를 바라고 있지만 그 범위 이하 이상일 때는 주소가 달라진다.\n",
        "coffee_employee = 1000\n",
        "orange_employee = 1000\n",
        "\n",
        "print(coffee_employee is orange_employee)\n",
        "print(coffee_employee == orange_employee)"
      ],
      "metadata": {
        "colab": {
          "base_uri": "https://localhost:8080/"
        },
        "id": "t4f-urTqEAyY",
        "outputId": "92c15105-5b07-4c36-9c03-5427b7de17d6"
      },
      "execution_count": 11,
      "outputs": [
        {
          "output_type": "stream",
          "name": "stdout",
          "text": [
            "False\n",
            "True\n"
          ]
        }
      ]
    },
    {
      "cell_type": "code",
      "source": [
        "a = [1, 2, 3] #a와b는 다른 id값 갖는다\n",
        "b = [1, 2, 3]\n",
        "c = a\n",
        "\n",
        "print('a == b', a == b)\n",
        "print('a == c', a == c)\n",
        "print('a is b', a is b)\n",
        "print('a is c', a is c)"
      ],
      "metadata": {
        "colab": {
          "base_uri": "https://localhost:8080/"
        },
        "id": "vAp7u7eyEA1D",
        "outputId": "2052bef0-de2d-4358-9549-c55601607095"
      },
      "execution_count": 12,
      "outputs": [
        {
          "output_type": "stream",
          "name": "stdout",
          "text": [
            "a == b True\n",
            "a == c True\n",
            "a is b False\n",
            "a is c True\n"
          ]
        }
      ]
    },
    {
      "cell_type": "code",
      "source": [
        "print(id(a),id(b), id(c))"
      ],
      "metadata": {
        "colab": {
          "base_uri": "https://localhost:8080/"
        },
        "id": "G_Z-tpTtEA32",
        "outputId": "e0b4bda3-40d4-4e44-f547-24d0f2e3adc6"
      },
      "execution_count": 13,
      "outputs": [
        {
          "output_type": "stream",
          "name": "stdout",
          "text": [
            "136948897267648 136948895187456 136948897267648\n"
          ]
        }
      ]
    },
    {
      "cell_type": "code",
      "source": [
        "x = [1, 2, 3]\n",
        "y = x\n",
        "z = [1, 2, 3]\n",
        "print(x is y)  # True입니다. 왜냐하면 둘 다 동일한 객체를 참조하고 있기 때문입니다.\n",
        "print(x is z)  # False입니다. 왜냐하면 둘은 서로 다른 객체를 참조하고 있기 때문입니다."
      ],
      "metadata": {
        "colab": {
          "base_uri": "https://localhost:8080/"
        },
        "id": "yLHHcO7TEA6f",
        "outputId": "d014cc9d-d206-4fce-f22c-d0c77d7f53b0"
      },
      "execution_count": 15,
      "outputs": [
        {
          "output_type": "stream",
          "name": "stdout",
          "text": [
            "True\n",
            "False\n"
          ]
        }
      ]
    },
    {
      "cell_type": "code",
      "source": [
        "a = [1, 2, 3]\n",
        "b = [1, 2, 3]\n",
        "print(a is b)"
      ],
      "metadata": {
        "colab": {
          "base_uri": "https://localhost:8080/"
        },
        "id": "dkq9vuy5KQB-",
        "outputId": "93db613a-0ceb-4236-a872-4a5f7aa4e51e"
      },
      "execution_count": 17,
      "outputs": [
        {
          "output_type": "stream",
          "name": "stdout",
          "text": [
            "False\n"
          ]
        }
      ]
    },
    {
      "cell_type": "markdown",
      "source": [
        "# 멤버연산(in 구문)"
      ],
      "metadata": {
        "id": "xYnV7gtfQCBB"
      }
    },
    {
      "cell_type": "code",
      "source": [
        "a = [1, 2, 3, 4]\n",
        "b = [1, 2, 3, 4]\n",
        "c = 'hello world'\n",
        "\n",
        "print(1 in a) # 출력: True\n",
        "print(0 not in a) # 출력: True\n",
        "\n",
        "print([2] in b) # 출력: False\n",
        "print([1, 2] in b) # 출력: False\n",
        "\n",
        "print('h' in c) # 출력: True\n",
        "print('hello ' in c) # 출력: True"
      ],
      "metadata": {
        "id": "OuaHL2QREA_Z"
      },
      "execution_count": null,
      "outputs": []
    },
    {
      "cell_type": "markdown",
      "source": [
        "# 연산과 연산자 우선순위\n",
        "![image.png](data:image/png;base64,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)"
      ],
      "metadata": {
        "id": "YvR5yo_tRr7P"
      }
    },
    {
      "cell_type": "markdown",
      "source": [
        "# 연습문제\n"
      ],
      "metadata": {
        "id": "L4eRZYwbWC1b"
      }
    },
    {
      "cell_type": "code",
      "source": [
        "#1번\n",
        "a = 100\n",
        "print((a > 100) and (a < 200)) # f&t=f\n",
        "print((a > 100) or (a < 200)) # f^t=t\n",
        "print((a >= 100) and (a <= 200)) # t&t=t\n",
        "print((a >= 100) or (a <= 200)) #t^t=t"
      ],
      "metadata": {
        "colab": {
          "base_uri": "https://localhost:8080/"
        },
        "id": "BXanerOQWDfq",
        "outputId": "f589aba2-10af-488a-9ceb-37715e38cb72"
      },
      "execution_count": 28,
      "outputs": [
        {
          "output_type": "stream",
          "name": "stdout",
          "text": [
            "False\n",
            "True\n",
            "True\n",
            "True\n"
          ]
        }
      ]
    },
    {
      "cell_type": "code",
      "source": [
        "#2번\n",
        "b = 25\n",
        "(b % 2 == 0) and (b % 5 == 0) #f&t=f"
      ],
      "metadata": {
        "colab": {
          "base_uri": "https://localhost:8080/"
        },
        "id": "cc6GdffZWDis",
        "outputId": "b834ef7d-d87c-4e3f-a8b1-f881a871827c"
      },
      "execution_count": 29,
      "outputs": [
        {
          "output_type": "execute_result",
          "data": {
            "text/plain": [
              "False"
            ]
          },
          "metadata": {},
          "execution_count": 29
        }
      ]
    },
    {
      "cell_type": "code",
      "source": [
        "#3번 변수 c 안에 들어있는 가격을 100원짜리 몇개로 거슬러 줄 수 있는지 출력해주세요\n",
        "c = 1000\n",
        "c//100"
      ],
      "metadata": {
        "colab": {
          "base_uri": "https://localhost:8080/"
        },
        "id": "MVoWiyg-WDlP",
        "outputId": "d55f2e7a-11c8-4e11-8761-9f012c96df81"
      },
      "execution_count": 31,
      "outputs": [
        {
          "output_type": "execute_result",
          "data": {
            "text/plain": [
              "10"
            ]
          },
          "metadata": {},
          "execution_count": 31
        }
      ]
    },
    {
      "cell_type": "code",
      "source": [
        "#4번 입력한 금액을 5000원, 1000원, 500원, 100원으로 교환하는 프로그램을 만들어주세요.\n",
        "money = int(input(\"금액을 입력해주세요: \" ))\n",
        "num_5000 = money // 5000  #5000원권 장수\n",
        "money -= num_5000 * 5000\n",
        "num_1000 = money // 1000 #1000원권 장수\n",
        "money -= num_1000 * 1000\n",
        "num_500 = money // 500  #500원 개수\n",
        "money -= num_500 * 500\n",
        "num_100 = money // 100  #100원 개수\n",
        "\n",
        "print(f\"5000원의 개수는 \", num_5000, \"개 입니다.\")\n",
        "print(f\"1000원의 개수는 \", num_1000, \"개 입니다.\")\n",
        "print(f\"500원의 개수는 \", num_500, \"개 입니다.\")\n",
        "print(f\"100원의 개수는 \", num_100, \"개 입니다.\")"
      ],
      "metadata": {
        "colab": {
          "base_uri": "https://localhost:8080/"
        },
        "id": "bKDSmZWpWDoM",
        "outputId": "dddc5d3d-8e52-4ed0-a92d-abec28044fe4"
      },
      "execution_count": 4,
      "outputs": [
        {
          "output_type": "stream",
          "name": "stdout",
          "text": [
            "금액을 입력해주세요: 7600\n",
            "5000원의 개수는  1 개 입니다.\n",
            "1000원의 개수는  2 개 입니다.\n",
            "500원의 개수는  1 개 입니다.\n",
            "100원의 개수는  1 개 입니다.\n"
          ]
        }
      ]
    },
    {
      "cell_type": "markdown",
      "source": [
        "실습문제1번"
      ],
      "metadata": {
        "id": "E64Xn9a1iXiM"
      }
    },
    {
      "cell_type": "code",
      "source": [
        "'''\n",
        "1. 사용자 입력받기: input()으로 제품 원가와 할인율입력받기\n",
        "2. 문자열을 숫자로 변환: float()\n",
        "3. 할인된 가격 계산 :  할인된 가격 = 원가-(원가*할인율/100)\n",
        "4. 결과 print()\n",
        "\n",
        "'''\n",
        "original_price = float(input(\"제품의 원가를 입력하세요: \"))\n",
        "discount_rate = float(input(\"제품의 할인율을 입력하세요: \"))"
      ],
      "metadata": {
        "colab": {
          "base_uri": "https://localhost:8080/"
        },
        "id": "lnc8JxPQWDq5",
        "outputId": "3471700b-3273-4103-ace8-cfaa5da12542"
      },
      "execution_count": 36,
      "outputs": [
        {
          "name": "stdout",
          "output_type": "stream",
          "text": [
            "제품의 원가를 입력하세요: 1000\n",
            "제품의 할인율을 입력하세요: 10\n"
          ]
        }
      ]
    },
    {
      "cell_type": "code",
      "source": [
        "discounted_price =  original_price - (original_price * discount_rate / 100)"
      ],
      "metadata": {
        "id": "dHSAFxTNEBKG"
      },
      "execution_count": 39,
      "outputs": []
    },
    {
      "cell_type": "code",
      "source": [
        "print(f\"할인된 가격은 {int(discounted_price)}원입니다.\")"
      ],
      "metadata": {
        "colab": {
          "base_uri": "https://localhost:8080/"
        },
        "id": "957JR-wDEBPX",
        "outputId": "8b328dd1-46b5-43e3-9560-fc6efdfd5bfe"
      },
      "execution_count": 44,
      "outputs": [
        {
          "output_type": "stream",
          "name": "stdout",
          "text": [
            "할인된 가격은 900원입니다.\n"
          ]
        }
      ]
    },
    {
      "cell_type": "markdown",
      "source": [
        "#실습문제2번\n",
        "\n",
        "\n"
      ],
      "metadata": {
        "id": "zz655rOrgwZU"
      }
    },
    {
      "cell_type": "code",
      "source": [
        "#1.사용자 입력 받기:\n",
        "#input() 함수를 사용하여 사용자의 이름과 나이를 입력받습니다.\n",
        "name = input(\"이름을 입력하세요 : \")\n",
        "age = input(\"나이를 입력하세요 : \")"
      ],
      "metadata": {
        "colab": {
          "base_uri": "https://localhost:8080/"
        },
        "id": "hFn6vPBLg0eC",
        "outputId": "a99c796e-304f-487a-e223-9352bdeb353c"
      },
      "execution_count": 67,
      "outputs": [
        {
          "name": "stdout",
          "output_type": "stream",
          "text": [
            "이름을 입력하세요 : 가나다\n",
            "나이를 입력하세요 : 30\n"
          ]
        }
      ]
    },
    {
      "cell_type": "code",
      "source": [
        "#2.문자열을 숫자로 변환:\n",
        "#입력받은 나이(문자열)를 int() 함수를 사용하여 정수로 변환합니다.\n",
        "age_int = int(age)"
      ],
      "metadata": {
        "id": "MB4Chn9-g0mP"
      },
      "execution_count": 69,
      "outputs": []
    },
    {
      "cell_type": "code",
      "source": [
        "#3.산술 연산 수행:\n",
        "#변환된 나이에 1을 더하여 다음 해의 나이를 계산합니다.\n",
        "age_int += 1"
      ],
      "metadata": {
        "id": "4mCJAlZ6g0pk"
      },
      "execution_count": 70,
      "outputs": []
    },
    {
      "cell_type": "code",
      "source": [
        "#4.문자열 길이 계산:\n",
        "#len() 함수를 사용하여 사용자 이름의 길이를 계산합니다.\n",
        "len(name)"
      ],
      "metadata": {
        "colab": {
          "base_uri": "https://localhost:8080/"
        },
        "id": "JabhRC4zg0r0",
        "outputId": "519b2192-5d2d-40a2-8064-284f63e3d9ba"
      },
      "execution_count": 71,
      "outputs": [
        {
          "output_type": "execute_result",
          "data": {
            "text/plain": [
              "3"
            ]
          },
          "metadata": {},
          "execution_count": 71
        }
      ]
    },
    {
      "cell_type": "code",
      "source": [
        "#5.성인 여부 판단:\n",
        "#나이를 기준으로 성인 여부를 판단하여 불리언 값으로 표시합니다. (예: 18세 이상이면 True, 그렇지 않으면 False)\n",
        "adult = age_int >= 18"
      ],
      "metadata": {
        "id": "ROCIh-XuhJzZ"
      },
      "execution_count": 72,
      "outputs": []
    },
    {
      "cell_type": "code",
      "source": [
        "#6.결과 출력:\n",
        "#계산된 나이, 이름의 길이, 성인 여부를 print() 함수를 사용하여 출력합니다.\n",
        "print(f\"다음 해에는 {age_int}세가 되실 것입니다.\")\n",
        "print(f\"입력한 이름의 길이는 {len(name)}자 입니다.\")\n",
        "print(f\"성인 여부: {adult}\")"
      ],
      "metadata": {
        "colab": {
          "base_uri": "https://localhost:8080/"
        },
        "id": "tkpGSK_7hJ3k",
        "outputId": "08e658ec-4467-46b6-c29b-62eca71d9f6b"
      },
      "execution_count": 73,
      "outputs": [
        {
          "output_type": "stream",
          "name": "stdout",
          "text": [
            "다음 해에는 31세가 되실 것입니다.\n",
            "입력한 이름의 길이는 3자 입니다.\n",
            "성인 여부: True\n"
          ]
        }
      ]
    },
    {
      "cell_type": "code",
      "source": [
        "#3번 문제 코드만 모음\n",
        "name = input(\"이름을 입력하세요 : \")\n",
        "age = input(\"나이를 입력하세요 : \")\n",
        "age_int = int(age)\n",
        "age_int += 1\n",
        "len(name)\n",
        "adult = age_int >= 18\n",
        "print(f\"다음 해에는 {age_int}세가 되실 것입니다.\")\n",
        "print(f\"입력한 이름의 길이는 {len(name)}자 입니다.\")\n",
        "print(f\"성인 여부: {adult}\")\n",
        "'''\n",
        "gpt가 축약\n",
        "name = input(\"이름을 입력하세요: \")\n",
        "age = int(input(\"나이를 입력하세요: \")) + 1\n",
        "\n",
        "print(f\"다음 해에는 {age}세가 되실 것입니다.\")\n",
        "print(f\"입력한 이름의 길이는 {len(name)}자 입니다.\")\n",
        "print(f\"성인 여부: {age >= 18}\")\n",
        "'''"
      ],
      "metadata": {
        "colab": {
          "base_uri": "https://localhost:8080/"
        },
        "id": "PHc3D3lCk8fZ",
        "outputId": "923591cc-f47b-4988-cc8b-7d98f05342ea"
      },
      "execution_count": 74,
      "outputs": [
        {
          "output_type": "stream",
          "name": "stdout",
          "text": [
            "이름을 입력하세요 : 가나다\n",
            "나이를 입력하세요 : 50\n",
            "다음 해에는 51세가 되실 것입니다.\n",
            "입력한 이름의 길이는 3자 입니다.\n",
            "성인 여부: True\n"
          ]
        }
      ]
    },
    {
      "cell_type": "markdown",
      "source": [
        "# 시퀀스 자료형\n"
      ],
      "metadata": {
        "id": "igHXr9Uj61MV"
      }
    },
    {
      "cell_type": "code",
      "source": [
        "# 1.1. 인덱싱 (Indexing) 01234\n",
        "example = 'abcde'\n",
        "print(example[0]) # 출력: a\n",
        "print(example[2]) # 출력: c\n",
        "print(example[-1]) # 출력: e"
      ],
      "metadata": {
        "colab": {
          "base_uri": "https://localhost:8080/"
        },
        "id": "7JUquzQX4Ujb",
        "outputId": "87ab522e-1568-49bb-8ad2-1a7dcde0ec92"
      },
      "execution_count": 7,
      "outputs": [
        {
          "output_type": "stream",
          "name": "stdout",
          "text": [
            "a\n",
            "c\n",
            "e\n"
          ]
        }
      ]
    },
    {
      "cell_type": "code",
      "source": [
        "# 1.2. 슬라이싱 (Slicing)\n",
        "example = 'abcde'\n",
        "print(example[1:3]) # 출력: bc  1~2\n",
        "print(example[-4:-1]) # bcd\n",
        "range(10)[3] # 출력: 3\n",
        "range(100)[::5] # 출력: range(0, 100, 5)"
      ],
      "metadata": {
        "colab": {
          "base_uri": "https://localhost:8080/"
        },
        "id": "jH6pezUp4UmM",
        "outputId": "5b6a4893-85ed-4a72-a082-d7797dea8e83"
      },
      "execution_count": 8,
      "outputs": [
        {
          "output_type": "stream",
          "name": "stdout",
          "text": [
            "bc\n"
          ]
        },
        {
          "output_type": "execute_result",
          "data": {
            "text/plain": [
              "range(0, 100, 5)"
            ]
          },
          "metadata": {},
          "execution_count": 8
        }
      ]
    },
    {
      "cell_type": "code",
      "source": [
        "example = 'abcde'\n",
        "print('a' in example) # 출력: True\n",
        "print('z' in example) # 출력: False"
      ],
      "metadata": {
        "colab": {
          "base_uri": "https://localhost:8080/"
        },
        "id": "0eHfAAEH4Uom",
        "outputId": "8bb05ac1-7388-46ac-ed12-95a35e01f460"
      },
      "execution_count": 9,
      "outputs": [
        {
          "output_type": "stream",
          "name": "stdout",
          "text": [
            "True\n",
            "False\n"
          ]
        }
      ]
    },
    {
      "cell_type": "code",
      "source": [
        "example1 = 'abcde'\n",
        "example2 = 'f'\n",
        "print(example1 + example2) # 출력: abcdef\n",
        "print(example2 * 3)        # 출력: fff"
      ],
      "metadata": {
        "colab": {
          "base_uri": "https://localhost:8080/"
        },
        "id": "RcrbUx2I4Uqp",
        "outputId": "54e232e4-62ae-48df-f50e-c61f22b11da4"
      },
      "execution_count": 10,
      "outputs": [
        {
          "output_type": "stream",
          "name": "stdout",
          "text": [
            "abcdef\n",
            "fff\n"
          ]
        }
      ]
    },
    {
      "cell_type": "code",
      "source": [
        "example = 'abcde'\n",
        "print(len(example))  # 출력: 5\n",
        "print(min(example))  # 출력: a\n",
        "print(max(example))  # 출력: e\n",
        "#count(), index()"
      ],
      "metadata": {
        "id": "F9BtBeLe4UtD"
      },
      "execution_count": null,
      "outputs": []
    },
    {
      "cell_type": "markdown",
      "source": [
        "시퀀스 자료형의 패킹과 언패킹"
      ],
      "metadata": {
        "id": "EnAzFWRN94Jc"
      }
    },
    {
      "cell_type": "code",
      "source": [
        "# 튜플 패킹\n",
        "packed_tuple = 1, 2, 3, 4\n",
        "print(packed_tuple)  # 출력: (1, 2, 3, 4)\n",
        "a, c,  b, d = packed_tuple  # 순서대로 들어감\n",
        "print(a)  # 출력: 1\n",
        "print(b)  # 출력: 3\n",
        "print(c)  # 출력: 2"
      ],
      "metadata": {
        "colab": {
          "base_uri": "https://localhost:8080/"
        },
        "id": "zeTqOtiR9wrd",
        "outputId": "6bb9d8b5-407f-4b9b-aeb1-f765738935a8"
      },
      "execution_count": 14,
      "outputs": [
        {
          "output_type": "stream",
          "name": "stdout",
          "text": [
            "(1, 2, 3, 4)\n",
            "1\n",
            "3\n",
            "2\n"
          ]
        }
      ]
    },
    {
      "cell_type": "code",
      "source": [
        "a, b, c = range(3) #0,1,2  0에서 n-1까지 숫자 생성\n",
        "a # 출력: 0"
      ],
      "metadata": {
        "id": "CQs6R6XV9wt9"
      },
      "execution_count": null,
      "outputs": []
    },
    {
      "cell_type": "code",
      "source": [
        "a, b, c, d, e = 'hello'\n",
        "a # 출력: h"
      ],
      "metadata": {
        "colab": {
          "base_uri": "https://localhost:8080/",
          "height": 35
        },
        "id": "EBcYyUtc9wwe",
        "outputId": "1ec9f7c0-5c47-41f3-81c2-bf74903dbf69"
      },
      "execution_count": 15,
      "outputs": [
        {
          "output_type": "execute_result",
          "data": {
            "text/plain": [
              "'h'"
            ],
            "application/vnd.google.colaboratory.intrinsic+json": {
              "type": "string"
            }
          },
          "metadata": {},
          "execution_count": 15
        }
      ]
    },
    {
      "cell_type": "code",
      "source": [
        "a, b = [10, 20]\n",
        "a # 출력: 0"
      ],
      "metadata": {
        "colab": {
          "base_uri": "https://localhost:8080/"
        },
        "id": "_B1ip2TK_rRQ",
        "outputId": "462fc2c9-8776-4b60-9caf-2e3c998f1a43"
      },
      "execution_count": 16,
      "outputs": [
        {
          "output_type": "execute_result",
          "data": {
            "text/plain": [
              "10"
            ]
          },
          "metadata": {},
          "execution_count": 16
        }
      ]
    },
    {
      "cell_type": "code",
      "source": [
        "total_sum = 0\n",
        "for i in range(5): #0,1,2,3,4\n",
        "    total_sum += i\n",
        "    print(total_sum)\n",
        "print(total_sum)"
      ],
      "metadata": {
        "colab": {
          "base_uri": "https://localhost:8080/"
        },
        "id": "-t3QvkjQAVyQ",
        "outputId": "c9c40b16-f668-4006-e009-6f088a0e658f"
      },
      "execution_count": 20,
      "outputs": [
        {
          "output_type": "stream",
          "name": "stdout",
          "text": [
            "0\n",
            "1\n",
            "3\n",
            "6\n",
            "10\n",
            "10\n"
          ]
        }
      ]
    },
    {
      "cell_type": "code",
      "source": [
        "for i, j in [[10, 20], [100, 200]]:\n",
        "    print(i, j)"
      ],
      "metadata": {
        "colab": {
          "base_uri": "https://localhost:8080/"
        },
        "id": "Jjg4w-YW9wyz",
        "outputId": "b03f7887-b2c6-4e83-8fad-a43577b2aaf4"
      },
      "execution_count": 17,
      "outputs": [
        {
          "output_type": "stream",
          "name": "stdout",
          "text": [
            "10 20\n",
            "100 200\n"
          ]
        }
      ]
    },
    {
      "cell_type": "code",
      "source": [
        "first, *middle, last = [1, 2, 3, 4, 5]\n",
        "print(first)    # 출력: 1\n",
        "print(middle)   # 출력: [2, 3, 4]\n",
        "print(last)     # 출력: 5\n",
        "\n",
        "'''\n",
        "first, *middle [1, 2, 3, 4, 5]\n",
        "print(first)    # 출력: 1\n",
        "print(middle)   # 출력: [2, 3, 4, 5]\n",
        "'''\n",
        "'''\n",
        "*middle, first = [1, 2, 3, 4, 5]\n",
        "print(first)    # 출력: 5\n",
        "print(middle)   # 출력: [1, 2, 3, 4]\n",
        "\n",
        "'''"
      ],
      "metadata": {
        "colab": {
          "base_uri": "https://localhost:8080/"
        },
        "id": "1oDwiH7GAOtN",
        "outputId": "866a5d26-c301-401b-f9c6-85f60f178f39"
      },
      "execution_count": 21,
      "outputs": [
        {
          "output_type": "stream",
          "name": "stdout",
          "text": [
            "1\n",
            "[2, 3, 4]\n",
            "5\n"
          ]
        }
      ]
    },
    {
      "cell_type": "markdown",
      "source": [
        "# 1. 리스트(List)란"
      ],
      "metadata": {
        "id": "exk20tplE2kR"
      }
    },
    {
      "cell_type": "code",
      "source": [
        "x = [1, 2, 3]\n",
        "y = ['apple', 'banana', 'cherry']\n",
        "z = [1, [2], 3] in 2"
      ],
      "metadata": {
        "id": "xNe7e2dOAOy2"
      },
      "execution_count": null,
      "outputs": []
    },
    {
      "cell_type": "code",
      "source": [
        "#리스트의 장점\n",
        "z = [1, 'apple,', 2.5, ['a','b'],(1,2)]\n",
        "print(z[0])"
      ],
      "metadata": {
        "id": "hjx7deNrBXC7"
      },
      "execution_count": null,
      "outputs": []
    },
    {
      "cell_type": "code",
      "source": [
        "z = [\n",
        "\t\t1,\n",
        "\t\t'apple',\n",
        "\t\t2.5,\n",
        "\t\t['a', 'b'],\n",
        "\t\t(1, 2)\n",
        "]\n",
        "print(z[0])"
      ],
      "metadata": {
        "id": "Unv_DZc7AO1S"
      },
      "execution_count": null,
      "outputs": []
    },
    {
      "cell_type": "code",
      "source": [
        "z = [\n",
        "\t\t1,\n",
        "\t\t'apple',\n",
        "\t\t2.5,\n",
        "\t\t['a', 'b'],\n",
        "\t\t(1, 2),\n",
        "]\n",
        "print(z[0])"
      ],
      "metadata": {
        "id": "DtxOuJAFAO3j"
      },
      "execution_count": null,
      "outputs": []
    },
    {
      "cell_type": "code",
      "source": [
        "#2.2 리스트 값 수정\n",
        "a = [1,2,3,4,5]\n",
        "a[0]=10000\n",
        "print(a)"
      ],
      "metadata": {
        "colab": {
          "base_uri": "https://localhost:8080/"
        },
        "id": "tFeFEyPpG0vL",
        "outputId": "be11b25e-fe55-4a3c-b5ce-471ee7156f12"
      },
      "execution_count": 23,
      "outputs": [
        {
          "output_type": "stream",
          "name": "stdout",
          "text": [
            "[10000, 2, 3, 4, 5]\n"
          ]
        }
      ]
    },
    {
      "cell_type": "code",
      "source": [
        "s = 'licat'\n",
        "print(s[0])\n",
        "s[0] = 'k' # 출력 TypeError: 'str' object does not support item assignment"
      ],
      "metadata": {
        "id": "1cp6ANCiHHUA"
      },
      "execution_count": null,
      "outputs": []
    },
    {
      "cell_type": "code",
      "source": [
        "b = [[10, 20, 30], [1, 2, 3]]\n",
        "print(b[1][2]) # 출력: 3"
      ],
      "metadata": {
        "colab": {
          "base_uri": "https://localhost:8080/"
        },
        "id": "-dWjXZf9ISIA",
        "outputId": "2f2cb5af-905b-4be4-abab-52517f206b80"
      },
      "execution_count": 26,
      "outputs": [
        {
          "output_type": "stream",
          "name": "stdout",
          "text": [
            "3\n"
          ]
        }
      ]
    },
    {
      "cell_type": "code",
      "source": [
        "a = [1, 2, 3, 4, 5]\n",
        "b = [6, 7, 8]\n",
        "\n",
        "print(a + b) # 출력: [1, 2, 3, 4, 5, 6, 7, 8]"
      ],
      "metadata": {
        "colab": {
          "base_uri": "https://localhost:8080/"
        },
        "id": "EkZf7uWuId9X",
        "outputId": "e79d8dc1-0505-446b-925f-34bb589b2d20"
      },
      "execution_count": 28,
      "outputs": [
        {
          "output_type": "stream",
          "name": "stdout",
          "text": [
            "[1, 2, 3, 4, 5, 6, 7, 8]\n"
          ]
        }
      ]
    },
    {
      "cell_type": "code",
      "source": [
        "from re import L\n",
        "import numpy as np\n",
        "\n",
        "l = [1, 2, 3]\n",
        "l = np.array(l)\n",
        "print(l)\n",
        "print(l * 3)\n",
        "print(l + l)    # 너무 당연하게 요소를 붙이는 것이다라고 생각하지 않으셨으면 좋겠습니다."
      ],
      "metadata": {
        "colab": {
          "base_uri": "https://localhost:8080/"
        },
        "id": "HmjO2tb3IeAS",
        "outputId": "64acd00b-59d4-41f4-8be4-28ab13464d38"
      },
      "execution_count": 29,
      "outputs": [
        {
          "output_type": "stream",
          "name": "stdout",
          "text": [
            "[1 2 3]\n",
            "[3 6 9]\n",
            "[2 4 6]\n"
          ]
        }
      ]
    },
    {
      "cell_type": "code",
      "source": [
        "x = [1]\n",
        "print(x * 3) # 출력: [1, 1, 1]"
      ],
      "metadata": {
        "id": "p_5rntsjIeC6"
      },
      "execution_count": null,
      "outputs": []
    },
    {
      "cell_type": "code",
      "source": [
        "a = [1, 2, 3]\n",
        "a = a * 3\n",
        "\n",
        "a[0] = 1000\n",
        "print(a)   #[1000, 2, 3, 1, 2, 3, 1, 2, 3]"
      ],
      "metadata": {
        "id": "E9OupU-1IeFa"
      },
      "execution_count": null,
      "outputs": []
    },
    {
      "cell_type": "code",
      "source": [],
      "metadata": {
        "id": "p9ihR1-EIeH_"
      },
      "execution_count": null,
      "outputs": []
    },
    {
      "cell_type": "code",
      "source": [
        "a = [1, 2, 3]\n",
        "a = [a * 2] * 2 # 리스트 컴프리헨션 사용하셔서 만드시는 것을 권합니다.\n",
        "\n",
        "print(a)\n",
        "print(id(a[0]), id(a[1]))\n",
        "a[0][0] = 10000\n",
        "print(a)"
      ],
      "metadata": {
        "id": "JqijArbOJaWk"
      },
      "execution_count": null,
      "outputs": []
    },
    {
      "cell_type": "code",
      "source": [
        "[[1, 2, 3, 1, 2, 3], [1, 2, 3, 1, 2, 3]]\n",
        "136783650416896, 136783650416896\n",
        "[[10000, 2, 3, 1, 2, 3], [10000, 2, 3, 1, 2, 3]]"
      ],
      "metadata": {
        "id": "ItBKIJb0JbBy"
      },
      "execution_count": null,
      "outputs": []
    },
    {
      "cell_type": "code",
      "source": [
        "# 2.2 리스트 인덱싱\n",
        "l = [1, 2, 3, 4, 5]\n",
        "print(l[0]) # 출력: 1\n",
        "print(l[3]) # 출력: 4\n",
        "print(l[-1]) # 출력: 5\n",
        "print(l[-3]) # 출력: 3"
      ],
      "metadata": {
        "id": "_7aO1IIWKhpZ"
      },
      "execution_count": null,
      "outputs": []
    },
    {
      "cell_type": "code",
      "source": [
        "lst = [1, 2, 3, 4, 5]\n",
        "print(lst[10])  # 출력 IndexError: list index out of range"
      ],
      "metadata": {
        "id": "DL7-KJqYJbeX"
      },
      "execution_count": null,
      "outputs": []
    },
    {
      "cell_type": "code",
      "source": [
        "l = [1, 2, 3, 4, 5]\n",
        "print(l[1:4])   # 출력: [2, 3, 4]"
      ],
      "metadata": {
        "colab": {
          "base_uri": "https://localhost:8080/"
        },
        "id": "ol-qZ5dLJcCH",
        "outputId": "e7e7c3fd-6ad4-4891-ab74-9f78c60f7f82"
      },
      "execution_count": 37,
      "outputs": [
        {
          "output_type": "stream",
          "name": "stdout",
          "text": [
            "[2, 3, 4]\n"
          ]
        }
      ]
    },
    {
      "cell_type": "code",
      "source": [
        "l = [1, 2, 3, 4, 5]\n",
        "print(l[:])     # 출력: [1, 2, 3, 4, 5]\n",
        "print(l[::-1])  # 출력: [5, 4, 3, 2, 1]\n",
        "print(l[::2])   # 출력: [1, 3, 5]\n",
        "print(l[0:4][::-1]) # 출력: [4, 3, 2, 1]"
      ],
      "metadata": {
        "colab": {
          "base_uri": "https://localhost:8080/"
        },
        "id": "nAsfL8eOKx0u",
        "outputId": "90ae4b7c-faff-4fde-8d51-5d5d9c0c21eb"
      },
      "execution_count": 33,
      "outputs": [
        {
          "output_type": "stream",
          "name": "stdout",
          "text": [
            "[1, 2, 3, 4, 5]\n",
            "[5, 4, 3, 2, 1]\n",
            "[1, 3, 5]\n",
            "[4, 3, 2, 1]\n"
          ]
        }
      ]
    },
    {
      "cell_type": "code",
      "source": [
        "l = [1, 2, 3, 4, 5]\n",
        "print(l[10:20]) # 출력: []"
      ],
      "metadata": {
        "id": "3ODVY84lKyFA"
      },
      "execution_count": null,
      "outputs": []
    },
    {
      "cell_type": "code",
      "source": [
        "my_list = [1, 2, 'apple', 3.14]"
      ],
      "metadata": {
        "id": "L2cw2icNK6Qt"
      },
      "execution_count": null,
      "outputs": []
    }
  ]
}
