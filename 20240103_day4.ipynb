{
  "nbformat": 4,
  "nbformat_minor": 0,
  "metadata": {
    "colab": {
      "provenance": [],
      "authorship_tag": "ABX9TyMFQzirvypoEatICXWD9bzQ",
      "include_colab_link": true
    },
    "kernelspec": {
      "name": "python3",
      "display_name": "Python 3"
    },
    "language_info": {
      "name": "python"
    }
  },
  "cells": [
    {
      "cell_type": "markdown",
      "metadata": {
        "id": "view-in-github",
        "colab_type": "text"
      },
      "source": [
        "<a href=\"https://colab.research.google.com/github/helloghostt/modu/blob/main/20240103_day4.ipynb\" target=\"_parent\"><img src=\"https://colab.research.google.com/assets/colab-badge.svg\" alt=\"Open In Colab\"/></a>"
      ]
    },
    {
      "cell_type": "markdown",
      "source": [
        "# 문자열 자료형"
      ],
      "metadata": {
        "id": "gwgmDZOjyUXe"
      }
    },
    {
      "cell_type": "code",
      "source": [
        "#1.1 문자열 생성\n",
        "x = 'hello'\n",
        "y = \"python\"\n",
        "print(x,y)"
      ],
      "metadata": {
        "colab": {
          "base_uri": "https://localhost:8080/"
        },
        "id": "-9JA3_wXyVYV",
        "outputId": "7c843d58-6a76-4a9b-c27c-257353822d23"
      },
      "execution_count": 2,
      "outputs": [
        {
          "output_type": "stream",
          "name": "stdout",
          "text": [
            "hello python\n"
          ]
        }
      ]
    },
    {
      "cell_type": "code",
      "source": [
        "i = '''안녕하세요.\n",
        "날씨가 흐리네요.\n",
        "화이팅하세요.\n",
        "'''\n",
        "j = \"\"\"안녕하세요.\n",
        "오늘도 좋은 하루 보내세요.\n",
        "\"\"\"\n",
        "i"
      ],
      "metadata": {
        "colab": {
          "base_uri": "https://localhost:8080/",
          "height": 35
        },
        "id": "tRouzkuVyVko",
        "outputId": "13ce599a-4965-41da-8432-d00dbdbe37f9"
      },
      "execution_count": 11,
      "outputs": [
        {
          "output_type": "execute_result",
          "data": {
            "text/plain": [
              "'안녕하세요.\\n날씨가 흐리네요.\\n화이팅하세요.\\n'"
            ],
            "application/vnd.google.colaboratory.intrinsic+json": {
              "type": "string"
            }
          },
          "metadata": {},
          "execution_count": 11
        }
      ]
    },
    {
      "cell_type": "code",
      "source": [
        "print(i)"
      ],
      "metadata": {
        "colab": {
          "base_uri": "https://localhost:8080/"
        },
        "id": "sOr_MOiLyVoH",
        "outputId": "de708714-d9cd-4e6e-a5db-b8295178d5c1"
      },
      "execution_count": 12,
      "outputs": [
        {
          "output_type": "stream",
          "name": "stdout",
          "text": [
            "안녕하세요.\n",
            "날씨가 흐리네요.\n",
            "화이팅하세요.\n",
            "\n"
          ]
        }
      ]
    },
    {
      "cell_type": "code",
      "source": [
        "j"
      ],
      "metadata": {
        "colab": {
          "base_uri": "https://localhost:8080/",
          "height": 35
        },
        "id": "BpDPS5_ayVrA",
        "outputId": "afa7316b-2260-43b8-aa61-a2436ac5e638"
      },
      "execution_count": 13,
      "outputs": [
        {
          "output_type": "execute_result",
          "data": {
            "text/plain": [
              "'안녕하세요.\\n오늘도 좋은 하루 보내세요.\\n'"
            ],
            "application/vnd.google.colaboratory.intrinsic+json": {
              "type": "string"
            }
          },
          "metadata": {},
          "execution_count": 13
        }
      ]
    },
    {
      "cell_type": "code",
      "execution_count": 14,
      "metadata": {
        "colab": {
          "base_uri": "https://localhost:8080/"
        },
        "id": "eOLjrsodyLcJ",
        "outputId": "ee3c7ef3-cfd3-48ed-97dc-2ea4807ed659"
      },
      "outputs": [
        {
          "output_type": "stream",
          "name": "stdout",
          "text": [
            "안녕하세요.\n",
            "오늘도 좋은 하루 보내세요.\n",
            "\n"
          ]
        }
      ],
      "source": [
        "print(j)"
      ]
    },
    {
      "cell_type": "code",
      "source": [
        "# 문자열 특징\n",
        "x = 'hello'\n",
        "y = 'world'\n",
        "print(x + y)\n",
        "print(x * 3)"
      ],
      "metadata": {
        "colab": {
          "base_uri": "https://localhost:8080/"
        },
        "id": "NlpwKlME2iBb",
        "outputId": "aaf7f594-a594-41e3-b183-753576a96f13"
      },
      "execution_count": 8,
      "outputs": [
        {
          "output_type": "stream",
          "name": "stdout",
          "text": [
            "helloworld\n",
            "hellohellohello\n"
          ]
        }
      ]
    },
    {
      "cell_type": "code",
      "source": [
        "#인덱싱\n",
        "s = '위니브 월드!' #0123456  6=-1\n",
        "print(s[0]) # 출력 : '위'\n",
        "print(s[-1]) # 출력 : '!'\n",
        "print(s[-2])\n",
        "#print(s[100]) # error"
      ],
      "metadata": {
        "colab": {
          "base_uri": "https://localhost:8080/"
        },
        "id": "cvoocd1w2iIN",
        "outputId": "92eed3bc-2a69-42a2-a922-7c11583c244d"
      },
      "execution_count": 15,
      "outputs": [
        {
          "output_type": "stream",
          "name": "stdout",
          "text": [
            "위\n",
            "!\n",
            "드\n"
          ]
        }
      ]
    },
    {
      "cell_type": "code",
      "source": [
        "#슬라이싱\n",
        "s = '위니브 월드 외곽'\n",
        "print(s[0:8])  #[start:stop:step]"
      ],
      "metadata": {
        "colab": {
          "base_uri": "https://localhost:8080/"
        },
        "id": "BGuW-HVB2iK5",
        "outputId": "523ffddc-1bc8-4c3d-c70b-7f99a9d17e3c"
      },
      "execution_count": 17,
      "outputs": [
        {
          "output_type": "stream",
          "name": "stdout",
          "text": [
            "위니브 월드 외\n"
          ]
        }
      ]
    },
    {
      "cell_type": "code",
      "source": [
        "s = 'weniv CEO licat'\n",
        "print(s[6:]) # 출력 : CEO licat  끝까지\n",
        "print(s[:]) # 출력 : weniv CEO licat  전체\n",
        "print(s[::-1]) # 출력 : tacil OEC vinew  거꾸로\n",
        "print(s[::2]) # 출력 : wnvCOlct  2칸씩"
      ],
      "metadata": {
        "colab": {
          "base_uri": "https://localhost:8080/"
        },
        "id": "4RfkA9oP2iNO",
        "outputId": "6b1ac24c-38b2-441c-95a4-5895ed606a68"
      },
      "execution_count": 18,
      "outputs": [
        {
          "output_type": "stream",
          "name": "stdout",
          "text": [
            "CEO licat\n",
            "weniv CEO licat\n",
            "tacil OEC vinew\n",
            "wnvCOlct\n"
          ]
        }
      ]
    },
    {
      "cell_type": "code",
      "source": [
        "s = 'weniv CEO licat'\n",
        "s[10:20] # 출력 : licat"
      ],
      "metadata": {
        "id": "0SaNTsD56MKL"
      },
      "execution_count": null,
      "outputs": []
    },
    {
      "cell_type": "code",
      "source": [
        "s = 'weniv_licat.png' #파일명 지우기\n",
        "print(s[:11])\n",
        "print(s[:-4])\n",
        "s = 'weniv_licat.png' #파일명만 나오게\n",
        "print(s[-3:])"
      ],
      "metadata": {
        "colab": {
          "base_uri": "https://localhost:8080/"
        },
        "id": "YGLpqhwZ6MYk",
        "outputId": "cc73491b-15c3-4b11-9834-8393d6329551"
      },
      "execution_count": 24,
      "outputs": [
        {
          "output_type": "stream",
          "name": "stdout",
          "text": [
            "weniv_licat\n",
            "weniv_licat\n",
            "png\n"
          ]
        }
      ]
    },
    {
      "cell_type": "code",
      "source": [
        "#메서드\n",
        "s = 'weniv CEO licat'\n",
        "s.lower() #전체를 소문자로 바꿔주는 method\n",
        "s.upper() #전체를 대문자로 바꿔주는 method\n",
        "\n",
        "s.find('CTO') #특정 데이터를 찾아서 출력해주는\n",
        "s.index('CTO') #특정 데이터를 찾아서 출력해주는\n",
        "#찾을 수 없는 문자열일 경우 find는 -1을 반환하는 반면, index는 error를 반환합니다"
      ],
      "metadata": {
        "id": "XuUk9Xol6Mfr"
      },
      "execution_count": null,
      "outputs": []
    },
    {
      "cell_type": "code",
      "source": [
        "\n",
        "s = 'weniv CEO licat'\n",
        "s.count('i') #문자열이나 숫자를 셀 때 사용\n",
        "#공백\n",
        "#대소문자구분\n",
        "#일치만하면 다 찾아"
      ],
      "metadata": {
        "id": "Gh4NlBYx6Mie"
      },
      "execution_count": null,
      "outputs": []
    },
    {
      "cell_type": "code",
      "source": [
        "\n",
        "s = '    weniv CEO licat     ' #양쪽 공백을 제거하는 method  #잘 안되는 경우가 있어서 너무 신뢰하지말 것\n",
        "s.strip()\n",
        "'    ,!!  hello world   '.strip(' ,!')\n",
        "#양쪽의 공백과 ',!'을 제거해주는 method"
      ],
      "metadata": {
        "colab": {
          "base_uri": "https://localhost:8080/",
          "height": 35
        },
        "id": "WCjBN6BT-Dd2",
        "outputId": "a9afa73d-2ae6-433c-946c-f05238e2622b"
      },
      "execution_count": 33,
      "outputs": [
        {
          "output_type": "execute_result",
          "data": {
            "text/plain": [
              "'hello world'"
            ],
            "application/vnd.google.colaboratory.intrinsic+json": {
              "type": "string"
            }
          },
          "metadata": {},
          "execution_count": 33
        }
      ]
    },
    {
      "cell_type": "code",
      "source": [
        "s = 'weniv CEO licat'\n",
        "s.replace('CEO', 'CTO') #원하는 문자열을 다른 문자열로 대체할 때 사용하는 method"
      ],
      "metadata": {
        "colab": {
          "base_uri": "https://localhost:8080/",
          "height": 35
        },
        "id": "s2nbcgoO-DgW",
        "outputId": "515f74e0-32f0-4760-a1cb-f633e0001a1b"
      },
      "execution_count": 29,
      "outputs": [
        {
          "output_type": "execute_result",
          "data": {
            "text/plain": [
              "'weniv CTO licat'"
            ],
            "application/vnd.google.colaboratory.intrinsic+json": {
              "type": "string"
            }
          },
          "metadata": {},
          "execution_count": 29
        }
      ]
    },
    {
      "cell_type": "code",
      "source": [
        "s = 'weniv CEO licat'\n",
        "s.replace('i', 'I') #문자열 내에서 모든 i를 I로 대체할 때 사용하는 method"
      ],
      "metadata": {
        "colab": {
          "base_uri": "https://localhost:8080/",
          "height": 35
        },
        "id": "Nqihbn7O-DjA",
        "outputId": "d2ea2d6a-b348-4619-8528-7f30d02e46eb"
      },
      "execution_count": 30,
      "outputs": [
        {
          "output_type": "execute_result",
          "data": {
            "text/plain": [
              "'wenIv CEO lIcat'"
            ],
            "application/vnd.google.colaboratory.intrinsic+json": {
              "type": "string"
            }
          },
          "metadata": {},
          "execution_count": 30
        }
      ]
    },
    {
      "cell_type": "code",
      "source": [
        "s = 'weniv CEO licat'\n",
        "ss = s.replace('i', 'I')\n",
        "ss, s # 출력: ('weniv CEO licat', 'wenIv CEO lIcat')"
      ],
      "metadata": {
        "colab": {
          "base_uri": "https://localhost:8080/"
        },
        "id": "Jf4eyX4N-Dlb",
        "outputId": "3048161f-54ab-4f25-d0ce-23c816a9b10d"
      },
      "execution_count": 31,
      "outputs": [
        {
          "output_type": "execute_result",
          "data": {
            "text/plain": [
              "('wenIv CEO lIcat', 'weniv CEO licat')"
            ]
          },
          "metadata": {},
          "execution_count": 31
        }
      ]
    },
    {
      "cell_type": "code",
      "source": [
        "s = 'weniv CEO licat'\n",
        "s.split()  #공백을 기준으로 문자열 나누기"
      ],
      "metadata": {
        "colab": {
          "base_uri": "https://localhost:8080/"
        },
        "id": "_HAmxjo6__z_",
        "outputId": "fa6af9a3-a3c8-4bda-eece-643a9b1b55ae"
      },
      "execution_count": 34,
      "outputs": [
        {
          "output_type": "execute_result",
          "data": {
            "text/plain": [
              "['weniv', 'CEO', 'licat']"
            ]
          },
          "metadata": {},
          "execution_count": 34
        }
      ]
    },
    {
      "cell_type": "code",
      "source": [
        "s = 'weniv-CEO-licat'\n",
        "s.split('-') #-을 기준으로 문자열 나누기"
      ],
      "metadata": {
        "colab": {
          "base_uri": "https://localhost:8080/"
        },
        "id": "ZeMv6mAFAANd",
        "outputId": "459ab735-eaf3-45d1-bd7f-69fadd094afb"
      },
      "execution_count": 35,
      "outputs": [
        {
          "output_type": "execute_result",
          "data": {
            "text/plain": [
              "['weniv', 'CEO', 'licat']"
            ]
          },
          "metadata": {},
          "execution_count": 35
        }
      ]
    },
    {
      "cell_type": "code",
      "source": [
        "s = ['weniv', 'CEO', 'licat']\n",
        "'-'.join(s) #리스트를 하나의 문자열로 합치기"
      ],
      "metadata": {
        "colab": {
          "base_uri": "https://localhost:8080/",
          "height": 35
        },
        "id": "kF3909MxAAXJ",
        "outputId": "922c9729-94d1-4017-f9ae-217c34072246"
      },
      "execution_count": 36,
      "outputs": [
        {
          "output_type": "execute_result",
          "data": {
            "text/plain": [
              "'weniv-CEO-licat'"
            ],
            "application/vnd.google.colaboratory.intrinsic+json": {
              "type": "string"
            }
          },
          "metadata": {},
          "execution_count": 36
        }
      ]
    },
    {
      "cell_type": "code",
      "source": [
        "name = 'licat'\n",
        "age = 29\n",
        "\n",
        "print('제 이름은 {}이고, 나이는 {}살입니다.'.format(name, age))"
      ],
      "metadata": {
        "id": "R28zt0SXHkVM"
      },
      "execution_count": null,
      "outputs": []
    },
    {
      "cell_type": "code",
      "source": [
        "'abcd1234'.isalnum() # 출력: True   # isalnum 특수문자가 있는지 확인하는 메서드\n",
        "'안녕하세요'.isalnum() # 출력: True\n",
        "'こんにちは'.isalnum() # 출력: True\n",
        "'你好'.isalnum() # 출력: True"
      ],
      "metadata": {
        "id": "jLgcqJROI9t8"
      },
      "execution_count": null,
      "outputs": []
    },
    {
      "cell_type": "code",
      "source": [
        "s = '123'\n",
        "s.isdigit() # isdigit 문자열이 숫자로만 이루어져 있는지 확인하는 method"
      ],
      "metadata": {
        "id": "OWybH0iIIMqM"
      },
      "execution_count": null,
      "outputs": []
    },
    {
      "cell_type": "code",
      "source": [
        "'hello world'.isalpha() # 출력: False # isalpha 알파벳으로만 되어있는지 확인하는 메서드\n",
        "'helloworld'.isalpha() # 출력: True"
      ],
      "metadata": {
        "id": "MY_aYrvbIMiK"
      },
      "execution_count": null,
      "outputs": []
    },
    {
      "cell_type": "code",
      "source": [
        "s = 'licat'\n",
        "a = s.rjust(10, '-') # rjust 문자열을 지정한 길이로 맞추고, 왼쪽을 '-'로 채우는 method\n",
        "b = s.ljust(10, '-') # ljust 문자열을 지정한 길이로 맞추고, 오른쪽을 '-'로 채우는 method\n",
        "c = s.center(11, '-') # center 문자열을 지정한 길이로 맞추고, 양쪽을 '-'로 채우는 method\n",
        "print(a, b, c)"
      ],
      "metadata": {
        "colab": {
          "base_uri": "https://localhost:8080/"
        },
        "id": "6kpzuh8GJCxS",
        "outputId": "fe1343ce-948d-4f60-be57-fddf34779e47"
      },
      "execution_count": 39,
      "outputs": [
        {
          "output_type": "stream",
          "name": "stdout",
          "text": [
            "-----licat licat----- ---licat---\n"
          ]
        }
      ]
    },
    {
      "cell_type": "code",
      "source": [
        "x = \"42\"\n",
        "result1 = x.zfill(5)\n",
        "print(result1)  # 00042\n",
        "\n",
        "y = \"-42\"\n",
        "result2 = y.zfill(5)\n",
        "print(result2)  # -0042 부호가 있는 경우 부호까지 자리\n",
        "\n",
        "filename = '1'.zfill(3) + \".jpg\"\n",
        "print(filename)"
      ],
      "metadata": {
        "colab": {
          "base_uri": "https://localhost:8080/"
        },
        "id": "IwOcItaSIMM5",
        "outputId": "5f73c5b4-b4be-47bb-ed41-8aab9f8a088e"
      },
      "execution_count": 41,
      "outputs": [
        {
          "output_type": "stream",
          "name": "stdout",
          "text": [
            "00042\n",
            "-0042\n"
          ]
        }
      ]
    },
    {
      "cell_type": "code",
      "source": [
        "년 = '23'\n",
        "월 = '9'\n",
        "일 = '8'\n",
        "오늘날짜 = 년 + 월 + 일\n",
        "print(오늘날짜)\n",
        "오늘날짜 = 년 + 월.zfill(2) + 일.zfill(2)\n",
        "print(오늘날짜)"
      ],
      "metadata": {
        "colab": {
          "base_uri": "https://localhost:8080/"
        },
        "id": "1jsu_NLcKP2m",
        "outputId": "3078d046-312c-4fc1-c109-be3938486cb1"
      },
      "execution_count": 42,
      "outputs": [
        {
          "output_type": "stream",
          "name": "stdout",
          "text": [
            "2398\n",
            "230908\n"
          ]
        }
      ]
    },
    {
      "cell_type": "code",
      "source": [
        "# 변환 테이블 생성\n",
        "table = str.maketrans(\"abc\", \"123\")\n",
        "\n",
        "text = \"abcde\"\n",
        "result = text.translate(table)\n",
        "print(result)  # 123de\n",
        "\n",
        "# 'd'와 'e' 문자 제거하기\n",
        "table = str.maketrans('', '', 'de') #공백\n",
        "text = \"abcde\"\n",
        "result = text.translate(table)\n",
        "print(result)  # abc\n",
        "\n",
        "table = str.maketrans('\\n\\t', '  ') # 똑같은 길이를 가지고 있어야 함\n",
        "'weniv \\n\\n\\n CEO \\t\\t\\t licat'.translate(table)"
      ],
      "metadata": {
        "colab": {
          "base_uri": "https://localhost:8080/"
        },
        "id": "EuvOOh5sKP5g",
        "outputId": "03e76f7c-7b43-45bf-c972-23f4d03f7546"
      },
      "execution_count": 45,
      "outputs": [
        {
          "output_type": "stream",
          "name": "stdout",
          "text": [
            "123de\n",
            "abc\n"
          ]
        }
      ]
    },
    {
      "cell_type": "code",
      "source": [
        "name = 'licat'\n",
        "age = 10\n",
        "\n",
        "print('제 이름은 %s, 제 나이는 %d입니다. ' % (name, age))\n",
        "# 출력: 제 이름은 licat, 제 나이는 10입니다.\n",
        "\n",
        "s = 'My name is {}'.format('licat')\n",
        "print(s) # My name is licat"
      ],
      "metadata": {
        "id": "nxUDC21KKP-u"
      },
      "execution_count": null,
      "outputs": []
    },
    {
      "cell_type": "code",
      "source": [
        "#f-string\n",
        "name = 'licat'\n",
        "s = f'My name is {name}'\n",
        "print(s) # My name is licat"
      ],
      "metadata": {
        "id": "8LSBlLdWKQBx"
      },
      "execution_count": null,
      "outputs": []
    },
    {
      "cell_type": "markdown",
      "source": [
        "- `\\n`: 새로운 줄(줄바꿈)을 나타냅니다.\n",
        "- `\\t`: 탭 문자를 나타냅니다.\n",
        "- `\\r`: 커서를 현재 줄의 처음으로 이동합니다.\n",
        "- `\\\"`: 큰따옴표를 나타냅니다.\n",
        "- `\\'`: 작은따옴표를 나타냅니다.\n",
        "- `\\\\`: 백슬래시를 나타냅니다."
      ],
      "metadata": {
        "id": "ZTeFb-sJTmh5"
      }
    },
    {
      "cell_type": "code",
      "source": [
        "print(\"Hello\\nWorld!\") # Hello와 World! 사이에 줄바꿈이 일어납니다.\n",
        "print(\"Hello\\tWorld!\") # Hello와 World! 사이에 탭 간격이 생깁니다.\n",
        "print(\"She said, \\\"Hello World!\\\"\") # 큰따옴표 내부에 문자열을 출력합니다.\n",
        "print('She said, \\'Hello World!\\'') # 작은따옴표 내부에 문자열을 출력합니다.\n",
        "print(\"Backslash: \\\\\") # 백슬래시를 출력합니다."
      ],
      "metadata": {
        "id": "SfES5JOYTpIa"
      },
      "execution_count": null,
      "outputs": []
    },
    {
      "cell_type": "markdown",
      "source": [],
      "metadata": {
        "id": "eptJQdIWXT31"
      }
    },
    {
      "cell_type": "markdown",
      "source": [
        "# 논리(bool) 자료형\n"
      ],
      "metadata": {
        "id": "uzalcK9JXKTF"
      }
    },
    {
      "cell_type": "code",
      "source": [
        "x = True\n",
        "y = False\n",
        "z = 10 > 3\n",
        "print(x, y, z)"
      ],
      "metadata": {
        "colab": {
          "base_uri": "https://localhost:8080/"
        },
        "id": "B7bZ2rOMXKiG",
        "outputId": "b0f4e881-26d9-4446-87d7-2e72a6c4ed78"
      },
      "execution_count": 49,
      "outputs": [
        {
          "output_type": "stream",
          "name": "stdout",
          "text": [
            "False\n"
          ]
        }
      ]
    },
    {
      "cell_type": "code",
      "source": [
        "print(True == 1) # 출력: True  true,1는 수행하고 false,0는 수행하지 않는다\n",
        "print(False == 0) # 출력: True"
      ],
      "metadata": {
        "id": "lAjhU6OXXKlX"
      },
      "execution_count": null,
      "outputs": []
    },
    {
      "cell_type": "code",
      "source": [
        "print(True + True) # 출력: 2    true를 1로 false는 0으로\n",
        "print(False - True) # 출력: -1\n",
        "print(True / True) # 출력: 1.0\n",
        "print(True * False) # 출력: 0\n",
        "print(True / False) # error"
      ],
      "metadata": {
        "id": "fWepILu4XKpg"
      },
      "execution_count": null,
      "outputs": []
    },
    {
      "cell_type": "markdown",
      "source": [
        "# None 자료형"
      ],
      "metadata": {
        "id": "KYqxLpXwZLMx"
      }
    },
    {
      "cell_type": "code",
      "source": [
        "None + 5 # error\n",
        "None + None # error\n",
        "None = 10  # error"
      ],
      "metadata": {
        "id": "Q8kFEYSbXKso"
      },
      "execution_count": null,
      "outputs": []
    },
    {
      "cell_type": "code",
      "source": [
        "dir(None)"
      ],
      "metadata": {
        "id": "HCjtO-TuXKvo"
      },
      "execution_count": null,
      "outputs": []
    },
    {
      "cell_type": "markdown",
      "source": [
        "# 메서드 채이닝"
      ],
      "metadata": {
        "id": "cOQs6HQGZznu"
      }
    },
    {
      "cell_type": "code",
      "source": [
        "# 메서드를 체인처럼 연결해서 쓴다는\n",
        "# 한 줄이 79자 이상이 넘지 않도록\n",
        "# 백슬러쉬 사용해서 개행을 할 수 있습니다.\n",
        "sentence = '  Hello, World!  '\n",
        "result = sentence\\\n",
        ".strip()\\\n",
        ".lower()\\\n",
        ".replace('world', 'python')\n",
        "\n",
        "print(result)  # 'hello, python!'"
      ],
      "metadata": {
        "id": "mkkAQ1feXKyJ"
      },
      "execution_count": null,
      "outputs": []
    },
    {
      "cell_type": "code",
      "source": [
        "'010-1000-2000'.split('-').replace('0', 'x')\n",
        "['010', '1000', '2000'].replace('0', 'x')"
      ],
      "metadata": {
        "id": "sMT-Isq7aZs2"
      },
      "execution_count": null,
      "outputs": []
    },
    {
      "cell_type": "markdown",
      "source": [
        "# 형변환"
      ],
      "metadata": {
        "id": "ht93NGu9u-Gr"
      }
    },
    {
      "cell_type": "code",
      "source": [
        "\n",
        "월급 = input(\"월급을 입력하세요 : \" )\n",
        "연봉 = int(월급) *12\n",
        "print(\"연봉은 \" + str(연봉) + \"만원\" )  #int없이 하면 100100100..."
      ],
      "metadata": {
        "colab": {
          "base_uri": "https://localhost:8080/"
        },
        "id": "vR3t1DryaZvp",
        "outputId": "58fb8f0d-3666-4caf-96b8-f994fa6b4dbe"
      },
      "execution_count": 64,
      "outputs": [
        {
          "output_type": "stream",
          "name": "stdout",
          "text": [
            "월급을 입력하세요 : 1000\n",
            "연봉은12000만원\n"
          ]
        }
      ]
    },
    {
      "cell_type": "code",
      "source": [
        "#str-> int\n",
        "num = '123'\n",
        "print(type(num))\n",
        "\n",
        "num = int(num)\n",
        "print(type(num))\n"
      ],
      "metadata": {
        "colab": {
          "base_uri": "https://localhost:8080/"
        },
        "id": "dPWgpulTu_OJ",
        "outputId": "0f4226ee-3496-4616-feb9-d6d94c79bcc8"
      },
      "execution_count": 59,
      "outputs": [
        {
          "output_type": "stream",
          "name": "stdout",
          "text": [
            "<class 'str'>\n",
            "<class 'int'>\n"
          ]
        }
      ]
    },
    {
      "cell_type": "code",
      "source": [
        "\n",
        "s = 'hello'\n",
        "print(type(s))\n",
        "\n",
        "#s = int(s) # error\n",
        "#print(type(s))"
      ],
      "metadata": {
        "colab": {
          "base_uri": "https://localhost:8080/",
          "height": 258
        },
        "id": "Zi1g8jvHu_RA",
        "outputId": "dec1ec6f-9f73-46ef-e9d8-8a4bd78268b2"
      },
      "execution_count": 60,
      "outputs": [
        {
          "output_type": "stream",
          "name": "stdout",
          "text": [
            "<class 'str'>\n"
          ]
        },
        {
          "output_type": "error",
          "ename": "ValueError",
          "evalue": "ignored",
          "traceback": [
            "\u001b[0;31m---------------------------------------------------------------------------\u001b[0m",
            "\u001b[0;31mValueError\u001b[0m                                Traceback (most recent call last)",
            "\u001b[0;32m<ipython-input-60-b6bc7cca2523>\u001b[0m in \u001b[0;36m<cell line: 4>\u001b[0;34m()\u001b[0m\n\u001b[1;32m      2\u001b[0m \u001b[0mprint\u001b[0m\u001b[0;34m(\u001b[0m\u001b[0mtype\u001b[0m\u001b[0;34m(\u001b[0m\u001b[0ms\u001b[0m\u001b[0;34m)\u001b[0m\u001b[0;34m)\u001b[0m\u001b[0;34m\u001b[0m\u001b[0;34m\u001b[0m\u001b[0m\n\u001b[1;32m      3\u001b[0m \u001b[0;34m\u001b[0m\u001b[0m\n\u001b[0;32m----> 4\u001b[0;31m \u001b[0ms\u001b[0m \u001b[0;34m=\u001b[0m \u001b[0mint\u001b[0m\u001b[0;34m(\u001b[0m\u001b[0ms\u001b[0m\u001b[0;34m)\u001b[0m \u001b[0;31m# error\u001b[0m\u001b[0;34m\u001b[0m\u001b[0;34m\u001b[0m\u001b[0m\n\u001b[0m\u001b[1;32m      5\u001b[0m \u001b[0mprint\u001b[0m\u001b[0;34m(\u001b[0m\u001b[0mtype\u001b[0m\u001b[0;34m(\u001b[0m\u001b[0ms\u001b[0m\u001b[0;34m)\u001b[0m\u001b[0;34m)\u001b[0m\u001b[0;34m\u001b[0m\u001b[0;34m\u001b[0m\u001b[0m\n",
            "\u001b[0;31mValueError\u001b[0m: invalid literal for int() with base 10: 'hello'"
          ]
        }
      ]
    },
    {
      "cell_type": "code",
      "source": [
        "#float → int\n",
        "f = 3.14159\n",
        "number = int(f)\n",
        "print(number)  # 출력: 3"
      ],
      "metadata": {
        "colab": {
          "base_uri": "https://localhost:8080/"
        },
        "id": "e1AltSyPu_Te",
        "outputId": "6fa2286d-a5fe-4cd9-9ed8-62d9a08900b7"
      },
      "execution_count": 66,
      "outputs": [
        {
          "output_type": "stream",
          "name": "stdout",
          "text": [
            "3\n"
          ]
        }
      ]
    },
    {
      "cell_type": "code",
      "source": [
        "#bool → int\n",
        "true_int = int(True)\n",
        "false_int = int(False)\n",
        "\n",
        "print(true_int)  # 출력: 1\n",
        "print(false_int)  # 출력: 0"
      ],
      "metadata": {
        "colab": {
          "base_uri": "https://localhost:8080/"
        },
        "id": "IGaAF-4Iu_Vy",
        "outputId": "98fd2dd0-496d-49de-9906-7f9cf92ee4c2"
      },
      "execution_count": 65,
      "outputs": [
        {
          "output_type": "stream",
          "name": "stdout",
          "text": [
            "1\n",
            "0\n"
          ]
        }
      ]
    },
    {
      "cell_type": "code",
      "source": [
        "#None은 int형으로 형변환 하면 0이라고 오해하는 분들이 많으신데\n",
        "#None은 int형으로 변환이 가능하지 않습니다."
      ],
      "metadata": {
        "id": "wPFUvwtEaZ9H"
      },
      "execution_count": null,
      "outputs": []
    },
    {
      "cell_type": "code",
      "source": [
        "#int와 float → str\n",
        "n = 123\n",
        "print(type(n))\n",
        "\n",
        "m = 123.4\n",
        "print(type(n))\n",
        "\n",
        "n = str(n)\n",
        "print(type(n))\n",
        "\n",
        "m = str(m)  # float형은 str으로 변환했다가 int형으로 변환했을 경우 error/소수점. 때문\n",
        "print(type(m))\n"
      ],
      "metadata": {
        "id": "xlH6FZJ0xRFW"
      },
      "execution_count": null,
      "outputs": []
    },
    {
      "cell_type": "code",
      "source": [
        "print(\"bool('test'):\", bool('test'))\n",
        "print(\"bool(' '):\", bool(' '))\n",
        "print(\"bool(''):\", bool(''))  #\n",
        "print(\"bool(100):\", bool(100))\n",
        "print(\"bool(1):\", bool(1))\n",
        "print(\"bool(0):\", bool(0)) #\n",
        "print(\"bool(-1):\", bool(-1))\n",
        "print(\"bool(None):\", bool(None)) #\n",
        "print(\"bool([]):\", bool([])) #\n",
        "print(\"bool(tuple()):\", bool(tuple())) #\n",
        "print(\"bool({}):\", bool({})) #\n",
        "print(\"bool(set()):\", bool(set())) #"
      ],
      "metadata": {
        "colab": {
          "base_uri": "https://localhost:8080/"
        },
        "id": "-QhdUVSoxRH4",
        "outputId": "a92b8875-04bd-4c1a-8a06-532f0af5a508"
      },
      "execution_count": 61,
      "outputs": [
        {
          "output_type": "stream",
          "name": "stdout",
          "text": [
            "bool('test'): True\n",
            "bool(' '): True\n",
            "bool(''): False\n",
            "bool(100): True\n",
            "bool(1): True\n",
            "bool(0): False\n",
            "bool(-1): True\n",
            "bool(None): False\n",
            "bool([]): False\n",
            "bool(tuple()): False\n",
            "bool({}): False\n",
            "bool(set()): False\n"
          ]
        }
      ]
    },
    {
      "cell_type": "code",
      "source": [
        "#float형으로 형변환\n",
        "s = 10\n",
        "print(float(s))\n",
        "\n",
        "s = '10'\n",
        "print(float(s))\n",
        "\n",
        "s = '3.14'\n",
        "print(float(s))\n",
        "\n",
        "infinity = float('inf')\n",
        "neg_infinity = float('-inf')\n",
        "not_a_number = float('nan')"
      ],
      "metadata": {
        "colab": {
          "base_uri": "https://localhost:8080/"
        },
        "id": "iYFXAx5ExRKu",
        "outputId": "d69aecf3-5cc9-44ff-bc5b-75e1566f6fa3"
      },
      "execution_count": 62,
      "outputs": [
        {
          "output_type": "stream",
          "name": "stdout",
          "text": [
            "10.0\n",
            "10.0\n",
            "3.14\n"
          ]
        }
      ]
    },
    {
      "cell_type": "code",
      "source": [
        "#  list형으로 형변환\n",
        "s = '10'\n",
        "print(list(s))  # str → list\n",
        "\n",
        "name = 'licat'\n",
        "print(list(name)) # ['l','i','c','a','t']"
      ],
      "metadata": {
        "id": "AmavXkE6y6lG"
      },
      "execution_count": null,
      "outputs": []
    },
    {
      "cell_type": "code",
      "source": [
        "#  tuple형으로 형변환\n",
        "name = 'licat'\n",
        "tuple(name) #('l','i','c','a','t') list랑 괄호다"
      ],
      "metadata": {
        "colab": {
          "base_uri": "https://localhost:8080/"
        },
        "id": "AFjwbb0fy6nw",
        "outputId": "5d1dc130-c632-4089-8f79-cc9d19a13ad1"
      },
      "execution_count": 68,
      "outputs": [
        {
          "output_type": "execute_result",
          "data": {
            "text/plain": [
              "('l', 'i', 'c', 'a', 't')"
            ]
          },
          "metadata": {},
          "execution_count": 68
        }
      ]
    },
    {
      "cell_type": "code",
      "source": [
        "# dict형으로 형변환\n",
        "data = [('name','licat'),('age',10)]\n",
        "d = dict(data)\n",
        "d\n"
      ],
      "metadata": {
        "colab": {
          "base_uri": "https://localhost:8080/"
        },
        "id": "JAY5Wd10y6qM",
        "outputId": "565a511f-1826-4eef-bab5-4e736321ccff"
      },
      "execution_count": 69,
      "outputs": [
        {
          "output_type": "execute_result",
          "data": {
            "text/plain": [
              "{'name': 'licat', 'age': 10}"
            ]
          },
          "metadata": {},
          "execution_count": 69
        }
      ]
    },
    {
      "cell_type": "code",
      "source": [
        "# set형으로 형변환\n",
        "s = 'weniv CEO licat'\n",
        "print(set(s)) #중복을 허락하지 않고 순서가 없습니다. 공백도 문자로\n",
        "print(len(set(s))) #중복을 제거한 상태로의 길이를 알려줍니다.\n",
        "print(len(s))"
      ],
      "metadata": {
        "colab": {
          "base_uri": "https://localhost:8080/"
        },
        "id": "b9oKHAh4y6si",
        "outputId": "2cf5daa7-5f48-45c6-baae-324a8e591c31"
      },
      "execution_count": 70,
      "outputs": [
        {
          "output_type": "stream",
          "name": "stdout",
          "text": [
            "{'c', ' ', 't', 'n', 'O', 'E', 'a', 'e', 'C', 'l', 'v', 'w', 'i'}\n",
            "13\n",
            "15\n"
          ]
        }
      ]
    },
    {
      "cell_type": "code",
      "source": [],
      "metadata": {
        "id": "QVCCJSxUy6vC"
      },
      "execution_count": null,
      "outputs": []
    },
    {
      "cell_type": "code",
      "source": [
        "list(map(int, ['10', '20', '30'])) # 출력: [10, 20, 30]\n"
      ],
      "metadata": {
        "colab": {
          "base_uri": "https://localhost:8080/"
        },
        "id": "4y10C4aC1Sip",
        "outputId": "e64dd4da-78bb-45ec-a8c4-fe35a6258878"
      },
      "execution_count": 72,
      "outputs": [
        {
          "output_type": "execute_result",
          "data": {
            "text/plain": [
              "[10, 20, 30]"
            ]
          },
          "metadata": {},
          "execution_count": 72
        }
      ]
    },
    {
      "cell_type": "code",
      "source": [
        "list(map(int, '12345')) # 출력: [1, 2, 3, 4, 5]"
      ],
      "metadata": {
        "colab": {
          "base_uri": "https://localhost:8080/"
        },
        "id": "wi3XVq6e1Slo",
        "outputId": "5684c60b-1ef4-4953-a609-036e8f727f2d"
      },
      "execution_count": 73,
      "outputs": [
        {
          "output_type": "execute_result",
          "data": {
            "text/plain": [
              "[1, 2, 3, 4, 5]"
            ]
          },
          "metadata": {},
          "execution_count": 73
        }
      ]
    },
    {
      "cell_type": "markdown",
      "source": [
        "#퀴즈\n",
        "1.input() 함수로 입력받은 데이터의 기본 타입은 무엇입니까?\n",
        "\n",
        "A. int\n",
        "*B. str\n",
        "C. float\n",
        "D. list\n",
        "\n",
        "2.다음 중 int타입으로 변환할 수 없는 것은 무엇입니까?\n",
        "\n",
        "A. \"123\"\n",
        "* B. \"123.45\"\n",
        "C. \"0\"\n",
        "D. \"100\"\n",
        "\n",
        "3. 다음 코드의 출력 결과는 무엇입니까?\n",
        "\n",
        "```python\n",
        "pythonCopy code\n",
        "s = \"3.14\"\n",
        "print(float(s))\n",
        "```\n",
        "A. 3\n",
        "*B. 3.14\n",
        "C. \"3.14\"\n",
        "D. 오류\n",
        "\n",
        "4. bool(0)의 반환 값은 무엇입니까?\n",
        "\n",
        "A. True\n",
        "*B. False\n",
        "C. 0\n",
        "D. None\n",
        "\n",
        "5.str() 함수의 주요 용도는 무엇입니까?\n",
        "\n",
        "A. 문자열을 정수로 변환\n",
        "*B. 정수를 문자열로 변환\n",
        "C. 문자열을 실수로 변환\n",
        "D. 실수를 문자열로 변환\n",
        "\n",
        "6. 다음 코드의 출력 결과는 무엇입니까?\n",
        "\n",
        "```python\n",
        "pythonCopy code\n",
        "x = [1, 2, 3]\n",
        "print(set(x))\n",
        "```\n",
        "A. [1, 2, 3]\n",
        "*B. {1, 2, 3}\n",
        "C. (1, 2, 3)\n",
        "D. \"123\"\n",
        "---\n",
        "\n",
        "7.list(\"hello\")의 반환 값은 무엇입니까?\n",
        "\n",
        "A. \"hello\"\n",
        "*B. ['h', 'e', 'l', 'l', 'o']\n",
        "C. ('h', 'e', 'l', 'l', 'o')\n",
        "D. { 'h', 'e', 'l', 'l', 'o' }\n",
        "\n",
        "8. 어떤 값이 False로 평가되는 경우는 무엇입니까?\n",
        "\n",
        "A. \"False\"\n",
        "*B. 0\n",
        "C. 1\n",
        "D. \"0\"\n",
        "\n",
        "9.다음 코드의 출력 결과는 무엇입니까?\n",
        "\n",
        "```python\n",
        "pythonCopy code\n",
        "print(int(3.999))\n",
        "```\n",
        "*A. 3\n",
        "B. 3.999\n",
        "C. 4\n",
        "D. 오류\n",
        "\n",
        "10.어떤 데이터 타입을 **`dict()`**로 형변환 할 수 없습니까?\n",
        "\n",
        "A. 리스트 내에 튜플 쌍\n",
        "B. 튜플 내에 리스트 쌍\n",
        "*C. 단일 문자열\n",
        "D. 리스트 내에 리스트 쌍\n"
      ],
      "metadata": {
        "id": "bcnr00uS4KAP"
      }
    },
    {
      "cell_type": "markdown",
      "source": [
        "# 연산자\n",
        "## 산술연산자, 대입연산자(할당연산자), 비교연산자, 논리연산자, 비트연산자, 멤버연산자, 식별연산자\n",
        "\n",
        "#문제풀어보기\n",
        "##유튜브 위니브\n",
        "##유튜브 제주코딩베이스캠프 https://100.pyalgo.co.kr"
      ],
      "metadata": {
        "id": "wJUUa6QP7eJr"
      }
    },
    {
      "cell_type": "markdown",
      "source": [
        "#산술연산"
      ],
      "metadata": {
        "id": "yaG8oSHj8q0q"
      }
    },
    {
      "cell_type": "code",
      "source": [
        "print( 5 + 3) # 결과: 8\n",
        "print(3 + 2.5) # 결과: 5.5\n",
        "\n",
        "s1 = \"Hello\"\n",
        "s2 = \"World\"\n",
        "result = s1 + \" \" + s2\n",
        "print(result)  # Hello World"
      ],
      "metadata": {
        "colab": {
          "base_uri": "https://localhost:8080/"
        },
        "id": "joI6JWM_1Snw",
        "outputId": "fc329c90-2873-4ad3-8724-69623335a2ca"
      },
      "execution_count": 75,
      "outputs": [
        {
          "output_type": "stream",
          "name": "stdout",
          "text": [
            "8\n",
            "5.5\n",
            "Hello World\n"
          ]
        }
      ]
    },
    {
      "cell_type": "code",
      "source": [
        "list1 = [1, 2, 3]\n",
        "list2 = [4, 5, 6]\n",
        "combined_list = list1 + list2\n",
        "print(combined_list)  # [1, 2, 3, 4, 5, 6]\n",
        "\n",
        "tuple1 = (1, 2, 3)\n",
        "tuple2 = (4, 5, 6)\n",
        "combined_tuple = tuple1 + tuple2\n",
        "print(combined_tuple)  # (1, 2, 3, 4, 5, 6)"
      ],
      "metadata": {
        "colab": {
          "base_uri": "https://localhost:8080/"
        },
        "id": "ORJGdgPK9X0b",
        "outputId": "07fe4d27-3ccd-4826-db95-b278cd9e83eb"
      },
      "execution_count": 76,
      "outputs": [
        {
          "output_type": "stream",
          "name": "stdout",
          "text": [
            "[1, 2, 3, 4, 5, 6]\n",
            "(1, 2, 3, 4, 5, 6)\n"
          ]
        }
      ]
    },
    {
      "cell_type": "code",
      "source": [
        "print({3, 4, 5} - {4}) # 결과: {3, 5}\n",
        "print({3, 4, 5}.difference({4})) # 결과: {3, 5}"
      ],
      "metadata": {
        "colab": {
          "base_uri": "https://localhost:8080/"
        },
        "id": "8CKanH9v9X2_",
        "outputId": "5ddfbd00-ec70-4b4c-afdc-d051e5457289"
      },
      "execution_count": 79,
      "outputs": [
        {
          "output_type": "stream",
          "name": "stdout",
          "text": [
            "{3, 5}\n",
            "{3, 5}\n"
          ]
        }
      ]
    },
    {
      "cell_type": "code",
      "source": [
        "result1 = \"Ha\" * 3\n",
        "print(result1) # 출력: \"HaHaHa\"\n",
        "result2 = [1, 2, 3] * 2\n",
        "print(result2) # 출력: [1, 2, 3, 1, 2, 3]"
      ],
      "metadata": {
        "colab": {
          "base_uri": "https://localhost:8080/"
        },
        "id": "Ed94y6Tw9X7p",
        "outputId": "3217f811-478a-4c69-b6d9-a4cf7a5925db"
      },
      "execution_count": 80,
      "outputs": [
        {
          "output_type": "stream",
          "name": "stdout",
          "text": [
            "HaHaHa\n",
            "[1, 2, 3, 1, 2, 3]\n"
          ]
        }
      ]
    },
    {
      "cell_type": "code",
      "source": [
        "a = -5\n",
        "b = 2\n",
        "print(a / b) # 결과: -2.5   부동소수점으로 나옴\n",
        "print(a // b) # 결과: -3 //는 내림"
      ],
      "metadata": {
        "id": "j_5Tx7lw9X-C"
      },
      "execution_count": null,
      "outputs": []
    },
    {
      "cell_type": "code",
      "source": [
        "z = 0\n",
        "x / z # ZeroDivisionError 발생 : 0으로 나눠진 부분 체크해야함"
      ],
      "metadata": {
        "id": "oYHKxdm99YAa"
      },
      "execution_count": null,
      "outputs": []
    },
    {
      "cell_type": "code",
      "source": [
        "a = 10\n",
        "b = 3\n",
        "divide = a / b    #3.3333333335\n",
        "print(f'{a} ÷ {b} = {divide:.2f}')  # 결과: 10 ÷ 3 = 3.33"
      ],
      "metadata": {
        "colab": {
          "base_uri": "https://localhost:8080/"
        },
        "id": "VDAQLM0H-e1R",
        "outputId": "95715dab-0d6d-49ea-b624-98b3279488e1"
      },
      "execution_count": 81,
      "outputs": [
        {
          "output_type": "stream",
          "name": "stdout",
          "text": [
            "10 ÷ 3 = 3.33\n"
          ]
        }
      ]
    },
    {
      "cell_type": "code",
      "source": [
        "print(10 / 3)\n",
        "print(10 // 3)\n",
        "print(10 % 3)"
      ],
      "metadata": {
        "colab": {
          "base_uri": "https://localhost:8080/"
        },
        "id": "WuVaX9EY-e5o",
        "outputId": "45f20d33-ed2f-424d-dee8-2e28a84c955e"
      },
      "execution_count": 83,
      "outputs": [
        {
          "output_type": "stream",
          "name": "stdout",
          "text": [
            "3.3333333333333335\n",
            "3\n",
            "1\n"
          ]
        }
      ]
    },
    {
      "cell_type": "code",
      "source": [
        "10 % 0 # ZeroDivisionError 발생"
      ],
      "metadata": {
        "id": "d9omKrC9-e9j"
      },
      "execution_count": null,
      "outputs": []
    },
    {
      "cell_type": "code",
      "source": [
        "print(10 ** 3) # 결과: 1000\n",
        "print(-2 ** 2) # -4\n",
        "print((-2) ** 2)  # 4"
      ],
      "metadata": {
        "colab": {
          "base_uri": "https://localhost:8080/"
        },
        "id": "hR9O-_OK-fBA",
        "outputId": "f995454e-9001-41aa-918f-fc984dc25fa0"
      },
      "execution_count": 2,
      "outputs": [
        {
          "output_type": "stream",
          "name": "stdout",
          "text": [
            "1000\n",
            "-4\n",
            "4\n"
          ]
        }
      ]
    },
    {
      "cell_type": "markdown",
      "source": [
        "# 비교연산자"
      ],
      "metadata": {
        "id": "WL8CK1XMCrCa"
      }
    },
    {
      "cell_type": "code",
      "source": [
        "print(5 == 5) # 결과: True 같다"
      ],
      "metadata": {
        "id": "Xq8lHCnU-fX0"
      },
      "execution_count": null,
      "outputs": []
    },
    {
      "cell_type": "code",
      "source": [
        "print(5 != 3) # 결과: True 같지않다"
      ],
      "metadata": {
        "id": "XnY6r4TK-fbA"
      },
      "execution_count": null,
      "outputs": []
    },
    {
      "cell_type": "code",
      "source": [
        "print(3 < 5) # 결과: True"
      ],
      "metadata": {
        "id": "12iROyNCDAsA"
      },
      "execution_count": null,
      "outputs": []
    },
    {
      "cell_type": "code",
      "source": [
        "print(5 <= 5) # 결과: True"
      ],
      "metadata": {
        "id": "osn1CrsyDAus"
      },
      "execution_count": null,
      "outputs": []
    },
    {
      "cell_type": "code",
      "source": [
        "print('apple' < 'banana') # 결과: True"
      ],
      "metadata": {
        "id": "Z5Zg4bGxDAxg"
      },
      "execution_count": null,
      "outputs": []
    },
    {
      "cell_type": "code",
      "source": [
        "print('하하' > '후후') # 결과: False  하는 D558번째에 있으며 후는 D6C4번째"
      ],
      "metadata": {
        "id": "cmvrU-hCDA0G"
      },
      "execution_count": null,
      "outputs": []
    },
    {
      "cell_type": "code",
      "source": [
        "x = 10\n",
        "print(5 < x < 15) # 결과: True"
      ],
      "metadata": {
        "id": "-PBmGsvEDNh9"
      },
      "execution_count": null,
      "outputs": []
    },
    {
      "cell_type": "code",
      "source": [
        "[10, 20, 30] > [20, 30, 40] # False  맨 앞자리/같으면 그 다음 자리로/타입이 다르면 error/자릿수가 다르면 많은쪽으"
      ],
      "metadata": {
        "id": "4XW0eudMDNlL"
      },
      "execution_count": null,
      "outputs": []
    },
    {
      "cell_type": "code",
      "source": [
        "#부동소수점 main.isclose() 결과값이 가까운\n",
        "import math\n",
        "\n",
        "result = 0.1 + 0.2\n",
        "print(result == 0.3)              # False\n",
        "print(math.isclose(result, 0.3))  # True\n",
        "print(math.isclose(result, 0.29)) # False\n",
        "print(math.isclose(result, 0.31)) # False\n",
        "print(math.isclose(result, 0.30000001)) # False"
      ],
      "metadata": {
        "colab": {
          "base_uri": "https://localhost:8080/"
        },
        "id": "H6n6WCsqDNoE",
        "outputId": "62219604-124c-4925-9f0b-20ae3663d7eb"
      },
      "execution_count": 4,
      "outputs": [
        {
          "output_type": "stream",
          "name": "stdout",
          "text": [
            "False\n",
            "True\n",
            "False\n",
            "False\n",
            "False\n"
          ]
        }
      ]
    }
  ]
}