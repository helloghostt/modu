{
  "nbformat": 4,
  "nbformat_minor": 0,
  "metadata": {
    "colab": {
      "provenance": [],
      "authorship_tag": "ABX9TyOB1Wys5BP7QXGLjFPfHFmk",
      "include_colab_link": true
    },
    "kernelspec": {
      "name": "python3",
      "display_name": "Python 3"
    },
    "language_info": {
      "name": "python"
    }
  },
  "cells": [
    {
      "cell_type": "markdown",
      "metadata": {
        "id": "view-in-github",
        "colab_type": "text"
      },
      "source": [
        "<a href=\"https://colab.research.google.com/github/helloghostt/modu/blob/main/20240102_day3_1.ipynb\" target=\"_parent\"><img src=\"https://colab.research.google.com/assets/colab-badge.svg\" alt=\"Open In Colab\"/></a>"
      ]
    },
    {
      "cell_type": "markdown",
      "source": [
        "# 1. Random"
      ],
      "metadata": {
        "id": "h09hCuR_151f"
      }
    },
    {
      "cell_type": "code",
      "execution_count": 1,
      "metadata": {
        "colab": {
          "base_uri": "https://localhost:8080/"
        },
        "id": "swpEC_jL1dQz",
        "outputId": "5dfd2d88-6576-4044-fea4-5755454e9c53"
      },
      "outputs": [
        {
          "output_type": "stream",
          "name": "stdout",
          "text": [
            "5\n"
          ]
        }
      ],
      "source": [
        "#1.1 기본 사용법\n",
        "import random\n",
        "'''\n",
        "0~9까지의 임의의 숫자를 선택하는 코드를 작성\n",
        "파이썬의 숫자의 시작은 무조건 **0**부터\n",
        "10으로 입력하면 -1 즉, 9까지\n",
        "'''\n",
        "num = random.randrange(10)\n",
        "print(num)"
      ]
    },
    {
      "cell_type": "code",
      "source": [
        "#1.2 시작값과 끝값을 지정\n",
        "num_2 = random.randrange(10,20)\n",
        "print(num_2)"
      ],
      "metadata": {
        "colab": {
          "base_uri": "https://localhost:8080/"
        },
        "id": "ZQwJEuM62I-w",
        "outputId": "82ebeed4-7c12-49ba-e267-6a1661e7233e"
      },
      "execution_count": 3,
      "outputs": [
        {
          "output_type": "stream",
          "name": "stdout",
          "text": [
            "12\n"
          ]
        }
      ]
    },
    {
      "cell_type": "code",
      "source": [
        "#1.3 간격 설정\n",
        "#10부터 100까지 숫자 중에서 10의 간격으로 무작위 선택\n",
        "num10_100 = random.randrange(10,101,10)#처음, 끝, 간격\n",
        "print(num10_100)"
      ],
      "metadata": {
        "colab": {
          "base_uri": "https://localhost:8080/"
        },
        "id": "L1MWHBZS212o",
        "outputId": "53f9d18e-3acd-48aa-badf-ba8488731d9e"
      },
      "execution_count": 4,
      "outputs": [
        {
          "output_type": "stream",
          "name": "stdout",
          "text": [
            "60\n"
          ]
        }
      ]
    },
    {
      "cell_type": "markdown",
      "source": [
        "#2. choice"
      ],
      "metadata": {
        "id": "HGpcnc128kfn"
      }
    },
    {
      "cell_type": "code",
      "source": [
        "#1choice기본 사용법\n",
        "#chosen_element = random.choice(sequence)\n",
        "#리스트에서 무작위 과일선택\n",
        "# 다양한 정보를 한번에 받아오는것 = 리스트\n",
        "elements = ['사과', '바나나', '체리']"
      ],
      "metadata": {
        "id": "6P_sVmDR8trc"
      },
      "execution_count": 8,
      "outputs": []
    },
    {
      "cell_type": "code",
      "source": [
        "chosen_element = random.choice(elements)\n",
        "print(f\"제가 선택한 과일은: {chosen_element}\")"
      ],
      "metadata": {
        "colab": {
          "base_uri": "https://localhost:8080/"
        },
        "id": "yMtLJIHu8USb",
        "outputId": "d155c758-d7ef-4064-95df-e6ffb1ad4371"
      },
      "execution_count": 12,
      "outputs": [
        {
          "output_type": "stream",
          "name": "stdout",
          "text": [
            "제가 선택한 과일은: 바나나\n"
          ]
        }
      ]
    },
    {
      "cell_type": "code",
      "source": [
        "#2. 문자열에서 무작위 문자 선택\n",
        "greeting = \"안녕하세요\"\n",
        "choice_char = random.choice(greeting)\n",
        "print(f\"제가 선택한 문자는: {choice_char}\")"
      ],
      "metadata": {
        "colab": {
          "base_uri": "https://localhost:8080/"
        },
        "id": "xQ0D1TRi8UmL",
        "outputId": "c6d37b13-6fec-4dd5-8826-58346a04f2a7"
      },
      "execution_count": 13,
      "outputs": [
        {
          "output_type": "stream",
          "name": "stdout",
          "text": [
            "제가 선택한 문자는: 녕\n"
          ]
        }
      ]
    },
    {
      "cell_type": "code",
      "source": [
        "#기본 - input output -> 문자열을 받아서 문자열 출력!\n",
        "#random - 무작위의 숫자 또는 문자를 받아와서 출력!"
      ],
      "metadata": {
        "id": "dMAHhGTI8Uon"
      },
      "execution_count": null,
      "outputs": []
    },
    {
      "cell_type": "code",
      "source": [
        "#문자형->숫자형int\n",
        "test1 =int(input(\"임의의 숫자를 입력하세요 : \"))\n",
        "type(test1)\n",
        "print(test1+test1)"
      ],
      "metadata": {
        "colab": {
          "base_uri": "https://localhost:8080/"
        },
        "id": "ogDyzDCd8UrJ",
        "outputId": "637cb850-d689-4ab5-a7ed-83bf7aae5c67"
      },
      "execution_count": 21,
      "outputs": [
        {
          "output_type": "stream",
          "name": "stdout",
          "text": [
            "임의의 숫자를 입력하세요 : 10\n",
            "20\n"
          ]
        }
      ]
    },
    {
      "cell_type": "code",
      "source": [
        "#이 코드는 random 라이브러리르 사용한 예시입니다\n",
        "\n",
        "import random  #random 라이브러리를 가지고 옵니다.\n",
        "\n",
        "\n",
        "random_number1 = random.randint(1, 10)  # 1~9 임의의 숫자\n",
        "random_number2 = random.randint(1, 10)  # 1~9 임의의 숫자\n",
        "\n",
        "# 생성된 두 숫자의 합 계산\n",
        "sum_of_numbers = random_number1 + random_number2\n",
        "\n",
        "# 결과 출력\n",
        "print(f\"첫 번째 생성된 숫자: {random_number1}\")\n",
        "print(f\"두 번째 생성된 숫자: {random_number2}\")\n",
        "print(f\"두 숫자의 합: {sum_of_numbers}\")"
      ],
      "metadata": {
        "colab": {
          "base_uri": "https://localhost:8080/"
        },
        "id": "JwCRbgZb-2ho",
        "outputId": "23134d84-b696-4cfc-b7ca-e02f29871460"
      },
      "execution_count": 15,
      "outputs": [
        {
          "output_type": "stream",
          "name": "stdout",
          "text": [
            "첫 번째 생성된 숫자: 3\n",
            "두 번째 생성된 숫자: 3\n",
            "두 숫자의 합: 6\n"
          ]
        }
      ]
    },
    {
      "cell_type": "code",
      "source": [
        "import random\n",
        "dice1 = random.randint(1,6)\n",
        "dice2 = random.randint(1,6)\n",
        "\n",
        "total = dice1 + dice2\n",
        "\n",
        "print(f\"주사위 결과: {dice1} + {dice2} = {total}\")"
      ],
      "metadata": {
        "colab": {
          "base_uri": "https://localhost:8080/"
        },
        "id": "1BLjDw_a-2kc",
        "outputId": "e816826c-795c-4f10-aacb-baacc22c77bb"
      },
      "execution_count": 20,
      "outputs": [
        {
          "output_type": "stream",
          "name": "stdout",
          "text": [
            "주사위 결과: 3 + 4 = 7\n"
          ]
        }
      ]
    },
    {
      "cell_type": "code",
      "source": [],
      "metadata": {
        "id": "6YLPLRQR-2m5"
      },
      "execution_count": null,
      "outputs": []
    },
    {
      "cell_type": "code",
      "source": [],
      "metadata": {
        "id": "esCGVPEY-2pT"
      },
      "execution_count": null,
      "outputs": []
    }
  ]
}