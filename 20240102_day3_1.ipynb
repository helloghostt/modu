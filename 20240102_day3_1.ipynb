{
  "nbformat": 4,
  "nbformat_minor": 0,
  "metadata": {
    "colab": {
      "provenance": [],
      "authorship_tag": "ABX9TyN/zOnvqIAgxIE2hhXthRzm",
      "include_colab_link": true
    },
    "kernelspec": {
      "name": "python3",
      "display_name": "Python 3"
    },
    "language_info": {
      "name": "python"
    }
  },
  "cells": [
    {
      "cell_type": "markdown",
      "metadata": {
        "id": "view-in-github",
        "colab_type": "text"
      },
      "source": [
        "<a href=\"https://colab.research.google.com/github/helloghostt/modu/blob/main/20240102_day3_1.ipynb\" target=\"_parent\"><img src=\"https://colab.research.google.com/assets/colab-badge.svg\" alt=\"Open In Colab\"/></a>"
      ]
    },
    {
      "cell_type": "markdown",
      "source": [
        "# 1. Random"
      ],
      "metadata": {
        "id": "h09hCuR_151f"
      }
    },
    {
      "cell_type": "code",
      "execution_count": 1,
      "metadata": {
        "colab": {
          "base_uri": "https://localhost:8080/"
        },
        "id": "swpEC_jL1dQz",
        "outputId": "5dfd2d88-6576-4044-fea4-5755454e9c53"
      },
      "outputs": [
        {
          "output_type": "stream",
          "name": "stdout",
          "text": [
            "5\n"
          ]
        }
      ],
      "source": [
        "#1.1 기본 사용법\n",
        "import random\n",
        "'''\n",
        "0~9까지의 임의의 숫자를 선택하는 코드를 작성\n",
        "파이썬의 숫자의 시작은 무조건 **0**부터\n",
        "10으로 입력하면 -1 즉, 9까지\n",
        "'''\n",
        "num = random.randrange(10)\n",
        "print(num)"
      ]
    },
    {
      "cell_type": "code",
      "source": [
        "#1.2 시작값과 끝값을 지정\n",
        "num_2 = random.randrange(10,20)\n",
        "print(num_2)"
      ],
      "metadata": {
        "colab": {
          "base_uri": "https://localhost:8080/"
        },
        "id": "ZQwJEuM62I-w",
        "outputId": "82ebeed4-7c12-49ba-e267-6a1661e7233e"
      },
      "execution_count": 3,
      "outputs": [
        {
          "output_type": "stream",
          "name": "stdout",
          "text": [
            "12\n"
          ]
        }
      ]
    },
    {
      "cell_type": "code",
      "source": [
        "#1.3 간격 설정\n",
        "#10부터 100까지 숫자 중에서 10의 간격으로 무작위 선택\n",
        "num10_100 = random.randrange(10,101,10)#처음, 끝, 간격\n",
        "print(num10_100)"
      ],
      "metadata": {
        "colab": {
          "base_uri": "https://localhost:8080/"
        },
        "id": "L1MWHBZS212o",
        "outputId": "53f9d18e-3acd-48aa-badf-ba8488731d9e"
      },
      "execution_count": 4,
      "outputs": [
        {
          "output_type": "stream",
          "name": "stdout",
          "text": [
            "60\n"
          ]
        }
      ]
    },
    {
      "cell_type": "markdown",
      "source": [
        "#2. choice"
      ],
      "metadata": {
        "id": "HGpcnc128kfn"
      }
    },
    {
      "cell_type": "code",
      "source": [
        "#1choice기본 사용법\n",
        "#chosen_element = random.choice(sequence)\n",
        "#리스트에서 무작위 과일선택\n",
        "# 다양한 정보를 한번에 받아오는것 = 리스트\n",
        "elements = ['사과', '바나나', '체리']"
      ],
      "metadata": {
        "id": "6P_sVmDR8trc"
      },
      "execution_count": 8,
      "outputs": []
    },
    {
      "cell_type": "code",
      "source": [
        "chosen_element = random.choice(elements)\n",
        "print(f\"제가 선택한 과일은: {chosen_element}\")"
      ],
      "metadata": {
        "colab": {
          "base_uri": "https://localhost:8080/"
        },
        "id": "yMtLJIHu8USb",
        "outputId": "d155c758-d7ef-4064-95df-e6ffb1ad4371"
      },
      "execution_count": 12,
      "outputs": [
        {
          "output_type": "stream",
          "name": "stdout",
          "text": [
            "제가 선택한 과일은: 바나나\n"
          ]
        }
      ]
    },
    {
      "cell_type": "code",
      "source": [
        "#2. 문자열에서 무작위 문자 선택\n",
        "greeting = \"안녕하세요\"\n",
        "choice_char = random.choice(greeting)\n",
        "print(f\"제가 선택한 문자는: {choice_char}\")"
      ],
      "metadata": {
        "colab": {
          "base_uri": "https://localhost:8080/"
        },
        "id": "xQ0D1TRi8UmL",
        "outputId": "c6d37b13-6fec-4dd5-8826-58346a04f2a7"
      },
      "execution_count": 13,
      "outputs": [
        {
          "output_type": "stream",
          "name": "stdout",
          "text": [
            "제가 선택한 문자는: 녕\n"
          ]
        }
      ]
    },
    {
      "cell_type": "code",
      "source": [
        "#기본 - input output -> 문자열을 받아서 문자열 출력!\n",
        "#random - 무작위의 숫자 또는 문자를 받아와서 출력!"
      ],
      "metadata": {
        "id": "dMAHhGTI8Uon"
      },
      "execution_count": null,
      "outputs": []
    },
    {
      "cell_type": "code",
      "source": [
        "#문자형->숫자형int\n",
        "test1 =int(input(\"임의의 숫자를 입력하세요 : \"))\n",
        "type(test1)\n",
        "print(test1+test1)"
      ],
      "metadata": {
        "colab": {
          "base_uri": "https://localhost:8080/"
        },
        "id": "ogDyzDCd8UrJ",
        "outputId": "637cb850-d689-4ab5-a7ed-83bf7aae5c67"
      },
      "execution_count": 21,
      "outputs": [
        {
          "output_type": "stream",
          "name": "stdout",
          "text": [
            "임의의 숫자를 입력하세요 : 10\n",
            "20\n"
          ]
        }
      ]
    },
    {
      "cell_type": "code",
      "source": [
        "#이 코드는 random 라이브러리르 사용한 예시입니다\n",
        "\n",
        "import random  #random 라이브러리를 가지고 옵니다.\n",
        "\n",
        "\n",
        "random_number1 = random.randint(1, 10)  # 1~9 임의의 숫자\n",
        "random_number2 = random.randint(1, 10)  # 1~9 임의의 숫자\n",
        "\n",
        "# 생성된 두 숫자의 합 계산\n",
        "sum_of_numbers = random_number1 + random_number2\n",
        "\n",
        "# 결과 출력\n",
        "print(f\"첫 번째 생성된 숫자: {random_number1}\")\n",
        "print(f\"두 번째 생성된 숫자: {random_number2}\")\n",
        "print(f\"두 숫자의 합: {sum_of_numbers}\")"
      ],
      "metadata": {
        "colab": {
          "base_uri": "https://localhost:8080/"
        },
        "id": "JwCRbgZb-2ho",
        "outputId": "23134d84-b696-4cfc-b7ca-e02f29871460"
      },
      "execution_count": 15,
      "outputs": [
        {
          "output_type": "stream",
          "name": "stdout",
          "text": [
            "첫 번째 생성된 숫자: 3\n",
            "두 번째 생성된 숫자: 3\n",
            "두 숫자의 합: 6\n"
          ]
        }
      ]
    },
    {
      "cell_type": "code",
      "source": [
        "#모두의 마블 주사위 굴리기\n",
        "\n",
        "import random\n",
        "\n",
        "dice1 = random.randint(1,6)\n",
        "dice2 = random.randint(1,6)\n",
        "\n",
        "total = dice1 + dice2\n",
        "#주사위 2개의 결과\n",
        "print(f\"주사위 결과: {dice1} + {dice2} = {total}\")"
      ],
      "metadata": {
        "colab": {
          "base_uri": "https://localhost:8080/"
        },
        "id": "1BLjDw_a-2kc",
        "outputId": "e816826c-795c-4f10-aacb-baacc22c77bb"
      },
      "execution_count": 20,
      "outputs": [
        {
          "output_type": "stream",
          "name": "stdout",
          "text": [
            "주사위 결과: 3 + 4 = 7\n"
          ]
        }
      ]
    },
    {
      "cell_type": "code",
      "source": [
        "#윷놀이 프로그래밍\n",
        "\n",
        "'''\n",
        "1. 윷은 앞or뒤 선택, 확률은 1/2로\n",
        "2. 도개걸윷모\n",
        "3. 최종은 하나만 선택되어야함\n",
        "\n",
        "'''\n",
        "import random\n",
        "\n",
        "throw1 = random.choice([0, 1])\n",
        "throw2 = random.choice([0, 1])\n",
        "throw3 = random.choice([0, 1])\n",
        "throw4 = random.choice([0, 1])\n",
        "\n",
        "total_back = throw1 + throw2 + throw3 + throw4\n",
        "results = ['모', '도', '개', '걸', '윷'] # list는 sequence 자료형이므로 순서있음 0,1,2,3,4 순서\n",
        "print(\"윷놀이 결과는 : \", end = \" \" )\n",
        "print(results[total_back])"
      ],
      "metadata": {
        "colab": {
          "base_uri": "https://localhost:8080/"
        },
        "id": "6YLPLRQR-2m5",
        "outputId": "cf64b2dc-44cd-4c5c-85ed-356d67e04d75"
      },
      "execution_count": 31,
      "outputs": [
        {
          "output_type": "stream",
          "name": "stdout",
          "text": [
            "윷놀이 결과는 :  도\n"
          ]
        }
      ]
    },
    {
      "cell_type": "markdown",
      "source": [
        "# 변수"
      ],
      "metadata": {
        "id": "l0paIkZkPaK3"
      }
    },
    {
      "cell_type": "code",
      "source": [
        "x = 10\n",
        "y = x\n",
        "z = y\n",
        "x = 20  # x는 변한값으로\n",
        "print(x, y, z)"
      ],
      "metadata": {
        "colab": {
          "base_uri": "https://localhost:8080/"
        },
        "id": "esCGVPEY-2pT",
        "outputId": "1fcf216a-1fa6-4299-92a7-e7a35dd7893c"
      },
      "execution_count": 33,
      "outputs": [
        {
          "output_type": "stream",
          "name": "stdout",
          "text": [
            "20 10 10\n"
          ]
        }
      ]
    },
    {
      "cell_type": "code",
      "source": [
        "#1. 변수의 속성 확인\n",
        "x = \"10\"\n",
        "print(type(x))\n",
        "\n",
        "x= \"Jun\"\n",
        "print(type(x))"
      ],
      "metadata": {
        "colab": {
          "base_uri": "https://localhost:8080/"
        },
        "id": "SqX6QYT7lmR1",
        "outputId": "9dd67777-278a-453a-e124-fd20d9345023"
      },
      "execution_count": 35,
      "outputs": [
        {
          "output_type": "stream",
          "name": "stdout",
          "text": [
            "<class 'str'>\n",
            "<class 'str'>\n"
          ]
        }
      ]
    },
    {
      "cell_type": "code",
      "source": [
        "#값 변경\n",
        "x = 10\n",
        "print(x)\n",
        "x=20\n",
        "print(x)"
      ],
      "metadata": {
        "colab": {
          "base_uri": "https://localhost:8080/"
        },
        "id": "445H8hmHpJiI",
        "outputId": "c611c7d1-ee02-4a11-cea3-7cc86eac0c0b"
      },
      "execution_count": 40,
      "outputs": [
        {
          "output_type": "stream",
          "name": "stdout",
          "text": [
            "10\n",
            "20\n"
          ]
        }
      ]
    },
    {
      "cell_type": "code",
      "source": [
        "# 변수삭제\n",
        "x = \"10\"\n",
        "print(x)\n",
        "\n",
        "del x\n",
        "print(x)"
      ],
      "metadata": {
        "id": "v_qAEljHlmeZ"
      },
      "execution_count": null,
      "outputs": []
    },
    {
      "cell_type": "markdown",
      "source": [
        "*   숫자형 - int(진법 포함),float, complex\n",
        "*   논리자료형 - bool\n",
        "*   시퀀스 - str,list, tuple\n",
        "*   컬렉션, 컨테이너 - list ,tuple(변경불가능, 주민번호등),dict,set / 순서가 없음\n",
        "*   None"
      ],
      "metadata": {
        "id": "NFJZ9AOTp1Sq"
      }
    },
    {
      "cell_type": "markdown",
      "source": [
        "1.Python에서 변수 생성의 올바른 예는 무엇인가요?\n",
        "1) 1name = \"Jun\"\n",
        "*2) name1 = \"Jun\"\n",
        "3) user-name = \"Jun\"\n",
        "4) if = \"Jun\"\n",
        "\n",
        "2.아래 코드 실행 후, print(y, z)의 결과는 무엇일까요?\n",
        "x = 10\n",
        "y = x\n",
        "z = y\n",
        "x = 20\n",
        "1) 20, 20\n",
        "2) 10, 20\n",
        "3) 20, 10\n",
        "*4) 10, 10\n",
        "\n",
        "3.Python에서 x = 10 이후 type(x)의 결과는 무엇일까요?\n",
        "a) <class 'float'>\n",
        "*b) <class 'int'>\n",
        "c) <class 'str'>\n",
        "d) <class 'bool'>\n",
        "\n",
        "4.Python에서 변수를 삭제할 때 사용하는 키워드는 무엇인가요?\n",
        "a) remove\n",
        "b) delete\n",
        "*c) del\n",
        "d) clear\n",
        "\n",
        "5.Python의 어떤 자료형은 변경 불가능한가요?\n",
        "a) list\n",
        "b) dict\n",
        "*c) tuple\n",
        "d) set\n",
        "\n",
        "6.Python에서 어떤 자료형은 숫자형에 속하지 않나요?\n",
        "a) int\n",
        "b) float\n",
        "c) complex\n",
        "*d) bool\n"
      ],
      "metadata": {
        "id": "SCSy9bi-r_99"
      }
    },
    {
      "cell_type": "code",
      "source": [
        "'''\n",
        "진수\n",
        "2진수 - 0b\n",
        "8진수 - 0o\n",
        "16진수 - 0x\n",
        "'''\n",
        "#진수변\n",
        "b = int('0b11010', 2)\n",
        "o = int('0o32', 8)\n",
        "h = int('0x1a', 16)\n",
        "print(b, o, h)"
      ],
      "metadata": {
        "colab": {
          "base_uri": "https://localhost:8080/"
        },
        "id": "0Aq_wQctp1v_",
        "outputId": "f78ca485-49d1-49a5-ea28-3daec4e8fb37"
      },
      "execution_count": 41,
      "outputs": [
        {
          "output_type": "stream",
          "name": "stdout",
          "text": [
            "26 26 26\n"
          ]
        }
      ]
    },
    {
      "cell_type": "code",
      "source": [
        "#메서드(자료형이 할수 있는 일)\n",
        "'hello'.upper() #대문자로 바꾸는"
      ],
      "metadata": {
        "colab": {
          "base_uri": "https://localhost:8080/",
          "height": 35
        },
        "id": "_O46uraxyhYx",
        "outputId": "4eeab3e3-23a8-4bec-dd5d-7ca56f09f689"
      },
      "execution_count": 42,
      "outputs": [
        {
          "output_type": "execute_result",
          "data": {
            "text/plain": [
              "'HELLO'"
            ],
            "application/vnd.google.colaboratory.intrinsic+json": {
              "type": "string"
            }
          },
          "metadata": {},
          "execution_count": 42
        }
      ]
    },
    {
      "cell_type": "code",
      "source": [
        "x = 5\n",
        "print(dir(5))   #언더스코어 2개가 붙은것이 메직 메서드"
      ],
      "metadata": {
        "colab": {
          "base_uri": "https://localhost:8080/"
        },
        "id": "ENfew9YWp15F",
        "outputId": "ceb3e595-5597-4560-c11a-ca5b070ef2e5"
      },
      "execution_count": 43,
      "outputs": [
        {
          "output_type": "stream",
          "name": "stdout",
          "text": [
            "['__abs__', '__add__', '__and__', '__bool__', '__ceil__', '__class__', '__delattr__', '__dir__', '__divmod__', '__doc__', '__eq__', '__float__', '__floor__', '__floordiv__', '__format__', '__ge__', '__getattribute__', '__getnewargs__', '__gt__', '__hash__', '__index__', '__init__', '__init_subclass__', '__int__', '__invert__', '__le__', '__lshift__', '__lt__', '__mod__', '__mul__', '__ne__', '__neg__', '__new__', '__or__', '__pos__', '__pow__', '__radd__', '__rand__', '__rdivmod__', '__reduce__', '__reduce_ex__', '__repr__', '__rfloordiv__', '__rlshift__', '__rmod__', '__rmul__', '__ror__', '__round__', '__rpow__', '__rrshift__', '__rshift__', '__rsub__', '__rtruediv__', '__rxor__', '__setattr__', '__sizeof__', '__str__', '__sub__', '__subclasshook__', '__truediv__', '__trunc__', '__xor__', 'as_integer_ratio', 'bit_count', 'bit_length', 'conjugate', 'denominator', 'from_bytes', 'imag', 'numerator', 'real', 'to_bytes']\n"
          ]
        }
      ]
    },
    {
      "cell_type": "code",
      "source": [
        "x = 5\n",
        "x.bit_count()"
      ],
      "metadata": {
        "colab": {
          "base_uri": "https://localhost:8080/"
        },
        "id": "naFzcVIpp19w",
        "outputId": "f054b858-4d36-4952-e3e5-a17b332bcff8"
      },
      "execution_count": 44,
      "outputs": [
        {
          "output_type": "execute_result",
          "data": {
            "text/plain": [
              "2"
            ]
          },
          "metadata": {},
          "execution_count": 44
        }
      ]
    },
    {
      "cell_type": "code",
      "source": [
        "# -5 ~ 256\n",
        "\n",
        "x=257\n",
        "y=257\n",
        "print(x,y)\n",
        "print(id(x), id(y)) #\n",
        "print(x == y)\n",
        "print(x is y) #범위를 벗어나서false"
      ],
      "metadata": {
        "colab": {
          "base_uri": "https://localhost:8080/"
        },
        "id": "y25Lvjl0p2BF",
        "outputId": "2f03c170-5705-46a4-b06a-7fa1f407e49c"
      },
      "execution_count": 46,
      "outputs": [
        {
          "output_type": "stream",
          "name": "stdout",
          "text": [
            "257 257\n",
            "138784952935120 138784952932432\n",
            "True\n",
            "False\n"
          ]
        }
      ]
    },
    {
      "cell_type": "markdown",
      "source": [
        "1.Python에서 정수 타입의 변수는 어떻게 표현되나요?\n",
        "a) x = 10.0\n",
        "*b) x = \"10\"\n",
        "c) x = 10\n",
        "d) x = [10]\n",
        "\n",
        "2.Python에서 정수 5와 5가 다음과 같이 선언될 때, 두 변수의 id() 값은 어떻게 될까요?\n",
        "x = 5\n",
        "y = 5\n",
        "a) 항상 다릅니다.\n",
        "*b) 항상 같습니다.\n",
        "c) x가 먼저 선언되었기 때문에 다릅니다.\n",
        "d) y가 나중에 선언되었기 때문에 다릅니다.\n",
        "\n",
        "3.Python에서 정수형 변수를 선언하는 올바른 방법은 무엇인가요?\n",
        "a) int x = 5;\n",
        "b) x := 5\n",
        "*c) x = 5\n",
        "*d) x = int(5) <-맞지만 불필요"
      ],
      "metadata": {
        "id": "l91mmsGk1RYl"
      }
    },
    {
      "cell_type": "code",
      "source": [
        "#실수\n",
        "#양의 무한대\n",
        "x = float(\"inf\") #x_inf = float(\"inf\")\n",
        "print(x)         #print(x_inf)"
      ],
      "metadata": {
        "colab": {
          "base_uri": "https://localhost:8080/"
        },
        "id": "-gb93z_u1RHd",
        "outputId": "63721110-e156-40a6-bcac-32ab435731ec"
      },
      "execution_count": 48,
      "outputs": [
        {
          "output_type": "stream",
          "name": "stdout",
          "text": [
            "inf\n"
          ]
        }
      ]
    },
    {
      "cell_type": "code",
      "source": [
        "#부동소수점의 문제\n",
        "x_test = 10.1\n",
        "y_test = 10.2\n",
        "print(x_test+y_test)\n",
        "\n",
        "#해결하기\n",
        "import decimal\n",
        "\n",
        "float(decimal.Decimal('.1') + decimal.Decimal('.2'))"
      ],
      "metadata": {
        "colab": {
          "base_uri": "https://localhost:8080/"
        },
        "id": "eh4VPlLglmns",
        "outputId": "de1a5dca-2e8b-46f5-fbff-8f20c8b125f7"
      },
      "execution_count": 52,
      "outputs": [
        {
          "output_type": "stream",
          "name": "stdout",
          "text": [
            "20.299999999999997\n"
          ]
        },
        {
          "output_type": "execute_result",
          "data": {
            "text/plain": [
              "0.3"
            ]
          },
          "metadata": {},
          "execution_count": 52
        }
      ]
    },
    {
      "cell_type": "code",
      "source": [
        "#제곱형태\n",
        "print(2e3) #float형\n",
        "print(2E3)\n",
        "print(2 * (10 ** 3))  #int형"
      ],
      "metadata": {
        "colab": {
          "base_uri": "https://localhost:8080/"
        },
        "id": "EE-yi2JQ5XbG",
        "outputId": "f4ef701c-9061-4c44-b959-c9dd096892f4"
      },
      "execution_count": 53,
      "outputs": [
        {
          "output_type": "stream",
          "name": "stdout",
          "text": [
            "2000.0\n",
            "2000.0\n",
            "2000\n"
          ]
        }
      ]
    },
    {
      "cell_type": "code",
      "source": [
        "#복소수 출력\n",
        "x1 = 3 + 4j\n",
        "x2 = complex(3, 4)\n",
        "print(x1,x2)"
      ],
      "metadata": {
        "colab": {
          "base_uri": "https://localhost:8080/"
        },
        "id": "m4KhS6yM5yw6",
        "outputId": "7d317504-851f-4279-885e-e307c6d88b30"
      },
      "execution_count": 58,
      "outputs": [
        {
          "output_type": "stream",
          "name": "stdout",
          "text": [
            "(3+4j) (3+4j)\n"
          ]
        }
      ]
    },
    {
      "cell_type": "code",
      "source": [
        "x3 = 3 + 4j\n",
        "print(x3.imag)\n"
      ],
      "metadata": {
        "colab": {
          "base_uri": "https://localhost:8080/"
        },
        "id": "iAoi8hfy5X3S",
        "outputId": "dd66d25d-dc88-4053-935c-5059f233a8ab"
      },
      "execution_count": 61,
      "outputs": [
        {
          "output_type": "stream",
          "name": "stdout",
          "text": [
            "4.0\n"
          ]
        }
      ]
    },
    {
      "cell_type": "markdown",
      "source": [
        "1.다음 연산의 결과는 무엇일까요?\n",
        "x = 9.9\n",
        "y = 20.1\n",
        "result = x + y\n",
        "\n",
        "a) 30\n",
        "b) 30.0\n",
        "c) '30.0'\n",
        "d) '30'\n",
        "\n",
        "2.파이썬에서 float('inf')는 무엇을 나타내나요?\n",
        "a) 음의 무한대\n",
        "b) 양의 무한대\n",
        "c) 0\n",
        "d) 오류\n",
        "\n",
        "3.Python에서 복소수를 표현하는 올바른 방법은 무엇인가요?\n",
        "a) x = 3 + 4i\n",
        "*b) x = complex(3, 4)\n",
        "c) x = 3.0 + 4.0\n",
        "d) x = \"3 + 4j\"\n",
        "\n",
        "4.복소수 3 + 4j의 실수 부분을 반환하는 코드는 무엇인가요?\n",
        "a) (3 + 4j).real()\n",
        "b) real(3 + 4j)\n",
        "*c) (3 + 4j).real\n",
        "d) 3 + 4j.real\n"
      ],
      "metadata": {
        "id": "UXBQY-4Y7BGl"
      }
    },
    {
      "cell_type": "code",
      "source": [
        "###파이썬 100제 문제로 복습하기\n",
        "#9.\n",
        "year = '2019'\n",
        "month = '04'\n",
        "day = '26'\n",
        "hour = '11'\n",
        "minute = '34'\n",
        "second = '27'\n",
        "\n",
        "print(year, month, day, )\n",
        "print(hour, minute, second, )"
      ],
      "metadata": {
        "colab": {
          "base_uri": "https://localhost:8080/"
        },
        "id": "vV1zJ3tF9xMa",
        "outputId": "840ed291-a49f-4e9f-a3f7-f6e19c945587"
      },
      "execution_count": 62,
      "outputs": [
        {
          "output_type": "stream",
          "name": "stdout",
          "text": [
            "2019 04 26\n",
            "11 34 27\n"
          ]
        }
      ]
    },
    {
      "cell_type": "code",
      "source": [
        "#15.안녕하세요. 저는 김다정입니다.출력하기\n",
        "name = input (\"이름을 입력하세요 :\" )\n",
        "print(f\"안녕하세요. 저는 {name} 입니다.\")"
      ],
      "metadata": {
        "colab": {
          "base_uri": "https://localhost:8080/"
        },
        "id": "Jo5uVnoL9xDD",
        "outputId": "583e58e3-b281-4083-9fdc-eb33894b22a5"
      },
      "execution_count": 63,
      "outputs": [
        {
          "output_type": "stream",
          "name": "stdout",
          "text": [
            "이름을 입력하세요 :김다정\n",
            "안녕하세요. 저는 김다정 입니다.\n"
          ]
        }
      ]
    },
    {
      "cell_type": "code",
      "source": [
        "n = input()\n",
        "print('안녕하세요. 저는 {}입니다.'.format(n))"
      ],
      "metadata": {
        "colab": {
          "base_uri": "https://localhost:8080/"
        },
        "id": "QMfZ404UGXR3",
        "outputId": "70526157-d23b-471f-8176-ed4de0d78ade"
      },
      "execution_count": 66,
      "outputs": [
        {
          "output_type": "stream",
          "name": "stdout",
          "text": [
            "김다정\n",
            "안녕하세요. 저는 김다정입니다.\n"
          ]
        }
      ]
    },
    {
      "cell_type": "code",
      "source": [
        "#23.\n",
        "print(10/2)"
      ],
      "metadata": {
        "colab": {
          "base_uri": "https://localhost:8080/"
        },
        "id": "dfmf0QDW9w4h",
        "outputId": "a91937f7-ccb8-4646-dccd-5a60365a795d"
      },
      "execution_count": 68,
      "outputs": [
        {
          "output_type": "stream",
          "name": "stdout",
          "text": [
            "5.0\n"
          ]
        }
      ]
    },
    {
      "cell_type": "code",
      "source": [
        "#39.\n",
        "'''\n",
        "입력 : querty\n",
        "출력 : euerty\n",
        "\n",
        "입력 : hqllo my bamq is hyqwob\n",
        "출력 : hello my bame is hyewob\n",
        "'''\n",
        "data = input()\n",
        "\n",
        "print(data.replace('q', 'e').replace('b', 'n'))"
      ],
      "metadata": {
        "colab": {
          "base_uri": "https://localhost:8080/"
        },
        "id": "LqCT-Zm3-Dew",
        "outputId": "0fe54737-652b-444c-8876-2686f063e158"
      },
      "execution_count": 71,
      "outputs": [
        {
          "output_type": "stream",
          "name": "stdout",
          "text": [
            "querty\n",
            "euerty\n"
          ]
        }
      ]
    },
    {
      "cell_type": "markdown",
      "source": [
        "9번 -틀림\n",
        "15번 - 맞음\n",
        "23번 - 맞음"
      ],
      "metadata": {
        "id": "zGWwNibfGIZg"
      }
    }
  ]
}