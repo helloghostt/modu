{
  "nbformat": 4,
  "nbformat_minor": 0,
  "metadata": {
    "colab": {
      "provenance": [],
      "authorship_tag": "ABX9TyOdloRFaEyWmq2BW86GPI96",
      "include_colab_link": true
    },
    "kernelspec": {
      "name": "python3",
      "display_name": "Python 3"
    },
    "language_info": {
      "name": "python"
    }
  },
  "cells": [
    {
      "cell_type": "markdown",
      "metadata": {
        "id": "view-in-github",
        "colab_type": "text"
      },
      "source": [
        "<a href=\"https://colab.research.google.com/github/helloghostt/modu/blob/main/20240105_day6.ipynb\" target=\"_parent\"><img src=\"https://colab.research.google.com/assets/colab-badge.svg\" alt=\"Open In Colab\"/></a>"
      ]
    },
    {
      "cell_type": "code",
      "source": [
        "a = 10\n",
        "b = a\n",
        "c = b\n",
        "print(c) # 10\n",
        "\n",
        "a = 10\n",
        "b = a\n",
        "c = b\n",
        "a = 20\n",
        "print(c) #10    10<-a<-b<-c가 아니라는것 기억\n",
        "\n",
        "a = 10\n",
        "b = a\n",
        "\n",
        "print(id(a))\n",
        "print(id(b))"
      ],
      "metadata": {
        "id": "DtBO6Ln-Strf"
      },
      "execution_count": null,
      "outputs": []
    },
    {
      "cell_type": "code",
      "source": [
        "# -5부터 256은 같습니다.\n",
        "a=10\n",
        "b=10\n",
        "print(id(a))\n",
        "print(id(b)) #같음\n",
        "print(a is b)\n",
        "\n",
        "a = 257\n",
        "b = 257\n",
        "print(id(a))\n",
        "print(id(b))\n",
        "print(a is b)"
      ],
      "metadata": {
        "id": "chcT-kOjTnlR"
      },
      "execution_count": null,
      "outputs": []
    },
    {
      "cell_type": "code",
      "source": [
        "#부동소수점\n",
        "0.1+0.2 #2진수로 표현했을 때 무한소수라서"
      ],
      "metadata": {
        "colab": {
          "base_uri": "https://localhost:8080/"
        },
        "id": "3TqdvUrbIj2k",
        "outputId": "b1129b1b-febb-4028-e9b3-f1f94fba8fc4"
      },
      "execution_count": 1,
      "outputs": [
        {
          "output_type": "execute_result",
          "data": {
            "text/plain": [
              "0.30000000000000004"
            ]
          },
          "metadata": {},
          "execution_count": 1
        }
      ]
    },
    {
      "cell_type": "code",
      "source": [
        "#문자열연결\n",
        "'''\n",
        "회색 줄은 영문자 80자, 한글은 32자\n",
        "PEP8, PEP20\n",
        "'''\n",
        "#해결책1- (\\/\\n) 사용\n",
        "print('hello worldhello worldhello worldhello worldhello worldhello world \\\n",
        "hello world hello world') #코드는 두줄, 결과는 한줄\n",
        "print('hello world \\n hello world') #결과를 두줄로 받을때\n",
        "#해결책2 - 콤마를 찍지 않은 연결\n",
        "print('hello world' 'hello world') #출력은 hello worldhello world\n",
        "print('hello world'\n",
        "      'hello world')  #출력은 hello worldhello world"
      ],
      "metadata": {
        "colab": {
          "base_uri": "https://localhost:8080/"
        },
        "id": "Zj9uKWT2IkBY",
        "outputId": "bc47e760-cd35-47da-b8ab-65bd4ac799da"
      },
      "execution_count": 11,
      "outputs": [
        {
          "output_type": "stream",
          "name": "stdout",
          "text": [
            "hello worldhello worldhello worldhello worldhello worldhello world hello world hello world\n",
            "hello world \n",
            " hello world\n",
            "hello worldhello world\n"
          ]
        }
      ]
    },
    {
      "cell_type": "code",
      "source": [
        "#매서드 체인, 3개이상 권장안함 80자 미만으로\n",
        "'hello world'.upper().split(' ').pop().upper() #길어지면 오류가 나기 쉬움\n",
        "\n",
        "result = 'hello world'.upper()\n",
        "result.split(' ')\n",
        "'''허용하지만 권장하지 않음: 빈칸의 의미때문\n",
        "'hello world'.upper(\n",
        "    .split(' ')\\\n",
        "    .pop()\\\n",
        "    .lower()\n",
        "'''"
      ],
      "metadata": {
        "colab": {
          "base_uri": "https://localhost:8080/"
        },
        "id": "NfACGWycIkEn",
        "outputId": "5085baaa-dde7-4e23-fadb-bcfcb221240a"
      },
      "execution_count": 8,
      "outputs": [
        {
          "output_type": "execute_result",
          "data": {
            "text/plain": [
              "['HELLO', 'WORLD']"
            ]
          },
          "metadata": {},
          "execution_count": 8
        }
      ]
    },
    {
      "cell_type": "code",
      "source": [
        "dir('hello world')# 메서드, 매직메서드, (클래식 변수, 인스턴스 변수)\n",
        "1. #find와 index의 차이\n",
        "if 'hello world'.find('hi'): #안됨\n",
        "  print('찾았다')\n",
        "\n",
        "2. isdigit #많이 사용함\n",
        "'123'.isdigit()\n",
        "'12h3'.isdigit()\n",
        "\n",
        "3. #replace\n",
        "'hello world hello world'.replace('hello','hi') #출력 hi world hi world 둘다 변함\n",
        "#알아둘사항: replace는 정규표현식이 안됩니다! -> re.sub사용\n",
        "\n",
        "4.strip -제거\n",
        "\n",
        "5.zfill(0으로 채워주기, 원하는 자릿수만큼, 시간or연도 등)\n",
        "\n"
      ],
      "metadata": {
        "id": "YXdyb9qyIkG7"
      },
      "execution_count": null,
      "outputs": []
    },
    {
      "cell_type": "markdown",
      "source": [
        "#리스트\n",
        "변경이 가능한 자료형\n",
        "순서가 있는 자료형(시퀀스형 자료형, 인덱싱, 슬라이싱)"
      ],
      "metadata": {
        "id": "oUbnc6xUPaur"
      }
    },
    {
      "cell_type": "code",
      "source": [
        "l = [10, 20, 30]\n",
        "#라인 수가 길어졌을 때\n",
        "#1번\n",
        "l = [10,\n",
        "     20,\n",
        "     30] #됩니다\n",
        "#2번\n",
        "l = [\n",
        "    10,\n",
        "    20,\n",
        "    30\n",
        "] #됩니다\n",
        "#통신을 할 때에는 JSON이라는 형식을 사용하게 되는데 JSON은 콤마 허용하지 않음\n",
        "#실무에서는 2번 사용하는 이유: 콤마\n",
        "#자동변환sw사용함 (python black formatter)"
      ],
      "metadata": {
        "id": "NN8VKJQ9IkMR"
      },
      "execution_count": 13,
      "outputs": []
    },
    {
      "cell_type": "code",
      "source": [
        "l = [10, 20, 30]\n",
        "l[2] = 1000\n",
        "print(l)  #[10, 20, 1000]\n",
        "\n",
        "# 문자 하나 바꾸기\n",
        "s = 'hello world'\n",
        "'''안됨\n",
        "s[0] = 'y'\n",
        "'''\n",
        "s = s.replace('h', 'y') # s = 'y' + s[1:]와 같음\n",
        "print(s)"
      ],
      "metadata": {
        "id": "6u-RkK9DIkPK"
      },
      "execution_count": null,
      "outputs": []
    },
    {
      "cell_type": "code",
      "source": [
        "l = [10, 20, 30, 40, 50]\n",
        "ㅣ[-1]\n",
        "ㅣ[-2:]   # 마이너스 인덱싱, 마이너스 슬라이싱은 최종적으로 양수로 치환됩니다.\n",
        "ㅣ[3:]\n",
        "# 변수명[stop]\n",
        "# 변수명[start:stop]\n",
        "# 변수명[start:stop:step]"
      ],
      "metadata": {
        "id": "-CHKppxSIkee"
      },
      "execution_count": null,
      "outputs": []
    },
    {
      "cell_type": "code",
      "source": [
        "type(l) #검색키워드, gpt 키워드가 됩니다\n",
        "dir(l) # 대략적인 속성"
      ],
      "metadata": {
        "id": "VtBBeHagIkhR"
      },
      "execution_count": null,
      "outputs": []
    },
    {
      "cell_type": "code",
      "source": [
        "#__add__가 있으니 더하기는 어디까지?\n",
        "#__mul__이 있으니 곱하기는 어디까지 될까?\n",
        "l = [10, 20, 30]\n",
        "l+[100]  # 정수 더하기는 안됩니다!\n",
        "l+[100, 200]\n",
        "ㅣ * 3  # 정수 곱하기는 됩니다!\n",
        "l * 3    # l *[1, 2]는 안됨\n"
      ],
      "metadata": {
        "colab": {
          "base_uri": "https://localhost:8080/"
        },
        "id": "U9qVCdyVIkkI",
        "outputId": "f9a85748-fe36-4386-cb5b-4fdefdc03e2c"
      },
      "execution_count": 16,
      "outputs": [
        {
          "output_type": "execute_result",
          "data": {
            "text/plain": [
              "[10, 20, 30, 10, 20, 30, 10, 20, 30]"
            ]
          },
          "metadata": {},
          "execution_count": 16
        }
      ]
    },
    {
      "cell_type": "code",
      "source": [
        "# 리스트 곱하기는 매우 주의해야 합니다!\n",
        "# 곱하기가 2중으로 있을 때에는 나중에 배울 리스트컴프리헨션 사용해주세요!\n",
        "l = [[1, 2, 3]*3] *2\n",
        "l[1][0] = 1000\n",
        "l"
      ],
      "metadata": {
        "colab": {
          "base_uri": "https://localhost:8080/"
        },
        "id": "N2Xe6bo_IknJ",
        "outputId": "945feac0-a2a7-4d04-df13-93f952294f41"
      },
      "execution_count": 21,
      "outputs": [
        {
          "output_type": "execute_result",
          "data": {
            "text/plain": [
              "[[1000, 2, 3, 1, 2, 3, 1, 2, 3], [1000, 2, 3, 1, 2, 3, 1, 2, 3]]"
            ]
          },
          "metadata": {},
          "execution_count": 21
        }
      ]
    },
    {
      "cell_type": "code",
      "execution_count": null,
      "metadata": {
        "id": "-8o1az5k6jCP"
      },
      "outputs": [],
      "source": [
        "x = 10 #스칼라\n",
        "x = [10]#벡터\n",
        "x = [10,20] #벡터\n",
        "x = [[10, 20],[10, 20]] # 매트릭스\n",
        "x = [[[10, 20], [10, 20]], [[10, 20], [[10, 20]]]] #텐서 3차"
      ]
    },
    {
      "cell_type": "code",
      "source": [
        "x = [[1, 2], [3, 4], [5, 6]]\n",
        "x[1]\n",
        "x[1][1]"
      ],
      "metadata": {
        "colab": {
          "base_uri": "https://localhost:8080/"
        },
        "id": "e4Mc4UKbd1rk",
        "outputId": "7ffb4758-ac47-45ee-d2de-23ccddc13503"
      },
      "execution_count": 23,
      "outputs": [
        {
          "output_type": "execute_result",
          "data": {
            "text/plain": [
              "4"
            ]
          },
          "metadata": {},
          "execution_count": 23
        }
      ]
    },
    {
      "cell_type": "code",
      "source": [
        "x = [[1,2], [3,'hello world',[5,6]]]\n",
        "print(x[1])\n",
        "print(x[1][1])\n",
        "print(x[1][1][]6:)"
      ],
      "metadata": {
        "id": "pZUnNI11fZgp"
      },
      "execution_count": null,
      "outputs": []
    },
    {
      "cell_type": "code",
      "source": [
        "x = 10\n",
        "#다르다는 것만 인지해주세요!프린트를 하는 것과 맨 마지막 출력하는 것은 다릅니다\n",
        "print(x) #__str__\n",
        "x #__repr__"
      ],
      "metadata": {
        "id": "z6nxQ_nwf-3a"
      },
      "execution_count": null,
      "outputs": []
    },
    {
      "cell_type": "code",
      "source": [
        "l = [10, 20, 30]\n",
        "dir(l)\n",
        "#tip:앞에 빈칸 한번에 없애기->shift+tap/ 끌어올려서 +대괄호열고 닫고\n",
        "'append',\n",
        "'clear',\n",
        "'copy',\n",
        "'count',\n",
        "'extend',\n",
        "'index',\n",
        "'insert',\n",
        "'pop',\n",
        "'remove',\n",
        "'reverse',\n",
        "'sort'      # append부터 순서대로 다뤄보자"
      ],
      "metadata": {
        "id": "0bjxFCM0fZ-0"
      },
      "execution_count": null,
      "outputs": []
    },
    {
      "cell_type": "code",
      "source": [
        "l.append(100)\n",
        "l\n",
        "#앞에다 넣는 방법\n",
        "l1 = [1000]+ ㅣ\n",
        "print(l1)\n",
        "ㅣ2 = [x] +l[:]\n",
        "print(l2)\n",
        "l3 = l.insert(0, 999)\n",
        "print(l3)"
      ],
      "metadata": {
        "id": "ms-SpFvmgonk"
      },
      "execution_count": null,
      "outputs": []
    },
    {
      "cell_type": "code",
      "source": [
        "l = [10, 20, 30, 40]\n",
        "l.pop()\n",
        "l"
      ],
      "metadata": {
        "colab": {
          "base_uri": "https://localhost:8080/"
        },
        "id": "P6ppPKvHkcYB",
        "outputId": "ed8eae3b-7a05-484c-f656-0914fb15aafe"
      },
      "execution_count": 25,
      "outputs": [
        {
          "output_type": "execute_result",
          "data": {
            "text/plain": [
              "[10, 20, 30]"
            ]
          },
          "metadata": {},
          "execution_count": 25
        }
      ]
    },
    {
      "cell_type": "code",
      "source": [
        "l = [10, 20, 30, 40]\n",
        "l[:-1]\n",
        "l[1:]"
      ],
      "metadata": {
        "colab": {
          "base_uri": "https://localhost:8080/"
        },
        "id": "NAxWEcApkx80",
        "outputId": "899addaf-9119-4166-8bcd-d4846ccd0f6f"
      },
      "execution_count": 27,
      "outputs": [
        {
          "output_type": "execute_result",
          "data": {
            "text/plain": [
              "[10, 20, 30]"
            ]
          },
          "metadata": {},
          "execution_count": 27
        }
      ]
    },
    {
      "cell_type": "code",
      "source": [],
      "metadata": {
        "id": "T4aErSsylNvT"
      },
      "execution_count": null,
      "outputs": []
    },
    {
      "cell_type": "code",
      "source": [
        "'''\n",
        "l = [10, 20, 30, 40]\n",
        "ㅣ[100]  #error\n",
        "\n",
        "keep\n",
        "index가 에러가 납니다. error없이 코드를 짜고 싶으면 슬라이싱을 사용\n",
        "'''\n",
        "l = [10, 20, 30, 40]\n",
        "ㅣ[100:101]"
      ],
      "metadata": {
        "id": "N8syuT5BlNkJ"
      },
      "execution_count": null,
      "outputs": []
    },
    {
      "cell_type": "code",
      "source": [
        "l = [10, 20, 30, 40]\n",
        "l.clear()\n",
        "l"
      ],
      "metadata": {
        "id": "NHK40gYClygp"
      },
      "execution_count": null,
      "outputs": []
    },
    {
      "cell_type": "code",
      "source": [
        "l = [10, 20, 30, 40]\n",
        "ll=l.copy()\n",
        "l[0] = 1000\n",
        "ll\n",
        "\n",
        "id(l), id(ll)\n",
        "l is ll  #false\n",
        "l, ll"
      ],
      "metadata": {
        "colab": {
          "base_uri": "https://localhost:8080/"
        },
        "id": "I3MnjRo7mZnm",
        "outputId": "bce1e133-9dcb-4bfd-947c-5dd0a4efabe9"
      },
      "execution_count": 33,
      "outputs": [
        {
          "output_type": "execute_result",
          "data": {
            "text/plain": [
              "([1000, 20, 30, 40], [10, 20, 30, 40])"
            ]
          },
          "metadata": {},
          "execution_count": 33
        }
      ]
    },
    {
      "cell_type": "code",
      "source": [
        "l = [10, 20, 30, 40]\n",
        "ll = l[:]\n",
        "l[0] = 1000\n",
        "l, ll"
      ],
      "metadata": {
        "colab": {
          "base_uri": "https://localhost:8080/"
        },
        "id": "LvJcMrpBmsZ0",
        "outputId": "658e8112-7f3d-4bd8-9b04-065db835cf6e"
      },
      "execution_count": 35,
      "outputs": [
        {
          "output_type": "execute_result",
          "data": {
            "text/plain": [
              "([1000, 20, 30, 40], [10, 20, 30, 40])"
            ]
          },
          "metadata": {},
          "execution_count": 35
        }
      ]
    },
    {
      "cell_type": "code",
      "source": [
        "l = [1, 1, '1' , 2, 2, 2, 3, 3]\n",
        "l.count(1)"
      ],
      "metadata": {
        "colab": {
          "base_uri": "https://localhost:8080/"
        },
        "id": "W00bzzo_msW2",
        "outputId": "c0c5976d-aa54-4ddc-bd7d-a5fa34aadab2"
      },
      "execution_count": 37,
      "outputs": [
        {
          "output_type": "execute_result",
          "data": {
            "text/plain": [
              "2"
            ]
          },
          "metadata": {},
          "execution_count": 37
        }
      ]
    },
    {
      "cell_type": "code",
      "source": [
        "#1부터 10000까지 8이라는 숫자가 몇번 나오는지,\n",
        "#예를 들면 8808은 3번으로 카운팅하는 코드\n",
        "'''\n",
        "#1\n",
        "count_eight = 0\n",
        "\n",
        "for number in range(1, 10001):\n",
        "    count_eight += str(number).count('8')\n",
        "\n",
        "print(\"숫자 8의 개수:\", count_eight)\n",
        "\n",
        "#2\n",
        "count_eight = sum(str(number).count('8') for number in range(1, 10001))\n",
        "\n",
        "print(\"숫자 8의 개수:\", count_eight)\n",
        "\n",
        "#3\n",
        "str(list(range(1,10001))).count('8')\n",
        "'''\n"
      ],
      "metadata": {
        "id": "zh877j7OmsT2"
      },
      "execution_count": null,
      "outputs": []
    },
    {
      "cell_type": "code",
      "source": [
        "#extend\n",
        "l = [10, 20, 30, 40]\n",
        "l.extend('hello') #append(보통리스트), extend(순화가능한객체)\n",
        "'''\n",
        "만약 리스트에 하나의 값을 추가하려면 append를 사용하고, 다른 리스트의\n",
        "모든 원소를 추가하려면 extend를 사용하는 것이 유용합니다.\n",
        "'''"
      ],
      "metadata": {
        "id": "q9vzmrovoiBV"
      },
      "execution_count": null,
      "outputs": []
    },
    {
      "cell_type": "code",
      "source": [
        "l= [1,1,1,1,2,2,3,3,3]\n",
        "l.remove(1) #맨앞의 1 지움\n",
        "l"
      ],
      "metadata": {
        "id": "Rdqs9bSopGRB"
      },
      "execution_count": null,
      "outputs": []
    },
    {
      "cell_type": "code",
      "source": [
        "# 이해하지 않으셔도 됩니다.\n",
        "# 여기서 catch해야할 포인트는 모든 요소를 filtering하고 싶을 때에는\n",
        "# remove가 아니라 filter라는 것을 사용한다!\n",
        "def f(x):\n",
        "    return x != 1\n",
        "\n",
        "l = [1, 1, 1, 1, 2, 2, 3, 3, 3]\n",
        "list(filter(f, l))"
      ],
      "metadata": {
        "colab": {
          "base_uri": "https://localhost:8080/"
        },
        "id": "hph9PYlTpGIO",
        "outputId": "ea28c7bb-dc77-487b-a321-b81579814111"
      },
      "execution_count": 41,
      "outputs": [
        {
          "output_type": "execute_result",
          "data": {
            "text/plain": [
              "[2, 2, 3, 3, 3]"
            ]
          },
          "metadata": {},
          "execution_count": 41
        }
      ]
    },
    {
      "cell_type": "code",
      "source": [
        "#reverse\n",
        "l = [1,2,3,4,9,5,6,7]\n",
        "l.reverse()    #역정렬 아님, 크기순아님\n",
        "l\n",
        "\n",
        "'''\n",
        "reversed는 잊으셔도 됩니다. l.reverse만 기억하세요.\n",
        "l = [1, 2, 3, 4, 9, 5, 6, 7]\n",
        "list(reversed(l)) # reversed는 원본을 변경하지 않습니다.\n",
        "'''"
      ],
      "metadata": {
        "colab": {
          "base_uri": "https://localhost:8080/"
        },
        "id": "Jr0BUGIdpF8f",
        "outputId": "83054196-b1c3-46b7-fb9d-5fa6afc6ac62"
      },
      "execution_count": 3,
      "outputs": [
        {
          "output_type": "execute_result",
          "data": {
            "text/plain": [
              "[7, 6, 5, 9, 4, 3, 2, 1]"
            ]
          },
          "metadata": {},
          "execution_count": 3
        }
      ]
    },
    {
      "cell_type": "code",
      "source": [
        "#sort\n",
        "l = [1,2,3,4,9,5,6,7]\n",
        "l.sort()\n",
        "l.reverse()\n",
        "sorted(l) #원본을 변경하지 않습니다.sorted는 잊어도\n"
      ],
      "metadata": {
        "id": "QVo24PZwq6um"
      },
      "execution_count": null,
      "outputs": []
    },
    {
      "cell_type": "code",
      "source": [
        "#sort, sorted, reverse, reversed 알고리즘 문제에서도 1개는 거의 나옴 옵션값은 함수까지 배워야 가능"
      ],
      "metadata": {
        "id": "dtXTngOxubtz"
      },
      "execution_count": null,
      "outputs": []
    },
    {
      "cell_type": "code",
      "source": [
        "#국어점수가 높은 순으로 정렬  국, 영, 수, 이름\n",
        "s= [[100,87,91,'이호준'], [56, 38, 89, '이준호'], [33, 86, 100, '홍길동']]\n",
        "def f(x):\n",
        "    return x[0]\n",
        "\n",
        "sorted(s, key = f)\n",
        "sorted(s, key = f, reverse=True)"
      ],
      "metadata": {
        "colab": {
          "base_uri": "https://localhost:8080/"
        },
        "id": "0PdXazeXuwY9",
        "outputId": "84d17982-7375-4423-c321-ae0ee41b78f7"
      },
      "execution_count": 12,
      "outputs": [
        {
          "output_type": "execute_result",
          "data": {
            "text/plain": [
              "[[100, 87, 91, '이호준'], [56, 38, 89, '이준호'], [33, 86, 100, '홍길동']]"
            ]
          },
          "metadata": {},
          "execution_count": 12
        }
      ]
    },
    {
      "cell_type": "code",
      "source": [
        "#평균점수가 높은 순으로 정렬\n",
        "s= [[100,87,91,'이호준'], [56, 38, 89, '이준호'], [33, 86, 100, '홍길동']]\n",
        "def f(x):\n",
        "    return x[0]+ x[1]+ x[2]\n",
        "sorted(s, key=f)\n",
        "sorted(s, key =f, reverse=True)"
      ],
      "metadata": {
        "colab": {
          "base_uri": "https://localhost:8080/"
        },
        "id": "Xd8UAse1vK19",
        "outputId": "686a8e14-cc8a-4af3-fe00-95259ceb1f22"
      },
      "execution_count": 10,
      "outputs": [
        {
          "output_type": "execute_result",
          "data": {
            "text/plain": [
              "[[100, 87, 91, '이호준'], [33, 86, 100, '홍길동'], [56, 38, 89, '이준호']]"
            ]
          },
          "metadata": {},
          "execution_count": 10
        }
      ]
    },
    {
      "cell_type": "markdown",
      "source": [
        "\n",
        "파이썬의 기여하는 사람들 2500명정도 contributors\n",
        "\n",
        "\n",
        "귀도 반 로섬(Guido van Rossum)은 프로그래밍 언어 파이썬(Python)의 창시자로, 파이썬은 많은 사랑을 받는 유연하고 간결한 문법을 가진 프로그래밍 언어로 알려져 있습니다. 그의 기여로 많은 사람들이 파이썬을 사용하여 다양한 소프트웨어 및 웹 애플리케이션을 개발하고 있습니다.\n",
        "cpython\n",
        "python enhancement proposals에 만들어진 의미들 설명 읽어보기"
      ],
      "metadata": {
        "id": "nR3D9QBjARJ1"
      }
    },
    {
      "cell_type": "markdown",
      "source": [
        "#튜플\n",
        "\n",
        "* 순서가 있는 자료형입니다.(인덱싱, 슬라이싱)\n",
        "* 참조변경 불가입니다.(이 변경이 불가하다고 얘기하면 이것은 틀린 얘기입니다.)\n",
        "* 순회 가능한(iterable) 개체\n",
        "\n"
      ],
      "metadata": {
        "id": "2ep-gVDVCPZn"
      }
    },
    {
      "cell_type": "code",
      "source": [
        "t = (10, 20, 30)\n",
        "dir(t)   #'count',  'index'"
      ],
      "metadata": {
        "id": "Sb3u_QRrAPap"
      },
      "execution_count": null,
      "outputs": []
    },
    {
      "cell_type": "code",
      "source": [
        "a = [10, 20, 30]\n",
        "b= (a, 100, 200)\n",
        "b"
      ],
      "metadata": {
        "colab": {
          "base_uri": "https://localhost:8080/"
        },
        "id": "L2z_U_PMAPrm",
        "outputId": "56905db0-50ee-4dcb-c05f-2745246351b7"
      },
      "execution_count": 14,
      "outputs": [
        {
          "output_type": "execute_result",
          "data": {
            "text/plain": [
              "([10, 20, 30], 100, 200)"
            ]
          },
          "metadata": {},
          "execution_count": 14
        }
      ]
    },
    {
      "cell_type": "code",
      "source": [
        "a[0] = 1000\n",
        "b"
      ],
      "metadata": {
        "colab": {
          "base_uri": "https://localhost:8080/"
        },
        "id": "svV464RwAP3S",
        "outputId": "f02cdd3e-d252-42a2-8f37-564c04860dc5"
      },
      "execution_count": 15,
      "outputs": [
        {
          "output_type": "execute_result",
          "data": {
            "text/plain": [
              "([1000, 20, 30], 100, 200)"
            ]
          },
          "metadata": {},
          "execution_count": 15
        }
      ]
    },
    {
      "cell_type": "code",
      "source": [
        "t.count(10) #10의 개수를 반환\n",
        "t.index(10) #10의 위치를 반환"
      ],
      "metadata": {
        "colab": {
          "base_uri": "https://localhost:8080/"
        },
        "id": "YtMQoLHpFyNJ",
        "outputId": "89813d82-a605-4dfd-9f0c-ace163c50edc"
      },
      "execution_count": 20,
      "outputs": [
        {
          "output_type": "execute_result",
          "data": {
            "text/plain": [
              "0"
            ]
          },
          "metadata": {},
          "execution_count": 20
        }
      ]
    },
    {
      "cell_type": "markdown",
      "source": [
        "#딕셔너리\n",
        "* 3.6버전 이상은 순서가 보장됩니다. 실무는 낮은 버전\n",
        "* key: value 쌍으로 이뤄져 있다.\n",
        "*딕셔너리 데이터 검색은 매우 빠릅니다.\n",
        "*딕셔너리 사용은 주의를 요합니다, 딕셔너리는 key가 없는 것을 호출하면 error가 납니다."
      ],
      "metadata": {
        "id": "3wwwnwKtGqx9"
      }
    },
    {
      "cell_type": "code",
      "source": [
        "d = {'one': '하나', 'two': '둘'}\n",
        "d['one']"
      ],
      "metadata": {
        "colab": {
          "base_uri": "https://localhost:8080/",
          "height": 35
        },
        "id": "1V27iZi6FyCW",
        "outputId": "85c968ac-6e56-42f3-e861-293d5bde5a9d"
      },
      "execution_count": 21,
      "outputs": [
        {
          "output_type": "execute_result",
          "data": {
            "text/plain": [
              "'하나'"
            ],
            "application/vnd.google.colaboratory.intrinsic+json": {
              "type": "string"
            }
          },
          "metadata": {},
          "execution_count": 21
        }
      ]
    },
    {
      "cell_type": "code",
      "source": [
        "dir(d)\n",
        "'''\n",
        "# 'clear',\n",
        " 'copy',\n",
        " 'fromkeys',\n",
        " 'get',\n",
        " 'items',\n",
        " 'keys',\n",
        " 'pop',\n",
        " 'popitem',\n",
        " 'setdefault',\n",
        " 'update',\n",
        " 'values\n",
        " '''"
      ],
      "metadata": {
        "id": "GA0JuVqwQGTR"
      },
      "execution_count": null,
      "outputs": []
    },
    {
      "cell_type": "code",
      "source": [
        "#d.get['three'] #error\n",
        "d.get('three','없는 값입니다')"
      ],
      "metadata": {
        "colab": {
          "base_uri": "https://localhost:8080/",
          "height": 35
        },
        "id": "nXJ0QVjvGamg",
        "outputId": "427a353e-2ce1-4e2e-a72e-ca167c4c5a93"
      },
      "execution_count": 23,
      "outputs": [
        {
          "output_type": "execute_result",
          "data": {
            "text/plain": [
              "'없는 값입니다'"
            ],
            "application/vnd.google.colaboratory.intrinsic+json": {
              "type": "string"
            }
          },
          "metadata": {},
          "execution_count": 23
        }
      ]
    },
    {
      "cell_type": "code",
      "source": [
        "def f(x):\n",
        "    return{\n",
        "          0: '일요일',\n",
        "            1: '월요일',\n",
        "            2: '화요일',\n",
        "            3: '수요일',\n",
        "            4: '목요일',\n",
        "            5: '금요일',\n",
        "            6: '토요일',\n",
        "        }.get(x, '요일없음')\n",
        "\n",
        "f(3)\n"
      ],
      "metadata": {
        "colab": {
          "base_uri": "https://localhost:8080/",
          "height": 35
        },
        "id": "pCm5RpwVIzP6",
        "outputId": "445bd21d-1658-4f9c-f79b-277f7f1dee3d"
      },
      "execution_count": 25,
      "outputs": [
        {
          "output_type": "execute_result",
          "data": {
            "text/plain": [
              "'수요일'"
            ],
            "application/vnd.google.colaboratory.intrinsic+json": {
              "type": "string"
            }
          },
          "metadata": {},
          "execution_count": 25
        }
      ]
    },
    {
      "cell_type": "code",
      "source": [
        "x = 3\n",
        "y = {\n",
        "    0: '일요일',\n",
        "    1: '월요일',\n",
        "    2: '화요일',\n",
        "    3: '수요일',\n",
        "    4: '목요일',\n",
        "    5: '금요일',\n",
        "    6: '토요일',\n",
        "}\n",
        "y.get(x, '요일없음')"
      ],
      "metadata": {
        "colab": {
          "base_uri": "https://localhost:8080/",
          "height": 35
        },
        "id": "XrpKD-gPJQvt",
        "outputId": "94841539-a29b-4dd0-88d7-f35434e6019a"
      },
      "execution_count": 27,
      "outputs": [
        {
          "output_type": "execute_result",
          "data": {
            "text/plain": [
              "'수요일'"
            ],
            "application/vnd.google.colaboratory.intrinsic+json": {
              "type": "string"
            }
          },
          "metadata": {},
          "execution_count": 27
        }
      ]
    },
    {
      "cell_type": "code",
      "source": [
        "실제로 이와 같은 key:value의 쌍을 게시물 저장하는 형태등으로 사용합니다.\n",
        "게시물1 = {\n",
        "      'title': '파이썬이 이렇게 어려울 줄이야',\n",
        "      'contents': '파이썬을 깊게 알아갈 수록 너무 재밌네요. 신기합니다!',\n",
        "      'author': '이호준'\n",
        "      'image': 'hojun/2024/1/5/python.jpg'\n",
        "}"
      ],
      "metadata": {
        "id": "HI3OnX2YKOWW"
      },
      "execution_count": null,
      "outputs": []
    },
    {
      "cell_type": "code",
      "source": [
        "d = {'one': '하나', 'two': '둘'}\n",
        "dd = d   #변경됨\n",
        "\n",
        "id(dd), id(d)\n",
        "dd is d\n",
        "d['one' ] = 'python'\n",
        "d['two'] = 'html'\n",
        "dd"
      ],
      "metadata": {
        "colab": {
          "base_uri": "https://localhost:8080/"
        },
        "id": "h4IIVIm_LAaD",
        "outputId": "5a6432e2-a108-4143-e62b-45e796dd3eb0"
      },
      "execution_count": 32,
      "outputs": [
        {
          "output_type": "execute_result",
          "data": {
            "text/plain": [
              "{'one': 'python', 'two': 'html'}"
            ]
          },
          "metadata": {},
          "execution_count": 32
        }
      ]
    },
    {
      "cell_type": "code",
      "source": [
        "d = {'one': '하나', 'two': '둘'}\n",
        "dd = d.copy()  #변경안됨\n",
        "\n",
        "id(dd), id(d)\n",
        "dd is d\n",
        "d['one' ] = 'python'\n",
        "d['two'] = 'html'\n",
        "dd"
      ],
      "metadata": {
        "colab": {
          "base_uri": "https://localhost:8080/"
        },
        "id": "zTgJpFeAOClr",
        "outputId": "b469de51-4151-43a4-bd8a-6d73ee1ae8c9"
      },
      "execution_count": 33,
      "outputs": [
        {
          "output_type": "execute_result",
          "data": {
            "text/plain": [
              "{'one': '하나', 'two': '둘'}"
            ]
          },
          "metadata": {},
          "execution_count": 33
        }
      ]
    },
    {
      "cell_type": "code",
      "source": [
        "d = ('one', 'two', 'three')\n",
        "dict.fromkeys(d)\n",
        "dict.fromkeys(d, 'hello world')\n"
      ],
      "metadata": {
        "id": "PQkgSRYfOJfW"
      },
      "execution_count": null,
      "outputs": []
    },
    {
      "cell_type": "code",
      "source": [
        "d = {'one': '하나', 'two': '둘'}\n",
        "d.get('one')\n",
        "d.get('three','값 없음!')"
      ],
      "metadata": {
        "colab": {
          "base_uri": "https://localhost:8080/",
          "height": 35
        },
        "id": "T7pLohw9OedE",
        "outputId": "05e9fa5a-9e08-449c-b481-ab21b6c796b7"
      },
      "execution_count": 36,
      "outputs": [
        {
          "output_type": "execute_result",
          "data": {
            "text/plain": [
              "'값 없음!'"
            ],
            "application/vnd.google.colaboratory.intrinsic+json": {
              "type": "string"
            }
          },
          "metadata": {},
          "execution_count": 36
        }
      ]
    },
    {
      "cell_type": "code",
      "source": [
        "d = {'one': '하나', 'two': '둘'}\n",
        "d.items()   #d.items()[0] error, 인덱스 슬라이싱 안됨"
      ],
      "metadata": {
        "colab": {
          "base_uri": "https://localhost:8080/"
        },
        "id": "bCNTzVKTOsJl",
        "outputId": "2e7be6ca-e573-4f32-998e-2087ff1246dc"
      },
      "execution_count": 38,
      "outputs": [
        {
          "output_type": "execute_result",
          "data": {
            "text/plain": [
              "dict_items([('one', '하나'), ('two', '둘')])"
            ]
          },
          "metadata": {},
          "execution_count": 38
        }
      ]
    },
    {
      "cell_type": "code",
      "source": [
        "a, b = d.items() #언패킹\n",
        "a\n",
        "b"
      ],
      "metadata": {
        "colab": {
          "base_uri": "https://localhost:8080/"
        },
        "id": "VkNqlokAPXKc",
        "outputId": "0c883888-5b1b-4c03-8554-dc66776aeb3c"
      },
      "execution_count": 40,
      "outputs": [
        {
          "output_type": "execute_result",
          "data": {
            "text/plain": [
              "('one', '하나')"
            ]
          },
          "metadata": {},
          "execution_count": 40
        }
      ]
    },
    {
      "cell_type": "code",
      "source": [
        "a, b = [10, 20]\n",
        "a"
      ],
      "metadata": {
        "id": "P2hj-DlgPim6"
      },
      "execution_count": null,
      "outputs": []
    },
    {
      "cell_type": "code",
      "source": [
        "for i, j in d.items():\n",
        "    print(i,j)"
      ],
      "metadata": {
        "colab": {
          "base_uri": "https://localhost:8080/"
        },
        "id": "f3-sq14rPnSX",
        "outputId": "9d3d253b-1744-48dc-ae12-7c82e0f2e3b0"
      },
      "execution_count": 41,
      "outputs": [
        {
          "output_type": "stream",
          "name": "stdout",
          "text": [
            "one 하나\n",
            "two 둘\n"
          ]
        }
      ]
    },
    {
      "cell_type": "code",
      "source": [
        "d. keys()"
      ],
      "metadata": {
        "colab": {
          "base_uri": "https://localhost:8080/"
        },
        "id": "f32eLK34P4Jf",
        "outputId": "b26cd717-d33a-43a7-ce76-612af90042eb"
      },
      "execution_count": 42,
      "outputs": [
        {
          "output_type": "execute_result",
          "data": {
            "text/plain": [
              "dict_keys(['one', 'two'])"
            ]
          },
          "metadata": {},
          "execution_count": 42
        }
      ]
    },
    {
      "cell_type": "code",
      "source": [
        "d. values()"
      ],
      "metadata": {
        "colab": {
          "base_uri": "https://localhost:8080/"
        },
        "id": "StgY1yRWP9oq",
        "outputId": "715b3304-3391-4b71-c77e-b1fe6b64068c"
      },
      "execution_count": 43,
      "outputs": [
        {
          "output_type": "execute_result",
          "data": {
            "text/plain": [
              "dict_values(['하나', '둘'])"
            ]
          },
          "metadata": {},
          "execution_count": 43
        }
      ]
    },
    {
      "cell_type": "code",
      "source": [
        "d = {'one': '하나', 'two': '둘'}\n",
        "d.setdefault('one')\n",
        "d.setdefault('three')\n",
        "d.setdefault('four',4) #있으면 그 값을 출력하고, 없으면 그 값을 d에 삽입하고 4를 출력해"
      ],
      "metadata": {
        "colab": {
          "base_uri": "https://localhost:8080/"
        },
        "id": "TE9oERKAP_82",
        "outputId": "a407c832-3678-44c1-a235-fa6965e2f529"
      },
      "execution_count": 45,
      "outputs": [
        {
          "output_type": "execute_result",
          "data": {
            "text/plain": [
              "4"
            ]
          },
          "metadata": {},
          "execution_count": 45
        }
      ]
    },
    {
      "cell_type": "code",
      "source": [
        "d = {'one': '하나', 'two': '둘'}\n",
        "d.pop('one')  #d.pop(), d.pop('three')는 error\n",
        "d"
      ],
      "metadata": {
        "colab": {
          "base_uri": "https://localhost:8080/"
        },
        "id": "5dk06cqNQqrU",
        "outputId": "4cce1cfb-0e7f-42c5-ebdd-2ed5d1a53acf"
      },
      "execution_count": 46,
      "outputs": [
        {
          "output_type": "execute_result",
          "data": {
            "text/plain": [
              "{'two': '둘'}"
            ]
          },
          "metadata": {},
          "execution_count": 46
        }
      ]
    },
    {
      "cell_type": "code",
      "source": [
        "d = {'one': '하나', 'two': '둘'}\n",
        "d.popitem()"
      ],
      "metadata": {
        "colab": {
          "base_uri": "https://localhost:8080/"
        },
        "id": "vsNcqONYRYDB",
        "outputId": "395f2589-1762-45e8-b5ac-9e64232622b4"
      },
      "execution_count": 47,
      "outputs": [
        {
          "output_type": "execute_result",
          "data": {
            "text/plain": [
              "('two', '둘')"
            ]
          },
          "metadata": {},
          "execution_count": 47
        }
      ]
    },
    {
      "cell_type": "code",
      "source": [
        "d = {'one': '하나', 'two': '둘'}\n",
        "d.update({'one': 'python', 'three': 'hello'})  #one은 수정되고 three는 생성됨\n",
        "d"
      ],
      "metadata": {
        "colab": {
          "base_uri": "https://localhost:8080/"
        },
        "id": "R7VCnpasRedt",
        "outputId": "1f681634-74b3-4fec-b599-fe38e343816e"
      },
      "execution_count": 48,
      "outputs": [
        {
          "output_type": "execute_result",
          "data": {
            "text/plain": [
              "{'one': 'python', 'two': '둘', 'three': 'hello'}"
            ]
          },
          "metadata": {},
          "execution_count": 48
        }
      ]
    },
    {
      "cell_type": "code",
      "source": [
        "#새로 생긴 문법\n",
        "\n",
        "d = {'one': '하나', 'two': '둘'}\n",
        "dd = {'three': '셋'}\n",
        "d | dd"
      ],
      "metadata": {
        "colab": {
          "base_uri": "https://localhost:8080/"
        },
        "id": "7iw6tQdfRzOv",
        "outputId": "d1944bf7-d04c-4981-e7a9-378ba815d126"
      },
      "execution_count": 53,
      "outputs": [
        {
          "output_type": "execute_result",
          "data": {
            "text/plain": [
              "{'one': '하나', 'two': '둘', 'three': '셋'}"
            ]
          },
          "metadata": {},
          "execution_count": 53
        }
      ]
    },
    {
      "cell_type": "code",
      "source": [
        "d = {'one': '하나', 'two': '둘'}\n",
        "dd = {'one': 'python', 'three': '셋'} #수정되고 추가됨\n",
        "d | dd"
      ],
      "metadata": {
        "colab": {
          "base_uri": "https://localhost:8080/"
        },
        "id": "pykoXrk_R1Ws",
        "outputId": "d1d0d1db-1986-46ab-b488-7f465ce4e5e5"
      },
      "execution_count": 54,
      "outputs": [
        {
          "output_type": "execute_result",
          "data": {
            "text/plain": [
              "{'one': 'python', 'two': '둘', 'three': '셋'}"
            ]
          },
          "metadata": {},
          "execution_count": 54
        }
      ]
    },
    {
      "cell_type": "markdown",
      "source": [
        "#셋\n",
        "* 중복을 허락하지 않는 자료형입니다.\n",
        "* 순서가 없는 자료형입니다.\n",
        "* 집합(합집합 교집합)"
      ],
      "metadata": {
        "id": "k1r9fa4tSdrn"
      }
    },
    {
      "cell_type": "code",
      "source": [
        "s = {1, 2, 3, 4, 5}\n",
        "ss = {3, 4, 5, 6, 7}\n",
        "s|ss #합\n",
        "s-ss #차\n",
        "s&ss #교"
      ],
      "metadata": {
        "colab": {
          "base_uri": "https://localhost:8080/"
        },
        "id": "n-ZANSuRSO-5",
        "outputId": "1f2d9c12-b0fa-4cef-acf3-fbf5861cca2d"
      },
      "execution_count": 57,
      "outputs": [
        {
          "output_type": "execute_result",
          "data": {
            "text/plain": [
              "{3, 4, 5}"
            ]
          },
          "metadata": {},
          "execution_count": 57
        }
      ]
    },
    {
      "cell_type": "code",
      "source": [
        "s.add(10)\n",
        "s"
      ],
      "metadata": {
        "colab": {
          "base_uri": "https://localhost:8080/"
        },
        "id": "eCUp_SEETtgZ",
        "outputId": "952b8ec1-0b1f-4698-e345-790ad801eb35"
      },
      "execution_count": 58,
      "outputs": [
        {
          "output_type": "execute_result",
          "data": {
            "text/plain": [
              "{1, 2, 3, 4, 5, 10}"
            ]
          },
          "metadata": {},
          "execution_count": 58
        }
      ]
    },
    {
      "cell_type": "code",
      "source": [
        "type(s), dir(s)"
      ],
      "metadata": {
        "id": "IsJncgEaS66I"
      },
      "execution_count": null,
      "outputs": []
    },
    {
      "cell_type": "code",
      "source": [
        "s.difference(ss)"
      ],
      "metadata": {
        "colab": {
          "base_uri": "https://localhost:8080/"
        },
        "id": "peP1a8WHS6ci",
        "outputId": "b13cacdf-c291-467f-8449-4f580c443422"
      },
      "execution_count": 60,
      "outputs": [
        {
          "output_type": "execute_result",
          "data": {
            "text/plain": [
              "{1, 2, 10}"
            ]
          },
          "metadata": {},
          "execution_count": 60
        }
      ]
    },
    {
      "cell_type": "code",
      "source": [
        "s.intersection(ss)"
      ],
      "metadata": {
        "colab": {
          "base_uri": "https://localhost:8080/"
        },
        "id": "r7neld29UUDD",
        "outputId": "f20ea479-ccf6-4e9c-804d-74af1ff978ac"
      },
      "execution_count": 61,
      "outputs": [
        {
          "output_type": "execute_result",
          "data": {
            "text/plain": [
              "{3, 4, 5}"
            ]
          },
          "metadata": {},
          "execution_count": 61
        }
      ]
    },
    {
      "cell_type": "code",
      "source": [
        "s.union(ss)"
      ],
      "metadata": {
        "colab": {
          "base_uri": "https://localhost:8080/"
        },
        "id": "r1X75i7dUUAE",
        "outputId": "d94649cd-fb87-4466-f104-1303040e554e"
      },
      "execution_count": 62,
      "outputs": [
        {
          "output_type": "execute_result",
          "data": {
            "text/plain": [
              "{1, 2, 3, 4, 5, 6, 7, 10}"
            ]
          },
          "metadata": {},
          "execution_count": 62
        }
      ]
    },
    {
      "cell_type": "code",
      "source": [
        "sum(map(int,set('123123123'))) #중복 원소를 제거하고 더해라  map(int,set('123123123')) ->{1,2,3}"
      ],
      "metadata": {
        "colab": {
          "base_uri": "https://localhost:8080/"
        },
        "id": "SUhczecKUT9L",
        "outputId": "c1335184-9b21-4778-9735-649acd2b1e22"
      },
      "execution_count": 67,
      "outputs": [
        {
          "output_type": "execute_result",
          "data": {
            "text/plain": [
              "6"
            ]
          },
          "metadata": {},
          "execution_count": 67
        }
      ]
    },
    {
      "cell_type": "code",
      "source": [
        "sum({10, 20, 30})\n",
        "#sum(10, 20, 30)\n",
        "sum([[10, 20], [30, 40], [50, 60]],[])\n",
        "#[] + [10, 20] == [10, 20]\n",
        "# [10, 20]+ [30, 40] == [10, 20, 30, 40]"
      ],
      "metadata": {
        "colab": {
          "base_uri": "https://localhost:8080/"
        },
        "id": "B0eN65IPVi55",
        "outputId": "b7ed253a-fe0c-42f7-f3dc-0bc50baeff92"
      },
      "execution_count": 70,
      "outputs": [
        {
          "output_type": "execute_result",
          "data": {
            "text/plain": [
              "[10, 20, 30, 40, 50, 60]"
            ]
          },
          "metadata": {},
          "execution_count": 70
        }
      ]
    },
    {
      "cell_type": "code",
      "source": [
        "sum(sum([[10, 20], [30, 40], [50, 60]],[]))"
      ],
      "metadata": {
        "colab": {
          "base_uri": "https://localhost:8080/"
        },
        "id": "UafpijpOXPLZ",
        "outputId": "aa56c860-bc1f-474b-b13f-804bafb44b87"
      },
      "execution_count": 71,
      "outputs": [
        {
          "output_type": "execute_result",
          "data": {
            "text/plain": [
              "210"
            ]
          },
          "metadata": {},
          "execution_count": 71
        }
      ]
    },
    {
      "cell_type": "markdown",
      "source": [
        "# in"
      ],
      "metadata": {
        "id": "5T9Y_FmAXMQM"
      }
    },
    {
      "cell_type": "code",
      "source": [
        "'h' in 'hello'"
      ],
      "metadata": {
        "colab": {
          "base_uri": "https://localhost:8080/"
        },
        "id": "e0w63yXYXILQ",
        "outputId": "456d1249-66ca-4b75-9611-3eb04616c0af"
      },
      "execution_count": 1,
      "outputs": [
        {
          "output_type": "execute_result",
          "data": {
            "text/plain": [
              "True"
            ]
          },
          "metadata": {},
          "execution_count": 1
        }
      ]
    },
    {
      "cell_type": "code",
      "source": [
        "x= 10\n",
        "x in [10, 20, 30, 40, 50]"
      ],
      "metadata": {
        "colab": {
          "base_uri": "https://localhost:8080/"
        },
        "id": "syerhFw3Xn33",
        "outputId": "9731101d-f3d5-49e0-958d-4bee50e54dae"
      },
      "execution_count": 3,
      "outputs": [
        {
          "output_type": "execute_result",
          "data": {
            "text/plain": [
              "True"
            ]
          },
          "metadata": {},
          "execution_count": 3
        }
      ]
    },
    {
      "cell_type": "code",
      "source": [
        "x = [10, 20, 30]\n",
        "x in [[10, 20, 40], [10, 20, 30], [50, 40, 20]]"
      ],
      "metadata": {
        "colab": {
          "base_uri": "https://localhost:8080/"
        },
        "id": "O1gbHx0wXsk_",
        "outputId": "8b11c5e6-995c-445e-9523-8ee6a16be7c7"
      },
      "execution_count": 4,
      "outputs": [
        {
          "output_type": "execute_result",
          "data": {
            "text/plain": [
              "True"
            ]
          },
          "metadata": {},
          "execution_count": 4
        }
      ]
    },
    {
      "cell_type": "code",
      "source": [
        "s = {1, 2, 3}\n",
        "1 not in s"
      ],
      "metadata": {
        "colab": {
          "base_uri": "https://localhost:8080/"
        },
        "id": "Zyh99pWbXs6U",
        "outputId": "1f3db58a-8acc-4c38-9446-9fe03d62244d"
      },
      "execution_count": 5,
      "outputs": [
        {
          "output_type": "execute_result",
          "data": {
            "text/plain": [
              "False"
            ]
          },
          "metadata": {},
          "execution_count": 5
        }
      ]
    },
    {
      "cell_type": "code",
      "source": [
        "1 and 100"
      ],
      "metadata": {
        "colab": {
          "base_uri": "https://localhost:8080/"
        },
        "id": "ttYvobVwYJvA",
        "outputId": "ac9cd470-aac7-406f-8c14-08f740693d5c"
      },
      "execution_count": 7,
      "outputs": [
        {
          "output_type": "execute_result",
          "data": {
            "text/plain": [
              "100"
            ]
          },
          "metadata": {},
          "execution_count": 7
        }
      ]
    },
    {
      "cell_type": "code",
      "source": [
        "user_id = 'leehojun'\n",
        "\n",
        "user_id = user_id or '아이디없음'\n",
        "user_id\n"
      ],
      "metadata": {
        "colab": {
          "base_uri": "https://localhost:8080/",
          "height": 35
        },
        "id": "q-cy9zBhYLuP",
        "outputId": "6118bcfd-c4ce-4b0f-e02c-383b54e7c0ef"
      },
      "execution_count": 8,
      "outputs": [
        {
          "output_type": "execute_result",
          "data": {
            "text/plain": [
              "'leehojun'"
            ],
            "application/vnd.google.colaboratory.intrinsic+json": {
              "type": "string"
            }
          },
          "metadata": {},
          "execution_count": 8
        }
      ]
    },
    {
      "cell_type": "code",
      "source": [
        "false and 1/0 # false and 뒤에는 안봄 error여도 상관없다"
      ],
      "metadata": {
        "id": "wghcm0MjYhX3"
      },
      "execution_count": null,
      "outputs": []
    }
  ]
}