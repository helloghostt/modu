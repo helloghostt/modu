{
  "nbformat": 4,
  "nbformat_minor": 0,
  "metadata": {
    "colab": {
      "provenance": [],
      "authorship_tag": "ABX9TyMV6aH/xCjrvjqUSw8DM3ze",
      "include_colab_link": true
    },
    "kernelspec": {
      "name": "python3",
      "display_name": "Python 3"
    },
    "language_info": {
      "name": "python"
    }
  },
  "cells": [
    {
      "cell_type": "markdown",
      "metadata": {
        "id": "view-in-github",
        "colab_type": "text"
      },
      "source": [
        "<a href=\"https://colab.research.google.com/github/helloghostt/modu/blob/main/day4_ex.ipynb\" target=\"_parent\"><img src=\"https://colab.research.google.com/assets/colab-badge.svg\" alt=\"Open In Colab\"/></a>"
      ]
    },
    {
      "cell_type": "markdown",
      "source": [
        "#1번문제\n",
        "다음 변수들이 가리키고 있는 값에 화살표를 그려주세요.\n",
        "(z의 값은 무엇일까요?)"
      ],
      "metadata": {
        "id": "LIJFA6VRWSrl"
      }
    },
    {
      "cell_type": "code",
      "execution_count": null,
      "metadata": {
        "id": "XKgJ-7SVV8JF"
      },
      "outputs": [],
      "source": [
        "#문제1\n",
        "x = 100\n",
        "y = 100\n",
        "z = x   #답 z->100"
      ]
    },
    {
      "cell_type": "code",
      "source": [
        "x = 100\n",
        "y = 100\n",
        "z = x\n",
        "\n",
        "print(id(x), id(y), id(z))"
      ],
      "metadata": {
        "colab": {
          "base_uri": "https://localhost:8080/"
        },
        "id": "Qp7hZAP4Wbj7",
        "outputId": "2cd7b842-a9a6-4240-9179-6532d9aecf7a"
      },
      "execution_count": null,
      "outputs": [
        {
          "output_type": "stream",
          "name": "stdout",
          "text": [
            "140549613292880 140549613292880 140549613292880\n"
          ]
        }
      ]
    },
    {
      "cell_type": "code",
      "source": [
        "# 문제2\n",
        "x = 258\n",
        "y = 258\n",
        "z = x  #답 -5~256을 넘어가기 때문에 위치로 뜸"
      ],
      "metadata": {
        "id": "JowKj9fCWbmE"
      },
      "execution_count": null,
      "outputs": []
    },
    {
      "cell_type": "code",
      "source": [
        "x = 258\n",
        "y = 258\n",
        "z = x\n",
        "\n",
        "print(id(x), id(y), id(z))"
      ],
      "metadata": {
        "colab": {
          "base_uri": "https://localhost:8080/"
        },
        "id": "vDKjXTQmWci_",
        "outputId": "9a259bd4-7d20-45d5-91fa-7e1e7366a4f4"
      },
      "execution_count": null,
      "outputs": [
        {
          "output_type": "stream",
          "name": "stdout",
          "text": [
            "140549119140976 140549119144752 140549119140976\n"
          ]
        }
      ]
    },
    {
      "cell_type": "markdown",
      "source": [
        "#2번문제\n",
        "다음 파이썬 문법 중 맞은 것을 골라주세요.(3개)"
      ],
      "metadata": {
        "id": "fymtGEfTWcUL"
      }
    },
    {
      "cell_type": "code",
      "source": [
        "#1번\n",
        "print = 100   # print(100)\n",
        "\n",
        "#2번\n",
        "10 = a    # a=10\n",
        "\n",
        "#3번\n",
        "k = 100\n",
        "\n",
        "#4번\n",
        "100k = 10000  # 무엇을 표현하는건지..숫자가 앞에오면 안됨\n",
        "\n",
        "#5번\n",
        "a123 = 'abc'\n",
        "\n",
        "#6번\n",
        "_ = 10"
      ],
      "metadata": {
        "id": "rQ9ylkYyW0Kd"
      },
      "execution_count": null,
      "outputs": []
    },
    {
      "cell_type": "markdown",
      "source": [
        "#3번문제\n",
        "문자를 사용자에게 입력받고, 그 문자를 2번 출력하는 프로그램을 만들어주세요. 예를 들어 ‘abc’를 입력받는다면 ‘abcabc’를 출력해야 합니다."
      ],
      "metadata": {
        "id": "nSCPsjfOaam6"
      }
    },
    {
      "cell_type": "code",
      "source": [
        "user_input = input()\n",
        "user_input * 2"
      ],
      "metadata": {
        "colab": {
          "base_uri": "https://localhost:8080/",
          "height": 54
        },
        "id": "q-DUR2euWclf",
        "outputId": "7d36c3d1-1050-4ce7-b4de-839c4271f0b6"
      },
      "execution_count": null,
      "outputs": [
        {
          "name": "stdout",
          "output_type": "stream",
          "text": [
            "abc\n"
          ]
        },
        {
          "output_type": "execute_result",
          "data": {
            "text/plain": [
              "'abcabc'"
            ],
            "application/vnd.google.colaboratory.intrinsic+json": {
              "type": "string"
            }
          },
          "metadata": {},
          "execution_count": 18
        }
      ]
    },
    {
      "cell_type": "markdown",
      "source": [
        "#4번문제\n",
        "아래 변수에서 중복을 제거한 유일한 숫자를 알아내는 코드를 작성해주세요. 형변환을 통해 풀어주세요."
      ],
      "metadata": {
        "id": "VhVNsv7AadYA"
      }
    },
    {
      "cell_type": "code",
      "source": [
        "n = 1234567890123123123\n",
        "print(set(map(int,str(n))))"
      ],
      "metadata": {
        "colab": {
          "base_uri": "https://localhost:8080/"
        },
        "id": "sgQFQHT9aCWg",
        "outputId": "bb290a68-6829-4183-b328-97d6e4770ebe"
      },
      "execution_count": null,
      "outputs": [
        {
          "output_type": "stream",
          "name": "stdout",
          "text": [
            "{0, 1, 2, 3, 4, 5, 6, 7, 8, 9}\n"
          ]
        }
      ]
    },
    {
      "cell_type": "code",
      "source": [
        "n = 1234567890123123123\n",
        "len(set(str(n)))"
      ],
      "metadata": {
        "id": "CG7HjsFXeh22",
        "outputId": "d317141b-a07f-4e4f-924c-28f2c3758546",
        "colab": {
          "base_uri": "https://localhost:8080/"
        }
      },
      "execution_count": 1,
      "outputs": [
        {
          "output_type": "execute_result",
          "data": {
            "text/plain": [
              "10"
            ]
          },
          "metadata": {},
          "execution_count": 1
        }
      ]
    },
    {
      "cell_type": "markdown",
      "source": [
        "#5번문제\n",
        "문자열 s에 마지막에 있는 문자열을 2번 더 붙이는 코드를 작성해주세요."
      ],
      "metadata": {
        "id": "1EtAt00hahB0"
      }
    },
    {
      "cell_type": "code",
      "source": [
        "s = 'jun' # 출력값: 'junnn'\n",
        "s = s + s[-1] * 2\n",
        "print(s)"
      ],
      "metadata": {
        "colab": {
          "base_uri": "https://localhost:8080/"
        },
        "id": "Oor3B_vFahLI",
        "outputId": "1e869467-f09b-4ccd-9ba5-ec4c76783d09"
      },
      "execution_count": null,
      "outputs": [
        {
          "output_type": "stream",
          "name": "stdout",
          "text": [
            "junnn\n"
          ]
        }
      ]
    },
    {
      "cell_type": "markdown",
      "source": [
        "#6번문제\n",
        "'abcde', 숫자, 대쉬(-), 언더스코어(_)를 모두 제거해주세요. 문자열에 translate를 사용해주세요."
      ],
      "metadata": {
        "id": "bKAK6bP0ahUh"
      }
    },
    {
      "cell_type": "code",
      "source": [
        "s = 'hello_world123' # 출력값: 'hlloworl'\n",
        "table = str.maketrans('', '', 'abcde123-_')\n",
        "s.translate(table)"
      ],
      "metadata": {
        "colab": {
          "base_uri": "https://localhost:8080/",
          "height": 35
        },
        "id": "Gxz_wIKaaheb",
        "outputId": "5ce28f30-0a9c-49a2-8a37-f09569ca00c6"
      },
      "execution_count": null,
      "outputs": [
        {
          "output_type": "execute_result",
          "data": {
            "text/plain": [
              "'hlloworl'"
            ],
            "application/vnd.google.colaboratory.intrinsic+json": {
              "type": "string"
            }
          },
          "metadata": {},
          "execution_count": 29
        }
      ]
    },
    {
      "cell_type": "markdown",
      "source": [
        "#7번문제\n",
        "확장자를 출력해주는 코드를 작성해주세요. 확장자는 png, jpeg, mp4 등입니다."
      ],
      "metadata": {
        "id": "-neCR42iahmw"
      }
    },
    {
      "cell_type": "code",
      "source": [
        "s1 = 'licat.jpeg'# 출력값: 'jpeg'\n",
        "print(s1[-4:])\n",
        "s2 = 'li.cat.png'# 출력값: 'png'\n",
        "print(s2[-3:])"
      ],
      "metadata": {
        "colab": {
          "base_uri": "https://localhost:8080/"
        },
        "id": "DYs7zKldahuk",
        "outputId": "c5400812-b752-4cfe-c610-eec7f332776a"
      },
      "execution_count": null,
      "outputs": [
        {
          "output_type": "stream",
          "name": "stdout",
          "text": [
            "jpeg\n",
            "png\n"
          ]
        }
      ]
    },
    {
      "cell_type": "code",
      "source": [
        "s = 'licat.jpeg' # 출력값: 'jpeg'\n",
        "s = 'li.cat.png' # 출력값: 'png'\n",
        "s[::-1].split('.')[0][::-1] # 정답1\n",
        "s.split('.')[-1] # 정답2\n",
        "s[s.rindex('.')+1:] # 정답3"
      ],
      "metadata": {
        "id": "GZFzkkgkb6Up"
      },
      "execution_count": null,
      "outputs": []
    }
  ]
}