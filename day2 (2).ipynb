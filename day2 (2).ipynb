{
  "nbformat": 4,
  "nbformat_minor": 0,
  "metadata": {
    "colab": {
      "provenance": []
    },
    "kernelspec": {
      "name": "python3",
      "display_name": "Python 3"
    },
    "language_info": {
      "name": "python"
    }
  },
  "cells": [
    {
      "cell_type": "markdown",
      "source": [
        "1교시"
      ],
      "metadata": {
        "id": "FPkG4ZMvJs2w"
      }
    },
    {
      "cell_type": "code",
      "execution_count": 1,
      "metadata": {
        "colab": {
          "base_uri": "https://localhost:8080/"
        },
        "id": "ckAcb6ZF0lgx",
        "outputId": "c99487e2-231a-4ea0-ebe7-a8570dfe47e5"
      },
      "outputs": [
        {
          "output_type": "stream",
          "name": "stdout",
          "text": [
            "hello world\n"
          ]
        }
      ],
      "source": [
        "print(\"hello world\")"
      ]
    },
    {
      "cell_type": "code",
      "source": [
        "# 1.구글 코랩 기초 사용법"
      ],
      "metadata": {
        "id": "FNRPERDP9H-e"
      },
      "execution_count": null,
      "outputs": []
    },
    {
      "cell_type": "markdown",
      "source": [],
      "metadata": {
        "id": "BIPp2OyZJnLF"
      }
    },
    {
      "cell_type": "markdown",
      "source": [
        "1.ctrl+Ent\n",
        "\n",
        "2.art+ent\n",
        "\n",
        "3. ctrl+M A 셀 추가 위에\n",
        "4. ctrl+M B 아래\n",
        "5. ctrl+ M D 지우기\n",
        "6. ctrl+ M Y 코드 셀로 변경\n",
        "7. ctrl+MM 마크다운 셀로 변경\n",
        "8. ctrl+ M Z 실행취\n",
        "\n",
        "3.수정 관련된 단축키\n",
        "  1.Ctrl(Command) + Alt(Option) + 화살표위아래 : 동시 수정\n",
        "    자주 쓰는 예시 필요\n",
        "    (자주) Ctrl(Command) + D : 같은 단어 찾아 동시 수정\n",
        "    Ctrl(Command) + Shift + L : 동일 단어를 전체로 찾아 동시 수정\n",
        "    Alt(Option) + Shift + 화살표위아래 : 해당내용을 위나 아래 복사해서 붙여넣기\n",
        "    Alt(Option) + 화살표위아래 : 해당 내용을 위나 아래로 보내기\n",
        "    (자주) Ctrl(Command) + Alt(Option) + 화살표위아래 : 위아래 동시 수정\n",
        "    (자주) Home, End : 문장의 양 끝\n",
        "    (필수) Ctrl + / : 주석\n",
        "    (필수) Shift(cmd) + Del : 한 줄 지우기\n",
        "    (필수) Tab, Ctrl + ] : 들여쓰기\n",
        "    (필수) Shift + Tab, Ctrl + [ : 내어쓰기"
      ],
      "metadata": {
        "id": "DORobkRh-w6t"
      }
    },
    {
      "cell_type": "code",
      "source": [
        "print(\"hello\")"
      ],
      "metadata": {
        "colab": {
          "base_uri": "https://localhost:8080/"
        },
        "id": "Nu0ilNrU-R9W",
        "outputId": "8962f1ba-7cd8-4a04-f7ff-48e316ceec28"
      },
      "execution_count": 3,
      "outputs": [
        {
          "output_type": "stream",
          "name": "stdout",
          "text": [
            "hello\n"
          ]
        }
      ]
    },
    {
      "cell_type": "code",
      "source": [
        "print(\"모두연\")"
      ],
      "metadata": {
        "colab": {
          "base_uri": "https://localhost:8080/"
        },
        "id": "BQThCrQP-gFu",
        "outputId": "54603af4-b4ab-4561-cc53-7c56200944ec"
      },
      "execution_count": 4,
      "outputs": [
        {
          "output_type": "stream",
          "name": "stdout",
          "text": [
            "모두연\n"
          ]
        }
      ]
    },
    {
      "cell_type": "code",
      "source": [
        "print(\"a\")"
      ],
      "metadata": {
        "colab": {
          "base_uri": "https://localhost:8080/"
        },
        "id": "0QfTqyT6-gBr",
        "outputId": "af604c46-e0ac-41c4-a1cb-e08a7204f89e"
      },
      "execution_count": 5,
      "outputs": [
        {
          "output_type": "stream",
          "name": "stdout",
          "text": [
            "a\n"
          ]
        }
      ]
    },
    {
      "cell_type": "code",
      "source": [
        "#데이터셋 불러오기\n",
        "import pandas as pd\n",
        "data = pd.read_csv(\"example_dataset.csv\")\n",
        "\n",
        "#각 컬럼에 대한 평균 계산\n",
        "mean_age = data['age'].mean()\n",
        "mean_height = data['height'].mean()\n",
        "mean_weight = data['weight'].mean()\n",
        "\n",
        "print(\"Average Age:\", mean_age)\n",
        "print(\"Average Height:\", mean_height)\n",
        "print(\"Average Weight:\", mean_weight)"
      ],
      "metadata": {
        "id": "vU9z9bQ5-U5I"
      },
      "execution_count": null,
      "outputs": []
    },
    {
      "cell_type": "code",
      "source": [
        "\n",
        "#데이터셋 불러오기\n",
        "import pandas as pd\n",
        "data = pd.read_csv(\"example_dataset.csv\")\n",
        "\n",
        "#각 컬럼에 대한 평균 계산\n",
        "mean_age_years = data['age_years'].mean()\n",
        "mean_height_cm = data['height_cm'].mean()\n",
        "mean_weight_kg = data['weight_kg'].mean()\n",
        "\n",
        "print(\"Average Age in Years:\", mean_age_years)\n",
        "print(\"Average Height in cm:\", mean_height_cm)\n",
        "print(\"Average Weight in kg:\", mean_weight_kg)\n"
      ],
      "metadata": {
        "id": "HEd5-5v2BYqy"
      },
      "execution_count": null,
      "outputs": []
    },
    {
      "cell_type": "markdown",
      "source": [
        "2교시"
      ],
      "metadata": {
        "id": "MsGMmSHnJheG"
      }
    },
    {
      "cell_type": "markdown",
      "source": [
        "# 4. 마크다운\n",
        "## 4.1 헤더\n",
        "### 4.1.1 사용법\n",
        "제목을 입력하는 기능\n",
        "\n",
        "## 4.2 강조\n",
        "*강조*\n",
        "**강조**\n",
        "\n",
        "## 4.3 목록\n",
        "순서가 있는 경우\n",
        "1.\n",
        "2.\n",
        "3.\n",
        "\n",
        "순서가 없는 경우\n",
        "* 1\n",
        "* 2\n",
        "\n",
        "## 4.4 링크\n",
        " \"[\"이름\"]\"(\"링크주소\")\"\n",
        "[pyalgo](https://pyalgo.co.kr/)\n",
        "\n",
        "# 4.5 이미지\n",
        "\"![\"텍스트\"]\"\"(이미지\")\"\n",
        "![윈도우](https://post-phinf.pstatic.net/MjAyMzA1MjRfMjcz/MDAxNjg0ODg1Njc3NDU5.fiZDmR2r02u80fINSYTCgBzpWhhymp4Nb3efF14ewpUg.IFvR4JWu2nygYaLYEo7Dqytr_vpa1fhnhpywmRWJarEg.JPEG/%EC%9C%88%EB%8F%84%EC%9A%B0_11%2C_%EC%9C%88%EB%8F%84%EC%9A%B0_11_%EC%84%A4%EC%A0%95%2C_%EC%9C%88%EB%8F%84%EC%9A%B0_11_%EC%8B%9C%EC%9E%91%EB%A9%94%EB%89%B4%2C_%EC%9C%88%EB%8F%84%EC%9A%B0_11_%EB%B8%94%EB%A3%A8%EB%9D%BC%EC%9D%B4%ED%8A%B8_1.jpg?type=w1200)\n",
        "\n",
        "# 4.6\n",
        "텍스트-> 코드 바꿔주는 인라인코드 `탭위의 거꾸로 된 따옴표 백틱 사용\n",
        "`print(\"hello\")`\n",
        "코드블록 ```  ```사용\n",
        "\n",
        "# 4.7 기타\n",
        "*취소선 ~~취소선~~\n",
        "*인용문\n",
        ">\n",
        ">>\n",
        "*구분\n",
        "---\n",
        "***\n",
        "\n"
      ],
      "metadata": {
        "id": "Efw0ixwCJzO0"
      }
    },
    {
      "cell_type": "code",
      "source": [],
      "metadata": {
        "id": "aX6i8VIqNfPl"
      },
      "execution_count": null,
      "outputs": []
    },
    {
      "cell_type": "markdown",
      "source": [
        "#  1. **주석**\n",
        "##1.1 한줄주석\n"
      ],
      "metadata": {
        "id": "50tjxA9yCsCB"
      }
    },
    {
      "cell_type": "code",
      "source": [
        "#이것은 주석입니다.\n",
        "print('hello, world 1!') #이것도 주석입니다.\n",
        "print('hello, world 2!')"
      ],
      "metadata": {
        "colab": {
          "base_uri": "https://localhost:8080/"
        },
        "id": "vHQXSRT4DwwW",
        "outputId": "c802f9b3-a729-439c-81b2-8bc53d1a9995"
      },
      "execution_count": 2,
      "outputs": [
        {
          "output_type": "stream",
          "name": "stdout",
          "text": [
            "hello, world 1!\n",
            "hello, world 2!\n"
          ]
        }
      ]
    },
    {
      "cell_type": "markdown",
      "source": [
        "1.2 여러 줄 주석"
      ],
      "metadata": {
        "id": "LBaKYXCNE0XR"
      }
    },
    {
      "cell_type": "code",
      "source": [
        "'''\n",
        "print('hello, world 1!')\n",
        "print('hello, world 2!')\n",
        "'''\n",
        "print('real hello world ') # 코드옆에 설명 주석은 '''은 안됨"
      ],
      "metadata": {
        "colab": {
          "base_uri": "https://localhost:8080/"
        },
        "id": "MH8f8zOhD2oG",
        "outputId": "e859ea94-6a08-4bb8-bcca-734435d54852"
      },
      "execution_count": 4,
      "outputs": [
        {
          "output_type": "stream",
          "name": "stdout",
          "text": [
            "real hello world \n"
          ]
        }
      ]
    },
    {
      "cell_type": "code",
      "source": [],
      "metadata": {
        "id": "24d4x2rUFVJi"
      },
      "execution_count": null,
      "outputs": []
    },
    {
      "cell_type": "markdown",
      "source": [
        "#1. 입력input\n",
        "## 1-1"
      ],
      "metadata": {
        "id": "7qDq8N17Lmhm"
      }
    },
    {
      "cell_type": "code",
      "source": [
        "input('입력해주세요') #이상한 값이 나올수 있음"
      ],
      "metadata": {
        "colab": {
          "base_uri": "https://localhost:8080/",
          "height": 54
        },
        "id": "zJgHGfTULq7m",
        "outputId": "035437fb-c7fb-4ab3-9fab-f376df71de84"
      },
      "execution_count": 5,
      "outputs": [
        {
          "name": "stdout",
          "output_type": "stream",
          "text": [
            "입력해주세요10\n"
          ]
        },
        {
          "output_type": "execute_result",
          "data": {
            "text/plain": [
              "'10'"
            ],
            "application/vnd.google.colaboratory.intrinsic+json": {
              "type": "string"
            }
          },
          "metadata": {},
          "execution_count": 5
        }
      ]
    },
    {
      "cell_type": "code",
      "source": [
        "int(input('입력해주세요'))"
      ],
      "metadata": {
        "colab": {
          "base_uri": "https://localhost:8080/"
        },
        "id": "GoTD0eZdLq-T",
        "outputId": "2f1a1001-e731-4d40-c976-8a3cca514865"
      },
      "execution_count": 6,
      "outputs": [
        {
          "name": "stdout",
          "output_type": "stream",
          "text": [
            "입력해주세요10\n"
          ]
        },
        {
          "output_type": "execute_result",
          "data": {
            "text/plain": [
              "10"
            ]
          },
          "metadata": {},
          "execution_count": 6
        }
      ]
    },
    {
      "cell_type": "markdown",
      "source": [
        "1.2 실습"
      ],
      "metadata": {
        "id": "bLlDjhp6MZet"
      }
    },
    {
      "cell_type": "code",
      "source": [
        "name = input(\"이름을 입력해주세요\")"
      ],
      "metadata": {
        "id": "G5dzTK3qLrAm"
      },
      "execution_count": null,
      "outputs": []
    },
    {
      "cell_type": "code",
      "source": [
        "print(\"Hello,\" +name +\"!\"\")"
      ],
      "metadata": {
        "id": "HH8t6VyMLrDH"
      },
      "execution_count": null,
      "outputs": []
    },
    {
      "cell_type": "code",
      "source": [
        "#input을 활용한 덧셈 - 문자열인 경우\n",
        "a = input(\"첫번째 숫자를 입력해주세요\")\n",
        "b = input(\"첫번째 숫자를 입력해주세요\")\n",
        "\n",
        "print(\"a + b =\", a+b, \"입니다.\") # 잘못된 값 output"
      ],
      "metadata": {
        "colab": {
          "base_uri": "https://localhost:8080/"
        },
        "id": "UJHUU-98LrFW",
        "outputId": "70d3574f-2bd1-4949-e685-ae92b7402028"
      },
      "execution_count": 7,
      "outputs": [
        {
          "output_type": "stream",
          "name": "stdout",
          "text": [
            "첫번째 숫자를 입력해주세요3\n",
            "첫번째 숫자를 입력해주세요5\n",
            "a + b = 35 입니다.\n"
          ]
        }
      ]
    },
    {
      "cell_type": "code",
      "source": [
        "#input을 활용한 덧셈 - 문자열인 경우\n",
        "a = int( input(\"첫번째 숫자를 입력해주세요\"))\n",
        "b = int(input(\"첫번째 숫자를 입력해주세요\"))\n",
        "\n",
        "print(\"a + b =\", a+b, \"입니다.\")"
      ],
      "metadata": {
        "colab": {
          "base_uri": "https://localhost:8080/"
        },
        "id": "BJqfiZUxLrIV",
        "outputId": "3c14a295-3e34-4feb-cc98-3e7de7c6aa66"
      },
      "execution_count": 8,
      "outputs": [
        {
          "output_type": "stream",
          "name": "stdout",
          "text": [
            "첫번째 숫자를 입력해주세요3\n",
            "첫번째 숫자를 입력해주세요5\n",
            "a + b = 8 입니다.\n"
          ]
        }
      ]
    },
    {
      "cell_type": "markdown",
      "source": [
        "#2. 출력함수"
      ],
      "metadata": {
        "id": "2a5WbQkuNr4O"
      }
    },
    {
      "cell_type": "code",
      "source": [
        "#2.1 여러줄출력\n",
        "'출력합니다1'\n",
        "'출력합니다2' #마지막줄만"
      ],
      "metadata": {
        "colab": {
          "base_uri": "https://localhost:8080/",
          "height": 35
        },
        "id": "0msBI269PlRs",
        "outputId": "e6ca96bd-b9d3-4d7a-d5ee-cc0e12ee6f06"
      },
      "execution_count": 11,
      "outputs": [
        {
          "output_type": "execute_result",
          "data": {
            "text/plain": [
              "'출력합니다2'"
            ],
            "application/vnd.google.colaboratory.intrinsic+json": {
              "type": "string"
            }
          },
          "metadata": {},
          "execution_count": 11
        }
      ]
    },
    {
      "cell_type": "code",
      "source": [
        "print('출력합니다')"
      ],
      "metadata": {
        "colab": {
          "base_uri": "https://localhost:8080/"
        },
        "id": "lPBVbvTyLrQN",
        "outputId": "34bced9b-af0c-4f8d-e734-d66c4749c80f"
      },
      "execution_count": 9,
      "outputs": [
        {
          "output_type": "stream",
          "name": "stdout",
          "text": [
            "출력합니다\n"
          ]
        }
      ]
    },
    {
      "cell_type": "code",
      "source": [
        "# 2.2 여러값 출력\n",
        "print(\"hello\",\"world\",\"!\")"
      ],
      "metadata": {
        "colab": {
          "base_uri": "https://localhost:8080/"
        },
        "id": "JYcU5uB5OoIS",
        "outputId": "412dadec-69a6-43e8-c7d8-324cda4b6194"
      },
      "execution_count": 10,
      "outputs": [
        {
          "output_type": "stream",
          "name": "stdout",
          "text": [
            "hello world !\n"
          ]
        }
      ]
    },
    {
      "cell_type": "code",
      "source": [
        "# 2.3 sep구분자/end 구분자\n",
        "print(\"010\",\"0000\",\"0000\",sep=\"-\",end=\".\")"
      ],
      "metadata": {
        "colab": {
          "base_uri": "https://localhost:8080/"
        },
        "id": "WEVV2G4jO_l9",
        "outputId": "1cf5fd47-638e-4a07-e501-17ef4049dbb5"
      },
      "execution_count": 12,
      "outputs": [
        {
          "output_type": "stream",
          "name": "stdout",
          "text": [
            "010-0000-0000."
          ]
        }
      ]
    },
    {
      "cell_type": "code",
      "source": [],
      "metadata": {
        "id": "QMr2229_P5EK"
      },
      "execution_count": null,
      "outputs": []
    },
    {
      "cell_type": "markdown",
      "source": [
        "# 4. f-string\n",
        "\n"
      ],
      "metadata": {
        "id": "pyDdwffLRVAS"
      }
    },
    {
      "cell_type": "code",
      "source": [],
      "metadata": {
        "id": "tjY0X7bQS6mC"
      },
      "execution_count": null,
      "outputs": []
    },
    {
      "cell_type": "code",
      "source": [
        "# 4. f-string\n",
        "# 4.1 f-string에서 f가 없을때\n",
        "name = 'licat'\n",
        "age = 10\n",
        "print('제 이름은 {name}, 제 나이는 {age}입니다.')\n"
      ],
      "metadata": {
        "colab": {
          "base_uri": "https://localhost:8080/"
        },
        "id": "VjTJg84uRUwm",
        "outputId": "6714777a-1a44-480e-d0f7-69a9f1e76465"
      },
      "execution_count": 13,
      "outputs": [
        {
          "output_type": "stream",
          "name": "stdout",
          "text": [
            "제 이름은 {name}, 제 나이는 {age}입니다.\n"
          ]
        }
      ]
    },
    {
      "cell_type": "code",
      "source": [
        "# 4.2 f-string에서 중괄호가 없을때\n",
        "name = 'licat'\n",
        "age = 10\n",
        "print(f'제 이름은 name, 제 나이는 age 입니다.')"
      ],
      "metadata": {
        "id": "zPBPiCxGTFKz"
      },
      "execution_count": null,
      "outputs": []
    },
    {
      "cell_type": "code",
      "source": [
        "#4.3\n",
        "name = 'licat'\n",
        "age = 10\n",
        "print(f'제 이름은 {name}, 제 나이는 {age}입니다.') #f 와 중괄호 사용\n"
      ],
      "metadata": {
        "colab": {
          "base_uri": "https://localhost:8080/"
        },
        "id": "Jua9ajbfRnnd",
        "outputId": "8c5f2c1e-91c9-42b8-b830-b0dd59373c45"
      },
      "execution_count": 14,
      "outputs": [
        {
          "output_type": "stream",
          "name": "stdout",
          "text": [
            "제 이름은 licat, 제 나이는 10입니다.\n"
          ]
        }
      ]
    },
    {
      "cell_type": "code",
      "source": [
        "# 4.4 예시\n",
        "name = input(\"이름을 입력해주세요\")\n",
        "age = int(input(\"나이를 입력해주세요\"))\n",
        "\n",
        "print(f'제 이름은 {name}, 제 나이는 {age} 입니다.')"
      ],
      "metadata": {
        "id": "HHhaLsYgRwdR"
      },
      "execution_count": null,
      "outputs": []
    }
  ]
}