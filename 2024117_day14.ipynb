{
  "nbformat": 4,
  "nbformat_minor": 0,
  "metadata": {
    "colab": {
      "provenance": [],
      "authorship_tag": "ABX9TyN5h/WXo7NK7WTNA5njj63t",
      "include_colab_link": true
    },
    "kernelspec": {
      "name": "python3",
      "display_name": "Python 3"
    },
    "language_info": {
      "name": "python"
    }
  },
  "cells": [
    {
      "cell_type": "markdown",
      "metadata": {
        "id": "view-in-github",
        "colab_type": "text"
      },
      "source": [
        "<a href=\"https://colab.research.google.com/github/helloghostt/modu/blob/main/2024117_day14.ipynb\" target=\"_parent\"><img src=\"https://colab.research.google.com/assets/colab-badge.svg\" alt=\"Open In Colab\"/></a>"
      ]
    },
    {
      "cell_type": "code",
      "execution_count": 3,
      "metadata": {
        "colab": {
          "base_uri": "https://localhost:8080/"
        },
        "id": "gnmZqImdxtHB",
        "outputId": "3dbbd1db-a561-4361-e0c2-5784c72452f1"
      },
      "outputs": [
        {
          "output_type": "execute_result",
          "data": {
            "text/plain": [
              "30"
            ]
          },
          "metadata": {},
          "execution_count": 3
        }
      ],
      "source": [
        "class Calc:\n",
        "    pass\n",
        "\n",
        "add = Calc()\n",
        "add\n",
        "\n",
        "#더할수 있는 함수의 기능이 지금 Calc에 없습니다.\n",
        "\n",
        "add.oper = lambda x, y : x + y\n",
        "add.oper(10, 20)\n"
      ]
    },
    {
      "cell_type": "markdown",
      "source": [
        "# 클로저\n",
        "함수 내 함수가 외부 변수를 참조하여 보존하는 것"
      ],
      "metadata": {
        "id": "E01z62Ii3G-v"
      }
    },
    {
      "cell_type": "code",
      "source": [
        "#클로저인 경우\n",
        "\n",
        "def outer_function(x):\n",
        "    def inner_function(y):\n",
        "        return x + y\n",
        "    return inner_function\n",
        "\n",
        "inner = outer_function(100)\n",
        "inner(200) # inner 입장에서 100을 변경할 수 있는 방법이 없습니다."
      ],
      "metadata": {
        "id": "HK5hjDfX3Qlz"
      },
      "execution_count": null,
      "outputs": []
    },
    {
      "cell_type": "code",
      "source": [
        "def make_counter():\n",
        "    count = 0\n",
        "\n",
        "    def counter():\n",
        "        count += 1 # error 왜냐하면 지역변수 내에 count가 없기 때문에\n",
        "        return count\n",
        "\n",
        "    return counter\n",
        "\n",
        "counter_a = make_counter()\n",
        "print(counter_a())  # 1\n",
        "print(counter_a())  # 2"
      ],
      "metadata": {
        "id": "7YN5Sp6D3SZH"
      },
      "execution_count": null,
      "outputs": []
    },
    {
      "cell_type": "code",
      "source": [
        "def make_counter():\n",
        "    count = 0\n",
        "\n",
        "    def counter():\n",
        "        global count # error 왜냐하면 글로벌(전역 영역에) 영역에 count가 없습니다.\n",
        "        count += 1\n",
        "        return count\n",
        "\n",
        "    return counter\n",
        "\n",
        "counter_a = make_counter()\n",
        "print(counter_a())  # 1\n",
        "print(counter_a())  # 2"
      ],
      "metadata": {
        "id": "6tTMGDog3nn6"
      },
      "execution_count": null,
      "outputs": []
    },
    {
      "cell_type": "code",
      "source": [
        "def make_counter():\n",
        "    count = 0\n",
        "\n",
        "    def counter():\n",
        "        nonlocal count\n",
        "        count += 1\n",
        "        return count\n",
        "\n",
        "    return counter\n",
        "\n",
        "counter_a = make_counter()\n",
        "print(counter_a())  # 1\n",
        "print(counter_a())  # 2\n",
        "print(counter_a())  # 3\n",
        "\n",
        "# 이렇게 함으로 순서는 항상 상승된다는 보장할 수 있습니다.\n",
        "# DB에서 게시물 번호"
      ],
      "metadata": {
        "id": "_xh5Q_Cw3p6_"
      },
      "execution_count": null,
      "outputs": []
    },
    {
      "cell_type": "code",
      "source": [
        "#클로징 아님\n",
        "\n",
        "def calc(oper):\n",
        "    def add(x, y):\n",
        "        return x + y\n",
        "    def sub(x, y):\n",
        "        return x - y\n",
        "    if oper == 'add':\n",
        "        return add\n",
        "    if oper == 'sub':\n",
        "        return sub\n",
        "\n",
        "add = calc('add')\n",
        "add(10, 20)"
      ],
      "metadata": {
        "colab": {
          "base_uri": "https://localhost:8080/"
        },
        "id": "PAEiXM3A4WKQ",
        "outputId": "250194d9-5927-4813-934a-f6ba2ec0d5c5"
      },
      "execution_count": 4,
      "outputs": [
        {
          "output_type": "execute_result",
          "data": {
            "text/plain": [
              "30"
            ]
          },
          "metadata": {},
          "execution_count": 4
        }
      ]
    },
    {
      "cell_type": "code",
      "source": [
        "def calc(oper, original):\n",
        "    def add(x, y):\n",
        "        return original + x + y\n",
        "    def sub(x, y):\n",
        "        return original - x - y\n",
        "    if oper == 'add':\n",
        "        return add\n",
        "    if oper == 'sub':\n",
        "        return sub\n",
        "\n",
        "add = calc('add', 1000)\n",
        "add(10, 20) # 1030   add입장에서 100을 바꿀수 없다\n",
        "\n",
        "sub = calc('sub', 100)\n",
        "sub(10, 20) #70 sub입장에서 100을 바꿀수 없다"
      ],
      "metadata": {
        "colab": {
          "base_uri": "https://localhost:8080/"
        },
        "id": "BHCM9qzj4zad",
        "outputId": "da49d31b-f71e-443d-e925-86ddae5c4690"
      },
      "execution_count": 5,
      "outputs": [
        {
          "output_type": "execute_result",
          "data": {
            "text/plain": [
              "1030"
            ]
          },
          "metadata": {},
          "execution_count": 5
        }
      ]
    },
    {
      "cell_type": "code",
      "source": [
        "# 어떠한 변수를 보호하기 위한 용도로 잘 사용하지 않음, 문제발생 가능\n",
        "def 은행(원금):\n",
        "    def 입금(입금금액):\n",
        "        return 원금 + 입금금액\n",
        "    return 입금\n",
        "\n",
        "이호준통장_입금함수 = 은행(1000) # 1000만원을 초기에 입금\n",
        "이호준통장_입금함수(100)\n",
        "이호준통장_입금함수(-1100)\n",
        "\n",
        "# 문제점1: 입금 금액에 커스텀 인스턴스를 넣어서 __add__를 추가할 수 있나요?\n",
        "# 문제점2: 출금은 안되나요?\n",
        "\n",
        "#이더리움 양수만 있음 음수 없음\n",
        "#0원 -1원 -> 옛날 차 계기판 -> 나올 수 있는 최댓값\n",
        "#마이너스 연산을 허락하지 않데 어떻게 마이너스 연산을 한 것일까요?"
      ],
      "metadata": {
        "colab": {
          "base_uri": "https://localhost:8080/"
        },
        "id": "Gg-oKGYC8T14",
        "outputId": "096893b0-7575-40e5-806a-276b87f78997"
      },
      "execution_count": 6,
      "outputs": [
        {
          "output_type": "execute_result",
          "data": {
            "text/plain": [
              "-100"
            ]
          },
          "metadata": {},
          "execution_count": 6
        }
      ]
    },
    {
      "cell_type": "markdown",
      "source": [
        "# 데커레이터 - 별표 1개\n",
        "함수 또는 메서드를 꾸며주는 함수"
      ],
      "metadata": {
        "id": "19ATH3YM34H2"
      }
    },
    {
      "cell_type": "code",
      "source": [
        "def login(function):\n",
        "    pass\n",
        "\n",
        "@login          #선행조건에서만 사용가능한 경우도 있고 아닌경우도 있음\n",
        "def 게시판읽기():\n",
        "    pass"
      ],
      "metadata": {
        "id": "iS53mq18APpN"
      },
      "execution_count": 9,
      "outputs": []
    },
    {
      "cell_type": "code",
      "source": [
        "# 데코레이터의 작동원리\n",
        "def simple_decorator(function):\n",
        "    def wrapper():\n",
        "        print(\"전\")\n",
        "        function()\n",
        "        print(\"후\")\n",
        "    return wrapper\n",
        "\n",
        "@simple_decorator\n",
        "def hello():\n",
        "    print(\"Hello, World!\")\n",
        "\n",
        "hello() # 데코레이터가 없는 상태에서는 simple_decorator(hello)() 와 같습니다."
      ],
      "metadata": {
        "id": "BASWvxxwCLOB"
      },
      "execution_count": null,
      "outputs": []
    },
    {
      "cell_type": "code",
      "source": [
        "def simple_decorator(function):\n",
        "    def wrapper(a, b): # point1\n",
        "        print('전')\n",
        "        result = function(a, b)   #point2\n",
        "        print(result)\n",
        "        print('후')\n",
        "        return result\n",
        "    return wrapper\n",
        "\n",
        "@simple_decorator\n",
        "def hello(a, b):       #wrapper매개변수와 hello매개변수는 같아야함\n",
        "    return a + b\n",
        "\n",
        "hello(10, 20) #simple_decorator(hello)(10, 20) =>wrapper(10, 20)"
      ],
      "metadata": {
        "colab": {
          "base_uri": "https://localhost:8080/"
        },
        "id": "anwQvdZpDSzm",
        "outputId": "50c31786-4cae-4fd5-9ddb-4c1628823207"
      },
      "execution_count": 15,
      "outputs": [
        {
          "output_type": "stream",
          "name": "stdout",
          "text": [
            "전\n",
            "30\n",
            "후\n"
          ]
        },
        {
          "output_type": "execute_result",
          "data": {
            "text/plain": [
              "30"
            ]
          },
          "metadata": {},
          "execution_count": 15
        }
      ]
    },
    {
      "cell_type": "code",
      "source": [
        "#sum([1, 2, '3', 4, 5, '6'])\n",
        "l = [1, 2, '3', 4, 5, '6']\n",
        "sum(map(int, l))"
      ],
      "metadata": {
        "colab": {
          "base_uri": "https://localhost:8080/"
        },
        "id": "FQg3Cj_3FKRK",
        "outputId": "3327d113-373a-43b7-cfd4-9e926ccf7939"
      },
      "execution_count": 16,
      "outputs": [
        {
          "output_type": "execute_result",
          "data": {
            "text/plain": [
              "21"
            ]
          },
          "metadata": {},
          "execution_count": 16
        }
      ]
    },
    {
      "cell_type": "code",
      "source": [
        "l = [1, 2, '3hello', 4, 5, '|6|']\n",
        "@p\n",
        "sum(l) #오류"
      ],
      "metadata": {
        "id": "mRG_uEoXFgn9"
      },
      "execution_count": null,
      "outputs": []
    },
    {
      "cell_type": "code",
      "source": [
        "#step1:\n",
        "def data_pre(function):\n",
        "    def wrapper():\n",
        "        return None\n",
        "    return wrapper\n",
        "@data_pre\n",
        "def mean(l):\n",
        "    return sum(l) / len(l)\n",
        "\n",
        "mean([1, 2, '3', 4, 5, '6'])"
      ],
      "metadata": {
        "id": "M0rz9RDsGJpL"
      },
      "execution_count": null,
      "outputs": []
    },
    {
      "cell_type": "code",
      "source": [
        "#step2 파라미터 설정\n",
        "#얻어가야할 포인트(데코레이터와는 관련은 없습니다): map은 __len__가 없어서 len()가 안됩니다.\n",
        "#포인트2 list 형변환은 부담이 있는 연산이니 주의를 해주세요.\n",
        "\n",
        "def data_pre(function):\n",
        "    def wrapper(iter_obj):\n",
        "        return function(list(map(int, iter_obj)))\n",
        "    return wrapper\n",
        "\n",
        "@data_pre\n",
        "def mean(l):\n",
        "    return sum(l) / len(l)\n",
        "\n",
        "mean([1, 2, '3', 4, 5, '6']) # data_pre(mean)(iter_obj) # iter_obj에 [1, 2, '3', 4, 5, '6']\n",
        "#출력 3.5\n",
        "# 이 3.5는 실제 mean 반환값인가요? 실제는 wrapper에 반환값입니다!!"
      ],
      "metadata": {
        "id": "8dQIP99PGwJP"
      },
      "execution_count": null,
      "outputs": []
    },
    {
      "cell_type": "code",
      "source": [
        "#복습 필요X\n",
        "# 좀 더 정교한 작업이 필요할 때\n",
        "# 정규표현식 배우면 엄청 간단해집니다.\n",
        "# re.sub(r'[a-zA-Z]+', '')\n",
        "\n",
        "def data_pre(function):\n",
        "    def wrapper(iter_obj):\n",
        "        l = []\n",
        "        for i in iter_obj:\n",
        "            if isinstance(i, str):\n",
        "                s = ''\n",
        "                for j in i:\n",
        "                    if j.isdigit():\n",
        "                        s += j\n",
        "                l.append(int(s))\n",
        "            else:\n",
        "                l.append(i)\n",
        "        print(l)\n",
        "        return function(list(map(int, l)))\n",
        "    return wrapper\n",
        "\n",
        "@data_pre\n",
        "def mean(l):\n",
        "    return sum(l) / len(l)\n",
        "\n",
        "mean([1, 2, 'l3l', 4, 5, 'abc6def'])\n",
        "\n",
        "#출력 [1, 2, 3, 4, 5, 6]\n",
        "#3.5"
      ],
      "metadata": {
        "id": "Tm5f8KTZLuMf"
      },
      "execution_count": null,
      "outputs": []
    },
    {
      "cell_type": "code",
      "source": [
        "# step0와 step1을 함께 한겁니다.\n",
        "data = [-1, 30, 20, 31, -50] # sum을 할 것인데!? 모두다 절대값을 취하는 데커레이터를 만들어 사용하도록 할게요.\n",
        "\n",
        "\n",
        "def all_abs():\n",
        "    def wrapper():\n",
        "        return\n",
        "    return wrapper\n",
        "\n",
        "\n",
        "@all_abs\n",
        "def _sum(l):\n",
        "    return sum(l)\n",
        "\n",
        "_sum(data)"
      ],
      "metadata": {
        "id": "MkEybBK2O5bS"
      },
      "execution_count": null,
      "outputs": []
    },
    {
      "cell_type": "code",
      "source": [
        "# step2\n",
        "data = [-1, 2, 3, 4, -5] # sum을 할 것인데!? 모두다 절대값을 취하는 데커레이터를 만들어 사용하도록 할게요.\n",
        "\n",
        "\n",
        "def all_abs(f):\n",
        "    def wrapper(iter_obj):\n",
        "        return f([abs(i) for i in iter_obj])\n",
        "    return wrapper\n",
        "\n",
        "\n",
        "@all_abs\n",
        "def _sum(l):\n",
        "    return sum(l)\n",
        "\n",
        "_sum(data)  #15"
      ],
      "metadata": {
        "id": "ZHMAIhz6NGTM"
      },
      "execution_count": null,
      "outputs": []
    },
    {
      "cell_type": "markdown",
      "source": [
        "# lambda"
      ],
      "metadata": {
        "id": "5UYMdlBzPhmd"
      }
    },
    {
      "cell_type": "code",
      "source": [
        "square = lambda x: x*x\n",
        "print(square(5))  # 출력: 25\n",
        "\n",
        "#l = lambda x: lambda x**2\n",
        "#print(l)"
      ],
      "metadata": {
        "colab": {
          "base_uri": "https://localhost:8080/"
        },
        "id": "X-7bdWYTPmwL",
        "outputId": "ff4eaf41-db78-4662-9bd6-b74f88ad01a5"
      },
      "execution_count": 21,
      "outputs": [
        {
          "output_type": "stream",
          "name": "stdout",
          "text": [
            "25\n"
          ]
        }
      ]
    },
    {
      "cell_type": "code",
      "source": [
        "numbers = [1, 2, 3, 4, 5]\n",
        "print(list(filter(lambda x: x > 3, numbers)))  # 출력: [4, 5]\n",
        "\n",
        "\n",
        "# 재사용 여부에 따라 lambda를 사용할지 def 사용할지 판단하시면 됩니다.\n",
        "def f(x):\n",
        "    return x > 3\n",
        "numbers = [1, 2, 3, 4, 5]\n",
        "print(list(filter(f, numbers)))  # 출력: [4, 5]"
      ],
      "metadata": {
        "id": "SV9bxiXXQGw3"
      },
      "execution_count": null,
      "outputs": []
    },
    {
      "cell_type": "markdown",
      "source": [
        "# args, kwargs\n",
        "\n",
        "- 애스터리스크(*) 1개는 튜플이나 리스트를 패킹, 언패킹\n",
        "- 2개는 딕셔너리를 패킹, 언패킹"
      ],
      "metadata": {
        "id": "PrBwE_X6R8tk"
      }
    },
    {
      "cell_type": "code",
      "source": [
        "def print_args(*args):\n",
        "    print(args) # 출력: (100, True, 'Licat')\n",
        "\n",
        "print_args(100, True, 'Licat')"
      ],
      "metadata": {
        "id": "6A6NugSJR8LB"
      },
      "execution_count": null,
      "outputs": []
    },
    {
      "cell_type": "code",
      "source": [
        "def print_args(a, b, *args):\n",
        "    print(args) # 출력: ('Licat', 'hello', 10)\n",
        "\n",
        "print_args(100, True, 'Licat', 'hello', 10)"
      ],
      "metadata": {
        "id": "5t45pmefUIsi"
      },
      "execution_count": null,
      "outputs": []
    },
    {
      "cell_type": "code",
      "source": [
        "# 아래처럼 사용되는 경우가 많으니 아래 것만 기억해주셔도 괜찮습니다.\n",
        "# 패킹\n",
        "def func(*args):\n",
        "    print(args)\n",
        "\n",
        "func(10, 20, 30)\n",
        "# 10, 20, 30 => *args => (10, 20, 30)"
      ],
      "metadata": {
        "id": "Sv_LZUlMU773"
      },
      "execution_count": null,
      "outputs": []
    },
    {
      "cell_type": "code",
      "source": [
        "def print_kwargs(a, **kwargs):\n",
        "    print(a)\n",
        "    print(kwargs)\n",
        "\n",
        "print_kwargs(100, name='Licat', age='10')"
      ],
      "metadata": {
        "id": "Y8W9mRhNVDiq"
      },
      "execution_count": null,
      "outputs": []
    },
    {
      "cell_type": "code",
      "source": [
        "def f(a, b, c, d, e):\n",
        "    print(a, b, c, d, e)\n",
        "\n",
        "f(1, 2, 3, 4, 5)"
      ],
      "metadata": {
        "id": "Y9w0yTPSVGNj"
      },
      "execution_count": null,
      "outputs": []
    },
    {
      "cell_type": "code",
      "source": [
        "def f(a, b, c, d, e):\n",
        "    print(a, b, c, d, e)\n",
        "\n",
        "f(1, 2, e=3, d=4, c=5)"
      ],
      "metadata": {
        "id": "6YCkE9MdVIZm"
      },
      "execution_count": null,
      "outputs": []
    },
    {
      "cell_type": "code",
      "source": [
        "def print_kwargs(a, **kwargs):\n",
        "    print(a)\n",
        "    print(kwargs)\n",
        "\n",
        "print_kwargs(100, name='Licat', age='10')"
      ],
      "metadata": {
        "id": "Ug_BcFQIZWXX"
      },
      "execution_count": null,
      "outputs": []
    },
    {
      "cell_type": "code",
      "source": [
        "def f(a, b, c, d, e):\n",
        "    print(a, b, c, d, e)\n",
        "\n",
        "f(1, 2, 3, 4, 5)"
      ],
      "metadata": {
        "id": "kaosBreWZX68"
      },
      "execution_count": null,
      "outputs": []
    },
    {
      "cell_type": "code",
      "source": [
        "def f(a, b, c, d, e):\n",
        "    print(a, b, c, d, e)\n",
        "\n",
        "f(1, 2, e=3, d=4, c=5) # 이렇게 보장해주는 언어가 별로 없어요."
      ],
      "metadata": {
        "id": "fC6P9zf-ZZrO"
      },
      "execution_count": null,
      "outputs": []
    },
    {
      "cell_type": "code",
      "source": [
        "def print_args_kwargs(*args, **kwargs):\n",
        "    print('args:', args)\n",
        "    print('kwargs:', kwargs)\n",
        "\n",
        "inputlist = [100, True, 'leehojun']\n",
        "inputdic = {'score':100, 'name':'leehojun', 'age':'10'}\n",
        "print_args_kwargs(*inputlist)\n",
        "print('--------')\n",
        "print_args_kwargs(**inputdic)\n",
        "print('--------')\n",
        "print_args_kwargs(*inputlist, **inputdic)"
      ],
      "metadata": {
        "id": "wvQ8jtFMZbpT"
      },
      "execution_count": null,
      "outputs": []
    },
    {
      "cell_type": "markdown",
      "source": [
        "# 이터레이터와 제너레이터\n",
        "- 이터레이터란, 값을 차례대로 꺼낼 수 있는 객체\n",
        "- 시퀀스형 자료형이란 index가 있고 indexing, slicing이 가능한 자료형\n",
        "- 제너레이터 : 이터레이터를 생성해주는 함수로, yield 키워드를 사용"
      ],
      "metadata": {
        "id": "n0E6u3X8ZjEk"
      }
    },
    {
      "cell_type": "code",
      "source": [
        "# dict는 이터레이터인가요? Yes\n",
        "for i in {'one': 1, 'two': 2}:\n",
        "    print(i)\n",
        "\n",
        "list(map(lambda x:x[0], {'one': 1, 'two': 2}))\n",
        "\n",
        "# dict는 시퀀스형 자료형인가요? No\n",
        "# {'one': 1, 'two': 2}[2:] # error"
      ],
      "metadata": {
        "id": "EydncQbaaDgD"
      },
      "execution_count": null,
      "outputs": []
    },
    {
      "cell_type": "code",
      "source": [
        "class MyIterator:\n",
        "    def __init__(self, stop):\n",
        "        self.current_value = 0  # 현재 값\n",
        "        self.stop = stop  # 순회를 멈출 값\n",
        "\n",
        "    def __iter__(self):\n",
        "        return self\n",
        "\n",
        "    def __next__(self):\n",
        "        if self.current_value >= self.stop:\n",
        "            raise StopIteration\n",
        "        result = self.current_value\n",
        "        self.current_value += 1\n",
        "        return result\n",
        "\n",
        "my_iterator = MyIterator(5)\n",
        "\n",
        "for i in my_iterator:\n",
        "    print(i)"
      ],
      "metadata": {
        "id": "cXdzAynVbcAH"
      },
      "execution_count": null,
      "outputs": []
    },
    {
      "cell_type": "code",
      "source": [
        "class MyIterator:\n",
        "    def __init__(self, stop):\n",
        "        self.current_value = 0  # 현재 값\n",
        "        self.stop = stop  # 순회를 멈출 값\n",
        "\n",
        "    def __iter__(self):\n",
        "        return self\n",
        "\n",
        "    def __next__(self):\n",
        "        if self.current_value >= self.stop:\n",
        "            raise StopIteration\n",
        "        result = self.current_value\n",
        "        self.current_value += 1\n",
        "        return result\n",
        "\n",
        "x = iter(MyIterator(5)) # for문의 시작\n",
        "print(next(x))\n",
        "print(next(x))\n",
        "print(next(x))\n",
        "print(next(x))\n",
        "print(next(x))\n",
        "print(next(x)) # for문이 멈춤"
      ],
      "metadata": {
        "id": "GIHoa9lDbeC2"
      },
      "execution_count": null,
      "outputs": []
    },
    {
      "cell_type": "code",
      "source": [
        "#제너레이터 :제너레이터는 이터레이터를 생성해주는 함수로, yield 키워드를 사용\n",
        "def my_generator():\n",
        "    x = 10\n",
        "    yield x\n",
        "    x = 20\n",
        "    yield x\n",
        "    x = 30\n",
        "    yield x\n",
        "     # return  #있으면 10 20 30 출력\n",
        "    x = 40\n",
        "    yield x\n",
        "\n",
        "for i in my_generator():\n",
        "    print(i)  #출력 10 20 30 40  #출력하면서 yield로 돌아가서 순회가능(이터러블해짐)"
      ],
      "metadata": {
        "colab": {
          "base_uri": "https://localhost:8080/"
        },
        "id": "HSsV3mMcb2qi",
        "outputId": "e90b8d46-4a2a-45d7-8340-098ba571fc11"
      },
      "execution_count": 23,
      "outputs": [
        {
          "output_type": "stream",
          "name": "stdout",
          "text": [
            "10\n",
            "20\n",
            "30\n",
            "40\n"
          ]
        }
      ]
    },
    {
      "cell_type": "code",
      "source": [
        "def my_generator():\n",
        "    x = 10\n",
        "    yield x\n",
        "    x = 20\n",
        "    yield x\n",
        "    x = 30\n",
        "    yield x\n",
        "    x = 40\n",
        "    yield x\n",
        "\n",
        "list(zip('hello', my_generator()))"
      ],
      "metadata": {
        "id": "Ac4FHmCrc9jV"
      },
      "execution_count": null,
      "outputs": []
    },
    {
      "cell_type": "code",
      "source": [
        "def my_generator():\n",
        "    x = 0\n",
        "    while True:\n",
        "        yield x\n",
        "        x += 2\n",
        "\n",
        "list(zip('hello', my_generator()))"
      ],
      "metadata": {
        "id": "LqP25S7edMcw"
      },
      "execution_count": null,
      "outputs": []
    },
    {
      "cell_type": "code",
      "source": [
        "def my_generator():\n",
        "    l = ['짝', '홀']\n",
        "    while True:\n",
        "        yield l[t := False]   #:= 왈라스 연산자\n",
        "        yield l[t := True]\n",
        "\n",
        "list(zip([0, 1, 2, 3, 4, 5, 6], my_generator()))"
      ],
      "metadata": {
        "id": "UZWuOXF5d0ov"
      },
      "execution_count": null,
      "outputs": []
    },
    {
      "cell_type": "code",
      "source": [
        "x = 10\n",
        "while x := x - 1:\n",
        "    print(x)  #0할당되면 멈춤"
      ],
      "metadata": {
        "id": "Qo3HYWkzeYnq"
      },
      "execution_count": null,
      "outputs": []
    },
    {
      "cell_type": "code",
      "source": [
        "l = [10, 20, 30]\n",
        "while l:\n",
        "    print(l.pop())"
      ],
      "metadata": {
        "id": "CMpyr_4ZfTdO"
      },
      "execution_count": null,
      "outputs": []
    },
    {
      "cell_type": "code",
      "source": [
        "#중요하지 않\n",
        "# nonlocal은 파이썬의 키워드 중 하나로, 중첩 함수 내부에서 바깥 함수의 변수를 참조할 수 있게 합니다.\n",
        "# nonlocal은 주로 클로저(closure)에서 변수의 값을 변경하고자 할 때 사용합니다.\n",
        "\n",
        "# nonlocal\n",
        "a = 10\n",
        "def f():\n",
        "    a = 100\n",
        "    print(f'f a: {a}')\n",
        "    def ff():\n",
        "        a = 1000\n",
        "        print(f'ff a: {a}')\n",
        "        def fff():\n",
        "            nonlocal a # global a로 변경해보세요.\n",
        "            a = 100\n",
        "            print(f'fff a: {a}')\n",
        "        fff()\n",
        "        print(f'ff a: {a}')\n",
        "    ff()\n",
        "f()\n",
        "print(f'global a: {a}')"
      ],
      "metadata": {
        "id": "UMGg7qqAgmgf"
      },
      "execution_count": null,
      "outputs": []
    },
    {
      "cell_type": "markdown",
      "source": [
        "#모듈"
      ],
      "metadata": {
        "id": "8eKPIKkuhkgA"
      }
    },
    {
      "cell_type": "code",
      "source": [
        "# 모듈이란 클래스나 함수, 변수를 다른 파일(.py)에 작성하여\n",
        "# 다른 파이썬 코드에서 재사용할 수 있도록 한 것입니다.\n",
        "# 1번 스탭 : info.py를 생성\n",
        "# name = 'leehojun'\n",
        "# age = 10\n",
        "\n",
        "# def hello():\n",
        "#     print('안녕하세요 저는 이호준입니다.')"
      ],
      "metadata": {
        "id": "C4Gm_L-fhjP6"
      },
      "execution_count": null,
      "outputs": []
    },
    {
      "cell_type": "code",
      "source": [
        "import info # info.py를 가져오겠다!\n",
        "\n",
        "info.name\n",
        "info.age\n",
        "info.hello()"
      ],
      "metadata": {
        "id": "ADCMxztCh2WZ"
      },
      "execution_count": null,
      "outputs": []
    },
    {
      "cell_type": "code",
      "source": [
        "import info as q # info라는 이름 대신 q\n",
        "\n",
        "q.name\n",
        "q.age\n",
        "q.hello()"
      ],
      "metadata": {
        "id": "N8IqZekSiecY"
      },
      "execution_count": null,
      "outputs": []
    },
    {
      "cell_type": "code",
      "source": [
        "#정말 많이 쓰는 코드\n",
        "import pandas as pd\n",
        "import numpy as np"
      ],
      "metadata": {
        "id": "-MW6o_AuigNA"
      },
      "execution_count": null,
      "outputs": []
    },
    {
      "cell_type": "code",
      "source": [
        "#폴더 a>b>c>infotest.py 파일이 있을 경우\n",
        "#name = 'hojun'만 infotest.py에 있습니다.\n",
        "\n",
        "import a.b.c.infotest as q\n",
        "\n",
        "q.name"
      ],
      "metadata": {
        "id": "jaivwC8Nz9GM"
      },
      "execution_count": null,
      "outputs": []
    },
    {
      "cell_type": "code",
      "source": [
        "import sys\n",
        "\n",
        "sys.path # 모듈을 읽어오는 경로\n",
        "sys.modules # 기본적으로 읽어온 모듈들"
      ],
      "metadata": {
        "id": "t1Ldhg_M2XoF"
      },
      "execution_count": null,
      "outputs": []
    },
    {
      "cell_type": "code",
      "source": [
        "from info import name, age, hello\n",
        "\n",
        "print(name)"
      ],
      "metadata": {
        "id": "PyRZSF8J2eL1"
      },
      "execution_count": null,
      "outputs": []
    },
    {
      "cell_type": "code",
      "source": [
        "# 2개의 방식이 있는데 어떤 방식이 좋을까요? => 상황에 맞게 쓰시면 됩니다.\n",
        "# 어떤게 더 좋다는 표현은 옳지 않습니다. 정답은 없습니다.\n",
        "# 1번\n",
        "from info import name, age, hello\n",
        "\n",
        "print(name)"
      ],
      "metadata": {
        "id": "dgF_0H9W3ER_"
      },
      "execution_count": null,
      "outputs": []
    },
    {
      "cell_type": "code",
      "source": [
        "# 2번\n",
        "# 여러 모듈을 포함해야 하는 실무에서는 2번이 선호됩니다.\n",
        "import info\n",
        "\n",
        "info.name\n",
        "info.age\n",
        "info.hello()"
      ],
      "metadata": {
        "id": "1PewEU7c3Ge4"
      },
      "execution_count": null,
      "outputs": []
    },
    {
      "cell_type": "code",
      "source": [
        "# 문제가 있는 코드\n",
        "# 뒤에 로드 된 것이 덮어 씁니다.\n",
        "# 이런 경우는 아주 극히 드물지만 일어나는 일입니다.\n",
        "\n",
        "from info import name, age, hello\n",
        "from infotwo import name, age\n",
        "\n",
        "print(name)"
      ],
      "metadata": {
        "id": "n9SUf3cJ3H5S"
      },
      "execution_count": null,
      "outputs": []
    },
    {
      "cell_type": "code",
      "source": [
        "# 카카오 구글 로그인, 엑셀 로드, 문자보내기 모듈로 있음\n",
        "# 파이썬은 라이브러리, 프레임워크, 서드파티가 정말 잘 되어있다\n",
        "\n",
        "#라이브러리: 여러분 코드에 라이브러리가 섞여 들어가는 코드, 예를 들어 크롤링에 request, bs4\n",
        "#프레임워크: 설계 도면이 정해져 있어서 이 설계도면대로 코딩해야하는경우, 레고설계도면처럼 완성품에 설계도면이 존재\n",
        "#서드파티: 프레임워크에 붙는 코드, 예를 들어 장고서드파티라고 하면 장고 로그인, ㅇㄲㄹ, 장고-cors"
      ],
      "metadata": {
        "id": "mXgVkE9k38AG"
      },
      "execution_count": null,
      "outputs": []
    },
    {
      "cell_type": "markdown",
      "source": [
        "# 자주 사용되는 표준 라이브러리"
      ],
      "metadata": {
        "id": "v77SkZ405MNK"
      }
    },
    {
      "cell_type": "code",
      "source": [
        "# os모듈\n",
        "# Django에서는 빠지고 pathlib 모듈이 들어옴\n",
        "# 이유: 너무 강력하고\n",
        "# os모듈에 경로지정\n",
        "\n",
        "import os\n",
        "\n",
        "os.mkdir('licat') # licat이란 폴더 생성, 삭제는 os.rmdir()\n",
        "os.getcwd() # 현재 경로 반환\n",
        "os.open('a.txt', os.O_CREAT | os.O_WRONLY) # 파일 생성(os.O_CREAT: 필요한 경우 파일을 생성, os.O_WRONLY: 파일을 쓰기 전용 모드로 연다.)\n",
        "os.rename('a.txt', 'b.txt') # a.txt파일을 b.txt파일로 변경\n",
        "os.remove('b.txt')\n"
      ],
      "metadata": {
        "id": "XeTOkeC35KtL"
      },
      "execution_count": null,
      "outputs": []
    },
    {
      "cell_type": "code",
      "source": [
        "#datetime모듈\n",
        "\n",
        "import datetime\n",
        "\n",
        "s = datetime.datetime(2023, 9, 19, 14, 10)\n",
        "print(s)\n",
        "print(s.year, s.month, s.day, s.hour, s.minute)\n",
        "\n",
        "s = datetime.datetime(2023, 9, 18, 14, 10)\n",
        "print(s.weekday()) # 월요일0, 화요일1, 수요일2 ... 일요일6\n",
        "\n",
        "today = datetime.date.today()\n",
        "days = datetime.timedelta(days=100)\n",
        "today + days # 100일 후 시간\n",
        "\n",
        "graduation_date = datetime.date(2023, 12, 29)\n",
        "today = datetime.date.today()\n",
        "\n",
        "print(graduation_date - today) # 졸업까지 남은 일자"
      ],
      "metadata": {
        "id": "EqHtwWsr8Ifq"
      },
      "execution_count": null,
      "outputs": []
    },
    {
      "cell_type": "code",
      "source": [
        "#json모듈 https://datagenerator.co.kr/   더미 데이터 생성 서비\n",
        "\n",
        "import json\n",
        "\n",
        "d = {\n",
        "    'one': 1,\n",
        "    'two': 2,\n",
        "    'three': 3\n",
        "}\n",
        "\n",
        "s = json.dumps(d)\n",
        "print(type(s)) # str\n",
        "d = json.loads(s)\n",
        "print(type(d)) # dict"
      ],
      "metadata": {
        "id": "TxW4fmrX6ii5"
      },
      "execution_count": null,
      "outputs": []
    },
    {
      "cell_type": "code",
      "source": [
        "# (point4)주의! True는 안됩니다. true여야 합니다.\n",
        "[{\n",
        "    \"지역이름\": \"서울\", # point2 json은 쌍 따옴표여야 합니다!\n",
        "    \"확진자수\": 5607, # point3 dict key와 콜론은 붙여쓰고 콜론과 value는 한 칸 띄어씁니다.\n",
        "    \"격리해제수\": 5050,\n",
        "    \"사망자수\": 66,\n",
        "    \"십만명당발생율\": 57.61,\n",
        "    \"지역별확진자비율\": 22.53\n",
        "},\n",
        "{\n",
        "    \"지역이름\": \"부산\",\n",
        "    \"확진자수\": 491,\n",
        "    \"격리해제수\": 423,\n",
        "    \"사망자수\": 4,\n",
        "    \"십만명당발생율\": 14.39,\n",
        "    \"지역별확진자비율\": 1.97\n",
        "},\n",
        "{\n",
        "    \"지역이름\": \"대구\",\n",
        "    \"확진자수\": 7141,\n",
        "    \"격리해제수\": 6933,\n",
        "    \"사망자수\": 196,\n",
        "    \"십만명당발생율\": 293.09,\n",
        "    \"지역별확진자비율\": 28.69\n",
        "}]"
      ],
      "metadata": {
        "colab": {
          "base_uri": "https://localhost:8080/"
        },
        "id": "Ii2ZEu_Z9gDL",
        "outputId": "c7ff473f-5482-4905-a7f4-47f5100ffea8"
      },
      "execution_count": 32,
      "outputs": [
        {
          "output_type": "execute_result",
          "data": {
            "text/plain": [
              "[{'지역이름': '서울',\n",
              "  '확진자수': 5607,\n",
              "  '격리해제수': 5050,\n",
              "  '사망자수': 66,\n",
              "  '십만명당발생율': 57.61,\n",
              "  '지역별확진자비율': 22.53},\n",
              " {'지역이름': '부산',\n",
              "  '확진자수': 491,\n",
              "  '격리해제수': 423,\n",
              "  '사망자수': 4,\n",
              "  '십만명당발생율': 14.39,\n",
              "  '지역별확진자비율': 1.97},\n",
              " {'지역이름': '대구',\n",
              "  '확진자수': 7141,\n",
              "  '격리해제수': 6933,\n",
              "  '사망자수': 196,\n",
              "  '십만명당발생율': 293.09,\n",
              "  '지역별확진자비율': 28.69}]"
            ]
          },
          "metadata": {},
          "execution_count": 32
        }
      ]
    },
    {
      "cell_type": "code",
      "source": [
        "data = [\n",
        "  {\n",
        "    \"_id\": \"044829e8-9d9c-43be-C881-afc426ec9134\",\n",
        "    \"index\": \"1\",\n",
        "    \"name\": \"용기준\",\n",
        "    \"email\": \"user-7jxpy5y@Sit.com\",\n",
        "    \"phone\": \"010-4407-4333\",\n",
        "    \"country\": \"네덜란드\",\n",
        "    \"address\": \"양재로 76-6\",\n",
        "    \"job\": \"검사\"\n",
        "  },\n",
        "  {\n",
        "    \"_id\": \"f01326f2-d4d0-4700-C0e3-f84ece54b6cb\",\n",
        "    \"index\": \"2\",\n",
        "    \"name\": \"인규리\",\n",
        "    \"email\": \"user-l8rhtqf@egestas.net\",\n",
        "    \"phone\": \"010-4126-2990\",\n",
        "    \"country\": \"중국\",\n",
        "    \"address\": \"성동로 22-7\",\n",
        "    \"job\": \"간호사\"\n",
        "  },\n",
        "  {\n",
        "    \"_id\": \"b931ea6e-b4cd-4b52-C3e6-22e9779cff1e\",\n",
        "    \"index\": \"3\",\n",
        "    \"name\": \"단인성\",\n",
        "    \"email\": \"user-no8losf@auctor.org\",\n",
        "    \"phone\": \"010-2785-3415\",\n",
        "    \"country\": \"콜롬비아\",\n",
        "    \"address\": \"서소문로 50-7\",\n",
        "    \"job\": \"작가\"\n",
        "  },\n",
        "  {\n",
        "    \"_id\": \"4fa8b9e8-8679-43dc-Affe-0757d1436d72\",\n",
        "    \"index\": \"4\",\n",
        "    \"name\": \"기민율\",\n",
        "    \"email\": \"user-gu3mdf0@scelerisque.com\",\n",
        "    \"phone\": \"010-5350-2880\",\n",
        "    \"country\": \"라이베리아\",\n",
        "    \"address\": \"사직로 13-1\",\n",
        "    \"job\": \"에너지공학기술자\"\n",
        "  },\n",
        "  {\n",
        "    \"_id\": \"f774242b-2eec-4c89-C65a-b625d2e72de2\",\n",
        "    \"index\": \"5\",\n",
        "    \"name\": \"음애린\",\n",
        "    \"email\": \"user-edxbg9z@maximus.co.kr\",\n",
        "    \"phone\": \"010-8408-4024\",\n",
        "    \"country\": \"코모로\",\n",
        "    \"address\": \"뚝섬로 59-6\",\n",
        "    \"job\": \"약사 및 한약사\"\n",
        "  }\n",
        "]\n",
        "[\n",
        "  {\n",
        "    \"_id\": \"044829e8-9d9c-43be-C881-afc426ec9134\",\n",
        "    \"index\": \"1\",\n",
        "    \"name\": \"용기준\",\n",
        "    \"email\": \"user-7jxpy5y@Sit.com\",\n",
        "    \"phone\": \"010-4407-4333\",\n",
        "    \"country\": \"네덜란드\",\n",
        "    \"address\": \"양재로 76-6\",\n",
        "    \"job\": \"검사\"\n",
        "  },\n",
        "  {\n",
        "    \"_id\": \"f01326f2-d4d0-4700-C0e3-f84ece54b6cb\",\n",
        "    \"index\": \"2\",\n",
        "    \"name\": \"인규리\",\n",
        "    \"email\": \"user-l8rhtqf@egestas.net\",\n",
        "    \"phone\": \"010-4126-2990\",\n",
        "    \"country\": \"중국\",\n",
        "    \"address\": \"성동로 22-7\",\n",
        "    \"job\": \"간호사\"\n",
        "  },\n",
        "  {\n",
        "    \"_id\": \"b931ea6e-b4cd-4b52-C3e6-22e9779cff1e\",\n",
        "    \"index\": \"3\",\n",
        "    \"name\": \"단인성\",\n",
        "    \"email\": \"user-no8losf@auctor.org\",\n",
        "    \"phone\": \"010-2785-3415\",\n",
        "    \"country\": \"콜롬비아\",\n",
        "    \"address\": \"서소문로 50-7\",\n",
        "    \"job\": \"작가\"\n",
        "  },\n",
        "  {\n",
        "    \"_id\": \"4fa8b9e8-8679-43dc-Affe-0757d1436d72\",\n",
        "    \"index\": \"4\",\n",
        "    \"name\": \"기민율\",\n",
        "    \"email\": \"user-gu3mdf0@scelerisque.com\",\n",
        "    \"phone\": \"010-5350-2880\",\n",
        "    \"country\": \"라이베리아\",\n",
        "    \"address\": \"사직로 13-1\",\n",
        "    \"job\": \"에너지공학기술자\"\n",
        "  },\n",
        "  {\n",
        "    \"_id\": \"f774242b-2eec-4c89-C65a-b625d2e72de2\",\n",
        "    \"index\": \"5\",\n",
        "    \"name\": \"음애린\",\n",
        "    \"email\": \"user-edxbg9z@maximus.co.kr\",\n",
        "    \"phone\": \"010-8408-4024\",\n",
        "    \"country\": \"코모로\",\n",
        "    \"address\": \"뚝섬로 59-6\",\n",
        "    \"job\": \"약사 및 한약사\"\n",
        "  }\n",
        "]"
      ],
      "metadata": {
        "colab": {
          "base_uri": "https://localhost:8080/"
        },
        "id": "EpmNVMTN9MgY",
        "outputId": "8f93740b-0955-48a1-a976-f428b497554f"
      },
      "execution_count": 35,
      "outputs": [
        {
          "output_type": "execute_result",
          "data": {
            "text/plain": [
              "[{'_id': '044829e8-9d9c-43be-C881-afc426ec9134',\n",
              "  'index': '1',\n",
              "  'name': '용기준',\n",
              "  'email': 'user-7jxpy5y@Sit.com',\n",
              "  'phone': '010-4407-4333',\n",
              "  'country': '네덜란드',\n",
              "  'address': '양재로 76-6',\n",
              "  'job': '검사'},\n",
              " {'_id': 'f01326f2-d4d0-4700-C0e3-f84ece54b6cb',\n",
              "  'index': '2',\n",
              "  'name': '인규리',\n",
              "  'email': 'user-l8rhtqf@egestas.net',\n",
              "  'phone': '010-4126-2990',\n",
              "  'country': '중국',\n",
              "  'address': '성동로 22-7',\n",
              "  'job': '간호사'},\n",
              " {'_id': 'b931ea6e-b4cd-4b52-C3e6-22e9779cff1e',\n",
              "  'index': '3',\n",
              "  'name': '단인성',\n",
              "  'email': 'user-no8losf@auctor.org',\n",
              "  'phone': '010-2785-3415',\n",
              "  'country': '콜롬비아',\n",
              "  'address': '서소문로 50-7',\n",
              "  'job': '작가'},\n",
              " {'_id': '4fa8b9e8-8679-43dc-Affe-0757d1436d72',\n",
              "  'index': '4',\n",
              "  'name': '기민율',\n",
              "  'email': 'user-gu3mdf0@scelerisque.com',\n",
              "  'phone': '010-5350-2880',\n",
              "  'country': '라이베리아',\n",
              "  'address': '사직로 13-1',\n",
              "  'job': '에너지공학기술자'},\n",
              " {'_id': 'f774242b-2eec-4c89-C65a-b625d2e72de2',\n",
              "  'index': '5',\n",
              "  'name': '음애린',\n",
              "  'email': 'user-edxbg9z@maximus.co.kr',\n",
              "  'phone': '010-8408-4024',\n",
              "  'country': '코모로',\n",
              "  'address': '뚝섬로 59-6',\n",
              "  'job': '약사 및 한약사'}]"
            ]
          },
          "metadata": {},
          "execution_count": 35
        }
      ]
    },
    {
      "cell_type": "code",
      "source": [
        "import json\n",
        "json.dumps(data)"
      ],
      "metadata": {
        "colab": {
          "base_uri": "https://localhost:8080/",
          "height": 201
        },
        "id": "sgg5pW-M9Rst",
        "outputId": "d02abe1c-408a-41cd-ad0b-d035815a3dde"
      },
      "execution_count": 36,
      "outputs": [
        {
          "output_type": "execute_result",
          "data": {
            "text/plain": [
              "'[{\"_id\": \"044829e8-9d9c-43be-C881-afc426ec9134\", \"index\": \"1\", \"name\": \"\\\\uc6a9\\\\uae30\\\\uc900\", \"email\": \"user-7jxpy5y@Sit.com\", \"phone\": \"010-4407-4333\", \"country\": \"\\\\ub124\\\\ub35c\\\\ub780\\\\ub4dc\", \"address\": \"\\\\uc591\\\\uc7ac\\\\ub85c 76-6\", \"job\": \"\\\\uac80\\\\uc0ac\"}, {\"_id\": \"f01326f2-d4d0-4700-C0e3-f84ece54b6cb\", \"index\": \"2\", \"name\": \"\\\\uc778\\\\uaddc\\\\ub9ac\", \"email\": \"user-l8rhtqf@egestas.net\", \"phone\": \"010-4126-2990\", \"country\": \"\\\\uc911\\\\uad6d\", \"address\": \"\\\\uc131\\\\ub3d9\\\\ub85c 22-7\", \"job\": \"\\\\uac04\\\\ud638\\\\uc0ac\"}, {\"_id\": \"b931ea6e-b4cd-4b52-C3e6-22e9779cff1e\", \"index\": \"3\", \"name\": \"\\\\ub2e8\\\\uc778\\\\uc131\", \"email\": \"user-no8losf@auctor.org\", \"phone\": \"010-2785-3415\", \"country\": \"\\\\ucf5c\\\\ub86c\\\\ube44\\\\uc544\", \"address\": \"\\\\uc11c\\\\uc18c\\\\ubb38\\\\ub85c 50-7\", \"job\": \"\\\\uc791\\\\uac00\"}, {\"_id\": \"4fa8b9e8-8679-43dc-Affe-0757d1436d72\", \"index\": \"4\", \"name\": \"\\\\uae30\\\\ubbfc\\\\uc728\", \"email\": \"user-gu3mdf0@scelerisque.com\", \"phone\": \"010-5350-2880\", \"country\": \"\\\\ub77c\\\\uc774\\\\ubca0\\\\ub9ac\\\\uc544\", \"address\": \"\\\\uc0ac\\\\uc9c1\\\\ub85c 13-1\", \"job\": \"\\\\uc5d0\\\\ub108\\\\uc9c0\\\\uacf5\\\\ud559\\\\uae30\\\\uc220\\\\uc790\"}, {\"_id\": \"f774242b-2eec-4c89-C65a-b625d2e72de2\", \"index\": \"5\", \"name\": \"\\\\uc74c\\\\uc560\\\\ub9b0\", \"email\": \"user-edxbg9z@maximus.co.kr\", \"phone\": \"010-8408-4024\", \"country\": \"\\\\ucf54\\\\ubaa8\\\\ub85c\", \"address\": \"\\\\ub69d\\\\uc12c\\\\ub85c 59-6\", \"job\": \"\\\\uc57d\\\\uc0ac \\\\ubc0f \\\\ud55c\\\\uc57d\\\\uc0ac\"}]'"
            ],
            "application/vnd.google.colaboratory.intrinsic+json": {
              "type": "string"
            }
          },
          "metadata": {},
          "execution_count": 36
        }
      ]
    },
    {
      "cell_type": "code",
      "source": [
        "s = json.dumps(data)\n",
        "d = json.loads(s)\n",
        "print(d)\n",
        "\n",
        "# Python 자료형 => String 자료형 (직렬화)\n",
        "# String 자료형 => Python 자료형 (역직렬화)"
      ],
      "metadata": {
        "colab": {
          "base_uri": "https://localhost:8080/"
        },
        "id": "7SxVGyj-9pK-",
        "outputId": "761e09e5-178d-4e7c-d0ea-540703c3eb38"
      },
      "execution_count": 37,
      "outputs": [
        {
          "output_type": "stream",
          "name": "stdout",
          "text": [
            "[{'_id': '044829e8-9d9c-43be-C881-afc426ec9134', 'index': '1', 'name': '용기준', 'email': 'user-7jxpy5y@Sit.com', 'phone': '010-4407-4333', 'country': '네덜란드', 'address': '양재로 76-6', 'job': '검사'}, {'_id': 'f01326f2-d4d0-4700-C0e3-f84ece54b6cb', 'index': '2', 'name': '인규리', 'email': 'user-l8rhtqf@egestas.net', 'phone': '010-4126-2990', 'country': '중국', 'address': '성동로 22-7', 'job': '간호사'}, {'_id': 'b931ea6e-b4cd-4b52-C3e6-22e9779cff1e', 'index': '3', 'name': '단인성', 'email': 'user-no8losf@auctor.org', 'phone': '010-2785-3415', 'country': '콜롬비아', 'address': '서소문로 50-7', 'job': '작가'}, {'_id': '4fa8b9e8-8679-43dc-Affe-0757d1436d72', 'index': '4', 'name': '기민율', 'email': 'user-gu3mdf0@scelerisque.com', 'phone': '010-5350-2880', 'country': '라이베리아', 'address': '사직로 13-1', 'job': '에너지공학기술자'}, {'_id': 'f774242b-2eec-4c89-C65a-b625d2e72de2', 'index': '5', 'name': '음애린', 'email': 'user-edxbg9z@maximus.co.kr', 'phone': '010-8408-4024', 'country': '코모로', 'address': '뚝섬로 59-6', 'job': '약사 및 한약사'}]\n"
          ]
        }
      ]
    },
    {
      "cell_type": "code",
      "source": [
        "import collections\n",
        "\n",
        "d = collections.deque([1, 2, 3, 4])\n",
        "d.rotate(1) # 1번 오른쪽으로 쉬프트 합니다. 숫자를 2로 바꾸어 비교해보세요.\n",
        "d # 출력: deque([4, 1, 2, 3])\n",
        "\n",
        "c = collections.Counter('hello world')\n",
        "c # 출력: Counter({'h': 1, 'e': 1, 'l': 3, 'o': 2, ' ': 1, 'w': 1, 'r': 1, 'd': 1})\n",
        "c.most_common()\n",
        "# 출력:\n",
        "'''\n",
        "[('l', 3),\n",
        " ('o', 2),\n",
        " ('h', 1),\n",
        " ('e', 1),\n",
        " (' ', 1),\n",
        " ('w', 1),\n",
        " ('r', 1),\n",
        " ('d', 1)]\n",
        "'''"
      ],
      "metadata": {
        "id": "qlfxaKVhCqx_"
      },
      "execution_count": null,
      "outputs": []
    },
    {
      "cell_type": "code",
      "source": [
        "import collections\n",
        "# 알고리즘 문제에서 정말 많이 사용합니다.\n",
        "# deque문제: 페이지 교체 알고리즘, 회전 초밥 등 다양한 문제에서 활용됩니다.\n",
        "\n",
        "d = collections.deque([1, 2, 3, 4])\n",
        "d.rotate(1) # 1번 오른쪽으로 쉬프트 합니다. 숫자를 2로 바꾸어 비교해보세요.\n",
        "d # 출력: deque([4, 1, 2, 3])\n",
        "\n",
        "d = collections.deque([1, 2, 3, 4])\n",
        "d.rotate(2) # 1번 오른쪽으로 쉬프트 합니다. 숫자를 2로 바꾸어 비교해보세요.\n",
        "d # 출력: deque([3, 4, 1, 2])"
      ],
      "metadata": {
        "colab": {
          "base_uri": "https://localhost:8080/"
        },
        "id": "gLaoTi_TCsvR",
        "outputId": "0696d03d-0db1-4da6-c489-22c7d9077385"
      },
      "execution_count": 40,
      "outputs": [
        {
          "output_type": "execute_result",
          "data": {
            "text/plain": [
              "deque([3, 4, 1, 2])"
            ]
          },
          "metadata": {},
          "execution_count": 40
        }
      ]
    },
    {
      "cell_type": "code",
      "source": [
        "c = collections.Counter('hello world')\n",
        "c"
      ],
      "metadata": {
        "colab": {
          "base_uri": "https://localhost:8080/"
        },
        "id": "MvJDw6G5CwV7",
        "outputId": "c54c8262-38cd-4bbe-8554-3fbece18df9f"
      },
      "execution_count": 41,
      "outputs": [
        {
          "output_type": "execute_result",
          "data": {
            "text/plain": [
              "Counter({'h': 1, 'e': 1, 'l': 3, 'o': 2, ' ': 1, 'w': 1, 'r': 1, 'd': 1})"
            ]
          },
          "metadata": {},
          "execution_count": 41
        }
      ]
    },
    {
      "cell_type": "code",
      "source": [
        "c.most_common()"
      ],
      "metadata": {
        "colab": {
          "base_uri": "https://localhost:8080/"
        },
        "id": "LL_ic3YDCxcf",
        "outputId": "b43f235b-4f12-48a5-cb97-a12f51c50895"
      },
      "execution_count": 42,
      "outputs": [
        {
          "output_type": "execute_result",
          "data": {
            "text/plain": [
              "[('l', 3),\n",
              " ('o', 2),\n",
              " ('h', 1),\n",
              " ('e', 1),\n",
              " (' ', 1),\n",
              " ('w', 1),\n",
              " ('r', 1),\n",
              " ('d', 1)]"
            ]
          },
          "metadata": {},
          "execution_count": 42
        }
      ]
    },
    {
      "cell_type": "code",
      "source": [
        "import requests\n",
        "# requests는 다양한 분야에서 사용이 됩니다. 테스트 용도로도 사용하고, 패킷 조작 등 통신에 관련된 것에 폭넓게 사용됩니다.\n",
        "\n",
        "from bs4 import BeautifulSoup\n",
        "\n",
        "paullab_url = 'https://paullab.co.kr/bookservice/'\n",
        "response = requests.get(paullab_url)\n",
        "response.encoding = 'utf-8'\n",
        "html = response.text\n",
        "\n",
        "soup = BeautifulSoup(html, 'html.parser')\n",
        "\n",
        "bookservices = soup.select('.col-lg-6 > h2') # col-lg-6 클래스 안의 h2 태그 탐색\n",
        "for no, book in enumerate(bookservices, 1):\n",
        "    print(no, book.text)"
      ],
      "metadata": {
        "colab": {
          "base_uri": "https://localhost:8080/"
        },
        "id": "gSicneELCzAk",
        "outputId": "6534b40c-00d5-4be1-8e89-adb164f5af05"
      },
      "execution_count": 43,
      "outputs": [
        {
          "output_type": "stream",
          "name": "stdout",
          "text": [
            "1 메모혁신 Notion(노션) 활용 가이드\n",
            "2 이력서 작성 가이드\n",
            "3 제주코딩베이스캠프 Code Festival: Python 100제 1부\n",
            "4 튜토리얼로 배우는 HTML&CSS\n",
            "5 코딩도장 튜토리얼로 배우는 Python 1편 object\n",
            "6 코딩도장 튜토리얼로 배우는 python 2편 제어문\n",
            "7 코딩도장 튜토리얼로 배우는 Python 문제풀이\n",
            "8 타노스의 건틀릿 알고리즘 With Python\n",
            "9 xlsxwriter 튜토리얼로 배우는 Python 엑셀 프로그래밍\n",
            "10 러플 튜토리얼로 배우는 Python\n",
            "11 인공지능을 활용한 업무자동화 With Google Developers Group JEJU\n"
          ]
        }
      ]
    },
    {
      "cell_type": "code",
      "source": [
        "# 이 데이터를 DB에도 넣을 수 있고(import sqlite3)\n",
        "# 파일로도 생성할 수 있는데 여러 형식으로 파일로 생성해보며 여러분과 얘기 나눠보도록 하겠습니다.\n",
        "import requests\n",
        "from bs4 import BeautifulSoup\n",
        "\n",
        "paullab_url = 'https://paullab.co.kr/bookservice/'\n",
        "response = requests.get(paullab_url)\n",
        "response.encoding = 'utf-8'\n",
        "html = response.text\n",
        "\n",
        "soup = BeautifulSoup(html, 'html.parser')\n",
        "\n",
        "\n",
        "\n",
        "\n",
        "bookservices = soup.select('.col-lg-6 > h2') # col-lg-6 클래스 안의 h2 태그 탐색\n",
        "for no, book in enumerate(bookservices, 1):\n",
        "    print(no, book.text)"
      ],
      "metadata": {
        "colab": {
          "base_uri": "https://localhost:8080/"
        },
        "id": "Mu0aDSAADIdV",
        "outputId": "28cf8e67-2a95-4048-db98-619317444681"
      },
      "execution_count": 44,
      "outputs": [
        {
          "output_type": "stream",
          "name": "stdout",
          "text": [
            "1 메모혁신 Notion(노션) 활용 가이드\n",
            "2 이력서 작성 가이드\n",
            "3 제주코딩베이스캠프 Code Festival: Python 100제 1부\n",
            "4 튜토리얼로 배우는 HTML&CSS\n",
            "5 코딩도장 튜토리얼로 배우는 Python 1편 object\n",
            "6 코딩도장 튜토리얼로 배우는 python 2편 제어문\n",
            "7 코딩도장 튜토리얼로 배우는 Python 문제풀이\n",
            "8 타노스의 건틀릿 알고리즘 With Python\n",
            "9 xlsxwriter 튜토리얼로 배우는 Python 엑셀 프로그래밍\n",
            "10 러플 튜토리얼로 배우는 Python\n",
            "11 인공지능을 활용한 업무자동화 With Google Developers Group JEJU\n"
          ]
        }
      ]
    },
    {
      "cell_type": "code",
      "source": [
        "# json로 뽑기\n",
        "s = '['\n",
        "bookservices = soup.select('.col-lg-6 > h2') # col-lg-6 클래스 안의 h2 태그 탐색\n",
        "bookcover = soup.select('.book_cover')\n",
        "\n",
        "for no, book in enumerate(zip(bookservices, bookcover), 1):\n",
        "    s += f'{{number: {no}, bookname: {book[0].text}}},'\n",
        "\n",
        "s = s[:-1] + ']'\n",
        "s\n",
        "\n",
        "with open('test.json', 'w') as f:\n",
        "    f.write(s)"
      ],
      "metadata": {
        "id": "SviBWU9mDq89"
      },
      "execution_count": 46,
      "outputs": []
    },
    {
      "cell_type": "markdown",
      "source": [
        "#예외처리 오류관리\n",
        "1. 문법 에러(Syntax Error)\n",
        "2. 이름 에러(Name Error)\n",
        "3. 타입 에러(Type Error)\n",
        "4. 인덱스 에러(Index Error)\n",
        "5. 키 에러(Key Error)\n",
        "6. 값 에러(ValueError)\n",
        "7. 제로 나누기 에러(ZeroDivisionError)\n",
        "8. 어트리뷰트 에러(Attribute Error)\n",
        "9. 인자 개수 에러(TypeError)\n",
        "10. 파일 입출력 에러(File I/O Error)"
      ],
      "metadata": {
        "id": "QlYr3rCQHlHp"
      }
    },
    {
      "cell_type": "markdown",
      "source": [
        "# 예외처리 방법 try except"
      ],
      "metadata": {
        "id": "VY_X6w-tIf6X"
      }
    },
    {
      "cell_type": "code",
      "source": [
        "print('hello')\n",
        "try:\n",
        "    s = 1/0\n",
        "    print(s)\n",
        "except:\n",
        "    print('error가 발생되었습니다!')\n",
        "\n",
        "print('hello')"
      ],
      "metadata": {
        "colab": {
          "base_uri": "https://localhost:8080/"
        },
        "id": "Y8YPh6NWHfYV",
        "outputId": "4050ba00-7769-4d8e-e704-044802a42ec7"
      },
      "execution_count": 47,
      "outputs": [
        {
          "output_type": "stream",
          "name": "stdout",
          "text": [
            "hello\n",
            "error가 발생되었습니다!\n",
            "hello\n"
          ]
        }
      ]
    },
    {
      "cell_type": "markdown",
      "source": [
        "예외 처리 방법 try, except, else, finally, assert\n",
        "-  try + except\n",
        "- try + except + else\n",
        "- try + finally\n",
        "- try + except + finally\n",
        "- assert"
      ],
      "metadata": {
        "id": "ZLCy3WNTJvpS"
      }
    },
    {
      "cell_type": "code",
      "source": [
        "#에러 발생시키기\n",
        "raise\n",
        "raise ValueError\n",
        "raise ValueError('코드를 잘~~ 만들어주세요.')"
      ],
      "metadata": {
        "id": "5Je-wd3TJDKm"
      },
      "execution_count": null,
      "outputs": []
    },
    {
      "cell_type": "code",
      "source": [
        "#에러 발생시키기\n",
        "class Licat(Exception):\n",
        "    def __init__(self):\n",
        "        super().__init__('입력된 값이 leehojun이 아닙니다.')\n",
        "\n",
        "raise Licat"
      ],
      "metadata": {
        "id": "QZoF7qPtKz6_"
      },
      "execution_count": null,
      "outputs": []
    },
    {
      "cell_type": "markdown",
      "source": [
        "#복습문제"
      ],
      "metadata": {
        "id": "L0BYNe4ld_5J"
      }
    },
    {
      "cell_type": "code",
      "source": [
        "#1번문제\n",
        "\n",
        "#1부터 100까지 더하는 함수 만들고 데코레이터로 몇초 걸리는지 확인하는 함수\n",
        "import time\n",
        "\n",
        "def time_decorator(func):\n",
        "    def wrapper():\n",
        "        start_time = time.time()\n",
        "        result = func()\n",
        "        end_time = time.time()\n",
        "        print(f\"함수가 {end_time - start_time} 초가 걸렸습니다.\")\n",
        "        return result\n",
        "    return wrapper\n",
        "\n",
        "@time_decorator\n",
        "def result():\n",
        "    return sum(range(1, 101))\n",
        "\n",
        "print(result())"
      ],
      "metadata": {
        "colab": {
          "base_uri": "https://localhost:8080/"
        },
        "id": "bqXKZ5T-ZO3r",
        "outputId": "3acde038-c923-4f74-abec-d0d2d4c2f120"
      },
      "execution_count": 51,
      "outputs": [
        {
          "output_type": "stream",
          "name": "stdout",
          "text": [
            "함수가 4.76837158203125e-06 초가 걸렸습니다.\n",
            "5050\n"
          ]
        }
      ]
    },
    {
      "cell_type": "code",
      "source": [
        "#2번 제너레이터 문제: 0부터 시작하여, 매 호출 시마다 2씩 증가하는 값을 반환하는 제너레이터 함수를 작성하세요. 100이 되면 멈춰야 합니다.\n",
        "\n",
        "def my_generator():\n",
        "    x = 0\n",
        "    while x <= 100:\n",
        "        yield x\n",
        "        x += 2\n",
        "\n",
        "list(zip('hello', my_generator()))\n",
        "\n",
        "for i in my_generator():\n",
        "    print(i)"
      ],
      "metadata": {
        "id": "1FNbzRhqXlFb"
      },
      "execution_count": null,
      "outputs": []
    },
    {
      "cell_type": "code",
      "source": [
        "#3번 예외처리 문제: 사용자로부터 두 개의 숫자를 입력받아 나눗셈을 수행하는 함수를 작성하세요. 이 때 0으로 나눌 때에는 예외처리를 해주세요.\n",
        "\n",
        "\n",
        "def divide(x, y):\n",
        "    return x / y\n"
      ],
      "metadata": {
        "id": "eDm8xZ5qbNH3"
      },
      "execution_count": null,
      "outputs": []
    },
    {
      "cell_type": "code",
      "source": [],
      "metadata": {
        "id": "cx_zXi_TbNAc"
      },
      "execution_count": null,
      "outputs": []
    }
  ]
}