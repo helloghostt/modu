{
  "nbformat": 4,
  "nbformat_minor": 0,
  "metadata": {
    "colab": {
      "provenance": [],
      "authorship_tag": "ABX9TyMctBZNDptLujwD5xv7lfmf",
      "include_colab_link": true
    },
    "kernelspec": {
      "name": "python3",
      "display_name": "Python 3"
    },
    "language_info": {
      "name": "python"
    }
  },
  "cells": [
    {
      "cell_type": "markdown",
      "metadata": {
        "id": "view-in-github",
        "colab_type": "text"
      },
      "source": [
        "<a href=\"https://colab.research.google.com/github/helloghostt/modu/blob/main/20240108_day7.ipynb\" target=\"_parent\"><img src=\"https://colab.research.google.com/assets/colab-badge.svg\" alt=\"Open In Colab\"/></a>"
      ]
    },
    {
      "cell_type": "markdown",
      "source": [
        "#함수\n",
        "##1. 함수 기본구조"
      ],
      "metadata": {
        "id": "ZQ-NKeRbrxzy"
      }
    },
    {
      "cell_type": "code",
      "execution_count": null,
      "metadata": {
        "id": "kOs2MwiUqg52"
      },
      "outputs": [],
      "source": [
        "def happy() : # 함수가 활성화 될 준비 완료\n",
        "    print('1')   #같은 들여쓰기만 하면 되는데 파이썬을 사용하기 때문에 4칸으로 연습\n",
        "    print('2')\n",
        "print('3')\n",
        "happy()     # 3 1 2"
      ]
    },
    {
      "cell_type": "code",
      "source": [
        "def my_function():\n",
        "    print('1')\n",
        "    print('2')\n",
        "    print('3')\n",
        "my_function()    # 1 2 3"
      ],
      "metadata": {
        "id": "zDqH5ShRt32f"
      },
      "execution_count": null,
      "outputs": []
    },
    {
      "cell_type": "markdown",
      "source": [
        "##2. 함수 기본 구조 실습\n",
        "###2.1 파라미터 없고 반환값 없는 함수\n",
        "###2.2 파라미터 없고 반환값 있는 함수\n",
        "###2.3 파라미터 있고 반환값 없는 함수\n",
        "###2.4 파라미터 있고 반환값 없는 함수"
      ],
      "metadata": {
        "id": "0XzBSlUs2Fd7"
      }
    },
    {
      "cell_type": "code",
      "source": [
        "def function(x, y):    #x,y는 파라미터(매개변수),없는 경우도 있음\n",
        "    z = x + y\n",
        "    return z\n",
        "print(\"function(10, 9) =\", function(10,9))\n",
        "print(f'function(10, 9) = {function(10, 9)}')\n",
        "#출력 function(10, 9)= 19"
      ],
      "metadata": {
        "colab": {
          "base_uri": "https://localhost:8080/"
        },
        "id": "cITKUrPs1uYg",
        "outputId": "9d463675-5a7f-4d74-b5cf-f5f06a153143"
      },
      "execution_count": 13,
      "outputs": [
        {
          "output_type": "stream",
          "name": "stdout",
          "text": [
            "function(10, 9) = 19\n",
            "function(10, 9) = 19\n"
          ]
        }
      ]
    },
    {
      "cell_type": "code",
      "source": [
        "#기능과 연산\n",
        "def function_name(x, y):\n",
        "    pass # 만들때 임시로 값을 넣는 부분/ 에러가 나지 않게 하는 기능\n",
        "\n",
        "def function_name(x, y):\n",
        "    return x + y  #변수값 지정안하면 None반환"
      ],
      "metadata": {
        "id": "AMNexWYU1ukt"
      },
      "execution_count": 14,
      "outputs": []
    },
    {
      "cell_type": "code",
      "source": [
        "#2.1 파라미터 없고 반환값 없는 함수\n",
        "def simple_function():\n",
        "    print('Hello, World!') # 출력: 'Hello, World!'\n",
        "\n",
        "# 함수 호출\n",
        "print(simple_function()) # return이 없기 때문에   출력: None"
      ],
      "metadata": {
        "colab": {
          "base_uri": "https://localhost:8080/"
        },
        "id": "gqFIoMSv5Lx5",
        "outputId": "01a0ffd1-b3c1-4ad5-b9de-d73c000fbde5"
      },
      "execution_count": 15,
      "outputs": [
        {
          "output_type": "stream",
          "name": "stdout",
          "text": [
            "Hello, World!\n",
            "None\n"
          ]
        }
      ]
    },
    {
      "cell_type": "code",
      "source": [
        "#2.2 파라미터가 없고, 반환 값은 있는 함수\n",
        "def give_me_five():\n",
        "    return 5\n",
        "\n",
        "result = give_me_five()\n",
        "print(result) # return의 출력: 5"
      ],
      "metadata": {
        "id": "Zb7C9QMl8q-7"
      },
      "execution_count": null,
      "outputs": []
    },
    {
      "cell_type": "code",
      "source": [
        "#2.3 입력 매개변수가 있고, 반환 값이 없는 함수\n",
        "def greeting(name):\n",
        "   return f'Hello, {name}!'\n",
        "\n",
        "# 함수 호출\n",
        "result = greeting('Licat') #함수는 return이 없어서 none반환 ->출력은 안됨  출력은 Hello, Licat!\n",
        "print(result)"
      ],
      "metadata": {
        "colab": {
          "base_uri": "https://localhost:8080/"
        },
        "id": "QfbqqNhk8qwP",
        "outputId": "d2eb8fa2-f925-44a9-92a8-1b4e80f2ade3"
      },
      "execution_count": 25,
      "outputs": [
        {
          "output_type": "stream",
          "name": "stdout",
          "text": [
            "Hello, Licat!\n"
          ]
        }
      ]
    },
    {
      "cell_type": "code",
      "source": [
        "#2.4 입력 매개변수가 있고, 반환 값이 있는 함수\n",
        "def add_numbers(x, y):  #선언\n",
        "    sum = x + y\n",
        "    return sum\n",
        "\n",
        "# 함수 호출\n",
        "result = add_numbers(5, 3)\n",
        "print(result)  # 5+3 출력: 8"
      ],
      "metadata": {
        "id": "-s1Vo7EMCpml"
      },
      "execution_count": null,
      "outputs": []
    },
    {
      "cell_type": "code",
      "source": [
        "print(print('hello'))\n",
        "#출력은 hello  None 값으로"
      ],
      "metadata": {
        "colab": {
          "base_uri": "https://localhost:8080/"
        },
        "id": "6x464KWoGOQX",
        "outputId": "12aa1443-bfba-4e12-88c7-b0c6c5808fd3"
      },
      "execution_count": 27,
      "outputs": [
        {
          "output_type": "stream",
          "name": "stdout",
          "text": [
            "hello\n",
            "None\n"
          ]
        }
      ]
    },
    {
      "cell_type": "code",
      "source": [
        "def function(x, y):\n",
        "    z = x + y\n",
        "    print(z)\n",
        "print(f'function(5, 7) = {function(5, 7)}')"
      ],
      "metadata": {
        "colab": {
          "base_uri": "https://localhost:8080/"
        },
        "id": "CN-rVmMhGPCT",
        "outputId": "078b7c83-cecd-41e7-846a-b23b2baa043b"
      },
      "execution_count": 28,
      "outputs": [
        {
          "output_type": "stream",
          "name": "stdout",
          "text": [
            "12\n",
            "function(5, 7) = None\n"
          ]
        }
      ]
    },
    {
      "cell_type": "markdown",
      "source": [
        "#함수의 아규먼트와 파라미터\n",
        "##1. 파라미터와 아규먼트\n",
        "###1.1 파라미터\n",
        "###1.2 아규먼트\n",
        "###1.3 예시"
      ],
      "metadata": {
        "id": "jLxVkWCGHELv"
      }
    },
    {
      "cell_type": "code",
      "source": [
        "# 파라미터: 함수를 정의할 때 사용되는 변수\n",
        "# 아규먼트 : 함수를 호출할 때 전달하는 실제\n",
        "def f(a, b, c):  #파라미터 a, b, c\n",
        "    print(a, b, c)\n",
        "\n",
        "#f()    # error\n",
        "f(100, 10)  # error\n",
        "f(a=100, b=200, c=300) # 출력: 100 200 300\n",
        "f(c=300, a=100, b=200) # 출력: 100 200 300"
      ],
      "metadata": {
        "id": "uzhycbulGiPb"
      },
      "execution_count": null,
      "outputs": []
    },
    {
      "cell_type": "code",
      "source": [
        "def f(a=10, b=20, c=30):  # 기본값이 있는 파라미터 a, b, c\n",
        "    print(a, b, c)\n",
        "\n",
        "f()    # 출력: 10 20 30\n",
        "f(100, 10) # 출력: 100 10 30\n",
        "f(a=100, b=200, c=300) # 출력: 100 200 300\n",
        "f(c=300, a=100, b=200) # 출력: 100 200 300"
      ],
      "metadata": {
        "id": "CiULwAzKHEo0"
      },
      "execution_count": null,
      "outputs": []
    },
    {
      "cell_type": "code",
      "source": [
        "def f(a, b=20, c=30): # 일부만 기본값이 있는 파라미터 a, b, c\n",
        "    print(a, b, c)\n",
        "print(f(100, 10)) # 출력 : 100, 10, 30\n",
        "print(f(a=100, b=200, c=300)) # 출력 : 100 200 300\n",
        "print(f(c=300, a=100, b=200)) # 출력 : 100 200 300\n",
        "\n",
        "'''\n",
        "a가 기본값이 없으니까 넣어주는 것은 출력이 되고 아니면 error가 난다\n",
        "print(f()): error\n",
        "print(f(c=300)): error\n",
        "'''"
      ],
      "metadata": {
        "id": "rZTP9PGPJenz"
      },
      "execution_count": null,
      "outputs": []
    },
    {
      "cell_type": "code",
      "source": [
        "def add_element(my_list):\n",
        "    my_list.append(1)\n",
        "\n",
        "a = [2, 3, 4]\n",
        "add_element(a)\n",
        "print(a)  # 출력: [2, 3, 4, 1]"
      ],
      "metadata": {
        "id": "TIYXVYWnJe0Y"
      },
      "execution_count": null,
      "outputs": []
    },
    {
      "cell_type": "code",
      "source": [
        "def add_element(my_list):\n",
        "    my_list.append(1)\n",
        "    print(id(my_list)) # 출력: 135115033605760\n",
        "\n",
        "a = [2, 3, 4]\n",
        "add_element(a)\n",
        "print(id(a)) # 출력: 135115033605760\n",
        "print(a)  # 출력: [2, 3, 4, 1]"
      ],
      "metadata": {
        "colab": {
          "base_uri": "https://localhost:8080/"
        },
        "id": "OnfEOFZ7Je8U",
        "outputId": "895d407d-e773-477c-fa07-20328f728e02"
      },
      "execution_count": 43,
      "outputs": [
        {
          "output_type": "stream",
          "name": "stdout",
          "text": [
            "137105744047232\n",
            "137105744047232\n",
            "[2, 3, 4, 1]\n"
          ]
        }
      ]
    },
    {
      "cell_type": "code",
      "source": [
        "def add_element(my_list):\n",
        "    my_list.append(1)\n",
        "    print(id(my_list)) # 출력: 135115033605760\n"
      ],
      "metadata": {
        "id": "DFFRB1gsfgyf"
      },
      "execution_count": 1,
      "outputs": []
    },
    {
      "cell_type": "code",
      "source": [
        "# 권장하지 않는 방법\n",
        "def append_to_list(value, lst=[]):\n",
        "    lst.append(value)\n",
        "    return lst # 예상치 못한 결과가 발생할 수 있습니다.\n",
        "\n",
        "# 권장 방법\n",
        "def append_to_list(value, lst=None):\n",
        "    if lst is None:\n",
        "        lst = []\n",
        "    lst.append(value)\n",
        "    return lst"
      ],
      "metadata": {
        "id": "j1rWjfUOfn4L"
      },
      "execution_count": 2,
      "outputs": []
    },
    {
      "cell_type": "code",
      "source": [
        "append_to_list(1) # 출력: [1]"
      ],
      "metadata": {
        "id": "8n265sl0gU1p"
      },
      "execution_count": null,
      "outputs": []
    },
    {
      "cell_type": "code",
      "source": [
        "append_to_list(2) # 출력: [1, 2], 그러나 결과가 [2]가 나올것으로 예상할수도 있습니다."
      ],
      "metadata": {
        "id": "2AApw1xSgYgd"
      },
      "execution_count": null,
      "outputs": []
    },
    {
      "cell_type": "markdown",
      "source": [
        "#지역변수와 전역변수\n"
      ],
      "metadata": {
        "id": "fDHt6W1OhmT7"
      }
    },
    {
      "cell_type": "code",
      "source": [
        "#1. 지역 변수 : 함수 내부에서만 정의되고 사용되는 변수\n",
        "def f():\n",
        "    a = 1\n",
        "    print(a)  # 출력: 1\n",
        "\n",
        "f()\n",
        "print(a) # error : a가 함수 내에서만 정의되어서"
      ],
      "metadata": {
        "id": "147_pJCyhfyj"
      },
      "execution_count": null,
      "outputs": []
    },
    {
      "cell_type": "code",
      "source": [
        "def f():\n",
        "    a = 1\n",
        "    print(a)\n",
        "    return a\n",
        "f()\n",
        "print(a)"
      ],
      "metadata": {
        "id": "XctXYvmnhfmN"
      },
      "execution_count": null,
      "outputs": []
    },
    {
      "cell_type": "code",
      "source": [
        "def f():\n",
        "    a = 1\n",
        "    print(locals()) # 출력: {'a': 1}\n",
        "\n",
        "f()"
      ],
      "metadata": {
        "id": "Qsbuh9xRj3R9"
      },
      "execution_count": null,
      "outputs": []
    },
    {
      "cell_type": "code",
      "source": [
        "def f():\n",
        "    a = 1\n",
        "    b = 'hello'\n",
        "    def ff():\n",
        "        pass\n",
        "    print(locals())\n",
        "f()"
      ],
      "metadata": {
        "colab": {
          "base_uri": "https://localhost:8080/"
        },
        "id": "Hnsd8ndQkHEL",
        "outputId": "65161bd5-9c60-453e-d817-eeb4aaac3e85"
      },
      "execution_count": 12,
      "outputs": [
        {
          "output_type": "stream",
          "name": "stdout",
          "text": [
            "{'a': 1, 'b': 'hello', 'ff': <function f.<locals>.ff at 0x7b06a87e2dd0>}\n"
          ]
        }
      ]
    },
    {
      "cell_type": "code",
      "source": [
        "#2. 전역 변수\n",
        "a = 100\n",
        "\n",
        "def f():\n",
        "    global a   #global을 지우면 error\n",
        "    a = a + 1\n",
        "\n",
        "f()\n",
        "print(a)  # 출력: 101, 함수 f 내에서 전역 변수 a가 수정되었습니다."
      ],
      "metadata": {
        "id": "Fyh7veZJkosT"
      },
      "execution_count": null,
      "outputs": []
    },
    {
      "cell_type": "code",
      "source": [
        "a = 100\n",
        "def f():\n",
        "    global a\n",
        "    a = a + 1\n",
        "    return a\n",
        "print(f()) #101\n",
        "print(a)  # 101   지정된 100이 나오지 않는 이유: 광역변수 설정해버려서"
      ],
      "metadata": {
        "colab": {
          "base_uri": "https://localhost:8080/"
        },
        "id": "J0A2tF8WlZsi",
        "outputId": "a032f8e1-5f2e-4166-ce9e-ffcc7465843d"
      },
      "execution_count": 15,
      "outputs": [
        {
          "output_type": "stream",
          "name": "stdout",
          "text": [
            "101\n",
            "101\n"
          ]
        }
      ]
    },
    {
      "cell_type": "code",
      "source": [
        "a = 100\n",
        "\n",
        "def f():\n",
        "    a = 1000\n",
        "    print(a) # 출력: 1000\n",
        "\n",
        "f()"
      ],
      "metadata": {
        "colab": {
          "base_uri": "https://localhost:8080/"
        },
        "id": "fNn_BKGxmFII",
        "outputId": "2537810a-50f0-4660-ac3e-603941c189d5"
      },
      "execution_count": 17,
      "outputs": [
        {
          "output_type": "stream",
          "name": "stdout",
          "text": [
            "1000\n"
          ]
        }
      ]
    },
    {
      "cell_type": "code",
      "source": [
        "a = 100\n",
        "def f():\n",
        "    a = a + 1 # error 광역변수 선언이 없어서\n",
        "\n",
        "f()\n",
        "print(a)"
      ],
      "metadata": {
        "id": "p0hGgU9Dl7WA"
      },
      "execution_count": null,
      "outputs": []
    },
    {
      "cell_type": "markdown",
      "source": [
        "#빌트인 함수(built-in function)\n",
        "##1. 빌트인 함수(built-in function)란?\n",
        "##2. 빌트인 함수(built-in function) 종류\n",
        "###2.1 all, any\n",
        "###2.2 chr, ord\n",
        "###2.3 map\n",
        "###2.4 filter\n",
        "###2.5 zip\n",
        "###2.6 format\n",
        "###2.7 len\n",
        "###2.8 max, min, sum\n",
        "###2.9 print, repr\n",
        "###2.10 range, enumerate\n",
        "###2.11 sorted, reversed"
      ],
      "metadata": {
        "id": "ma2wmZSZrcKG"
      }
    },
    {
      "cell_type": "code",
      "source": [
        "#2.1 all, any\n",
        "# 모두 다 True여야 True 반환\n",
        "all([True, True, True]) # 출력: Ture\n",
        "all([True, True, False]) # 출력: False\n",
        "all([1, 1, 1, 0]) # 출력: False\n",
        "all([1, 0, 1, 1]) # 출력: False\n",
        "all([1, 100, 10, -1]) # 출력: True\n",
        "# 하나라도 True이면 True이다.\n",
        "any([True, False, False]) # 출력: True\n",
        "any([False, False, False]) # 출력: False"
      ],
      "metadata": {
        "id": "yLT7-EnLq-0N"
      },
      "execution_count": null,
      "outputs": []
    },
    {
      "cell_type": "code",
      "source": [
        "#2.2 chr, ord\n",
        "chr(65) # 출력: 'A'\n",
        "chr(97) # 출력: 'a'\n",
        "chr(54616) # 출력: '하'\n",
        "ord('a') # 출력: 97\n",
        "ord('하') # 출력: 54616"
      ],
      "metadata": {
        "id": "II7Wzgr5rXZT"
      },
      "execution_count": null,
      "outputs": []
    },
    {
      "cell_type": "code",
      "source": [
        "#2.3 map\n",
        "def 제곱(x):\n",
        "    return x ** 2\n",
        "list(map(제곱, [1, 2, 3, 4])) # 출력: [1, 4, 9, 16]\n",
        "# 같은결과  list(map(lambda x : x ** 2, [1, 2, 3, 4])) # 출력: [1, 4, 9, 16]"
      ],
      "metadata": {
        "id": "UcxwYMSKsNWw"
      },
      "execution_count": null,
      "outputs": []
    },
    {
      "cell_type": "code",
      "source": [
        "#2.4 filter\n",
        "list(filter(lambda x : x > 50, range(100))) #출력 [51,52,...99]한개씩 아래로"
      ],
      "metadata": {
        "id": "Pv3PLhpHt2Me"
      },
      "execution_count": null,
      "outputs": []
    },
    {
      "cell_type": "code",
      "source": [
        "#2.5 zip\n",
        "zip('ab', '12') # 출력: <zip at 0x7b9d83c6e440> 주소출력\n",
        "list(zip('ab', '12')) # 출력: [('a', '1'), ('b', '2')]\n",
        "list(zip('ab', '12', [10, 20])) # 출력: [('a', '1', 10), ('b', '2', 20)]\n",
        "list(zip('abc', '1234567', [10, 20, 30]))\n",
        "# 출력 : [('a', '1', 10), ('b', '2', 20), ('c', '3', 30)] 짧은 abc의 길이에 맞춰서\n",
        "x = [2, 4, 8, 16, 32, 64, 128]\n",
        "list(zip(x, x[1:], x[2:]))\n",
        "# 출력\n",
        "#[(2, 4, 8), (4, 8, 16), (8, 16, 32), (16, 32, 64), (32, 64, 128)]"
      ],
      "metadata": {
        "id": "oeT3-9jZuHcg"
      },
      "execution_count": null,
      "outputs": []
    },
    {
      "cell_type": "code",
      "source": [
        "#2.6 format\n",
        "format(값, '서식 지정자(format_spec)')\n",
        "#2.7 len\n",
        "len(길이를 계산하려는 객체)\n",
        "#2.8 max, min, sum\n",
        "#2.9 print, repr\n",
        "repr(hero) # (__repr__ 메서드 호출로 인해)문자 출력 : hello"
      ],
      "metadata": {
        "id": "GrXcz3iXvOg3"
      },
      "execution_count": null,
      "outputs": []
    },
    {
      "cell_type": "code",
      "source": [
        "##2.10 range, enumerate\n",
        "range(start, stop, step)\n",
        "list(range(1, 10, 2)) # 출력: [1, 3, 5, 7, 9]\n",
        "#enumerate 함수는 반복할 수 있는 객체의 인덱스와 값을 함께 반환하며 주로 반복문에서 사용\n",
        "values = ['A', 'B', 'C', 'D']\n",
        "print(list(enumerate(values)))\n",
        "print(list(enumerate(values, 1)))\n",
        "print(list(enumerate(values, 100)))\n",
        "# 출력 키값이 없지만 enumerate로 임시 키값을 제공하여 묶을수 있음\n",
        "#[(0, 'A'), (1, 'B'), (2, 'C'), (3, 'D')]\n",
        "#[(1, 'A'), (2, 'B'), (3, 'C'), (4, 'D')]\n",
        "#[(100, 'A'), (101, 'B'), (102, 'C'), (103, 'D')]"
      ],
      "metadata": {
        "id": "aR31M86evn8_"
      },
      "execution_count": null,
      "outputs": []
    },
    {
      "cell_type": "code",
      "source": [
        "#2.11 sorted, reversed\n",
        "sorted([1, 2, 100, 200, 3, 4, 10, 20])\n",
        "# 출력 : [1, 2, 3, 4, 10, 20, 100, 200]\n",
        "sorted([1, 2, 100, 200, 3, 4, 10, 20], reverse=True)\n",
        "# 출력 : [200, 100, 20, 10, 4, 3, 2, 1]\n",
        "sorted(['hello', 'l', 'hllo', 'hel', 'heo', 'a'])\n",
        "# 출력 : ['a', 'hel', 'hello', 'heo', 'hllo', 'l']\n",
        "sorted(['hello', 'l', 'hllo', 'hel', 'heo', 'a'], key=len)\n",
        "# 출력 : ['l', 'a', 'hel', 'heo', 'hllo', 'hello']\n",
        "sorted(['12', '15', '21', '22', '53', '21'])\n",
        "# 출력 : ['12', '15', '21', '21', '22', '53']\n",
        "sorted(['21', '21', '12', '22', '53', '15'], key=lambda x:x[-1])\n",
        "# 출력 : ['21', '21', '12', '22', '53', '15']\n",
        "l = [3, 2, 1, 5, 4]\n",
        "print(l.reverse())\n",
        "print(l)  #None  [4, 5, 1, 2, 3]"
      ],
      "metadata": {
        "id": "qtjCElH4xxZP"
      },
      "execution_count": null,
      "outputs": []
    },
    {
      "cell_type": "code",
      "source": [
        "a = 'pithon'\n",
        "\n",
        "def 함수1():\n",
        "    def 함수2():\n",
        "        print('love') #2번\n",
        "\n",
        "    print('I')#1번\n",
        "    함수2()  #2\n",
        "    return \"python\" #3\n",
        "\n",
        "\n",
        "a = 함수1()\n",
        "print(a)"
      ],
      "metadata": {
        "colab": {
          "base_uri": "https://localhost:8080/"
        },
        "id": "UXjrL0f_ysI9",
        "outputId": "557b5c32-817c-473c-dc33-55880372fc02"
      },
      "execution_count": 25,
      "outputs": [
        {
          "output_type": "stream",
          "name": "stdout",
          "text": [
            "I\n",
            "love\n",
            "python\n"
          ]
        }
      ]
    },
    {
      "cell_type": "code",
      "source": [
        "def plus(num1, num2):\n",
        "    return num1 + num2\n",
        "\n",
        "def minus(num1, num2):\n",
        "    return num1 - num2\n",
        "\n",
        "def multiply(num1, num2):\n",
        "    return num1 * num2\n",
        "\n",
        "def divide(num1, num2):\n",
        "    return num1 / num2\n",
        "\n",
        "print(f'plus : {plus(10, 5)}')\n",
        "print(f'minus : {minus(10, 5)}')\n",
        "print(f'multiply : {multiply(10, 5)}')\n",
        "print(f'divide : {divide(10, 5)}')"
      ],
      "metadata": {
        "colab": {
          "base_uri": "https://localhost:8080/"
        },
        "id": "LE6HL-pvzqNM",
        "outputId": "2bd61fc7-9c1b-435d-a3b7-fe80b90690cd"
      },
      "execution_count": 26,
      "outputs": [
        {
          "output_type": "stream",
          "name": "stdout",
          "text": [
            "plus : 15\n",
            "minus : 5\n",
            "multiply : 50\n",
            "divide : 2.0\n"
          ]
        }
      ]
    }
  ]
}