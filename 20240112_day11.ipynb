{
  "nbformat": 4,
  "nbformat_minor": 0,
  "metadata": {
    "colab": {
      "provenance": [],
      "authorship_tag": "ABX9TyM/ue895nyIcIk4V8LbUqUN",
      "include_colab_link": true
    },
    "kernelspec": {
      "name": "python3",
      "display_name": "Python 3"
    },
    "language_info": {
      "name": "python"
    }
  },
  "cells": [
    {
      "cell_type": "markdown",
      "metadata": {
        "id": "view-in-github",
        "colab_type": "text"
      },
      "source": [
        "<a href=\"https://colab.research.google.com/github/helloghostt/modu/blob/main/20240112_day11.ipynb\" target=\"_parent\"><img src=\"https://colab.research.google.com/assets/colab-badge.svg\" alt=\"Open In Colab\"/></a>"
      ]
    },
    {
      "cell_type": "code",
      "execution_count": null,
      "metadata": {
        "id": "IhZcOIsMCt0T"
      },
      "outputs": [],
      "source": [
        "l = [lambda x, y: x + y, lambda x, y: x - y, lambda x, y: x / y, lambda x, y: x * y]\n",
        "l[0](10, 20)"
      ]
    },
    {
      "cell_type": "code",
      "source": [
        "map(int, ['1', '11', 100, ''])"
      ],
      "metadata": {
        "colab": {
          "base_uri": "https://localhost:8080/"
        },
        "id": "y8uipA8debTo",
        "outputId": "92ab0583-3718-4663-bb24-4d7200d95535"
      },
      "execution_count": 2,
      "outputs": [
        {
          "output_type": "execute_result",
          "data": {
            "text/plain": [
              "<map at 0x7830b1f04850>"
            ]
          },
          "metadata": {},
          "execution_count": 2
        }
      ]
    },
    {
      "cell_type": "code",
      "source": [
        "list(map(str, ['1', 11, 100, '77']))"
      ],
      "metadata": {
        "colab": {
          "base_uri": "https://localhost:8080/"
        },
        "id": "IBmPRRO0ehwk",
        "outputId": "8f1e9740-d9c1-4966-d52f-fd95ed6074dd"
      },
      "execution_count": 5,
      "outputs": [
        {
          "output_type": "execute_result",
          "data": {
            "text/plain": [
              "['1', '11', '100', '77']"
            ]
          },
          "metadata": {},
          "execution_count": 5
        }
      ]
    },
    {
      "cell_type": "code",
      "source": [
        "list(filter(str.isdigit, 'he1llo w2orl3d'))"
      ],
      "metadata": {
        "colab": {
          "base_uri": "https://localhost:8080/"
        },
        "id": "WkguqXsVflnq",
        "outputId": "2e89e92d-87eb-46d6-dc2e-87c70ea2095c"
      },
      "execution_count": 6,
      "outputs": [
        {
          "output_type": "execute_result",
          "data": {
            "text/plain": [
              "['1', '2', '3']"
            ]
          },
          "metadata": {},
          "execution_count": 6
        }
      ]
    },
    {
      "cell_type": "code",
      "source": [
        "# 복습X (중요도는 좀 있어서, 복습 시간에 가능하면 한 번 복습해보시길 권해드립니다.)\n",
        "# 난이도가 있는 것을 해보겠습니다.\n",
        "요일 = {\n",
        "    0: '일요일',\n",
        "    1: '월요일',\n",
        "    2: '화요일',\n",
        "    3: '수요일',\n",
        "    4: '목요일',\n",
        "    5: '금요일',\n",
        "    6: '토요일',\n",
        "}\n",
        "\n",
        "\n",
        "list(map(함수, [1, 5, 6, 3, 4]))"
      ],
      "metadata": {
        "id": "ua_YrRpAfxhA"
      },
      "execution_count": null,
      "outputs": []
    },
    {
      "cell_type": "markdown",
      "source": [
        "* class 클래스이름 => 인스턴스\n",
        "* class Post => 게시물1, 게시물2, 게시물3...\n",
        "* class Dot => 점1, 점2, 점3...\n",
        "* class Character => Licat(주인공), Lion(빌런), Mob1(몬스터)\n",
        "* class Matrix => 행렬1, 행렬2, 행렬3...\n",
        "* class User => 유저1, 유저2, 유저3...\n",
        "* class Cart(장바구니) => Cart1, Cart2, Cart3...\n",
        "* class Commnet(댓글) => 댓글1, 댓글2, 댓글3...\n",
        "* class Product => 상품1, 상품2, 상품3...\n",
        "* class Class_ => 강의1, 강의2, 강의3...\n",
        "* class Teacher => 강사1, 강사2, 강사3..."
      ],
      "metadata": {
        "id": "nz2jaZT4hUI8"
      }
    },
    {
      "cell_type": "code",
      "source": [
        "class Character:\n",
        "    def __init__(self, name, skill, hp, mp, power, x):\n",
        "        self.name = name\n",
        "        self.skill = skill\n",
        "        self.hp = hp\n",
        "        self.mp = mp\n",
        "        self.power = power\n",
        "        self.x = x\n",
        "\n",
        "    def move(self):\n",
        "        self.x += 100\n",
        "\n",
        "    def attact(self, next):\n",
        "        next.hp -= self.power\n",
        "\n",
        "\n",
        "주인공1 = Character('licat', '질풍검', 100, 100, 10, 10)\n",
        "몹1 = Character('licat', '질풍검', 100, 100, 10, 10)\n",
        "\n",
        "주인공1.attact(몹1)\n",
        "몹1.hp"
      ],
      "metadata": {
        "id": "V4o-nTXxhS0R"
      },
      "execution_count": null,
      "outputs": []
    },
    {
      "cell_type": "markdown",
      "source": [
        "##character"
      ],
      "metadata": {
        "id": "iI9Ziy8_wrfS"
      }
    },
    {
      "cell_type": "code",
      "source": [
        "class Character:\n",
        "\n",
        "    character_count = 0\n",
        "\n",
        "    def __init__(self, name, skill, hp, mp, power, x):\n",
        "        self.name = name\n",
        "        self.skill = skill\n",
        "        self.hp = hp\n",
        "        self.mp = mp\n",
        "        self.power = power\n",
        "        self.x = x\n",
        "\n",
        "    @classmethod\n",
        "    def character_count_increase(cls):\n",
        "        cls.character_count += 1\n",
        "\n",
        "    def move(self):\n",
        "        self.x += 100\n",
        "\n",
        "    def attact(self, next):\n",
        "        next.hp -= self.power\n",
        "\n",
        "\n",
        "주인공1 = Character('licat', '질풍검', 100, 100, 10, 10)\n",
        "Character.character_count_increase()\n",
        "\n",
        "몹1 = Character('licat', '질풍검', 100, 100, 10, 10)\n",
        "Character.character_count_increase()\n",
        "\n",
        "주인공1.attact(몹1)\n",
        "몹1.hp\n",
        "\n",
        "몹1.character_count"
      ],
      "metadata": {
        "id": "weBJx7evh1ST"
      },
      "execution_count": null,
      "outputs": []
    },
    {
      "cell_type": "code",
      "source": [
        "class Character:\n",
        "\n",
        "    character_count = 0\n",
        "\n",
        "    def __init__(self, name, skill, hp, mp, power, x):\n",
        "        self.name = name\n",
        "        self.skill = skill\n",
        "        self.hp = hp\n",
        "        self.mp = mp\n",
        "        self.power = power\n",
        "        self.x = x\n",
        "\n",
        "    @classmethod\n",
        "    def character_count_increase(cls):\n",
        "        '''\n",
        "        캐릭터가 100개 이상 생성되면 경고 메시지 출력\n",
        "        cls는 class, self는 instance\n",
        "        '''\n",
        "        cls.character_count += 1\n",
        "\n",
        "    def move(self):\n",
        "        self.x += 100\n",
        "\n",
        "    def attact(self, next):\n",
        "        next.hp -= self.power\n",
        "\n",
        "\n",
        "주인공1 = Character('licat', '질풍검', 100, 100, 10, 10)\n",
        "Character.character_count_increase() # 예를 들어 한 화면에 몹이 100개 이상 나오지 못한다.\n",
        "\n",
        "몹1 = Character('licat', '질풍검', 100, 100, 10, 10)\n",
        "Character.character_count_increase()\n",
        "\n",
        "주인공1.attact(몹1)\n",
        "몹1.hp\n",
        "\n",
        "몹1.character_count"
      ],
      "metadata": {
        "id": "SHlvS1Buh3lO"
      },
      "execution_count": null,
      "outputs": []
    },
    {
      "cell_type": "markdown",
      "source": [
        "##Matrix"
      ],
      "metadata": {
        "id": "aLbu3fhcwn4S"
      }
    },
    {
      "cell_type": "code",
      "source": [
        "class Matrix:\n",
        "    def __init__(self, value):\n",
        "        self.value = value\n",
        "\n",
        "    def __add__(self, next):\n",
        "        result = []\n",
        "        for i in range(len(self.value)):\n",
        "            result.append(self.value[i] + next.value[i])\n",
        "        return result\n",
        "\n",
        "a = Matrix([1, 2, 3])\n",
        "b = Matrix([1, 2, 3])\n",
        "\n",
        "a + b"
      ],
      "metadata": {
        "id": "5yYtdGwtj-o4"
      },
      "execution_count": null,
      "outputs": []
    },
    {
      "cell_type": "code",
      "source": [
        "class Matrix:\n",
        "    def __init__(self, value):\n",
        "        self.value = value\n",
        "\n",
        "    def __add__(self, next):\n",
        "        result = []\n",
        "        for i, _ in enumerate(self.value):\n",
        "            result.append(self.value[i] + next.value[i])\n",
        "        return result\n",
        "\n",
        "    def __mul__(self, next):\n",
        "        for i, _ in enumerate(self.value):\n",
        "            self.value[i] *= next\n",
        "        return self.value\n",
        "\n",
        "    def __str__(self):\n",
        "        return str(self.value)\n",
        "\n",
        "    def __repr__(self):\n",
        "        return str(self.value)\n",
        "\n",
        "\n",
        "a = Matrix([1, 2, 3])\n",
        "b = Matrix([1, 2, 3])\n",
        "\n",
        "a * 3\n",
        "print(a)\n",
        "\n",
        "# 파이썬에서 사용하지 않는 변수는 _로 할당합니다.\n"
      ],
      "metadata": {
        "id": "ZU82wtpVkuWt"
      },
      "execution_count": null,
      "outputs": []
    },
    {
      "cell_type": "markdown",
      "source": [
        "##이터레이터"
      ],
      "metadata": {
        "id": "ju6_YWt5w09w"
      }
    },
    {
      "cell_type": "code",
      "source": [
        "class MyIterator:\n",
        "    def __init__(self, stop):\n",
        "        self.current_value = 0  # 현재 값\n",
        "        self.stop = stop  # 순회를 멈출 값\n",
        "\n",
        "    def __iter__(self):\n",
        "        return self\n",
        "\n",
        "    def __next__(self):\n",
        "        if self.current_value >= self.stop:\n",
        "            raise StopIteration\n",
        "        result = self.current_value\n",
        "        self.current_value += 1\n",
        "        return result\n",
        "\n",
        "my_iterator = MyIterator(5)\n",
        "\n",
        "for i in my_iterator:\n",
        "    print(i)  # 0 1 2 3 4\n",
        "\n",
        "#self.currentValue = 1\n",
        "#self.stop = 5\n",
        "#result = 0\n",
        "# next실행\n",
        "#self.currentValue = 2\n",
        "#self.stop = 5\n",
        "#result = 1\n",
        "#...\n",
        "#self.currentValue = 5\n",
        "#raise StopIteration error (error가 출력되는것은 아님-끝남)"
      ],
      "metadata": {
        "id": "jN9MYacTq4qX"
      },
      "execution_count": null,
      "outputs": []
    },
    {
      "cell_type": "code",
      "source": [
        "# 한 번 더 호출!?\n",
        "# 왜 0, 1, 2, 3, 4가 2번 출력되지 않았는가?\n",
        "# 2번 실행하는 방법 - for돌때마다 초기화를 해주지 않습니다.\n",
        "class MyIterator:\n",
        "    def __init__(self, stop):\n",
        "        self.currentValue = 0\n",
        "        self.stop = stop\n",
        "\n",
        "    def __iter__(self):\n",
        "        return self\n",
        "\n",
        "    def __next__(self):\n",
        "        if self.currentValue >= self.stop:\n",
        "            raise StopIteration\n",
        "        result = self.currentValue\n",
        "        self.currentValue += 1\n",
        "        return result\n",
        "\n",
        "my_iterator = MyIterator(5)\n",
        "for i in my_iterator:\n",
        "    print(i)\n",
        "\n",
        "for i in my_iterator:\n",
        "    print(i)\n",
        "\n",
        "'''\n",
        "정답\n",
        "# 첫 번째 루프\n",
        "my_iterator1 = MyIterator(5)\n",
        "for i in my_iterator1:\n",
        "    print(i)\n",
        "\n",
        "# 두 번째 루프\n",
        "my_iterator2 = MyIterator(5)\n",
        "for i in my_iterator2:\n",
        "    print(i)\n",
        "'''"
      ],
      "metadata": {
        "id": "fbIp0J7vr7lK"
      },
      "execution_count": null,
      "outputs": []
    },
    {
      "cell_type": "code",
      "source": [
        "a = [1, 2, 3]\n",
        "b = ['a', 'b', 'c']\n",
        "\n",
        "z = zip(a, b)\n",
        "print(list(z)) # [(1, 'a'), (2, 'b'), (3, 'c')]\n",
        "\n",
        "# zip 객체는 한 번 사용되었으므로 빈 리스트가 반환됩니다.\n",
        "print(list(z)) # []"
      ],
      "metadata": {
        "id": "zOz1Lx-iuiwl"
      },
      "execution_count": null,
      "outputs": []
    },
    {
      "cell_type": "code",
      "source": [
        "li = [1, 2, 3]\n",
        "st = ['a', 'b', 'c']\n",
        "z = zip(li, st)\n",
        "\n",
        "for i in z:\n",
        "    print(i)\n",
        "\n",
        "for i in z:\n",
        "    print(i)"
      ],
      "metadata": {
        "id": "RBPj1VnbwDOM"
      },
      "execution_count": null,
      "outputs": []
    },
    {
      "cell_type": "code",
      "source": [
        "li = [1, 2, 3]\n",
        "st = ['a', 'b', 'c']\n",
        "i = iter(zip(li, st))\n",
        "next(i)\n",
        "next(i)\n",
        "next(i)\n",
        "next(i) # StopIteration"
      ],
      "metadata": {
        "id": "zCrcbo5XwT5l"
      },
      "execution_count": null,
      "outputs": []
    },
    {
      "cell_type": "code",
      "source": [
        "# 대표적으로 zip, map, reversed, filter 가 동일하게 작동되며\n",
        "# `sorted`는 재순회 할 수 있습니다."
      ],
      "metadata": {
        "id": "y2HPozQ4wg_D"
      },
      "execution_count": null,
      "outputs": []
    },
    {
      "cell_type": "code",
      "source": [
        "class Character:\n",
        "    def __init__(self, name, skill, hp, mp, power, defence):\n",
        "        self.name = name\n",
        "        self.skill = skill\n",
        "        self.hp = hp\n",
        "        self.mp = mp\n",
        "        self.power = power\n",
        "        self.defence = defence\n",
        "\n",
        "    def attack(self, next):\n",
        "        next.hp -= self.power\n",
        "\n",
        "class Item:\n",
        "    엑스칼리버 = {'name': '엑스칼리버', 'power': 1000}\n",
        "    가죽갑옷 = {'name': '가죽갑옷', 'defence': 10}\n",
        "    철갑옷 = {'name': '철갑옷', 'defence': 100}\n",
        "    HP물약 = {'name': 'HP물약', 'hp': 10}\n",
        "    MP물약 = {'name': 'MP물약', 'mp': 10}\n",
        "\n",
        "    def repair(self):\n",
        "        print('수리합니다!')\n",
        "\n",
        "class Hero(Character, Item):\n",
        "    def __init__(self, name, skill, hp, mp, power, defence, level=1):\n",
        "        # self.name = name # 이렇게 일일이 하지 않고, 아래와 같이 하면 됩니다.\n",
        "        super().__init__(name, skill, hp, mp, power, defence)\n",
        "        self.level = level\n",
        "        self.item = []\n",
        "\n",
        "    def add_item(self, item):\n",
        "        self.item.append(item)\n",
        "        self.power += item.get('power', 0)\n",
        "        self.defence += item.get('defence', 0)\n",
        "        self.hp += item.get('hp', 0)\n",
        "        self.mp += item.get('mp', 0)\n",
        "\n",
        "    def show_item(self):\n",
        "        print(self.item)\n",
        "\n",
        "class Mob(Character):\n",
        "    pass\n",
        "\n",
        "\n",
        "# 주인공은 아이템이 있는데!?, 몹은 아이템이 없어요.\n",
        "# 주인공은 Lv이 있는데!?, 몹은 Lv이 없어요.\n",
        "# 몹은 Drop하는 아이템이 있는데!?, 주인공은 없어요.\n",
        "주인공1 = Hero('licat', '질풍검', 100, 100, 10, 0, 1)\n",
        "몹1 = Mob('licat', '질풍검', 100, 100, 10, 0)\n",
        "\n",
        "주인공1.attack(몹1)\n",
        "몹1.hp\n",
        "\n",
        "주인공1.add_item(Item.엑스칼리버)\n",
        "주인공1.repair()\n",
        "주인공1.show_item()"
      ],
      "metadata": {
        "colab": {
          "base_uri": "https://localhost:8080/"
        },
        "id": "dgCdpfasH2oz",
        "outputId": "4fc19a60-b316-4c02-8646-fe753588b439"
      },
      "execution_count": 16,
      "outputs": [
        {
          "output_type": "stream",
          "name": "stdout",
          "text": [
            "수리합니다!\n",
            "[{'name': '엑스칼리버', 'power': 1000}]\n"
          ]
        }
      ]
    },
    {
      "cell_type": "code",
      "source": [
        "# 상속\n",
        "\n",
        "class Car(object):\n",
        "    maxSpeed = 300\n",
        "    maxPeople = 5\n",
        "\n",
        "    def move(self):\n",
        "        print('출발하였습니다.')\n",
        "\n",
        "    def stop(self):\n",
        "        print('멈췄습니다.')\n",
        "\n",
        "class HybridCar(Car):\n",
        "    battery = 1000\n",
        "    batteryKM = 300\n",
        "\n",
        "class ElectricCar(HybridCar):\n",
        "    battery = 2000\n",
        "    batteryKM = 600\n",
        "\n",
        "\n",
        "modelx = HybridCar()\n",
        "electricCarModely = ElectricCar()\n",
        "print(modelx.maxSpeed)\n",
        "print(electricCarModely.maxSpeed)\n",
        "print(electricCarModely.battery)\n",
        "electricCarModely.move()"
      ],
      "metadata": {
        "id": "vwIJbEHJH2XC"
      },
      "execution_count": null,
      "outputs": []
    },
    {
      "cell_type": "code",
      "source": [
        "class A:\n",
        "    def method(self):\n",
        "        print(\"A method\")\n",
        "\n",
        "class B(A):\n",
        "    def method(self):\n",
        "        print(\"B method\")\n",
        "\n",
        "class C(A):\n",
        "    def method(self):\n",
        "        print(\"C method\")\n",
        "\n",
        "class D(B, C):\n",
        "    pass\n",
        "\n",
        "obj = D()\n",
        "print(D.mro()) # 출력: [<class '__main__.D'>, <class '__main__.B'>, <class '__main__.C'>, <class '__main__.A'>, <class 'object'>]\n",
        "obj.method()  # 출력: B method"
      ],
      "metadata": {
        "id": "sz1T92bBIkhd"
      },
      "execution_count": null,
      "outputs": []
    },
    {
      "cell_type": "code",
      "source": [
        "#부모의 메서드를 재구현 : 메서드 오버라이\n",
        "\n",
        "class A:\n",
        "    def hello(self):\n",
        "        print('hello world A')\n",
        "\n",
        "class B(A):\n",
        "    def hello(self):\n",
        "        print('hello world B')\n",
        "\n",
        "class C(A):\n",
        "    pass\n",
        "\n",
        "a = A()\n",
        "b = B()\n",
        "c = C()\n",
        "\n",
        "a.hello()\n",
        "b.hello()\n",
        "c.hello()  #C는 없으므로"
      ],
      "metadata": {
        "colab": {
          "base_uri": "https://localhost:8080/"
        },
        "id": "SuIripeTImJE",
        "outputId": "04a3bc3f-b611-481d-a445-b407ef9d24e9"
      },
      "execution_count": 17,
      "outputs": [
        {
          "output_type": "stream",
          "name": "stdout",
          "text": [
            "hello world A\n",
            "hello world B\n",
            "hello world A\n"
          ]
        }
      ]
    },
    {
      "cell_type": "code",
      "source": [
        "## 메직메서드\n",
        "### 2.1. **생성자와 소멸자**\n",
        "\n",
        "- `__init__(self, ...)`: 객체가 생성될 때 호출되는 생성자 메서드.\n",
        "\n",
        "### 2.2. **문자열 표현**\n",
        "\n",
        "- `__str__(self)`: `str()` 함수 출력 결과와 같습니다. 이는 print로 출력되는 결과와도 동일합니다. 이 출력은 \"공식적이지 않은\" 또는 \"좋게 보이는\" 문자열 표현을 반환합니다. 객체의 공식적인 표현은 repr입니다.\n",
        "- `__repr__(self)`: `repr()` 함수에 출력 결과와 같습니다. 객체의 \"공식적인\" 문자열 표현을 반환합니다.\n",
        "\n",
        "### 2.3. **산술 연산**\n",
        "\n",
        "- `__add__(self, other)`: 덧셈 연산\n",
        "- `__mul__(self, other)`: 곱셈 연산\n",
        "\n",
        "### 2.4. **비교 연산**\n",
        "\n",
        "- `__eq__(self, other)`: 동등 연산 (==)\n",
        "- `__ne__(self, other)`: 부등 연산 (!=)\n",
        "- `__lt__(self, other)`: \"작다\" 연산 (<)\n",
        "- `__le__(self, other)`: \"작거나 같다\" 연산 (<=)\n",
        "- `__gt__(self, other)`: \"크다\" 연산 (>)\n",
        "- `__ge__(self, other)`: \"크거나 같다\" 연산 (>=)\n",
        "\n",
        "### 2.5. **컨테이너 타입 연산**\n",
        "\n",
        "- `__len__(self)`: `len()` 함수의 출력 결과와 같습니다.\n",
        "- `__getitem__(self, key)`: 인덱싱 연산 (obj[key])의 출력 결과와 같습니다.\n",
        "\n",
        "### 2.6. **호출 가능 객체**\n",
        "\n",
        "- `__call__(self, ...)`: 객체를 함수처럼 호출할 때 사용됩니다."
      ],
      "metadata": {
        "id": "RbSwSxBtJDyG"
      },
      "execution_count": null,
      "outputs": []
    },
    {
      "cell_type": "code",
      "source": [
        "class Counter:\n",
        "    def __init__(self):\n",
        "        self.count = 0\n",
        "\n",
        "    def __call__(self):\n",
        "        self.count += 10\n",
        "        print(f'현재 count 값: {self.count}')\n",
        "\n",
        "    def __getitem__(self, key):\n",
        "        return key*10\n",
        "\n",
        "# 객체 생성\n",
        "counter = Counter()\n",
        "\n",
        "# 객체를 직접 호출합니다. 이때 __call__ 메서드가 실행됩니다.\n",
        "counter()  # 출력: 현재 count 값: 10\n",
        "counter()  # 출력: 현재 count 값: 20\n",
        "counter()  # 출력: 현재 count 값: 30\n",
        "\n",
        "counter[5] # 출력: 4\n",
        "#+->__add__\n",
        "#()->__call__\n",
        "#[]->"
      ],
      "metadata": {
        "colab": {
          "base_uri": "https://localhost:8080/"
        },
        "id": "gxLfaSmENJ5a",
        "outputId": "cf62e055-8ccd-4ba3-9e2f-b25a15a831b6"
      },
      "execution_count": 18,
      "outputs": [
        {
          "output_type": "stream",
          "name": "stdout",
          "text": [
            "현재 count 값: 10\n",
            "현재 count 값: 20\n",
            "현재 count 값: 30\n"
          ]
        },
        {
          "output_type": "execute_result",
          "data": {
            "text/plain": [
              "50"
            ]
          },
          "metadata": {},
          "execution_count": 18
        }
      ]
    },
    {
      "cell_type": "markdown",
      "source": [
        "![image.png](data:image/png;base64,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)\n",
        "\n",
        "\n",
        "<style>\n",
        "    .hello {color:red;}\n",
        "</style>\n",
        "<h1 class='hello'>hello world</h1>\n",
        "<h2>hello world</h2>\n",
        "<h3>hello world</h3>\n",
        "<h4>hello world</h4>\n",
        "<h5>hello world</h5>\n",
        "<h6>hello world</h6>\n",
        "<p>hello world</p>"
      ],
      "metadata": {
        "id": "S-wqFjI0SnUI"
      }
    },
    {
      "cell_type": "markdown",
      "source": [
        "<style>\n",
        "    body {\n",
        "        margin: 0;\n",
        "        padding: 0;\n",
        "    }\n",
        "    .hello {\n",
        "        margin: 0;\n",
        "        padding: 0;\n",
        "        color: white;\n",
        "        background: #4267B2;\n",
        "    }\n",
        "</style>\n",
        "<h1 class='hello'>facebook</h1>\n",
        "<h2>hello world</h2>\n",
        "<h3>hello world</h3>\n",
        "<h4>hello world</h4>\n",
        "<h5>hello world</h5>\n",
        "<h6>hello world</h6>\n",
        "<p>hello world</p>"
      ],
      "metadata": {
        "id": "v-zNRO4rTy-6"
      }
    },
    {
      "cell_type": "code",
      "source": [
        "import requests # 통신을 해서 서버에서 제공해주는 값을 가져올 수 있습니다.\n",
        "from bs4 import BeautifulSoup # 가져온 값을 '피싱'해주는 모듈입니다.\n",
        "\n",
        "response = requests.get('https://paullab.co.kr/bookservice/')  # request를 100번씩 하면 디도스 공격이됨\n",
        "soup = BeautifulSoup(response.text, 'html.parser')             # 방어는 임계치를 정함 1초에 5번까지는 허용 이런식으로\n",
        "\n",
        "book_name = soup.select('.book_name')\n",
        "book_info = soup.select('.book_info')"
      ],
      "metadata": {
        "id": "elNKlAzZNd1V"
      },
      "execution_count": 21,
      "outputs": []
    },
    {
      "cell_type": "code",
      "source": [
        "print(book_name[0].text)\n",
        "print(book_info[0].text)\n",
        "print(book_info[1].text)\n",
        "print(book_info[2].text)\n"
      ],
      "metadata": {
        "colab": {
          "base_uri": "https://localhost:8080/"
        },
        "id": "-4UyAKHbWEdO",
        "outputId": "17e8a78f-3728-400e-8514-302b205567d0"
      },
      "execution_count": 22,
      "outputs": [
        {
          "output_type": "stream",
          "name": "stdout",
          "text": [
            "메모혁신 Notion(노션) 활용 가이드\n",
            "가격: 7,000원\n",
            "저자: 이호준, 이준호, 김혜원, 김유진, 차경림, 김진, 현지연, 정승한\n",
            "Notion의 기본 사용 방법부터 Notion을 활용한 홈페이지 제작 방법까지 다양하게 다루고 있으며 특히 개발자가 원하는 Notion의 활용 방법을 다루고 있습니다.\n"
          ]
        }
      ]
    },
    {
      "cell_type": "code",
      "source": [
        "books = []\n",
        "for i, _ in enumerate(book_name):\n",
        "    books.append({\n",
        "        '제목' : book_name[i].text,\n",
        "        '가격' : book_info[(i*3)].text,\n",
        "        '저자' : book_info[(i*3)+1].text,\n",
        "        '설명' : book_info[(i*3)+2].text,\n",
        "    })\n",
        "\n",
        "books\n",
        "\n",
        "'''\n",
        "\n",
        "가격이 int형이 아니다\n",
        "가격 저자가 한번더 들어가있다\n",
        "공백도 있음\n",
        "'''"
      ],
      "metadata": {
        "id": "PWJgzqXtWpzu"
      },
      "execution_count": null,
      "outputs": []
    },
    {
      "cell_type": "code",
      "source": [
        "books = []\n",
        "class Book:\n",
        "    def __init__(self, name, price, author, info):\n",
        "        self.name = name\n",
        "        self.price = price  # if price replace('가격: ', ''),replace('원',''),replace('.','')\n",
        "        self.author = author\n",
        "        self.info = info\n",
        "\n",
        "    def __str__(self):\n",
        "        return self.name\n",
        "\n",
        "    def __repr__(self):\n",
        "        return self.name\n",
        "\n",
        "for i, _ in enumerate(book_name):\n",
        "    books.append(Book(\n",
        "       book_name[i].text,\n",
        "        book_info[(i*3)].text,\n",
        "        book_info[(i*3)+1].text,\n",
        "        book_info[(i*3)+2].text\n",
        "    ))\n",
        "books\n",
        "books[0].name\n",
        "books[0].price"
      ],
      "metadata": {
        "colab": {
          "base_uri": "https://localhost:8080/",
          "height": 35
        },
        "id": "tkXUGaa4TxbM",
        "outputId": "0d8ec470-9a9a-4e9c-b5c5-e36edaaad377"
      },
      "execution_count": 27,
      "outputs": [
        {
          "output_type": "execute_result",
          "data": {
            "text/plain": [
              "'가격: 7,000원'"
            ],
            "application/vnd.google.colaboratory.intrinsic+json": {
              "type": "string"
            }
          },
          "metadata": {},
          "execution_count": 27
        }
      ]
    },
    {
      "cell_type": "code",
      "source": [
        "import requests # 통신을 해서 서버에서 제공해주는 값을 가져올 수 있습니다.\n",
        "from bs4 import BeautifulSoup # 가져온 값을 '파싱' 해주는 모듈입니다.\n",
        "\n",
        "response = requests.get('https://search.naver.com/search.naver?where=nexearch&sm=top_hty&fbm=0&ie=utf8&query=%EC%B5%9C%EC%8B%A0%EC%98%81%ED%99%94')\n",
        "soup = BeautifulSoup(response.text, 'html.parser')"
      ],
      "metadata": {
        "id": "zP3N1mbqbj_W"
      },
      "execution_count": null,
      "outputs": []
    },
    {
      "cell_type": "code",
      "source": [
        "soup.select('.this_text')[0].text"
      ],
      "metadata": {
        "id": "3OhzGmrnbzMJ"
      },
      "execution_count": null,
      "outputs": []
    },
    {
      "cell_type": "code",
      "source": [
        "for i, j in enumerate(soup.select('.this_text'), 1):\n",
        "    print(i, j.text)"
      ],
      "metadata": {
        "id": "LC60LQKpb0cm"
      },
      "execution_count": null,
      "outputs": []
    }
  ]
}