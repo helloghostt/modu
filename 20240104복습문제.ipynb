{
  "nbformat": 4,
  "nbformat_minor": 0,
  "metadata": {
    "colab": {
      "provenance": [],
      "authorship_tag": "ABX9TyPxfd5RJxF8YSVkuaaZXZGP",
      "include_colab_link": true
    },
    "kernelspec": {
      "name": "python3",
      "display_name": "Python 3"
    },
    "language_info": {
      "name": "python"
    }
  },
  "cells": [
    {
      "cell_type": "markdown",
      "metadata": {
        "id": "view-in-github",
        "colab_type": "text"
      },
      "source": [
        "<a href=\"https://colab.research.google.com/github/helloghostt/modu/blob/main/20240104%EB%B3%B5%EC%8A%B5%EB%AC%B8%EC%A0%9C.ipynb\" target=\"_parent\"><img src=\"https://colab.research.google.com/assets/colab-badge.svg\" alt=\"Open In Colab\"/></a>"
      ]
    },
    {
      "cell_type": "code",
      "execution_count": 2,
      "metadata": {
        "colab": {
          "base_uri": "https://localhost:8080/"
        },
        "id": "BqYv3XaFlc3T",
        "outputId": "31031332-66bf-402d-8bd0-ace85920276e"
      },
      "outputs": [
        {
          "output_type": "stream",
          "name": "stdout",
          "text": [
            "<class 'str'>\n"
          ]
        }
      ],
      "source": [
        "#4번\n",
        "'''\n",
        "변수 a를 print(type(a))로 넣었을 때 출력될 값과의 연결이 알맞지 않은 것은?\n",
        "\n",
        "1)  입력 : a =1,   출력 : class 'int'\n",
        "\n",
        "2)  입력 : a = 2.22,   출력 : class 'float'\n",
        "\n",
        "3)  입력 : a = 'p',   출력 : class 'char'  #<class 'str'>\n",
        "\n",
        "4)  입력 : a = [1, 2, 3],   출력 : class 'list'\n",
        "'''"
      ]
    },
    {
      "cell_type": "code",
      "source": [
        "#6번\n",
        "False로 취급하지 않는 것이 하나 있네요! True를 찾아주세요.\n",
        "\n",
        "1)  None\n",
        "2)  1   #\n",
        "3)  \"\"\n",
        "4)  0\n",
        "5)  bool(0)"
      ],
      "metadata": {
        "id": "602dum3Jl7UF"
      },
      "execution_count": null,
      "outputs": []
    },
    {
      "cell_type": "code",
      "source": [
        "#7번\n",
        "다음 중 변수명으로 사용할 수 없는 것 2개를 고르시오.\n",
        "\n",
        "1)  age\n",
        "2)  a\n",
        "3)  as #\n",
        "4)  _age\n",
        "5)  1age #"
      ],
      "metadata": {
        "id": "vkIM6IfSl7dM"
      },
      "execution_count": null,
      "outputs": []
    },
    {
      "cell_type": "code",
      "source": [
        "#16번\n",
        "'''\n",
        "문장이 입력되면 거꾸로 출력하는 프로그램을 만들어 봅시다.\n",
        "\n",
        ">> 입력\n",
        "거꾸로\n",
        "\n",
        ">> 출력\n",
        "로꾸거\n",
        "'''\n",
        "n = input()\n",
        "print(n[::-1])"
      ],
      "metadata": {
        "colab": {
          "base_uri": "https://localhost:8080/"
        },
        "id": "ULfdG76rl7gJ",
        "outputId": "7cfbef8a-831c-431e-c3ad-58fd542dca5d"
      },
      "execution_count": 3,
      "outputs": [
        {
          "output_type": "stream",
          "name": "stdout",
          "text": [
            "거꾸로\n",
            "로꾸거\n"
          ]
        }
      ]
    },
    {
      "cell_type": "code",
      "source": [
        "#22번\n",
        "변수 i가 6의 배수인지 확인하는 방법으로 올바른 것은?\n",
        "\n",
        "1)  i / 6 == 0\n",
        "2)  i % 6 == 0 #\n",
        "3)  i & 6 == 0\n",
        "4)  i | 6 == 0\n",
        "5)  i // 6 == 0"
      ],
      "metadata": {
        "id": "-pkcsZsJl7iw"
      },
      "execution_count": null,
      "outputs": []
    },
    {
      "cell_type": "code",
      "source": [
        "#24번\n",
        "'''\n",
        "이름이 입력되면 전부 대문자로 출력되는 프로그램을 만들어주세요.\n",
        "\n",
        ">> 입력\n",
        "mary\n",
        "\n",
        ">> 출력\n",
        "MARY\n",
        "'''\n",
        "name = input()\n",
        "print(name.upper())"
      ],
      "metadata": {
        "id": "Umm3EXfPmlxu"
      },
      "execution_count": null,
      "outputs": []
    },
    {
      "cell_type": "code",
      "source": [
        "#30번\n",
        "'''\n",
        " 문자가 시작하는 index를 반환하는 프로그램\n",
        "입력\n",
        "pineapple is yummy\n",
        "apple\n",
        "\n",
        "출력\n",
        "4\n",
        "'''\n",
        "data = input()\n",
        "word = input()\n",
        "\n",
        "print(data.find(word))"
      ],
      "metadata": {
        "id": "b5wG3dHxmlqZ"
      },
      "execution_count": null,
      "outputs": []
    },
    {
      "cell_type": "code",
      "source": [
        "#31번\n",
        "다음 리스트의 내장함수의 시간 복잡도가 O(1)이 아닌것은?\n",
        "\n",
        "1)  l[i]\n",
        "2)  l.append(5)\n",
        "3)  l[a:b]  #\n",
        "4)  l.pop()\n",
        "5)  l.clear()"
      ],
      "metadata": {
        "id": "PY17QGlImlh1"
      },
      "execution_count": null,
      "outputs": []
    },
    {
      "cell_type": "code",
      "source": [
        "#32번\n",
        "'''\n",
        "문자열을 입력받으면 단어의 갯수를 출력하는 프로그램을 작성해 주세요.\n",
        "\n",
        "입출력\n",
        "\n",
        "입력 : 안녕하세요. 저는 제주대학교 컴퓨터공학전공 혜림입니다.\n",
        "출력 : 5\n",
        "'''\n",
        "n = input()\n",
        "l = list(n.strip().split())\n",
        "print(len(l))"
      ],
      "metadata": {
        "id": "As59T2Q_l7lW"
      },
      "execution_count": null,
      "outputs": []
    }
  ]
}